{
 "cells": [
  {
   "cell_type": "code",
   "execution_count": 4,
   "id": "63725253",
   "metadata": {},
   "outputs": [],
   "source": [
    "import torch\n",
    "from transformers import BartForConditionalGeneration\n",
    "import pandas as pd \n",
    "from datasets import *\n",
    "\n",
    "from sklearn.model_selection import train_test_split"
   ]
  },
  {
   "cell_type": "markdown",
   "id": "d878c785",
   "metadata": {},
   "source": [
    "# Experiment notes\n",
    "\n",
    "\n",
    "- BART encoder input size is too short \n",
    "- 1 char is approx 4 tokens\n",
    "- our input and output sizes are 2500 and 150 tokens\n",
    "\n",
    "\n",
    "accidentally trained the model without stripping the original part. "
   ]
  },
  {
   "cell_type": "code",
   "execution_count": 70,
   "id": "e40990af",
   "metadata": {},
   "outputs": [],
   "source": [
    "rmv_str = 'use the following opinions of the restaurant reviews to create a 50 word summary: \\n'"
   ]
  },
  {
   "cell_type": "code",
   "execution_count": 73,
   "id": "2c82623b",
   "metadata": {},
   "outputs": [
    {
     "name": "stderr",
     "output_type": "stream",
     "text": [
      "/var/folders/vy/y5363_9d6f54v8kgq1spp7n80000gn/T/ipykernel_53490/3147033629.py:3: SettingWithCopyWarning: \n",
      "A value is trying to be set on a copy of a slice from a DataFrame.\n",
      "Try using .loc[row_indexer,col_indexer] = value instead\n",
      "\n",
      "See the caveats in the documentation: https://pandas.pydata.org/pandas-docs/stable/user_guide/indexing.html#returning-a-view-versus-a-copy\n",
      "  data['review'] = data['review'].apply(lambda x : x.replace(rmv_str,''))\n"
     ]
    }
   ],
   "source": [
    "df = pd.read_csv('../labeling jobs/data_to_label.csv')\n",
    "data = df[['name','review','summary']]\n",
    "data['review'] = data['review'].apply(lambda x : x.replace(rmv_str,''))"
   ]
  },
  {
   "cell_type": "code",
   "execution_count": 6,
   "id": "0ac4e087",
   "metadata": {},
   "outputs": [],
   "source": [
    "data_train, data_test = train_test_split(data,test_size=0.2,random_state=0)"
   ]
  },
  {
   "cell_type": "code",
   "execution_count": 7,
   "id": "63819007",
   "metadata": {},
   "outputs": [
    {
     "data": {
      "text/plain": [
       "DatasetDict({\n",
       "    train: Dataset({\n",
       "        features: ['name', 'review', 'summary', '__index_level_0__'],\n",
       "        num_rows: 275\n",
       "    })\n",
       "    test: Dataset({\n",
       "        features: ['name', 'review', 'summary', '__index_level_0__'],\n",
       "        num_rows: 69\n",
       "    })\n",
       "})"
      ]
     },
     "execution_count": 7,
     "metadata": {},
     "output_type": "execute_result"
    }
   ],
   "source": [
    "train_dataset = Dataset.from_pandas(data_train,split='train')\n",
    "test_dataset = Dataset.from_pandas(data_test,split='test')\n",
    "ds_dict = {'train':train_dataset,'test':test_dataset}\n",
    "dataset = DatasetDict(ds_dict)\n",
    "dataset"
   ]
  },
  {
   "cell_type": "code",
   "execution_count": 8,
   "id": "8d97bc41",
   "metadata": {
    "scrolled": true
   },
   "outputs": [
    {
     "data": {
      "text/plain": [
       "{'name': 'Breadbelly',\n",
       " 'review': 'use the following opinions of the restaurant reviews to create a 50 word summary: \\n I tried the strawberry balsamic danish and it was amazing! It was so fresh and tasty, the pastry was so fluffy and buttery as well. The ube tart was also delicious and it wasn\\'t too sweet. I also got the 50/50 iced and it was also really good! There was a good balance between the coffee taste and sweetness of the drink.,Like all the other reviews below - the Kaya toast is so good! I decided to get it with the Gyeranbbang which was recommended by the staff there. They paired so well because one was sweet and the other savory!,I think my bestie outdid himself and took me to all the best pastry shops in SF, including Breadbelly! The kaya, and the kaya toast is a must. And if the curry bun is available, grab that too! Plenty of outdoor seating, but be prepared to spend about $25-$30. Pricey but damn well worth the price!!,If you are a pastry fan Breadbelly is ¬†a great place to check out. We stopped by Breadbelly for some pastries and coffee before our hike yesterday. For the patries we ordered Kaya Bun, Blueberry Almond Croissant Tart and Rhubarb Lychee Danish. Looks like the Kaya Bun is their regular while Blueberry Almond Croissant Tart and Rhubarb Lychee Danish is only there for the day. They definitely have interesting texture and flavor but I am not blown away.KAYA BUN (5/5): ¬†This is definitely my favorite one. The coconut pandan cream filling was so creamy and I loved the crunchiness of the topping cookie.BLUEBERRY CROISSANT TART (3.5/5): The croissant tart was very buttery which I like. However the blueberry topping was too much makes the croissant a bit too tart and the breading is a bit hard. Would be perfect if the breading was softer and there was a bit less blueberry on top.RHUBARB LYCHEE DANISH (3.5/5): The breading, again, was a bit hard and there was too much tart flavor. However, I liked how there was some sesame in the breadingOverall, I would say that I am not a huge fan but I will come back to try new pastries/ flavors.,If I lived in Richmond... I would come here everyday. Take my money Breadbelly!! This place was so unique and delicious! I loved their fun drink choices and their seemingly endless list of pastries. I would have loved to try every single thing on their menu, but unfortunately we got there after noon, so many of the menu items were already sold out. :( so I would definitely recommend coming earlier rather than later if there\\'s something in particular that you would like to try!! We ended up getting the kaya toast, the breakfast sandwich, chicken karaage, and Gyeranbbang. It took a while for the food to come out, but it was pretty busy so that was understandable. I\\'d probably order ahead next time though. We sat outside since indoor seating was not offered. The tables were kinda tiny, but the vibes were still great. :)Food: The kaya toast was soo good (I\\'ve never had anything like it before!), and the breakfast sandwich was a lil spicy but so TASTY. The bread in these two items was so soft and perfect. The chicken karaage was good but pretty standard, and the Gyeranbbang didn\\'t really stand out to me either. We also tried 4 drinks: the sesame horchata, 50/50, egg coffee, and the seasonal lassi. The sesame horchata was good, but very heavy on the sesame. I don\\'t think I would get it again. The lassi was very strong in its yogurt flavor, so it was also not my favorite. The egg coffee was good and unique, and the 50/50 was yummy --it tasted like a mix of black tea and Vietnamese coffee. In the future, I\\'ll probably stick to getting normal coffee, but it was fun getting to try these drinks!Next time I\\'m in Richmond I will definitely be back to try alllll the different pastries!! Looking forward to coming back :),Bread in my belllllllyyyyy!! Definitely worth trying the kaya toast! Star of the show for sure. However, can\\'t justify the price here, so minus 1 star for that. *kaya toast DELICIOUS. If there\\'s anything you MUST try it\\'s this!! *curry toast Smelled GREAT, but the flavor was a little lacking. It made me crave savory a little more like there was more to be desired. *butter mochi This was yummy! But there\\'s peanut in case there\\'s anyone there with allergies. *watermelon lychee tea Predominantly watermelon flavor, but for enough who likes lychee black tea, this was good. *blueberry lassi I personally didn\\'t like this as much, but my bf says \"it\\'s what I would expect from a lassi\" Only in SF would I spend around $40 for pastries and drinks. But for sure try the kaya toast!! Cute seating outside.,I\\'ve seen the check-ins and photos on Yelp and I couldn\\'t stand it any longer: We had to try Breadbelly!Ordering online is the way to go. You can choose the time and it\\'ll be ready and when you arrive then they\\'ll make your drinks.My always-eating teenage foodie son chose the breakfast sandwich ($12). About halfway through, he got a taste of the pepper paste and urgently said, \"put the straw in my drink now now!!\" while fanning his mouth. Luckily I ordered him a date and orange blossom lassi ($7.50) to put out the fire! I splurged with the Shrimpwich ($22) and my mouth waters when thinking about the crispy goodness biting into a solid shrimp patty. With shredded lettuce and an avocado spread, every bite was perfectly balanced and delicious. My iced coffee was pretty good, sesame cookie my son said he \"looooved it\". I thought the price was a bit steep ($4.75).Unique food, quality ingredients, ease of ordering, gracious service and a parklet to sit, Breadbelly is a new favorite.,9.50 for the sesame raspberry croissant. ¬†Yes, lots of raspberries inside. ¬†Is it worth it? If you have money, yes. ¬†If you like raspberries, yes. ¬†But ultimately will you spend that kind of money? I was more focused on the sesame which was not much. ¬†I guess i misread. ¬†I thought there was grounded sesame inside, which wasn\\'t.,We love this place for its unique flavor and special seasonal croissants. Always delicious, fresh and great customer service! Definitely will be back.,Long lines.Outdoor seating only.Order at the door.-----As per usual, whenever I get excited about anything (especially food and dessert), I order everything on the menu to try. So that\\'s exactly what I did. Everything was delicious ... the kaya bun, sesame croissant, sesame cookie, double baked croissant, banana bread, etc. But the standout was the Mt. Tam basque cheesecake. Thick, creamy, flavorful. I couldn\\'t finish the slice in one sitting since it\\'s so heavy, but I was happy I had some leftover later to eat.I wouldn\\'t really recommend the matcha drink -- small and very matcha-powdery. My friend liked the egg coffee, it reminded her of a hot affogato since the egg foam makes it creamy.,Haven\\'t been here since CoVID pandemic and boy has things changed (talking about the prices ). loved what they did with the outside seating. It is nicely put together and spacious. Makes me want to linger around especially on a nice day out. parking is still easy for me, both metered and residential parking available. Order at the door entrance. Only outside dinning for now. will call your name when order is ready. Their $9 Kaya toast 5/5 is the best. it is a must get and must be eaten freshly toasted. love their pillow fluffy milk bread. prices has gone up but inflation happening everywhere. $14 Bellydog is another bomb . i was sad when it was eaten up. the bun bread is a little tad soft for the hot dog though. No matter, very tasty and has a kick to it. 5/5 their $7.25 Sparkling Yuzu Americano 3.5/5, the yuzu overpowers the espresso and lacks any coffee taste. sweetness level is just right. refreshing caffeine drink nevertheless. can\\'t wait to come back to try their other menu items. i only have one stomach and can only fit so much in at a time.,Long wait was worth it! We tried the butter mochi, kaya bun, kaya toast, almond jam cookies and sesame horchata. My favorite was the butter mochi and kaya toast. The butter mochi had toasted nuts on the outside and the texture was the right amount of chewiness. Loved how the toast had so much kaya spread on top. I wish the kaya bun had more filling, mine was a lot of bread inside. All together, our breakfast was $40. Looking forward to trying their sandwiches next!,A B S O L U T E L YThis is F*CKING incredible. I love this place. I love the food here. The Kaya Bread would be able to solve world wars if everyone just sat down and ate that. That\\'s how damn good this bread is lol.,Run don\\'t walk here! This is such a cute Asian bakery with creative pastries that taste amazing! We came here on a Sunday around 12 pm and there was already a bit of a wait outside. There is a good amount of seating outdoors as well and your should be able to nab a spot (but bring a jacket since it can get chilly). We shared the kaya toast and the not ube tart. The kaya toast bread was so buttery and paired nicely with the sauce on top that tastes like condensed coconut milk. The ube tart is true to its naming and tastes like purple sweet potato but the torches cream and salted egg yolk shavings on the top really elevate it to another level. Next time I want to come earlier to try their lychee pastry!',\n",
       " 'summary': 'Bottega restaurant is a popular spot for its solid Italian food, aesthetic ambiance and great service. Although the wait time can be long, using the Yelp waitlist feature can save you time. Unlimited bread refills are a bonus, and the Limoncello drop and Aperol Spritz are highly recommended drinks. The decor is very pretty and the staff is friendly and attentive. Customizable pasta dishes and perfectly cooked pasta make this restaurant a must-try. Although the portion sizes are small, the food is worth the price.',\n",
       " '__index_level_0__': 49}"
      ]
     },
     "execution_count": 8,
     "metadata": {},
     "output_type": "execute_result"
    }
   ],
   "source": [
    "dataset['train'][0]"
   ]
  },
  {
   "cell_type": "code",
   "execution_count": 9,
   "id": "bba3d6f7",
   "metadata": {},
   "outputs": [],
   "source": [
    "import evaluate\n",
    "\n",
    "rouge = evaluate.load(\"rouge\")"
   ]
  },
  {
   "cell_type": "code",
   "execution_count": 10,
   "id": "21af6dca",
   "metadata": {
    "scrolled": true
   },
   "outputs": [],
   "source": [
    "from transformers import AutoTokenizer, AutoModelForSeq2SeqLM\n",
    "from transformers import BartTokenizer, BartForConditionalGeneration\n",
    "from transformers import AdamW, get_linear_schedule_with_warmup\n",
    "import torch\n",
    "from transformers import LEDForConditionalGeneration, LEDTokenizer\n",
    "\n",
    "\n",
    "# checkpoint = 'allenai/led-base-16384'\n",
    "# checkpoint = 'allenai/PRIMERA'\n",
    "checkpoint = 'facebook/bart-base'\n",
    "tokenizer = AutoTokenizer.from_pretrained(checkpoint)\n",
    "model = AutoModelForSeq2SeqLM.from_pretrained(checkpoint)\n",
    "# tokenizer = LEDTokenizer.from_pretrained(checkpoint)\n",
    "# model = LEDForConditionalGeneration.from_pretrained(checkpoint)\n",
    "# model = BartForConditionalGeneration.from_pretrained(checkpoint)\n",
    "\n",
    "\n",
    "# from transformers import (\n",
    "\n",
    "#     AutoTokenizer,\n",
    "\n",
    "#     LEDConfig,\n",
    "\n",
    "#     LEDForConditionalGeneration,\n",
    "\n",
    "# )\n",
    "\n",
    "# tokenizer = AutoTokenizer.from_pretrained('allenai/PRIMERA')\n",
    "\n",
    "# config=LEDConfig.from_pretrained('allenai/PRIMERA')\n",
    "\n",
    "# model = LEDForConditionalGeneration.from_pretrained('allenai/PRIMERA')\n"
   ]
  },
  {
   "cell_type": "code",
   "execution_count": 11,
   "id": "4e1ee036",
   "metadata": {},
   "outputs": [
    {
     "data": {
      "text/plain": [
       "1024"
      ]
     },
     "execution_count": 11,
     "metadata": {},
     "output_type": "execute_result"
    }
   ],
   "source": [
    "tokenizer.model_max_length"
   ]
  },
  {
   "cell_type": "code",
   "execution_count": 12,
   "id": "8ef43497",
   "metadata": {},
   "outputs": [
    {
     "data": {
      "text/plain": [
       "2348.25"
      ]
     },
     "execution_count": 12,
     "metadata": {},
     "output_type": "execute_result"
    }
   ],
   "source": [
    "df['review'].apply(len).median() / 4"
   ]
  },
  {
   "cell_type": "code",
   "execution_count": 13,
   "id": "372f89d9",
   "metadata": {},
   "outputs": [
    {
     "data": {
      "text/plain": [
       "128.5"
      ]
     },
     "execution_count": 13,
     "metadata": {},
     "output_type": "execute_result"
    }
   ],
   "source": [
    "df['summary'].apply(len).median() / 4"
   ]
  },
  {
   "cell_type": "code",
   "execution_count": 14,
   "id": "fe58a755",
   "metadata": {},
   "outputs": [],
   "source": [
    "prefix = \"summarize: \"\n",
    "\n",
    "def preprocess_function(examples):\n",
    "    inputs = [prefix + doc for doc in examples[\"review\"]]\n",
    "    model_inputs = tokenizer(inputs, max_length=1024, truncation=True)\n",
    "\n",
    "    labels = tokenizer(text_target=examples[\"summary\"], max_length=150, truncation=True)\n",
    "\n",
    "    model_inputs[\"labels\"] = labels[\"input_ids\"]\n",
    "    return model_inputs"
   ]
  },
  {
   "cell_type": "code",
   "execution_count": 15,
   "id": "2c9a5329",
   "metadata": {},
   "outputs": [
    {
     "name": "stderr",
     "output_type": "stream",
     "text": [
      "100%|███████████████████████████████████████████████████████████████████████████████| 1/1 [00:00<00:00,  2.32ba/s]\n",
      "100%|███████████████████████████████████████████████████████████████████████████████| 1/1 [00:00<00:00, 10.87ba/s]\n"
     ]
    }
   ],
   "source": [
    "tokenized_dataset = dataset.map(preprocess_function, batched=True)"
   ]
  },
  {
   "cell_type": "code",
   "execution_count": 16,
   "id": "71869cd4",
   "metadata": {},
   "outputs": [],
   "source": [
    "from transformers import DataCollatorForSeq2Seq\n",
    "from transformers import AutoModelForSeq2SeqLM, Seq2SeqTrainingArguments, Seq2SeqTrainer\n",
    "\n",
    "data_collator = DataCollatorForSeq2Seq(tokenizer=tokenizer, model=model)"
   ]
  },
  {
   "cell_type": "code",
   "execution_count": 17,
   "id": "9f9728a0",
   "metadata": {},
   "outputs": [],
   "source": [
    "import numpy as np\n",
    "\n",
    "\n",
    "def compute_metrics(eval_pred):\n",
    "    predictions, labels = eval_pred\n",
    "    decoded_preds = tokenizer.batch_decode(predictions, skip_special_tokens=True)\n",
    "    labels = np.where(labels != -100, labels, tokenizer.pad_token_id)\n",
    "    decoded_labels = tokenizer.batch_decode(labels, skip_special_tokens=True)\n",
    "\n",
    "    result = rouge.compute(predictions=decoded_preds, references=decoded_labels, use_stemmer=True)\n",
    "\n",
    "    prediction_lens = [np.count_nonzero(pred != tokenizer.pad_token_id) for pred in predictions]\n",
    "    result[\"gen_len\"] = np.mean(prediction_lens)\n",
    "\n",
    "    return {k: round(v, 4) for k, v in result.items()}"
   ]
  },
  {
   "cell_type": "code",
   "execution_count": 18,
   "id": "3b7a1da5",
   "metadata": {
    "scrolled": true
   },
   "outputs": [
    {
     "name": "stderr",
     "output_type": "stream",
     "text": [
      "The following columns in the training set don't have a corresponding argument in `BartForConditionalGeneration.forward` and have been ignored: summary, review, __index_level_0__, name. If summary, review, __index_level_0__, name are not expected by `BartForConditionalGeneration.forward`,  you can safely ignore this message.\n",
      "/Users/kayhan/opt/anaconda3/envs/pendulum/lib/python3.9/site-packages/transformers/optimization.py:306: FutureWarning: This implementation of AdamW is deprecated and will be removed in a future version. Use the PyTorch implementation torch.optim.AdamW instead, or set `no_deprecation_warning=True` to disable this warning\n",
      "  warnings.warn(\n",
      "***** Running training *****\n",
      "  Num examples = 275\n",
      "  Num Epochs = 4\n",
      "  Instantaneous batch size per device = 16\n",
      "  Total train batch size (w. parallel, distributed & accumulation) = 16\n",
      "  Gradient Accumulation steps = 1\n",
      "  Total optimization steps = 72\n",
      "  Number of trainable parameters = 139420416\n",
      "You're using a BartTokenizerFast tokenizer. Please note that with a fast tokenizer, using the `__call__` method is faster than using a method to encode the text followed by a call to the `pad` method to get a padded encoding.\n"
     ]
    },
    {
     "data": {
      "text/html": [
       "\n",
       "    <div>\n",
       "      \n",
       "      <progress value='72' max='72' style='width:300px; height:20px; vertical-align: middle;'></progress>\n",
       "      [72/72 1:19:56, Epoch 4/4]\n",
       "    </div>\n",
       "    <table border=\"1\" class=\"dataframe\">\n",
       "  <thead>\n",
       " <tr style=\"text-align: left;\">\n",
       "      <th>Epoch</th>\n",
       "      <th>Training Loss</th>\n",
       "      <th>Validation Loss</th>\n",
       "      <th>Rouge1</th>\n",
       "      <th>Rouge2</th>\n",
       "      <th>Rougel</th>\n",
       "      <th>Rougelsum</th>\n",
       "      <th>Gen Len</th>\n",
       "    </tr>\n",
       "  </thead>\n",
       "  <tbody>\n",
       "    <tr>\n",
       "      <td>1</td>\n",
       "      <td>No log</td>\n",
       "      <td>2.190973</td>\n",
       "      <td>0.200600</td>\n",
       "      <td>0.095400</td>\n",
       "      <td>0.167500</td>\n",
       "      <td>0.167400</td>\n",
       "      <td>20.000000</td>\n",
       "    </tr>\n",
       "    <tr>\n",
       "      <td>2</td>\n",
       "      <td>No log</td>\n",
       "      <td>2.107524</td>\n",
       "      <td>0.202700</td>\n",
       "      <td>0.096400</td>\n",
       "      <td>0.170000</td>\n",
       "      <td>0.169800</td>\n",
       "      <td>20.000000</td>\n",
       "    </tr>\n",
       "    <tr>\n",
       "      <td>3</td>\n",
       "      <td>No log</td>\n",
       "      <td>2.074252</td>\n",
       "      <td>0.201700</td>\n",
       "      <td>0.094800</td>\n",
       "      <td>0.168900</td>\n",
       "      <td>0.168700</td>\n",
       "      <td>20.000000</td>\n",
       "    </tr>\n",
       "    <tr>\n",
       "      <td>4</td>\n",
       "      <td>No log</td>\n",
       "      <td>2.072805</td>\n",
       "      <td>0.203600</td>\n",
       "      <td>0.096400</td>\n",
       "      <td>0.171100</td>\n",
       "      <td>0.171100</td>\n",
       "      <td>20.000000</td>\n",
       "    </tr>\n",
       "  </tbody>\n",
       "</table><p>"
      ],
      "text/plain": [
       "<IPython.core.display.HTML object>"
      ]
     },
     "metadata": {},
     "output_type": "display_data"
    },
    {
     "name": "stderr",
     "output_type": "stream",
     "text": [
      "The following columns in the evaluation set don't have a corresponding argument in `BartForConditionalGeneration.forward` and have been ignored: summary, review, __index_level_0__, name. If summary, review, __index_level_0__, name are not expected by `BartForConditionalGeneration.forward`,  you can safely ignore this message.\n",
      "***** Running Evaluation *****\n",
      "  Num examples = 69\n",
      "  Batch size = 16\n",
      "Generate config GenerationConfig {\n",
      "  \"bos_token_id\": 0,\n",
      "  \"decoder_start_token_id\": 2,\n",
      "  \"early_stopping\": true,\n",
      "  \"eos_token_id\": 2,\n",
      "  \"forced_bos_token_id\": 0,\n",
      "  \"forced_eos_token_id\": 2,\n",
      "  \"no_repeat_ngram_size\": 3,\n",
      "  \"num_beams\": 4,\n",
      "  \"pad_token_id\": 1,\n",
      "  \"transformers_version\": \"4.26.1\"\n",
      "}\n",
      "\n",
      "Generate config GenerationConfig {\n",
      "  \"bos_token_id\": 0,\n",
      "  \"decoder_start_token_id\": 2,\n",
      "  \"early_stopping\": true,\n",
      "  \"eos_token_id\": 2,\n",
      "  \"forced_bos_token_id\": 0,\n",
      "  \"forced_eos_token_id\": 2,\n",
      "  \"no_repeat_ngram_size\": 3,\n",
      "  \"num_beams\": 4,\n",
      "  \"pad_token_id\": 1,\n",
      "  \"transformers_version\": \"4.26.1\"\n",
      "}\n",
      "\n",
      "Generate config GenerationConfig {\n",
      "  \"bos_token_id\": 0,\n",
      "  \"decoder_start_token_id\": 2,\n",
      "  \"early_stopping\": true,\n",
      "  \"eos_token_id\": 2,\n",
      "  \"forced_bos_token_id\": 0,\n",
      "  \"forced_eos_token_id\": 2,\n",
      "  \"no_repeat_ngram_size\": 3,\n",
      "  \"num_beams\": 4,\n",
      "  \"pad_token_id\": 1,\n",
      "  \"transformers_version\": \"4.26.1\"\n",
      "}\n",
      "\n",
      "Generate config GenerationConfig {\n",
      "  \"bos_token_id\": 0,\n",
      "  \"decoder_start_token_id\": 2,\n",
      "  \"early_stopping\": true,\n",
      "  \"eos_token_id\": 2,\n",
      "  \"forced_bos_token_id\": 0,\n",
      "  \"forced_eos_token_id\": 2,\n",
      "  \"no_repeat_ngram_size\": 3,\n",
      "  \"num_beams\": 4,\n",
      "  \"pad_token_id\": 1,\n",
      "  \"transformers_version\": \"4.26.1\"\n",
      "}\n",
      "\n",
      "Generate config GenerationConfig {\n",
      "  \"bos_token_id\": 0,\n",
      "  \"decoder_start_token_id\": 2,\n",
      "  \"early_stopping\": true,\n",
      "  \"eos_token_id\": 2,\n",
      "  \"forced_bos_token_id\": 0,\n",
      "  \"forced_eos_token_id\": 2,\n",
      "  \"no_repeat_ngram_size\": 3,\n",
      "  \"num_beams\": 4,\n",
      "  \"pad_token_id\": 1,\n",
      "  \"transformers_version\": \"4.26.1\"\n",
      "}\n",
      "\n",
      "The following columns in the evaluation set don't have a corresponding argument in `BartForConditionalGeneration.forward` and have been ignored: summary, review, __index_level_0__, name. If summary, review, __index_level_0__, name are not expected by `BartForConditionalGeneration.forward`,  you can safely ignore this message.\n",
      "***** Running Evaluation *****\n",
      "  Num examples = 69\n",
      "  Batch size = 16\n",
      "Generate config GenerationConfig {\n",
      "  \"bos_token_id\": 0,\n",
      "  \"decoder_start_token_id\": 2,\n",
      "  \"early_stopping\": true,\n",
      "  \"eos_token_id\": 2,\n",
      "  \"forced_bos_token_id\": 0,\n",
      "  \"forced_eos_token_id\": 2,\n",
      "  \"no_repeat_ngram_size\": 3,\n",
      "  \"num_beams\": 4,\n",
      "  \"pad_token_id\": 1,\n",
      "  \"transformers_version\": \"4.26.1\"\n",
      "}\n",
      "\n",
      "Generate config GenerationConfig {\n",
      "  \"bos_token_id\": 0,\n",
      "  \"decoder_start_token_id\": 2,\n",
      "  \"early_stopping\": true,\n",
      "  \"eos_token_id\": 2,\n",
      "  \"forced_bos_token_id\": 0,\n",
      "  \"forced_eos_token_id\": 2,\n",
      "  \"no_repeat_ngram_size\": 3,\n",
      "  \"num_beams\": 4,\n",
      "  \"pad_token_id\": 1,\n",
      "  \"transformers_version\": \"4.26.1\"\n",
      "}\n",
      "\n",
      "Generate config GenerationConfig {\n",
      "  \"bos_token_id\": 0,\n",
      "  \"decoder_start_token_id\": 2,\n",
      "  \"early_stopping\": true,\n",
      "  \"eos_token_id\": 2,\n",
      "  \"forced_bos_token_id\": 0,\n",
      "  \"forced_eos_token_id\": 2,\n",
      "  \"no_repeat_ngram_size\": 3,\n",
      "  \"num_beams\": 4,\n",
      "  \"pad_token_id\": 1,\n",
      "  \"transformers_version\": \"4.26.1\"\n",
      "}\n",
      "\n",
      "Generate config GenerationConfig {\n",
      "  \"bos_token_id\": 0,\n",
      "  \"decoder_start_token_id\": 2,\n",
      "  \"early_stopping\": true,\n",
      "  \"eos_token_id\": 2,\n",
      "  \"forced_bos_token_id\": 0,\n",
      "  \"forced_eos_token_id\": 2,\n",
      "  \"no_repeat_ngram_size\": 3,\n",
      "  \"num_beams\": 4,\n",
      "  \"pad_token_id\": 1,\n",
      "  \"transformers_version\": \"4.26.1\"\n",
      "}\n",
      "\n",
      "Generate config GenerationConfig {\n",
      "  \"bos_token_id\": 0,\n",
      "  \"decoder_start_token_id\": 2,\n",
      "  \"early_stopping\": true,\n",
      "  \"eos_token_id\": 2,\n",
      "  \"forced_bos_token_id\": 0,\n",
      "  \"forced_eos_token_id\": 2,\n",
      "  \"no_repeat_ngram_size\": 3,\n",
      "  \"num_beams\": 4,\n",
      "  \"pad_token_id\": 1,\n",
      "  \"transformers_version\": \"4.26.1\"\n",
      "}\n",
      "\n",
      "The following columns in the evaluation set don't have a corresponding argument in `BartForConditionalGeneration.forward` and have been ignored: summary, review, __index_level_0__, name. If summary, review, __index_level_0__, name are not expected by `BartForConditionalGeneration.forward`,  you can safely ignore this message.\n",
      "***** Running Evaluation *****\n",
      "  Num examples = 69\n",
      "  Batch size = 16\n",
      "Generate config GenerationConfig {\n",
      "  \"bos_token_id\": 0,\n",
      "  \"decoder_start_token_id\": 2,\n",
      "  \"early_stopping\": true,\n",
      "  \"eos_token_id\": 2,\n",
      "  \"forced_bos_token_id\": 0,\n",
      "  \"forced_eos_token_id\": 2,\n",
      "  \"no_repeat_ngram_size\": 3,\n",
      "  \"num_beams\": 4,\n",
      "  \"pad_token_id\": 1,\n",
      "  \"transformers_version\": \"4.26.1\"\n",
      "}\n",
      "\n",
      "Generate config GenerationConfig {\n",
      "  \"bos_token_id\": 0,\n",
      "  \"decoder_start_token_id\": 2,\n",
      "  \"early_stopping\": true,\n",
      "  \"eos_token_id\": 2,\n",
      "  \"forced_bos_token_id\": 0,\n",
      "  \"forced_eos_token_id\": 2,\n",
      "  \"no_repeat_ngram_size\": 3,\n",
      "  \"num_beams\": 4,\n",
      "  \"pad_token_id\": 1,\n",
      "  \"transformers_version\": \"4.26.1\"\n",
      "}\n",
      "\n",
      "Generate config GenerationConfig {\n",
      "  \"bos_token_id\": 0,\n",
      "  \"decoder_start_token_id\": 2,\n",
      "  \"early_stopping\": true,\n",
      "  \"eos_token_id\": 2,\n",
      "  \"forced_bos_token_id\": 0,\n",
      "  \"forced_eos_token_id\": 2,\n",
      "  \"no_repeat_ngram_size\": 3,\n",
      "  \"num_beams\": 4,\n",
      "  \"pad_token_id\": 1,\n",
      "  \"transformers_version\": \"4.26.1\"\n",
      "}\n",
      "\n",
      "Generate config GenerationConfig {\n",
      "  \"bos_token_id\": 0,\n",
      "  \"decoder_start_token_id\": 2,\n",
      "  \"early_stopping\": true,\n",
      "  \"eos_token_id\": 2,\n",
      "  \"forced_bos_token_id\": 0,\n",
      "  \"forced_eos_token_id\": 2,\n",
      "  \"no_repeat_ngram_size\": 3,\n",
      "  \"num_beams\": 4,\n",
      "  \"pad_token_id\": 1,\n",
      "  \"transformers_version\": \"4.26.1\"\n",
      "}\n",
      "\n",
      "Generate config GenerationConfig {\n",
      "  \"bos_token_id\": 0,\n",
      "  \"decoder_start_token_id\": 2,\n",
      "  \"early_stopping\": true,\n",
      "  \"eos_token_id\": 2,\n",
      "  \"forced_bos_token_id\": 0,\n",
      "  \"forced_eos_token_id\": 2,\n",
      "  \"no_repeat_ngram_size\": 3,\n",
      "  \"num_beams\": 4,\n",
      "  \"pad_token_id\": 1,\n",
      "  \"transformers_version\": \"4.26.1\"\n",
      "}\n",
      "\n",
      "The following columns in the evaluation set don't have a corresponding argument in `BartForConditionalGeneration.forward` and have been ignored: summary, review, __index_level_0__, name. If summary, review, __index_level_0__, name are not expected by `BartForConditionalGeneration.forward`,  you can safely ignore this message.\n",
      "***** Running Evaluation *****\n",
      "  Num examples = 69\n",
      "  Batch size = 16\n",
      "Generate config GenerationConfig {\n",
      "  \"bos_token_id\": 0,\n",
      "  \"decoder_start_token_id\": 2,\n",
      "  \"early_stopping\": true,\n",
      "  \"eos_token_id\": 2,\n",
      "  \"forced_bos_token_id\": 0,\n",
      "  \"forced_eos_token_id\": 2,\n",
      "  \"no_repeat_ngram_size\": 3,\n",
      "  \"num_beams\": 4,\n",
      "  \"pad_token_id\": 1,\n",
      "  \"transformers_version\": \"4.26.1\"\n",
      "}\n",
      "\n",
      "Generate config GenerationConfig {\n",
      "  \"bos_token_id\": 0,\n",
      "  \"decoder_start_token_id\": 2,\n",
      "  \"early_stopping\": true,\n",
      "  \"eos_token_id\": 2,\n",
      "  \"forced_bos_token_id\": 0,\n",
      "  \"forced_eos_token_id\": 2,\n",
      "  \"no_repeat_ngram_size\": 3,\n",
      "  \"num_beams\": 4,\n",
      "  \"pad_token_id\": 1,\n",
      "  \"transformers_version\": \"4.26.1\"\n",
      "}\n",
      "\n",
      "Generate config GenerationConfig {\n",
      "  \"bos_token_id\": 0,\n",
      "  \"decoder_start_token_id\": 2,\n",
      "  \"early_stopping\": true,\n",
      "  \"eos_token_id\": 2,\n",
      "  \"forced_bos_token_id\": 0,\n",
      "  \"forced_eos_token_id\": 2,\n",
      "  \"no_repeat_ngram_size\": 3,\n",
      "  \"num_beams\": 4,\n",
      "  \"pad_token_id\": 1,\n",
      "  \"transformers_version\": \"4.26.1\"\n",
      "}\n",
      "\n",
      "Generate config GenerationConfig {\n",
      "  \"bos_token_id\": 0,\n",
      "  \"decoder_start_token_id\": 2,\n",
      "  \"early_stopping\": true,\n",
      "  \"eos_token_id\": 2,\n",
      "  \"forced_bos_token_id\": 0,\n",
      "  \"forced_eos_token_id\": 2,\n",
      "  \"no_repeat_ngram_size\": 3,\n",
      "  \"num_beams\": 4,\n",
      "  \"pad_token_id\": 1,\n",
      "  \"transformers_version\": \"4.26.1\"\n",
      "}\n",
      "\n",
      "Generate config GenerationConfig {\n",
      "  \"bos_token_id\": 0,\n",
      "  \"decoder_start_token_id\": 2,\n",
      "  \"early_stopping\": true,\n",
      "  \"eos_token_id\": 2,\n",
      "  \"forced_bos_token_id\": 0,\n",
      "  \"forced_eos_token_id\": 2,\n",
      "  \"no_repeat_ngram_size\": 3,\n",
      "  \"num_beams\": 4,\n",
      "  \"pad_token_id\": 1,\n",
      "  \"transformers_version\": \"4.26.1\"\n",
      "}\n",
      "\n",
      "\n",
      "\n",
      "Training completed. Do not forget to share your model on huggingface.co/models =)\n",
      "\n",
      "\n"
     ]
    },
    {
     "data": {
      "text/plain": [
       "TrainOutput(global_step=72, training_loss=2.5587957170274525, metrics={'train_runtime': 4865.2319, 'train_samples_per_second': 0.226, 'train_steps_per_second': 0.015, 'total_flos': 670710104064000.0, 'train_loss': 2.5587957170274525, 'epoch': 4.0})"
      ]
     },
     "execution_count": 18,
     "metadata": {},
     "output_type": "execute_result"
    }
   ],
   "source": [
    "training_args = Seq2SeqTrainingArguments(\n",
    "    output_dir=\"generative_model\",\n",
    "    evaluation_strategy=\"epoch\",\n",
    "    learning_rate=2e-5,\n",
    "    per_device_train_batch_size=16,\n",
    "    per_device_eval_batch_size=16,\n",
    "    weight_decay=0.01,\n",
    "    save_total_limit=3,\n",
    "    num_train_epochs=4,\n",
    "    predict_with_generate=True\n",
    ")\n",
    "\n",
    "trainer = Seq2SeqTrainer(\n",
    "    model=model,\n",
    "    args=training_args,\n",
    "    train_dataset=tokenized_dataset[\"train\"],\n",
    "    eval_dataset=tokenized_dataset[\"test\"],\n",
    "    tokenizer=tokenizer,\n",
    "    data_collator=data_collator,\n",
    "    compute_metrics=compute_metrics,\n",
    ")\n",
    "\n",
    "trainer.train()"
   ]
  },
  {
   "cell_type": "code",
   "execution_count": 20,
   "id": "90f34c72",
   "metadata": {},
   "outputs": [],
   "source": [
    "tuned_model = trainer.model"
   ]
  },
  {
   "cell_type": "code",
   "execution_count": 54,
   "id": "272213c4",
   "metadata": {},
   "outputs": [],
   "source": [
    "input_ = dataset['test']['review'][1]"
   ]
  },
  {
   "cell_type": "code",
   "execution_count": 55,
   "id": "10198341",
   "metadata": {},
   "outputs": [],
   "source": [
    "encoded = tokenizer.encode(input_,return_tensors='pt',max_length=1024)"
   ]
  },
  {
   "cell_type": "code",
   "execution_count": 64,
   "id": "f87bbe54",
   "metadata": {},
   "outputs": [
    {
     "name": "stderr",
     "output_type": "stream",
     "text": [
      "Configuration saved in yelpGPTv1/config.json\n",
      "Configuration saved in yelpGPTv1/generation_config.json\n",
      "Model weights saved in yelpGPTv1/pytorch_model.bin\n"
     ]
    }
   ],
   "source": [
    "tuned_model.save_pretrained('yelpGPTv1')"
   ]
  },
  {
   "cell_type": "code",
   "execution_count": 56,
   "id": "62631317",
   "metadata": {},
   "outputs": [
    {
     "name": "stderr",
     "output_type": "stream",
     "text": [
      "Generate config GenerationConfig {\n",
      "  \"bos_token_id\": 0,\n",
      "  \"decoder_start_token_id\": 2,\n",
      "  \"early_stopping\": true,\n",
      "  \"eos_token_id\": 2,\n",
      "  \"forced_bos_token_id\": 0,\n",
      "  \"forced_eos_token_id\": 2,\n",
      "  \"no_repeat_ngram_size\": 3,\n",
      "  \"num_beams\": 4,\n",
      "  \"pad_token_id\": 1,\n",
      "  \"transformers_version\": \"4.26.1\"\n",
      "}\n",
      "\n"
     ]
    }
   ],
   "source": [
    "output = tuned_model.generate(input_ids=encoded,max_length=150)"
   ]
  },
  {
   "cell_type": "code",
   "execution_count": 50,
   "id": "5d03eb70",
   "metadata": {},
   "outputs": [
    {
     "data": {
      "text/plain": [
       "'</s><s>Happy Cow Creamery & Tea is an Asian dessert spot in the Dogpatch area that serves Chinese street food. The service is friendly and helpful, and the food is delicious. However, some reviewers found the Chinese crepes lacking a kick, and some found the pork jian bing to be undercooked and doughy. Overall, the restaurant is a must-visit spot in San Francisco.</s>'"
      ]
     },
     "execution_count": 50,
     "metadata": {},
     "output_type": "execute_result"
    }
   ],
   "source": [
    "tokenizer.decode(output[0])"
   ]
  },
  {
   "cell_type": "code",
   "execution_count": 57,
   "id": "4a9728d7",
   "metadata": {},
   "outputs": [
    {
     "data": {
      "text/plain": [
       "'</s><s>Alnico is a Vietnamese restaurant in San Francisco that serves delicious Vietnamese coffee with Ube Foam. The food and drinks are delicious, but the price is reasonable for everything that comes with the ube flavored stuff. The restaurant is located on Hill St. and has outdoor seating available and doggo friendly seating. The service is good and the food is good. However, the price can be high for a weekend brunch.</s>'"
      ]
     },
     "execution_count": 57,
     "metadata": {},
     "output_type": "execute_result"
    }
   ],
   "source": [
    "tokenizer.decode(output[0])"
   ]
  },
  {
   "cell_type": "code",
   "execution_count": 63,
   "id": "ef2cfa97",
   "metadata": {},
   "outputs": [
    {
     "data": {
      "text/plain": [
       "'use the following opinions of the restaurant reviews to create a 50 word summary: \\n The very definition of a hidden gem.I found this place on Yelp and my friend made a reservation for 6 people (they DID require a \"deposit\")This place has limited indoor seating due to the super cool 2 story layout. Kinda a small dining room on main level, then a balcony of seats on floor 2 that surrounds the dining room on 2 sides. ¬†Our table of 6 was all by itself on the right upper level- so perfect for us to all catch up with each other.Our FANTASTIC waiter Frederick was friendly and attentive, I wanted a lot of ice, he brought us 2 pitchers of ice! We ordered drinks (note that due to them only have a wine/beer license, their \"cocktails\" are made with low-proof rum or vodka.)We ordered some fried okra and some corn muffins to start and share. ¬†The okra comes with a snappy dipping sauce. (Note the corn muffins are pretty small).I ordered the fried chicken (leg and thigh) with Jambalaya and the collard greens. My man had the short ribs with red beans and rice and cream cheese grits. ¬†Both entrees were heaven, but the fried chicken is one of the top 5 fried chicken dinners in SF. Very crispy and not greasy.For dessert we split all three dessert offerings: a steamed white chocolate bread pudding, pecan pie and the beignets. ¬†Of the 3 we all enjoyed the bread pudding the most.Note there is a $26 lunch special we all agreed we wanted to come back for - which includes an appetizer a entree and a dessert. (If I am remembering correctly),I really wanted to like this pace. We are in need of good creole cuisine. Unfortunately they were having a private party that night. We sat outside, but I think you miss out of the experience. The smells of all the food. The feel of the place. All missing. The food looked alright, but lacked the outstanding taste.I had the shrimp and grits. I normally love this dish. This just didn\\'t grab me. My friend had the Shrimp & Crawfish √âtouff√©e that was slightly better.The cornbread was wonderful! I could have eaten a whole plate of these! And it didn\\'t even need the extra butter, yum!,I enjoyed the vibes of this place. It was decorated nicely for the holiday season.The food was decent. I\\'m not sure if anything stood out so much that would make me come back. Fried okra appetizer was good, great plate to share. The shrimp Po boy was decent. The portion was pretty large, and I only had half and took the rest to go. And it comes with a side salad which is nice. Overall, the mains were good, but not great. Beignets with a salted caramel sauce and the bread pudding were both great dessert options. I would recommend these.,Def worth heading into Cole Valley for this gem of a restaurant. We were sat upstairs and enjoyed it. They currently have cute holiday decorations. The service was fantastic. Our server Julian was incredibly attentive and accommodating. Really appreciated that he asked for food allergies right at the beginning. The food was great. Our table shared the fried okra, hush puppies, and boudin balls--all were tasty. I had the short ribs with collard greens and creamy grits. Highly recommend. For dessert with the bread pudding and beignets--would also highly recommend. ¬†The only thing worth nothing was the restaurant was bit smoky inside and a few us needed a moment to stop coughing.,Meh? It was nice to come here at least once, but I wouldn\\'t come back for any dish or side. We had the boudin balls, fried okra, braised short rib, gumbo, shrimp and crawfish etouffee, and fried chicken to share between the three of us. Highlights - service was fantastic, the ambiance reminded us of NOLA, and the etouffee was seasoned and cooked very well. Things that we\\'d pass on if we came back - the boudin balls didn\\'t have much flavor, the gumbo was extremely briny, and the short rib didn\\'t come out as tender as we would have liked. For the price point, we were also expected some larger portions, but it is what it is. We would opt for a different creole restaurant the next time around.,Came here with my friends for lunch during the SF Restaurant week. It\\'s a cute little restaurant at the corner of the intersection. There were still quite a few people there at 1pm on a Saturday. I got the seafood gumbo as my appetizer and the shrimp & crawfish etouffee as my entree. The pre fix menu included a piece of beignet as dessert. Seafood gumbo - I\\'ve had better. There weren\\'t much of that Cajun kick. Shrimp & crawfish etouffee - my first time trying etouffee so I don\\'t have anything to compare it with. The stew/sauce it came with was on the sweet side. It was decent, but not mind blowing. The corn bread (?) it came with was pretty good though. Beignet - my first time having a fresh beignet. It was soooo good. Perfect sweetness & texture. I loved the sugar powder they used too, but that was prob just genetic powder lol. Overall, 3.5 stars. I wouldn\\'t go out of my way to come here, but if you\\'re in this area and craving dessert, I\\'d recommend giving their beignet a try. Rounding it up to 4 stars for the cornbread and beignet.,Love this bright corner spot serving up elevated Nola cuisine! Really cute space, would be a great spot for a private party. Fantastic chicken jambalaya - I\\'ve never had the pleasure of a whole piece of chicken in my jambalaya let alone one soooo juicy. Friend got the mushroom jambalaya which looked good too, and she cleaned her plate. We tried the boudin balls (delish - and yes you can taste the liver) and oyster brochettes, both of which I\\'d recommend. Was a little meh on the hush puppies (give me more corn!) and beignets (I expected lighter - these were quite dense). Then the fried okra was maybe just a little too much fried food with remoulade you know? Staff was lovely and really busy. FYI they do charge you a deposit for reservations so make sure they subtract that from your final bill!,I went for SF restaurant week and got their lunch menu. I often find that SF restaurant week is really worth it. Usually it\\'s smaller portions, or the same food bundled together into a pre fixe menu and more expensive. I had previously been to CreoLa and really enjoyed their food so I decided to visit again.I got the cornmeal crusted catfish, which comes with two sides. The catfish pieces were huge. The crust was perfectly intact and wasn\\'t soggy. It didn\\'t feel greasy either even though it was deep fried. Highly recommend order this.The beignet was fresh and hot. More doughy than other beignets that I\\'ve had, but still good.The vegan soup was the most disappointing because it was just black eyed peas and green beans (which I ordered for my sides). Nothing special about it.The service was pretty good. We were seated on the second floor and the staff would come and check in on us from time to time.The restaurant itself is very cute and definitely had some New Orleans vibes. If they played jazz music that\\'s be the cherry on top.,CreoLa was a beautiful splash of color and flavor in the middle of the workweek, when I visited SF in July. It\\'s one of the *few* times where I\\'ll admit that my environment was so comfortable and rich (piano music, large windows for people-watching) that I didn\\'t mind the speed of service---mind you, it wasn\\'t slow, but it wasn\\'t speedy. However, this is likely due to the fact that the food is made with ingredients that are quality, and taste+feel incredibly fresh. I definitely got the sense that my food was made to order.Be on the lookout for lunch specials that allow you to sample a bit of everything. I definitely could have done that (eg. that day, they were serving pre fixe lunched with your choice of entree). I opted for a gorgeous catfish po\\'boy, because that Cajun-style fish is so flavorful. Perfectly crispy, sandwiched between perfectly soft and buttery French bread. The kind you expect to cut into your mouth, but this one didn\\'t. I also shared in the Cajun jambalaya, and just look at that color. Spicy, salty, right where my heart needed to be that afternoon.But despite the generous portions, we always have room for fresh beignets with caramel sauce. From the entrees to the piping-hot pastries, CreoLa was dripping with decadence and sheer experience. Definitely give it a try, and always leave room for dessert.,Food was 4/5 stars but the ambiance and service knocked it to a 5. Such a cute little place that transports you out of SF with the jazz music and interior design! The seafood it came with was cooked well; and the dishes were solid. We got the gumbo, fried okra, crawfish and shrimp etouffe, green beans with shaved garlic and side of cornbread. I liked all the dishes but would say it didn\\'t blow my mind. But I really appreciated the server who was so kind and checked up on us at all the right times.,I\\'m impressed. CreoLa\\'s cute interior sets the stage for the amazing meal you are about to have. They have nailed cooked chicken. My chicken jumbalaya was so incredibly moist and flavorful. We even started our meals with a bene and coffee for an affordable $6! CreoLa is great for a casual brunch and also a nice dinner out. Since it\\'s located right next to the park, you can take a walk after to burn off the calories from your delicious meal.'"
      ]
     },
     "execution_count": 63,
     "metadata": {},
     "output_type": "execute_result"
    }
   ],
   "source": [
    " dataset['test']['review'][2]"
   ]
  },
  {
   "cell_type": "code",
   "execution_count": 25,
   "id": "237edadb",
   "metadata": {},
   "outputs": [],
   "source": [
    "test = tokenized_dataset['test']['input_ids'][0]"
   ]
  },
  {
   "cell_type": "code",
   "execution_count": null,
   "id": "08d6b78b",
   "metadata": {},
   "outputs": [],
   "source": [
    "tokenizer = AutoTokenizer.from_pretrained('allenai/PRIMERA')\n",
    "tokenizer.model_max_length"
   ]
  },
  {
   "cell_type": "code",
   "execution_count": null,
   "id": "c58cda76",
   "metadata": {
    "scrolled": true
   },
   "outputs": [],
   "source": [
    "tokenizer = AutoTokenizer.from_pretrained('allenai/led-large-16384')\n",
    "tokenizer.model_max_length"
   ]
  },
  {
   "cell_type": "code",
   "execution_count": null,
   "id": "d13d86fd",
   "metadata": {},
   "outputs": [],
   "source": [
    "\n",
    "tokenizer = AutoTokenizer.from_pretrained('facebook/bart-large')\n",
    "tokenizer.model_max_length"
   ]
  },
  {
   "cell_type": "code",
   "execution_count": null,
   "id": "dc1dade3",
   "metadata": {
    "scrolled": true
   },
   "outputs": [],
   "source": [
    "\n",
    "tokenizer = AutoTokenizer.from_pretrained('google/pegasus-large')\n",
    "# model = GPT2Model.from_pretrained('gpt2')\n",
    "# text = \"Replace me by any text you'd like.\"\n",
    "# encoded_input = tokenizer(text, return_tensors='pt')\n",
    "# output = model(**encoded_input)\n",
    "tokenizer.model_max_length"
   ]
  },
  {
   "cell_type": "code",
   "execution_count": null,
   "id": "65f8cc80",
   "metadata": {},
   "outputs": [],
   "source": []
  }
 ],
 "metadata": {
  "kernelspec": {
   "display_name": "Python 3 (ipykernel)",
   "language": "python",
   "name": "python3"
  },
  "language_info": {
   "codemirror_mode": {
    "name": "ipython",
    "version": 3
   },
   "file_extension": ".py",
   "mimetype": "text/x-python",
   "name": "python",
   "nbconvert_exporter": "python",
   "pygments_lexer": "ipython3",
   "version": "3.9.16"
  }
 },
 "nbformat": 4,
 "nbformat_minor": 5
}
