{
 "cells": [
  {
   "cell_type": "code",
   "execution_count": 1,
   "id": "c06186f2",
   "metadata": {},
   "outputs": [
    {
     "name": "stderr",
     "output_type": "stream",
     "text": [
      "/Users/kayhan/opt/anaconda3/envs/pendulum/lib/python3.9/site-packages/tqdm/auto.py:22: TqdmWarning: IProgress not found. Please update jupyter and ipywidgets. See https://ipywidgets.readthedocs.io/en/stable/user_install.html\n",
      "  from .autonotebook import tqdm as notebook_tqdm\n",
      "2023-03-09 02:57:05.580030: I tensorflow/core/platform/cpu_feature_guard.cc:193] This TensorFlow binary is optimized with oneAPI Deep Neural Network Library (oneDNN) to use the following CPU instructions in performance-critical operations:  SSE4.1 SSE4.2\n",
      "To enable them in other operations, rebuild TensorFlow with the appropriate compiler flags.\n"
     ]
    }
   ],
   "source": [
    "import torch\n",
    "from transformers import BartForConditionalGeneration\n",
    "import pandas as pd \n",
    "from datasets import *\n",
    "\n",
    "from sklearn.model_selection import train_test_split"
   ]
  },
  {
   "cell_type": "markdown",
   "id": "3085e562",
   "metadata": {},
   "source": [
    "# Experiment notes\n",
    "\n",
    "\n",
    "- BART encoder input size is too short \n",
    "- 1 char is approx 4 tokens\n",
    "- our input and output sizes are 2500 and 150 tokens\n",
    "\n",
    "\n",
    "accidentally trained the model without stripping the original part. "
   ]
  },
  {
   "cell_type": "code",
   "execution_count": 4,
   "id": "7420baf7",
   "metadata": {},
   "outputs": [],
   "source": []
  },
  {
   "cell_type": "code",
   "execution_count": null,
   "id": "a8945d43",
   "metadata": {},
   "outputs": [],
   "source": []
  },
  {
   "cell_type": "code",
   "execution_count": 7,
   "id": "70399a70",
   "metadata": {},
   "outputs": [
    {
     "name": "stderr",
     "output_type": "stream",
     "text": [
      "/var/folders/vy/y5363_9d6f54v8kgq1spp7n80000gn/T/ipykernel_7837/2969053172.py:5: SettingWithCopyWarning: \n",
      "A value is trying to be set on a copy of a slice from a DataFrame.\n",
      "Try using .loc[row_indexer,col_indexer] = value instead\n",
      "\n",
      "See the caveats in the documentation: https://pandas.pydata.org/pandas-docs/stable/user_guide/indexing.html#returning-a-view-versus-a-copy\n",
      "  data['review'] = data['review'].apply(lambda x : x.replace(rmv_str,''))\n"
     ]
    }
   ],
   "source": [
    "path = '/Users/kayhan/Downloads/data_to_label.csv'\n",
    "# df = pd.read_csv('../labeling jobs/data_to_label.csv')\n",
    "df = pd.read_csv(path)\n",
    "data = df[['name','review','summary']]\n",
    "data['review'] = data['review'].apply(lambda x : x.replace(rmv_str,''))"
   ]
  },
  {
   "cell_type": "code",
   "execution_count": 8,
   "id": "ad709eb4",
   "metadata": {},
   "outputs": [],
   "source": [
    "data_train, data_test = train_test_split(data,test_size=0.2,random_state=0)"
   ]
  },
  {
   "cell_type": "code",
   "execution_count": 9,
   "id": "ac66f396",
   "metadata": {},
   "outputs": [
    {
     "data": {
      "text/plain": [
       "DatasetDict({\n",
       "    train: Dataset({\n",
       "        features: ['name', 'review', 'summary', '__index_level_0__'],\n",
       "        num_rows: 275\n",
       "    })\n",
       "    test: Dataset({\n",
       "        features: ['name', 'review', 'summary', '__index_level_0__'],\n",
       "        num_rows: 69\n",
       "    })\n",
       "})"
      ]
     },
     "execution_count": 9,
     "metadata": {},
     "output_type": "execute_result"
    }
   ],
   "source": [
    "train_dataset = Dataset.from_pandas(data_train,split='train')\n",
    "test_dataset = Dataset.from_pandas(data_test,split='test')\n",
    "ds_dict = {'train':train_dataset,'test':test_dataset}\n",
    "dataset = DatasetDict(ds_dict)\n",
    "dataset"
   ]
  },
  {
   "cell_type": "code",
   "execution_count": 10,
   "id": "3bfa618d",
   "metadata": {
    "scrolled": true
   },
   "outputs": [
    {
     "data": {
      "text/plain": [
       "{'name': 'Hu Tong Jian Bing',\n",
       " 'review': \" Love that this is an addition to the Dogpatch area! I remember when this first came to SF I waited 30 min in line at a SPARK food festival to get my hands on one. So nice to walk in and order in an actual brick and mortar joint! This isn't like the traditional ones I've had in China but they're still tasty! The only downsides are as others have mentioned:1. The sauce isn't as spicy as flavorful as I had hoped. Even with the addition of the $1 picked veggie it still lacked a kick. I'm going to order extra spicy with extra sauce next time.2. The outside was a bit undercooked and doughy. Still good but it wasn't as well done as it could be. Still going to frequent this joint though.,I got the roast duck jian bing and the mango sago. Both were really good and reminded me of authentic jian bing!,Happy Cow Creamery & Tea is an Asian dessert spot in the Dogpatch. I've recently just noticed it and was surprised to find out that they house a permanent popup inside that serves jianbing, one of my favorite Chinese street foods.I haven't had the boba or ice cream here, but I have had their jianbing from Hutong Jianbing inside the restaurant. It looks like there's a permanent popup in here that serves Beijing style Jianbing for $10 each. There's several toppings to choose from including plain, chicken, curry chicken, duck, and beef.The jianbing here is made to order. It's actually a bit different than what I'm sued to from what I've tried in Shanghai. There's less egg, the youtiao is replaced with some other type of fried dough, and no pickled vegetables. However, what you get is still solid and one of the only places I know of in the Bay Area to get jianbing! What a great hidden surprise.,Very delicious Chinese crepes, bringing back so many memories about childhood. They come with a kick, so order less spicy if you're like me and cannot take too much spice at once. I like to call in ahead of time when I'm on my way for pick up. It takes a few minutes for them to make the crepes. Very friendly staff, helpful and warm.,Look past the front door of Happy Cow Creamy ¬†& Tea, there is magic folded in the Chinese crepesOne veggie, spicy, was inexpensive and Delicious!Worth a visit ¬†.... with ice ¬†cream for dessert of course,Friendly hosts, and tasty Jian Bing! Wish that pork jian bing is with pork belly not grounded pork, but the flavor is really good.,I've been to this restaurant multiple times now and it never disappoints. Definitely hits the spot when I'm craving Chinese street food, and the portions are super generous!,Good jian bing, but personally I prefer the crispy kinds. Didn't quite satisfy me. Taste was decent and it was okay for a Beijing style.,I enjoyed the original and the roast duck Jianbing! My family was hoping for more sauce on the side. I'll definitely come back again! Great service. The workers follow the 6 ft rule. They wiped down the credit card screen and have a bottle of hand sanitizer out for you to use.,Came here with my baby girl for her first ever salty crepe and both of us LOVE it! We ordered the duck JianBing and oh my oh! Can you image a combo of a chewy soft skin and a crispy sheet with this super flavorful sauces and juicy pulled duck meats!!! Would highly recommend this boba and jianbing to everyone!,This was pretty average compared to the amazing ones from China. Overall, it is tasty but just lacked textures and flavors to be in the next dimension. For example, the crepe lacked chew and the fillings were a bit dull. Solid choice nonetheless for an authentic dish but don't expect magic.,I was quite excited when I learned this is gonna be in my neighborhood. I tried the roasted duck fried pancake and it did not disappoint! The portion was huge (it comes in 2 servings) and the price was very affordable. I'm so glad when I find out this is not just a pop-up and the boba place will continue to serve them. Can't wait to come back and try out a different one next time!,My weekend jian bing go-to! Love the roast duck flavor the most, but my husband and I always have to eat it in the car or else it gets soggy by the time we get home since so much condensation builds within the wax paper bag. If eaten immediately off the crepe maker, the jian bing's interior is perfectly crispy!,I love jian bing. It's one of the many Chinese food I missed the most. Stoped by this place to try it. I'd say it's ok but not as good or authentic as the real one in China. The soy paste inside tasted weird. Their customer service was alright.,It wasn't hard to find the place- just make sure to confirm with the staff if you are unsure. We ordered the curry chicken, pork and a regular bing. There was no one at the place so the food was made fresh and came out quickly. The food was okay- wish it was a bit more crispy and and more spicy(we ordered the spicy one). Conveniently Located for a quick fix.,Got the roasted duck Jian bing. One order is split between 2 paper bags so it's easy for sharing. The flavors were great and the duck was crunchy. Will come back again to try the other fillings! There was no one there when I went around 5:30pm.,Amazing Jian Bing and very fast service. ¬†It's a bit hard to find, as it's a pop up at a boba shop.,It's a new concept from Beijing. It's crispy inside with special sauce. The portion is good for two girls. It's better to eat it within 20-30 minutes.,The first time I learned about this pop up was from another location. This time I ordered their Lamb Jian Bing and it was really tasty. The crisp inside the crepe was crispy while the outside is soft. It's yummy! Note that if you eat the crepe late the crisp inside will get soaky. So better eat it right after it's served.\",\n",
       " 'summary': 'Happy Cow Creamery & Tea is a permanent popup inside an Asian dessert spot that serves Beijing style Jianbing, a Chinese street food. Although not as authentic as the real one in China, the crepes are still solid, with several fillings to choose from, and made to order. The portions are generous and affordable, and the staff is friendly and follows safety measures. The only downsides are the lack of spiciness and the doughy texture.',\n",
       " '__index_level_0__': 141}"
      ]
     },
     "execution_count": 10,
     "metadata": {},
     "output_type": "execute_result"
    }
   ],
   "source": [
    "dataset['test'][0]"
   ]
  },
  {
   "cell_type": "code",
   "execution_count": 11,
   "id": "8339ce09",
   "metadata": {},
   "outputs": [],
   "source": [
    "import evaluate\n",
    "\n",
    "rouge = evaluate.load(\"rouge\")"
   ]
  },
  {
   "cell_type": "code",
   "execution_count": 12,
   "id": "b458231b",
   "metadata": {
    "scrolled": true
   },
   "outputs": [],
   "source": [
    "from transformers import AutoTokenizer, AutoModelForSeq2SeqLM\n",
    "from transformers import BartTokenizer, BartForConditionalGeneration\n",
    "from transformers import AdamW, get_linear_schedule_with_warmup\n",
    "import torch\n",
    "from transformers import LEDForConditionalGeneration, LEDTokenizer\n",
    "\n",
    "\n",
    "# checkpoint = 'allenai/led-base-16384'\n",
    "# checkpoint = 'allenai/PRIMERA'\n",
    "checkpoint = 'facebook/bart-base'\n",
    "tokenizer = AutoTokenizer.from_pretrained(checkpoint)\n",
    "model = AutoModelForSeq2SeqLM.from_pretrained(checkpoint)\n",
    "# tokenizer = LEDTokenizer.from_pretrained(checkpoint)\n",
    "# model = LEDForConditionalGeneration.from_pretrained(checkpoint)\n",
    "# model = BartForConditionalGeneration.from_pretrained(checkpoint)\n",
    "\n",
    "\n",
    "# from transformers import (\n",
    "\n",
    "#     AutoTokenizer,\n",
    "\n",
    "#     LEDConfig,\n",
    "\n",
    "#     LEDForConditionalGeneration,\n",
    "\n",
    "# )\n",
    "\n",
    "# tokenizer = AutoTokenizer.from_pretrained('allenai/PRIMERA')\n",
    "\n",
    "# config=LEDConfig.from_pretrained('allenai/PRIMERA')\n",
    "\n",
    "# model = LEDForConditionalGeneration.from_pretrained('allenai/PRIMERA')\n"
   ]
  },
  {
   "cell_type": "code",
   "execution_count": 31,
   "id": "8f6270d3",
   "metadata": {},
   "outputs": [
    {
     "data": {
      "text/plain": [
       "array(['Alnico', 'Arang', 'Automat', 'Beit Rima', 'Beretta', 'Bottega',\n",
       "       'Breadbelly', 'Cafe De Casa', 'CreoLa',\n",
       "       'Daeho Kalbijjim & Beef Soup', 'Dumpling Home', 'Dumpling House',\n",
       "       'Dumpling Kitchen', 'Fable', 'Farmhouse Kitchen Thai Cuisine',\n",
       "       'Fog Harbor Fish House', 'Gao Viet Kitchen & Bar', 'Horsefeather',\n",
       "       'Hu Tong Jian Bing', 'JIJIME', \"Jamie's Place\", 'KAIYŌ Rooftop',\n",
       "       'Kothai Republic', 'Lily', 'Limoncello', 'Lokma', 'Marufuku Ramen',\n",
       "       'Noodle in a Haystack', 'Nopa', 'Otra', 'Pearl', 'Pinsa Rossa',\n",
       "       'Purple Rice', 'Rise Over Run', 'Routier', 'San Tung', 'Santeria',\n",
       "       'Savor', 'Sotto Mare', 'Starbelly', 'Sweet Maple', 'Tanglad',\n",
       "       \"That's My Jam\", 'The Italian Homemade Company', 'The Laundromat',\n",
       "       'The Snug', \"The Tailor's Son\", 'Um Ma', 'Wooden Spoon'],\n",
       "      dtype=object)"
      ]
     },
     "execution_count": 31,
     "metadata": {},
     "output_type": "execute_result"
    }
   ],
   "source": [
    "df['name'].unique()"
   ]
  },
  {
   "cell_type": "code",
   "execution_count": 42,
   "id": "d6f834ca",
   "metadata": {},
   "outputs": [
    {
     "name": "stderr",
     "output_type": "stream",
     "text": [
      "100%|██████████| 1/1 [00:00<00:00, 179.05ba/s]\n"
     ]
    }
   ],
   "source": [
    "example_text = dataset['train']\n",
    "example_text = example_text.filter(lambda x : x['name'] == 'Marufuku Ramen')[0]"
   ]
  },
  {
   "cell_type": "code",
   "execution_count": 43,
   "id": "433565ea",
   "metadata": {},
   "outputs": [],
   "source": [
    "# len(example_text)"
   ]
  },
  {
   "cell_type": "code",
   "execution_count": 44,
   "id": "26dde885",
   "metadata": {},
   "outputs": [],
   "source": [
    "encoded_text = tokenizer.encode(example_text['review'],return_tensors='pt',max_length=1024)\n"
   ]
  },
  {
   "cell_type": "code",
   "execution_count": 45,
   "id": "d360fc50",
   "metadata": {},
   "outputs": [
    {
     "data": {
      "text/plain": [
       "tensor([[   0, 8432,   10,  ...,  828,    9,    2]])"
      ]
     },
     "execution_count": 45,
     "metadata": {},
     "output_type": "execute_result"
    }
   ],
   "source": [
    "encoded_text"
   ]
  },
  {
   "cell_type": "code",
   "execution_count": 46,
   "id": "e2699ae5",
   "metadata": {},
   "outputs": [],
   "source": [
    "output = model.generate(encoded_text,max_length=150)"
   ]
  },
  {
   "cell_type": "code",
   "execution_count": null,
   "id": "f233a022",
   "metadata": {},
   "outputs": [],
   "source": []
  },
  {
   "cell_type": "code",
   "execution_count": 47,
   "id": "f323e711",
   "metadata": {},
   "outputs": [
    {
     "name": "stdout",
     "output_type": "stream",
     "text": [
      "</s><s> Got a table for one and was on the waitlist for a really long time. It took about an hour and a half to get a text to see the hostess. The only tiny thing that bugged me a bit is that they kept trying to rush me out since I was a tablefor one and every time I took a break from eating to get my breather or to just peek at my phone, they kept asking if I was done and needed a to-go box. Aside from that, the food is really good and worth the wait and everyone that works there is super attentive and checks in on you and your cup is never empty!! The Hakata Tonkotsu was so flavorful and really hits the spot on</s>\n"
     ]
    }
   ],
   "source": [
    "print(tokenizer.decode(output[0]))"
   ]
  },
  {
   "cell_type": "markdown",
   "id": "5fa99046",
   "metadata": {},
   "source": [
    "Got a table for one and was on the waitlist for a really long time. It took about an hour and a\n",
    " half to get a text to see the hostess. The only tiny thing that bugged me a bit is that they kept \n",
    "trying to rush me out since I was a tablefor one and every time I took a break from eating to get my breather\n",
    "or to just peek at my phone, they kept asking if I was done and needed a to-go box. Aside from that, the food \n",
    "is really good and worth the wait and everyone that works there is super attentive and checks in on you and your\n",
    "cup is never empty!! The Hakata Tonkotsu was so flavorful and really hits the spot on"
   ]
  },
  {
   "cell_type": "markdown",
   "id": "29eab462",
   "metadata": {},
   "source": [
    "summarize:  I tried the strawberry balsamic danish and it was amazing! It was so fresh and tasty, the pastry was so fluffy and buttery as well.\n",
    "\n",
    " The ube tart was also delicious and it wasn't too sweet. I also got the 50/50 iced and it also really good! There was a good balance between the coffee\n",
    " \n",
    "  taste and sweetness of the drink.,Like all the other reviews below - the Kaya toast is so good! I decided to get it with the Gyeranbbang which was recommended\n",
    "  \n",
    "   by the staff there. They paired so well because one was sweet and the other savory!,I think my bestie outdid himself and took me to all the best pastry shops"
   ]
  },
  {
   "cell_type": "code",
   "execution_count": 31,
   "id": "ae602fee",
   "metadata": {},
   "outputs": [
    {
     "data": {
      "text/plain": [
       "1024"
      ]
     },
     "execution_count": 31,
     "metadata": {},
     "output_type": "execute_result"
    }
   ],
   "source": [
    "tokenizer.model_max_length"
   ]
  },
  {
   "cell_type": "code",
   "execution_count": 32,
   "id": "0c876549",
   "metadata": {},
   "outputs": [
    {
     "data": {
      "text/plain": [
       "2348.25"
      ]
     },
     "execution_count": 32,
     "metadata": {},
     "output_type": "execute_result"
    }
   ],
   "source": [
    "df['review'].apply(len).median() / 4"
   ]
  },
  {
   "cell_type": "code",
   "execution_count": 33,
   "id": "ec6b7255",
   "metadata": {},
   "outputs": [
    {
     "data": {
      "text/plain": [
       "128.5"
      ]
     },
     "execution_count": 33,
     "metadata": {},
     "output_type": "execute_result"
    }
   ],
   "source": [
    "df['summary'].apply(len).median() / 4"
   ]
  },
  {
   "cell_type": "code",
   "execution_count": 34,
   "id": "f98569d9",
   "metadata": {},
   "outputs": [],
   "source": [
    "prefix = \"summarize: \"\n",
    "\n",
    "def preprocess_function(examples):\n",
    "    inputs = [prefix + doc for doc in examples[\"review\"]]\n",
    "    model_inputs = tokenizer(inputs, max_length=1024, truncation=True)\n",
    "\n",
    "    labels = tokenizer(text_target=examples[\"summary\"], max_length=150, truncation=True)\n",
    "\n",
    "    model_inputs[\"labels\"] = labels[\"input_ids\"]\n",
    "    return model_inputs"
   ]
  },
  {
   "cell_type": "code",
   "execution_count": 35,
   "id": "1e57e983",
   "metadata": {},
   "outputs": [
    {
     "name": "stderr",
     "output_type": "stream",
     "text": [
      "100%|████████████████████████████████████████████████████████████████████████████████████████████████████████████████| 1/1 [00:00<00:00,  2.59ba/s]\n",
      "100%|████████████████████████████████████████████████████████████████████████████████████████████████████████████████| 1/1 [00:00<00:00, 12.06ba/s]\n"
     ]
    }
   ],
   "source": [
    "tokenized_dataset = dataset.map(preprocess_function, batched=True)"
   ]
  },
  {
   "cell_type": "code",
   "execution_count": 36,
   "id": "86fe7ccc",
   "metadata": {},
   "outputs": [],
   "source": [
    "from transformers import DataCollatorForSeq2Seq\n",
    "from transformers import AutoModelForSeq2SeqLM, Seq2SeqTrainingArguments, Seq2SeqTrainer\n",
    "\n",
    "data_collator = DataCollatorForSeq2Seq(tokenizer=tokenizer, model=model)"
   ]
  },
  {
   "cell_type": "code",
   "execution_count": 37,
   "id": "5c3915ee",
   "metadata": {},
   "outputs": [],
   "source": [
    "import numpy as np\n",
    "\n",
    "\n",
    "def compute_metrics(eval_pred):\n",
    "    predictions, labels = eval_pred\n",
    "    decoded_preds = tokenizer.batch_decode(predictions, skip_special_tokens=True)\n",
    "    labels = np.where(labels != -100, labels, tokenizer.pad_token_id)\n",
    "    decoded_labels = tokenizer.batch_decode(labels, skip_special_tokens=True)\n",
    "\n",
    "    result = rouge.compute(predictions=decoded_preds, references=decoded_labels, use_stemmer=True)\n",
    "\n",
    "    prediction_lens = [np.count_nonzero(pred != tokenizer.pad_token_id) for pred in predictions]\n",
    "    result[\"gen_len\"] = np.mean(prediction_lens)\n",
    "\n",
    "    return {k: round(v, 4) for k, v in result.items()}"
   ]
  },
  {
   "cell_type": "code",
   "execution_count": 38,
   "id": "451a8e8e",
   "metadata": {
    "scrolled": true
   },
   "outputs": [
    {
     "name": "stderr",
     "output_type": "stream",
     "text": [
      "The following columns in the training set don't have a corresponding argument in `BartForConditionalGeneration.forward` and have been ignored: review, summary, name, __index_level_0__. If review, summary, name, __index_level_0__ are not expected by `BartForConditionalGeneration.forward`,  you can safely ignore this message.\n",
      "/Users/kayhan/opt/anaconda3/envs/pendulum/lib/python3.9/site-packages/transformers/optimization.py:306: FutureWarning: This implementation of AdamW is deprecated and will be removed in a future version. Use the PyTorch implementation torch.optim.AdamW instead, or set `no_deprecation_warning=True` to disable this warning\n",
      "  warnings.warn(\n",
      "***** Running training *****\n",
      "  Num examples = 275\n",
      "  Num Epochs = 4\n",
      "  Instantaneous batch size per device = 16\n",
      "  Total train batch size (w. parallel, distributed & accumulation) = 16\n",
      "  Gradient Accumulation steps = 1\n",
      "  Total optimization steps = 72\n",
      "  Number of trainable parameters = 139420416\n",
      "You're using a BartTokenizerFast tokenizer. Please note that with a fast tokenizer, using the `__call__` method is faster than using a method to encode the text followed by a call to the `pad` method to get a padded encoding.\n"
     ]
    },
    {
     "data": {
      "text/html": [
       "\n",
       "    <div>\n",
       "      \n",
       "      <progress value='72' max='72' style='width:300px; height:20px; vertical-align: middle;'></progress>\n",
       "      [72/72 1:25:11, Epoch 4/4]\n",
       "    </div>\n",
       "    <table border=\"1\" class=\"dataframe\">\n",
       "  <thead>\n",
       " <tr style=\"text-align: left;\">\n",
       "      <th>Epoch</th>\n",
       "      <th>Training Loss</th>\n",
       "      <th>Validation Loss</th>\n",
       "      <th>Rouge1</th>\n",
       "      <th>Rouge2</th>\n",
       "      <th>Rougel</th>\n",
       "      <th>Rougelsum</th>\n",
       "      <th>Gen Len</th>\n",
       "    </tr>\n",
       "  </thead>\n",
       "  <tbody>\n",
       "    <tr>\n",
       "      <td>1</td>\n",
       "      <td>No log</td>\n",
       "      <td>2.194865</td>\n",
       "      <td>0.198300</td>\n",
       "      <td>0.092500</td>\n",
       "      <td>0.168600</td>\n",
       "      <td>0.168900</td>\n",
       "      <td>20.000000</td>\n",
       "    </tr>\n",
       "    <tr>\n",
       "      <td>2</td>\n",
       "      <td>No log</td>\n",
       "      <td>2.108056</td>\n",
       "      <td>0.200600</td>\n",
       "      <td>0.098100</td>\n",
       "      <td>0.172000</td>\n",
       "      <td>0.172100</td>\n",
       "      <td>20.000000</td>\n",
       "    </tr>\n",
       "    <tr>\n",
       "      <td>3</td>\n",
       "      <td>No log</td>\n",
       "      <td>2.087942</td>\n",
       "      <td>0.203800</td>\n",
       "      <td>0.095300</td>\n",
       "      <td>0.170800</td>\n",
       "      <td>0.170900</td>\n",
       "      <td>20.000000</td>\n",
       "    </tr>\n",
       "    <tr>\n",
       "      <td>4</td>\n",
       "      <td>No log</td>\n",
       "      <td>2.078477</td>\n",
       "      <td>0.202100</td>\n",
       "      <td>0.097600</td>\n",
       "      <td>0.170400</td>\n",
       "      <td>0.170500</td>\n",
       "      <td>20.000000</td>\n",
       "    </tr>\n",
       "  </tbody>\n",
       "</table><p>"
      ],
      "text/plain": [
       "<IPython.core.display.HTML object>"
      ]
     },
     "metadata": {},
     "output_type": "display_data"
    },
    {
     "name": "stderr",
     "output_type": "stream",
     "text": [
      "The following columns in the evaluation set don't have a corresponding argument in `BartForConditionalGeneration.forward` and have been ignored: review, summary, name, __index_level_0__. If review, summary, name, __index_level_0__ are not expected by `BartForConditionalGeneration.forward`,  you can safely ignore this message.\n",
      "***** Running Evaluation *****\n",
      "  Num examples = 69\n",
      "  Batch size = 16\n",
      "Generate config GenerationConfig {\n",
      "  \"bos_token_id\": 0,\n",
      "  \"decoder_start_token_id\": 2,\n",
      "  \"early_stopping\": true,\n",
      "  \"eos_token_id\": 2,\n",
      "  \"forced_bos_token_id\": 0,\n",
      "  \"forced_eos_token_id\": 2,\n",
      "  \"no_repeat_ngram_size\": 3,\n",
      "  \"num_beams\": 4,\n",
      "  \"pad_token_id\": 1,\n",
      "  \"transformers_version\": \"4.26.1\"\n",
      "}\n",
      "\n",
      "Generate config GenerationConfig {\n",
      "  \"bos_token_id\": 0,\n",
      "  \"decoder_start_token_id\": 2,\n",
      "  \"early_stopping\": true,\n",
      "  \"eos_token_id\": 2,\n",
      "  \"forced_bos_token_id\": 0,\n",
      "  \"forced_eos_token_id\": 2,\n",
      "  \"no_repeat_ngram_size\": 3,\n",
      "  \"num_beams\": 4,\n",
      "  \"pad_token_id\": 1,\n",
      "  \"transformers_version\": \"4.26.1\"\n",
      "}\n",
      "\n",
      "Generate config GenerationConfig {\n",
      "  \"bos_token_id\": 0,\n",
      "  \"decoder_start_token_id\": 2,\n",
      "  \"early_stopping\": true,\n",
      "  \"eos_token_id\": 2,\n",
      "  \"forced_bos_token_id\": 0,\n",
      "  \"forced_eos_token_id\": 2,\n",
      "  \"no_repeat_ngram_size\": 3,\n",
      "  \"num_beams\": 4,\n",
      "  \"pad_token_id\": 1,\n",
      "  \"transformers_version\": \"4.26.1\"\n",
      "}\n",
      "\n",
      "Generate config GenerationConfig {\n",
      "  \"bos_token_id\": 0,\n",
      "  \"decoder_start_token_id\": 2,\n",
      "  \"early_stopping\": true,\n",
      "  \"eos_token_id\": 2,\n",
      "  \"forced_bos_token_id\": 0,\n",
      "  \"forced_eos_token_id\": 2,\n",
      "  \"no_repeat_ngram_size\": 3,\n",
      "  \"num_beams\": 4,\n",
      "  \"pad_token_id\": 1,\n",
      "  \"transformers_version\": \"4.26.1\"\n",
      "}\n",
      "\n",
      "Generate config GenerationConfig {\n",
      "  \"bos_token_id\": 0,\n",
      "  \"decoder_start_token_id\": 2,\n",
      "  \"early_stopping\": true,\n",
      "  \"eos_token_id\": 2,\n",
      "  \"forced_bos_token_id\": 0,\n",
      "  \"forced_eos_token_id\": 2,\n",
      "  \"no_repeat_ngram_size\": 3,\n",
      "  \"num_beams\": 4,\n",
      "  \"pad_token_id\": 1,\n",
      "  \"transformers_version\": \"4.26.1\"\n",
      "}\n",
      "\n",
      "The following columns in the evaluation set don't have a corresponding argument in `BartForConditionalGeneration.forward` and have been ignored: review, summary, name, __index_level_0__. If review, summary, name, __index_level_0__ are not expected by `BartForConditionalGeneration.forward`,  you can safely ignore this message.\n",
      "***** Running Evaluation *****\n",
      "  Num examples = 69\n",
      "  Batch size = 16\n",
      "Generate config GenerationConfig {\n",
      "  \"bos_token_id\": 0,\n",
      "  \"decoder_start_token_id\": 2,\n",
      "  \"early_stopping\": true,\n",
      "  \"eos_token_id\": 2,\n",
      "  \"forced_bos_token_id\": 0,\n",
      "  \"forced_eos_token_id\": 2,\n",
      "  \"no_repeat_ngram_size\": 3,\n",
      "  \"num_beams\": 4,\n",
      "  \"pad_token_id\": 1,\n",
      "  \"transformers_version\": \"4.26.1\"\n",
      "}\n",
      "\n",
      "Generate config GenerationConfig {\n",
      "  \"bos_token_id\": 0,\n",
      "  \"decoder_start_token_id\": 2,\n",
      "  \"early_stopping\": true,\n",
      "  \"eos_token_id\": 2,\n",
      "  \"forced_bos_token_id\": 0,\n",
      "  \"forced_eos_token_id\": 2,\n",
      "  \"no_repeat_ngram_size\": 3,\n",
      "  \"num_beams\": 4,\n",
      "  \"pad_token_id\": 1,\n",
      "  \"transformers_version\": \"4.26.1\"\n",
      "}\n",
      "\n",
      "Generate config GenerationConfig {\n",
      "  \"bos_token_id\": 0,\n",
      "  \"decoder_start_token_id\": 2,\n",
      "  \"early_stopping\": true,\n",
      "  \"eos_token_id\": 2,\n",
      "  \"forced_bos_token_id\": 0,\n",
      "  \"forced_eos_token_id\": 2,\n",
      "  \"no_repeat_ngram_size\": 3,\n",
      "  \"num_beams\": 4,\n",
      "  \"pad_token_id\": 1,\n",
      "  \"transformers_version\": \"4.26.1\"\n",
      "}\n",
      "\n",
      "Generate config GenerationConfig {\n",
      "  \"bos_token_id\": 0,\n",
      "  \"decoder_start_token_id\": 2,\n",
      "  \"early_stopping\": true,\n",
      "  \"eos_token_id\": 2,\n",
      "  \"forced_bos_token_id\": 0,\n",
      "  \"forced_eos_token_id\": 2,\n",
      "  \"no_repeat_ngram_size\": 3,\n",
      "  \"num_beams\": 4,\n",
      "  \"pad_token_id\": 1,\n",
      "  \"transformers_version\": \"4.26.1\"\n",
      "}\n",
      "\n",
      "Generate config GenerationConfig {\n",
      "  \"bos_token_id\": 0,\n",
      "  \"decoder_start_token_id\": 2,\n",
      "  \"early_stopping\": true,\n",
      "  \"eos_token_id\": 2,\n",
      "  \"forced_bos_token_id\": 0,\n",
      "  \"forced_eos_token_id\": 2,\n",
      "  \"no_repeat_ngram_size\": 3,\n",
      "  \"num_beams\": 4,\n",
      "  \"pad_token_id\": 1,\n",
      "  \"transformers_version\": \"4.26.1\"\n",
      "}\n",
      "\n",
      "The following columns in the evaluation set don't have a corresponding argument in `BartForConditionalGeneration.forward` and have been ignored: review, summary, name, __index_level_0__. If review, summary, name, __index_level_0__ are not expected by `BartForConditionalGeneration.forward`,  you can safely ignore this message.\n",
      "***** Running Evaluation *****\n",
      "  Num examples = 69\n",
      "  Batch size = 16\n",
      "Generate config GenerationConfig {\n",
      "  \"bos_token_id\": 0,\n",
      "  \"decoder_start_token_id\": 2,\n",
      "  \"early_stopping\": true,\n",
      "  \"eos_token_id\": 2,\n",
      "  \"forced_bos_token_id\": 0,\n",
      "  \"forced_eos_token_id\": 2,\n",
      "  \"no_repeat_ngram_size\": 3,\n",
      "  \"num_beams\": 4,\n",
      "  \"pad_token_id\": 1,\n",
      "  \"transformers_version\": \"4.26.1\"\n",
      "}\n",
      "\n",
      "Generate config GenerationConfig {\n",
      "  \"bos_token_id\": 0,\n",
      "  \"decoder_start_token_id\": 2,\n",
      "  \"early_stopping\": true,\n",
      "  \"eos_token_id\": 2,\n",
      "  \"forced_bos_token_id\": 0,\n",
      "  \"forced_eos_token_id\": 2,\n",
      "  \"no_repeat_ngram_size\": 3,\n",
      "  \"num_beams\": 4,\n",
      "  \"pad_token_id\": 1,\n",
      "  \"transformers_version\": \"4.26.1\"\n",
      "}\n",
      "\n",
      "Generate config GenerationConfig {\n",
      "  \"bos_token_id\": 0,\n",
      "  \"decoder_start_token_id\": 2,\n",
      "  \"early_stopping\": true,\n",
      "  \"eos_token_id\": 2,\n",
      "  \"forced_bos_token_id\": 0,\n",
      "  \"forced_eos_token_id\": 2,\n",
      "  \"no_repeat_ngram_size\": 3,\n",
      "  \"num_beams\": 4,\n",
      "  \"pad_token_id\": 1,\n",
      "  \"transformers_version\": \"4.26.1\"\n",
      "}\n",
      "\n",
      "Generate config GenerationConfig {\n",
      "  \"bos_token_id\": 0,\n",
      "  \"decoder_start_token_id\": 2,\n",
      "  \"early_stopping\": true,\n",
      "  \"eos_token_id\": 2,\n",
      "  \"forced_bos_token_id\": 0,\n",
      "  \"forced_eos_token_id\": 2,\n",
      "  \"no_repeat_ngram_size\": 3,\n",
      "  \"num_beams\": 4,\n",
      "  \"pad_token_id\": 1,\n",
      "  \"transformers_version\": \"4.26.1\"\n",
      "}\n",
      "\n",
      "Generate config GenerationConfig {\n",
      "  \"bos_token_id\": 0,\n",
      "  \"decoder_start_token_id\": 2,\n",
      "  \"early_stopping\": true,\n",
      "  \"eos_token_id\": 2,\n",
      "  \"forced_bos_token_id\": 0,\n",
      "  \"forced_eos_token_id\": 2,\n",
      "  \"no_repeat_ngram_size\": 3,\n",
      "  \"num_beams\": 4,\n",
      "  \"pad_token_id\": 1,\n",
      "  \"transformers_version\": \"4.26.1\"\n",
      "}\n",
      "\n",
      "The following columns in the evaluation set don't have a corresponding argument in `BartForConditionalGeneration.forward` and have been ignored: review, summary, name, __index_level_0__. If review, summary, name, __index_level_0__ are not expected by `BartForConditionalGeneration.forward`,  you can safely ignore this message.\n",
      "***** Running Evaluation *****\n",
      "  Num examples = 69\n",
      "  Batch size = 16\n",
      "Generate config GenerationConfig {\n",
      "  \"bos_token_id\": 0,\n",
      "  \"decoder_start_token_id\": 2,\n",
      "  \"early_stopping\": true,\n",
      "  \"eos_token_id\": 2,\n",
      "  \"forced_bos_token_id\": 0,\n",
      "  \"forced_eos_token_id\": 2,\n",
      "  \"no_repeat_ngram_size\": 3,\n",
      "  \"num_beams\": 4,\n",
      "  \"pad_token_id\": 1,\n",
      "  \"transformers_version\": \"4.26.1\"\n",
      "}\n",
      "\n",
      "Generate config GenerationConfig {\n",
      "  \"bos_token_id\": 0,\n",
      "  \"decoder_start_token_id\": 2,\n",
      "  \"early_stopping\": true,\n",
      "  \"eos_token_id\": 2,\n",
      "  \"forced_bos_token_id\": 0,\n",
      "  \"forced_eos_token_id\": 2,\n",
      "  \"no_repeat_ngram_size\": 3,\n",
      "  \"num_beams\": 4,\n",
      "  \"pad_token_id\": 1,\n",
      "  \"transformers_version\": \"4.26.1\"\n",
      "}\n",
      "\n",
      "Generate config GenerationConfig {\n",
      "  \"bos_token_id\": 0,\n",
      "  \"decoder_start_token_id\": 2,\n",
      "  \"early_stopping\": true,\n",
      "  \"eos_token_id\": 2,\n",
      "  \"forced_bos_token_id\": 0,\n",
      "  \"forced_eos_token_id\": 2,\n",
      "  \"no_repeat_ngram_size\": 3,\n",
      "  \"num_beams\": 4,\n",
      "  \"pad_token_id\": 1,\n",
      "  \"transformers_version\": \"4.26.1\"\n",
      "}\n",
      "\n",
      "Generate config GenerationConfig {\n",
      "  \"bos_token_id\": 0,\n",
      "  \"decoder_start_token_id\": 2,\n",
      "  \"early_stopping\": true,\n",
      "  \"eos_token_id\": 2,\n",
      "  \"forced_bos_token_id\": 0,\n",
      "  \"forced_eos_token_id\": 2,\n",
      "  \"no_repeat_ngram_size\": 3,\n",
      "  \"num_beams\": 4,\n",
      "  \"pad_token_id\": 1,\n",
      "  \"transformers_version\": \"4.26.1\"\n",
      "}\n",
      "\n",
      "Generate config GenerationConfig {\n",
      "  \"bos_token_id\": 0,\n",
      "  \"decoder_start_token_id\": 2,\n",
      "  \"early_stopping\": true,\n",
      "  \"eos_token_id\": 2,\n",
      "  \"forced_bos_token_id\": 0,\n",
      "  \"forced_eos_token_id\": 2,\n",
      "  \"no_repeat_ngram_size\": 3,\n",
      "  \"num_beams\": 4,\n",
      "  \"pad_token_id\": 1,\n",
      "  \"transformers_version\": \"4.26.1\"\n",
      "}\n",
      "\n",
      "\n",
      "\n",
      "Training completed. Do not forget to share your model on huggingface.co/models =)\n",
      "\n",
      "\n"
     ]
    },
    {
     "data": {
      "text/plain": [
       "TrainOutput(global_step=72, training_loss=2.5621821085611978, metrics={'train_runtime': 5177.4771, 'train_samples_per_second': 0.212, 'train_steps_per_second': 0.014, 'total_flos': 670710104064000.0, 'train_loss': 2.5621821085611978, 'epoch': 4.0})"
      ]
     },
     "execution_count": 38,
     "metadata": {},
     "output_type": "execute_result"
    }
   ],
   "source": [
    "training_args = Seq2SeqTrainingArguments(\n",
    "    output_dir=\"generative_model\",\n",
    "    evaluation_strategy=\"epoch\",\n",
    "    learning_rate=2e-5,\n",
    "    per_device_train_batch_size=16,\n",
    "    per_device_eval_batch_size=16,\n",
    "    weight_decay=0.01,\n",
    "    save_total_limit=3,\n",
    "    num_train_epochs=4,\n",
    "    predict_with_generate=True\n",
    ")\n",
    "\n",
    "trainer = Seq2SeqTrainer(\n",
    "    model=model,\n",
    "    args=training_args,\n",
    "    train_dataset=tokenized_dataset[\"train\"],\n",
    "    eval_dataset=tokenized_dataset[\"test\"],\n",
    "    tokenizer=tokenizer,\n",
    "    data_collator=data_collator,\n",
    "    compute_metrics=compute_metrics,\n",
    ")\n",
    "\n",
    "trainer.train()"
   ]
  },
  {
   "cell_type": "code",
   "execution_count": 56,
   "id": "f6621bd0",
   "metadata": {},
   "outputs": [
    {
     "name": "stderr",
     "output_type": "stream",
     "text": [
      "The following columns in the evaluation set don't have a corresponding argument in `BartForConditionalGeneration.forward` and have been ignored: review, summary, name, __index_level_0__. If review, summary, name, __index_level_0__ are not expected by `BartForConditionalGeneration.forward`,  you can safely ignore this message.\n",
      "***** Running Evaluation *****\n",
      "  Num examples = 69\n",
      "  Batch size = 16\n",
      "Generate config GenerationConfig {\n",
      "  \"bos_token_id\": 0,\n",
      "  \"decoder_start_token_id\": 2,\n",
      "  \"early_stopping\": true,\n",
      "  \"eos_token_id\": 2,\n",
      "  \"forced_bos_token_id\": 0,\n",
      "  \"forced_eos_token_id\": 2,\n",
      "  \"no_repeat_ngram_size\": 3,\n",
      "  \"num_beams\": 4,\n",
      "  \"pad_token_id\": 1,\n",
      "  \"transformers_version\": \"4.26.1\"\n",
      "}\n",
      "\n"
     ]
    },
    {
     "data": {
      "text/html": [
       "\n",
       "    <div>\n",
       "      \n",
       "      <progress value='5' max='5' style='width:300px; height:20px; vertical-align: middle;'></progress>\n",
       "      [5/5 02:12]\n",
       "    </div>\n",
       "    "
      ],
      "text/plain": [
       "<IPython.core.display.HTML object>"
      ]
     },
     "metadata": {},
     "output_type": "display_data"
    },
    {
     "name": "stderr",
     "output_type": "stream",
     "text": [
      "Generate config GenerationConfig {\n",
      "  \"bos_token_id\": 0,\n",
      "  \"decoder_start_token_id\": 2,\n",
      "  \"early_stopping\": true,\n",
      "  \"eos_token_id\": 2,\n",
      "  \"forced_bos_token_id\": 0,\n",
      "  \"forced_eos_token_id\": 2,\n",
      "  \"no_repeat_ngram_size\": 3,\n",
      "  \"num_beams\": 4,\n",
      "  \"pad_token_id\": 1,\n",
      "  \"transformers_version\": \"4.26.1\"\n",
      "}\n",
      "\n",
      "Generate config GenerationConfig {\n",
      "  \"bos_token_id\": 0,\n",
      "  \"decoder_start_token_id\": 2,\n",
      "  \"early_stopping\": true,\n",
      "  \"eos_token_id\": 2,\n",
      "  \"forced_bos_token_id\": 0,\n",
      "  \"forced_eos_token_id\": 2,\n",
      "  \"no_repeat_ngram_size\": 3,\n",
      "  \"num_beams\": 4,\n",
      "  \"pad_token_id\": 1,\n",
      "  \"transformers_version\": \"4.26.1\"\n",
      "}\n",
      "\n",
      "Generate config GenerationConfig {\n",
      "  \"bos_token_id\": 0,\n",
      "  \"decoder_start_token_id\": 2,\n",
      "  \"early_stopping\": true,\n",
      "  \"eos_token_id\": 2,\n",
      "  \"forced_bos_token_id\": 0,\n",
      "  \"forced_eos_token_id\": 2,\n",
      "  \"no_repeat_ngram_size\": 3,\n",
      "  \"num_beams\": 4,\n",
      "  \"pad_token_id\": 1,\n",
      "  \"transformers_version\": \"4.26.1\"\n",
      "}\n",
      "\n",
      "Generate config GenerationConfig {\n",
      "  \"bos_token_id\": 0,\n",
      "  \"decoder_start_token_id\": 2,\n",
      "  \"early_stopping\": true,\n",
      "  \"eos_token_id\": 2,\n",
      "  \"forced_bos_token_id\": 0,\n",
      "  \"forced_eos_token_id\": 2,\n",
      "  \"no_repeat_ngram_size\": 3,\n",
      "  \"num_beams\": 4,\n",
      "  \"pad_token_id\": 1,\n",
      "  \"transformers_version\": \"4.26.1\"\n",
      "}\n",
      "\n"
     ]
    }
   ],
   "source": [
    "eval_metrics = trainer.evaluate()"
   ]
  },
  {
   "cell_type": "code",
   "execution_count": 57,
   "id": "bd7b6756",
   "metadata": {},
   "outputs": [
    {
     "data": {
      "text/plain": [
       "{'eval_loss': 2.078477382659912,\n",
       " 'eval_rouge1': 0.2021,\n",
       " 'eval_rouge2': 0.0976,\n",
       " 'eval_rougeL': 0.1704,\n",
       " 'eval_rougeLsum': 0.1705,\n",
       " 'eval_gen_len': 20.0,\n",
       " 'eval_runtime': 179.0687,\n",
       " 'eval_samples_per_second': 0.385,\n",
       " 'eval_steps_per_second': 0.028,\n",
       " 'epoch': 4.0}"
      ]
     },
     "execution_count": 57,
     "metadata": {},
     "output_type": "execute_result"
    }
   ],
   "source": [
    "eval_metrics"
   ]
  },
  {
   "cell_type": "code",
   "execution_count": 39,
   "id": "909f1dd7",
   "metadata": {},
   "outputs": [],
   "source": [
    "tuned_model = trainer.model"
   ]
  },
  {
   "cell_type": "code",
   "execution_count": 59,
   "id": "441d1b29",
   "metadata": {},
   "outputs": [],
   "source": [
    "input_ = dataset['test']['review'][-2]"
   ]
  },
  {
   "cell_type": "code",
   "execution_count": 60,
   "id": "3e38d2aa",
   "metadata": {},
   "outputs": [],
   "source": [
    "encoded = tokenizer.encode(input_,return_tensors='pt',max_length=1024)"
   ]
  },
  {
   "cell_type": "code",
   "execution_count": 56,
   "id": "2218e665",
   "metadata": {},
   "outputs": [
    {
     "data": {
      "text/html": [
       "<div>\n",
       "<style scoped>\n",
       "    .dataframe tbody tr th:only-of-type {\n",
       "        vertical-align: middle;\n",
       "    }\n",
       "\n",
       "    .dataframe tbody tr th {\n",
       "        vertical-align: top;\n",
       "    }\n",
       "\n",
       "    .dataframe thead th {\n",
       "        text-align: right;\n",
       "    }\n",
       "</style>\n",
       "<table border=\"1\" class=\"dataframe\">\n",
       "  <thead>\n",
       "    <tr style=\"text-align: right;\">\n",
       "      <th></th>\n",
       "      <th>0</th>\n",
       "    </tr>\n",
       "  </thead>\n",
       "  <tbody>\n",
       "    <tr>\n",
       "      <th>eval_loss</th>\n",
       "      <td>2.078477</td>\n",
       "    </tr>\n",
       "    <tr>\n",
       "      <th>eval_rouge1</th>\n",
       "      <td>0.202100</td>\n",
       "    </tr>\n",
       "    <tr>\n",
       "      <th>eval_rouge2</th>\n",
       "      <td>0.097600</td>\n",
       "    </tr>\n",
       "    <tr>\n",
       "      <th>eval_rougeL</th>\n",
       "      <td>0.170400</td>\n",
       "    </tr>\n",
       "    <tr>\n",
       "      <th>eval_rougeLsum</th>\n",
       "      <td>0.170500</td>\n",
       "    </tr>\n",
       "    <tr>\n",
       "      <th>eval_gen_len</th>\n",
       "      <td>20.000000</td>\n",
       "    </tr>\n",
       "    <tr>\n",
       "      <th>eval_runtime</th>\n",
       "      <td>179.068700</td>\n",
       "    </tr>\n",
       "    <tr>\n",
       "      <th>eval_samples_per_second</th>\n",
       "      <td>0.385000</td>\n",
       "    </tr>\n",
       "    <tr>\n",
       "      <th>eval_steps_per_second</th>\n",
       "      <td>0.028000</td>\n",
       "    </tr>\n",
       "    <tr>\n",
       "      <th>epoch</th>\n",
       "      <td>4.000000</td>\n",
       "    </tr>\n",
       "  </tbody>\n",
       "</table>\n",
       "</div>"
      ],
      "text/plain": [
       "                                  0\n",
       "eval_loss                  2.078477\n",
       "eval_rouge1                0.202100\n",
       "eval_rouge2                0.097600\n",
       "eval_rougeL                0.170400\n",
       "eval_rougeLsum             0.170500\n",
       "eval_gen_len              20.000000\n",
       "eval_runtime             179.068700\n",
       "eval_samples_per_second    0.385000\n",
       "eval_steps_per_second      0.028000\n",
       "epoch                      4.000000"
      ]
     },
     "execution_count": 56,
     "metadata": {},
     "output_type": "execute_result"
    }
   ],
   "source": []
  },
  {
   "cell_type": "code",
   "execution_count": 62,
   "id": "25de62c2",
   "metadata": {},
   "outputs": [
    {
     "name": "stderr",
     "output_type": "stream",
     "text": [
      "Generate config GenerationConfig {\n",
      "  \"bos_token_id\": 0,\n",
      "  \"decoder_start_token_id\": 2,\n",
      "  \"early_stopping\": true,\n",
      "  \"eos_token_id\": 2,\n",
      "  \"forced_bos_token_id\": 0,\n",
      "  \"forced_eos_token_id\": 2,\n",
      "  \"no_repeat_ngram_size\": 3,\n",
      "  \"num_beams\": 4,\n",
      "  \"pad_token_id\": 1,\n",
      "  \"transformers_version\": \"4.26.1\"\n",
      "}\n",
      "\n"
     ]
    }
   ],
   "source": [
    "output = tuned_model.generate(input_ids=encoded,max_length=150)"
   ]
  },
  {
   "cell_type": "code",
   "execution_count": 63,
   "id": "3ac4df48",
   "metadata": {},
   "outputs": [
    {
     "data": {
      "text/plain": [
       "'</s><s>Dungeness crab pave, spiced mayonnaise - Dungeness Crab pave is a delicious dessert with a California flair. The restaurant is located on the 2nd floor with tables and a bar area. However, the waiters are not organized and disorganized. The food is mediocre, but the service is excellent. The staff is friendly and attentive, and the atmosphere is convivial. Overall, the restaurant is a must-visit.</s>'"
      ]
     },
     "execution_count": 63,
     "metadata": {},
     "output_type": "execute_result"
    }
   ],
   "source": [
    "tokenizer.decode(output[0])"
   ]
  },
  {
   "cell_type": "code",
   "execution_count": 64,
   "id": "a39eda6c",
   "metadata": {},
   "outputs": [
    {
     "data": {
      "text/plain": [
       "'Routier'"
      ]
     },
     "execution_count": 64,
     "metadata": {},
     "output_type": "execute_result"
    }
   ],
   "source": [
    " dataset['test']['summary'][-2]"
   ]
  },
  {
   "cell_type": "code",
   "execution_count": 53,
   "id": "fc25d41a",
   "metadata": {
    "scrolled": true
   },
   "outputs": [
    {
     "data": {
      "text/plain": [
       "\" Good breakfast place. Tried Millionaire bacon which was super tasty! South of the border was really good and the potato was crispy and yummy tasting. The pancakes were super good! The OJ was fresh but not the best probably the only thing we didn't like as much. Service was fast staff was very attentive. Parking wasn't too basic we found one right away. Overall it was a good restaurant would definitely reccomend.,i've always wanted to come here but there's alwayyyys a long line!! but i got very lucky coming here on a random thursday after a doctors appointment :) i got the pimped shin cup bop and it was so good. It's also a great amount of food so i took it to go and my leftovers were just as delish. so happy i got to come here. the only thing i wasn't a fan of was the candy bacon we got-- but everything else outweighed it. will definitely come back!,Absolutely great brunch spot in San Francisco! I've had this spot several times, and it consistently delivers each time. They usually have a wait on weekend, but it moves relatively quickly. I was there last weekend on a Sunday at around 1 pm for a party of 4, and we were seated within about 15 minutes. They do require the whole party to be seated. The dishes here are delicious! I've ordered the Pimped Shin Cupbop before and the SM Omurice. Both are definitely unique dishes. The cupbop is basically fried rice with an egg and bacon, but the presentation is very unique. The omurice is pretty delicious! A fluffy egg with fried rice. Both are very filling dishes - last time, I had plenty of food left over. They're famous for their Millionaire's Bacon, so definitely give it a try if you haven't! It's very flavorful and different from typical bacon. Overall would definitely recommend Sweet Maple, especially to impress a friend out of town. They do have a bottomless brunch deal, and is a delicious spot!,I've heard of the crazy lines during the weekends, so my friend and I opted to come on a Friday morning around 11am, and we were seated at the last open table, so it'd be hard to get seated for larger parties. They're known for their millionaires bacon, but my friend is a vegetarian so I knew I wouldn't be able to finish it. Instead, I ordered their Blackstone Benedict, because they use a piece of millionaires bacon in it. It was amazing. My vegetarian friend said his vegetarian omelet was just okay and was a bit overpriced, so maybe not the best vegetarian option for omelets here?,I was in San Francisco for a 3 night trip and we came here for brunch twice! So glad I found this on Yelp because it's a gem! Their candied bacon is spectacular. On the first day we got the Blackstone Benedict's and the Big Hip (deep fried French toast). Both soooooo good. The Big Hip was my favorite. Crunchy on the outside and soft on the inside. Definitely recommend getting that! It's a good choice to share with the table. Our second day I got the Millionare's Melt. My friends got an omelette and Pimped Shin Cupbop. & we got the Big Hip to share, bc it was just that good! Loved the Millionaire's Melt. It was a perfect mix of sweet & savory. It comes with a salad or fries.This will be a mandatory stop on my next trip to San Francisco! Service was fast and always friendly. Great environment.,Awesome brunch options, excellent service. You can't go wrong with anything on the menu, but my favorite was the Shin Cupbop. Bottomless brunch is worth it and there are plenty of flavors, including pink lemonade which I don't usually see! There isn't an online waitlist, but rather a physical line. So get there early.,Is the long line worth it? YES! Everything about this place was great! I do suggest going early or during middle of meal times like in between lunch-dinner. Here's what we ordered BlackstoneBig HipBulgogiFriscoHemingwayMillionaire's Bacon sampler Savory - egg souffl√© The coconut cream latte was great too! The service was attentive and really great - regardless of how insanely busy they were! Yes the line is long - but the food is worth it. They don't take reservations and everyone just stands in a line so it can be a long wait. I've come here a few times as well as taken people from out of town here and they all loved it! Excited for their new location!,I usually order to go because of the wait time but today I dined in since there was no line. Here was the experience:- Marnier with Banana and Walnuts ($18) : Moist French toast with strawberries and syrup. I ordered this with banana and walnut for an additional $4. Highly recommend this as a combo - Blackstone ($25) : 2 eggs, millionaire's bacon, potatoes, English muffin, asparagus .. this was good and my first time trying millionaire's bacon. It reminded me of jerky but it was good with the sauce. The eggs were the perfect bite with the asparagus and sauce. - Strawberry Milky ($7) : I thought this was a milkshake and by the way I saw the photo they advertised, the red you see are NOT strawberries and are candy. This was disappointing and seems more of a treat for kids. There's zero strawberries and extremely sweet and sugary. I DO NOT recommend this item... it's better to stick with your water lol.The food was great aside from the drink. I'm giving 3 stars because our server in the beginning was rude. I thought it was her accent so I didn't mind but turns out it's her unnecessary attitude. She kept on rushing us multiple times to order our food when we've just sat down. I believe she ended up going on break cause I didn't see the server anymore and someone else took over. Everyone else was very nice. Unfortunately her rudeness ruined our dining experience so I recommend avoiding her or take your food to go.,Wow. I love San Francisco brunch. And this place is definitely in the top tier! Special mention: the millionaire's bacon. Glazed and thick cut and oh-so-good. I got the Blackstone Eggs Benedict and shared the Swedish pancakes with a friend (we were both ravenous). The eggs were absolutely delicious!!! Came with the millionaire's bacon, asparagus, and cherry tomatoes; so many flavors, textures, wow. And it came with a colorful set of roasted potatoes, which were also quite yummy. A feast for the eyes as much as for the stomach, I'd order it again in a heartbeat; a true delight to eat. The pancakes were underwhelming, though. They were thin and spongey, and a bit bland. Had to soak them in the maple syrup and butter to make them taste good. Another small point; both the table and my water cup were not entirely clean. But easily remedied!,Another 5-star review for the Sweet Maple family of restaurants. I was in SF with a couple of girlfriends who hd not tried any of the Sweet Maple restaurants and wanted them to try it. I was thrilled to see how much they loved the experience.Got there around 1:30PM on a Sunday and there were about 10 people ahead of us. It took about 15 minutes to get seated. Not bad at all...This location is spacious and has a beautiful comfortable setting inside. ¬†We started with our wonderful match and coffee orders, followed by salmon Benedict, pizza and Grand Marniere French toast. Of course you can't come here without trying the millionaire's Bacon. Everything was absolutely delicious, flavorful and unique... just couldn't stop stuffing ourselves. It was absolutely delicious!!!Just keep in mind for larger parties, they only accept two credit cards to split the bill.,The Blackstone (asparagus eggs Benedict with millionaires bacon) was incredible. Their portions are large enough for two people. The food was prepared very quickly, but be prepared to wait in line to be seated. All the items on the menu look delicious.,The service in this restaurant was excellent. I would give it 5 stars for that. We had a party of 6, which can be relatively large in a small and crowded setting, but we were sat down in 15 minutes or less. A few groups of 2 went ahead of us, but obviously that was no problem since there are lots of smaller tables and less large ones. Because it was so crowded, it was insanely noisy. I could barely hear the waiter, who has a soft voice, and it was hard to make conversation without talking very loudly. The food was not only expensive, but it wasn't extraordinary. It seems like a lot of people go here for the bacon, which most of my family doesn't eat pork. The one who did get pork sausage said it had an odd taste. I got the deep fried French toast, which was actually a deep fried pancake it seems. Tasted kinda like a funnel cake, which is fine. Another person in our party got a coconut coffee, which ended up being $9. Kind of ridiculous considering it was just a small mug containing a latte. With taxes, and automatic 20% gratuity, our meal ended up being $214. I don't eat out in larger cities much, so maybe I'm just delusional, but that seems like an awful lot for just breakfast food. Nothing here was bad by any means, so I would give it a chance and see what you think.,came here for breakfast with a few friends, got in around 9 so we were seated immediately. I ordered the Frisco Scramble, pretty standard but solid egg scramble with cheese, mushrooms and chicken sausage. We also shared the blueberry mochi waffle - loved this one!!\""
      ]
     },
     "execution_count": 53,
     "metadata": {},
     "output_type": "execute_result"
    }
   ],
   "source": [
    " dataset['test']['review'][-1]"
   ]
  },
  {
   "cell_type": "code",
   "execution_count": 57,
   "id": "87cc8dd0",
   "metadata": {},
   "outputs": [
    {
     "data": {
      "text/plain": [
       "'</s><s>Alnico is a Vietnamese restaurant in San Francisco that serves delicious Vietnamese coffee with Ube Foam. The food and drinks are delicious, but the price is reasonable for everything that comes with the ube flavored stuff. The restaurant is located on Hill St. and has outdoor seating available and doggo friendly seating. The service is good and the food is good. However, the price can be high for a weekend brunch.</s>'"
      ]
     },
     "execution_count": 57,
     "metadata": {},
     "output_type": "execute_result"
    }
   ],
   "source": [
    "tokenizer.decode(output[0])"
   ]
  },
  {
   "cell_type": "code",
   "execution_count": 63,
   "id": "d80358c4",
   "metadata": {
    "scrolled": true
   },
   "outputs": [
    {
     "data": {
      "text/plain": [
       "'use the following opinions of the restaurant reviews to create a 50 word summary: \\n The very definition of a hidden gem.I found this place on Yelp and my friend made a reservation for 6 people (they DID require a \"deposit\")This place has limited indoor seating due to the super cool 2 story layout. Kinda a small dining room on main level, then a balcony of seats on floor 2 that surrounds the dining room on 2 sides. ¬†Our table of 6 was all by itself on the right upper level- so perfect for us to all catch up with each other.Our FANTASTIC waiter Frederick was friendly and attentive, I wanted a lot of ice, he brought us 2 pitchers of ice! We ordered drinks (note that due to them only have a wine/beer license, their \"cocktails\" are made with low-proof rum or vodka.)We ordered some fried okra and some corn muffins to start and share. ¬†The okra comes with a snappy dipping sauce. (Note the corn muffins are pretty small).I ordered the fried chicken (leg and thigh) with Jambalaya and the collard greens. My man had the short ribs with red beans and rice and cream cheese grits. ¬†Both entrees were heaven, but the fried chicken is one of the top 5 fried chicken dinners in SF. Very crispy and not greasy.For dessert we split all three dessert offerings: a steamed white chocolate bread pudding, pecan pie and the beignets. ¬†Of the 3 we all enjoyed the bread pudding the most.Note there is a $26 lunch special we all agreed we wanted to come back for - which includes an appetizer a entree and a dessert. (If I am remembering correctly),I really wanted to like this pace. We are in need of good creole cuisine. Unfortunately they were having a private party that night. We sat outside, but I think you miss out of the experience. The smells of all the food. The feel of the place. All missing. The food looked alright, but lacked the outstanding taste.I had the shrimp and grits. I normally love this dish. This just didn\\'t grab me. My friend had the Shrimp & Crawfish √âtouff√©e that was slightly better.The cornbread was wonderful! I could have eaten a whole plate of these! And it didn\\'t even need the extra butter, yum!,I enjoyed the vibes of this place. It was decorated nicely for the holiday season.The food was decent. I\\'m not sure if anything stood out so much that would make me come back. Fried okra appetizer was good, great plate to share. The shrimp Po boy was decent. The portion was pretty large, and I only had half and took the rest to go. And it comes with a side salad which is nice. Overall, the mains were good, but not great. Beignets with a salted caramel sauce and the bread pudding were both great dessert options. I would recommend these.,Def worth heading into Cole Valley for this gem of a restaurant. We were sat upstairs and enjoyed it. They currently have cute holiday decorations. The service was fantastic. Our server Julian was incredibly attentive and accommodating. Really appreciated that he asked for food allergies right at the beginning. The food was great. Our table shared the fried okra, hush puppies, and boudin balls--all were tasty. I had the short ribs with collard greens and creamy grits. Highly recommend. For dessert with the bread pudding and beignets--would also highly recommend. ¬†The only thing worth nothing was the restaurant was bit smoky inside and a few us needed a moment to stop coughing.,Meh? It was nice to come here at least once, but I wouldn\\'t come back for any dish or side. We had the boudin balls, fried okra, braised short rib, gumbo, shrimp and crawfish etouffee, and fried chicken to share between the three of us. Highlights - service was fantastic, the ambiance reminded us of NOLA, and the etouffee was seasoned and cooked very well. Things that we\\'d pass on if we came back - the boudin balls didn\\'t have much flavor, the gumbo was extremely briny, and the short rib didn\\'t come out as tender as we would have liked. For the price point, we were also expected some larger portions, but it is what it is. We would opt for a different creole restaurant the next time around.,Came here with my friends for lunch during the SF Restaurant week. It\\'s a cute little restaurant at the corner of the intersection. There were still quite a few people there at 1pm on a Saturday. I got the seafood gumbo as my appetizer and the shrimp & crawfish etouffee as my entree. The pre fix menu included a piece of beignet as dessert. Seafood gumbo - I\\'ve had better. There weren\\'t much of that Cajun kick. Shrimp & crawfish etouffee - my first time trying etouffee so I don\\'t have anything to compare it with. The stew/sauce it came with was on the sweet side. It was decent, but not mind blowing. The corn bread (?) it came with was pretty good though. Beignet - my first time having a fresh beignet. It was soooo good. Perfect sweetness & texture. I loved the sugar powder they used too, but that was prob just genetic powder lol. Overall, 3.5 stars. I wouldn\\'t go out of my way to come here, but if you\\'re in this area and craving dessert, I\\'d recommend giving their beignet a try. Rounding it up to 4 stars for the cornbread and beignet.,Love this bright corner spot serving up elevated Nola cuisine! Really cute space, would be a great spot for a private party. Fantastic chicken jambalaya - I\\'ve never had the pleasure of a whole piece of chicken in my jambalaya let alone one soooo juicy. Friend got the mushroom jambalaya which looked good too, and she cleaned her plate. We tried the boudin balls (delish - and yes you can taste the liver) and oyster brochettes, both of which I\\'d recommend. Was a little meh on the hush puppies (give me more corn!) and beignets (I expected lighter - these were quite dense). Then the fried okra was maybe just a little too much fried food with remoulade you know? Staff was lovely and really busy. FYI they do charge you a deposit for reservations so make sure they subtract that from your final bill!,I went for SF restaurant week and got their lunch menu. I often find that SF restaurant week is really worth it. Usually it\\'s smaller portions, or the same food bundled together into a pre fixe menu and more expensive. I had previously been to CreoLa and really enjoyed their food so I decided to visit again.I got the cornmeal crusted catfish, which comes with two sides. The catfish pieces were huge. The crust was perfectly intact and wasn\\'t soggy. It didn\\'t feel greasy either even though it was deep fried. Highly recommend order this.The beignet was fresh and hot. More doughy than other beignets that I\\'ve had, but still good.The vegan soup was the most disappointing because it was just black eyed peas and green beans (which I ordered for my sides). Nothing special about it.The service was pretty good. We were seated on the second floor and the staff would come and check in on us from time to time.The restaurant itself is very cute and definitely had some New Orleans vibes. If they played jazz music that\\'s be the cherry on top.,CreoLa was a beautiful splash of color and flavor in the middle of the workweek, when I visited SF in July. It\\'s one of the *few* times where I\\'ll admit that my environment was so comfortable and rich (piano music, large windows for people-watching) that I didn\\'t mind the speed of service---mind you, it wasn\\'t slow, but it wasn\\'t speedy. However, this is likely due to the fact that the food is made with ingredients that are quality, and taste+feel incredibly fresh. I definitely got the sense that my food was made to order.Be on the lookout for lunch specials that allow you to sample a bit of everything. I definitely could have done that (eg. that day, they were serving pre fixe lunched with your choice of entree). I opted for a gorgeous catfish po\\'boy, because that Cajun-style fish is so flavorful. Perfectly crispy, sandwiched between perfectly soft and buttery French bread. The kind you expect to cut into your mouth, but this one didn\\'t. I also shared in the Cajun jambalaya, and just look at that color. Spicy, salty, right where my heart needed to be that afternoon.But despite the generous portions, we always have room for fresh beignets with caramel sauce. From the entrees to the piping-hot pastries, CreoLa was dripping with decadence and sheer experience. Definitely give it a try, and always leave room for dessert.,Food was 4/5 stars but the ambiance and service knocked it to a 5. Such a cute little place that transports you out of SF with the jazz music and interior design! The seafood it came with was cooked well; and the dishes were solid. We got the gumbo, fried okra, crawfish and shrimp etouffe, green beans with shaved garlic and side of cornbread. I liked all the dishes but would say it didn\\'t blow my mind. But I really appreciated the server who was so kind and checked up on us at all the right times.,I\\'m impressed. CreoLa\\'s cute interior sets the stage for the amazing meal you are about to have. They have nailed cooked chicken. My chicken jumbalaya was so incredibly moist and flavorful. We even started our meals with a bene and coffee for an affordable $6! CreoLa is great for a casual brunch and also a nice dinner out. Since it\\'s located right next to the park, you can take a walk after to burn off the calories from your delicious meal.'"
      ]
     },
     "execution_count": 63,
     "metadata": {},
     "output_type": "execute_result"
    }
   ],
   "source": [
    " dataset['test']['review'][2]"
   ]
  },
  {
   "cell_type": "code",
   "execution_count": 25,
   "id": "68e5fdeb",
   "metadata": {},
   "outputs": [],
   "source": [
    "test = tokenized_dataset['test']['input_ids'][0]"
   ]
  },
  {
   "cell_type": "code",
   "execution_count": null,
   "id": "4718f61e",
   "metadata": {},
   "outputs": [],
   "source": [
    "tokenizer = AutoTokenizer.from_pretrained('allenai/PRIMERA')\n",
    "tokenizer.model_max_length"
   ]
  },
  {
   "cell_type": "code",
   "execution_count": null,
   "id": "e4603ec3",
   "metadata": {
    "scrolled": true
   },
   "outputs": [],
   "source": [
    "tokenizer = AutoTokenizer.from_pretrained('allenai/led-large-16384')\n",
    "tokenizer.model_max_length"
   ]
  },
  {
   "cell_type": "code",
   "execution_count": null,
   "id": "120a6dea",
   "metadata": {},
   "outputs": [],
   "source": [
    "tokenizer = AutoTokenizer.from_pretrained('facebook/bart-large')\n",
    "tokenizer.model_max_length"
   ]
  },
  {
   "cell_type": "code",
   "execution_count": null,
   "id": "0f955847",
   "metadata": {
    "scrolled": true
   },
   "outputs": [],
   "source": [
    "\n",
    "tokenizer = AutoTokenizer.from_pretrained('google/pegasus-large')\n",
    "# model = GPT2Model.from_pretrained('gpt2')\n",
    "# text = \"Replace me by any text you'd like.\"\n",
    "# encoded_input = tokenizer(text, return_tensors='pt')\n",
    "# output = model(**encoded_input)\n",
    "tokenizer.model_max_length"
   ]
  },
  {
   "cell_type": "code",
   "execution_count": null,
   "id": "25fd25e5",
   "metadata": {},
   "outputs": [],
   "source": []
  }
 ],
 "metadata": {
  "kernelspec": {
   "display_name": "Python 3 (ipykernel)",
   "language": "python",
   "name": "python3"
  },
  "language_info": {
   "codemirror_mode": {
    "name": "ipython",
    "version": 3
   },
   "file_extension": ".py",
   "mimetype": "text/x-python",
   "name": "python",
   "nbconvert_exporter": "python",
   "pygments_lexer": "ipython3",
   "version": "3.9.16"
  }
 },
 "nbformat": 4,
 "nbformat_minor": 5
}
