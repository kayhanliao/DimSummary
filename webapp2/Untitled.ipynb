{
 "cells": [
  {
   "cell_type": "code",
   "execution_count": 29,
   "id": "adf29f80",
   "metadata": {},
   "outputs": [],
   "source": [
    "from yelp_scraper import *\n",
    "\n",
    "url = 'https://api.yelp.com/v3/businesses/search'\n",
    "api_key = 'Bearer CrgilvjOJW-U-DnMiyFz_xypRqtVtfL_yekfgb4Kg5xNRWe1A83s2llrJ7RxnXYa0iqT8GwTCHJZKvYMHL7CmV1zJPe0D1_jWrH8W0bMxTtR6Ufksbg5REDVrSDbY3Yx'"
   ]
  },
  {
   "cell_type": "code",
   "execution_count": 30,
   "id": "9a046efb",
   "metadata": {},
   "outputs": [],
   "source": [
    "tool = YelpScraper(url, api_key)\n",
    "revs = tool.search_single_restaurant('Daeho')"
   ]
  },
  {
   "cell_type": "code",
   "execution_count": 38,
   "id": "5b2cc12d",
   "metadata": {},
   "outputs": [
    {
     "data": {
      "text/html": [
       "<div>\n",
       "<style scoped>\n",
       "    .dataframe tbody tr th:only-of-type {\n",
       "        vertical-align: middle;\n",
       "    }\n",
       "\n",
       "    .dataframe tbody tr th {\n",
       "        vertical-align: top;\n",
       "    }\n",
       "\n",
       "    .dataframe thead th {\n",
       "        text-align: right;\n",
       "    }\n",
       "</style>\n",
       "<table border=\"1\" class=\"dataframe\">\n",
       "  <thead>\n",
       "    <tr style=\"text-align: right;\">\n",
       "      <th></th>\n",
       "      <th>review</th>\n",
       "    </tr>\n",
       "    <tr>\n",
       "      <th>review_type</th>\n",
       "      <th></th>\n",
       "    </tr>\n",
       "  </thead>\n",
       "  <tbody>\n",
       "    <tr>\n",
       "      <th>elite_rated</th>\n",
       "      <td>I got food delivery from here last night, so I...</td>\n",
       "    </tr>\n",
       "    <tr>\n",
       "      <th>low_rated</th>\n",
       "      <td>I really have no idea why at this location the...</td>\n",
       "    </tr>\n",
       "    <tr>\n",
       "      <th>newest_rated</th>\n",
       "      <td>Fun experience, cool atmosphere and delicious ...</td>\n",
       "    </tr>\n",
       "    <tr>\n",
       "      <th>top_rated</th>\n",
       "      <td>Fun experience, cool atmosphere and delicious ...</td>\n",
       "    </tr>\n",
       "  </tbody>\n",
       "</table>\n",
       "</div>"
      ],
      "text/plain": [
       "                                                         review\n",
       "review_type                                                    \n",
       "elite_rated   I got food delivery from here last night, so I...\n",
       "low_rated     I really have no idea why at this location the...\n",
       "newest_rated  Fun experience, cool atmosphere and delicious ...\n",
       "top_rated     Fun experience, cool atmosphere and delicious ..."
      ]
     },
     "execution_count": 38,
     "metadata": {},
     "output_type": "execute_result"
    }
   ],
   "source": [
    "revs.groupby('review_type').sum()"
   ]
  },
  {
   "cell_type": "code",
   "execution_count": 9,
   "id": "62815f96",
   "metadata": {},
   "outputs": [
    {
     "data": {
      "text/plain": [
       "'I really have no idea why at this location they don\\'t use the lid for the rice on the side. I went to other locations in San Mateo and Milpitas so many times so I know for sure they always use the lids to cover the bowls of rice. It looks DISGUSTING when the waiter\\'s fingers touched our rice since there were no lids to cover it. I noticed all other customers got the same thing without the lids either !!! Plus LESS meat here than other locations even I got extra meat. The bones they use in this location have less meat than other 2 locations.Avoid this establishment like the plague should you not have a cellphone. \\xa0Clearly and most obviously this place discriminates against those without a cellphone, relying as it does on its clientele to have such expensive toys. \\xa0This place has not one single solitary lone printed menu. \\xa0And there is no one - no one at all - to whom to point out this most obvious deficiency except the server, who clearly is not at all in position to address this shortcoming. \\xa0 We ended up taking our dollars somewhere else where we were significantly better treated than as the misfits/outcasts as we were at this place.The reception man was quite rude. I wrongly put my phone number as name, and he rudely asked me to remove my name and add a new one as I have been waiting for 10 mins.I was very disappointed with the quality of their take out order. I ordered kalbijjim and the meat was very hard, potatoes and rice cake are undercooked. I also received rice that went bad. Just wasted $90. I will not be going back to this location.We reserved a table for 8. When the party arrived we were told the reservation was cancelled, however they never updates us about our reservation. We decided to wait for a table even though the host was very difficult with us. She was provoking us to leave. She said we had to pre order our food and when we ordered she said they ran out of most things, including white rice. We were fed up and found a place nearby to eat. When we let the host know we wanted to cancel all she said was \"What?!\" and walked away. One of the worst customer service experiences I\\'ve ever encountered!Hello, I\\'ve just called to ask about seating and the worker who picked up was incredibly rude and told me to check wait time on Yelp. He hung up on me in the middle of me asking a follow-up question. I will never take my business to a restaurant who cannot even respectfully talk to a potential customer on a phone call. Unbelievably rude.over price tourist trapfood is mediocre portions are poor service is terrible if you want authentic Korean food this is not the oneI\\'ve eaten at Daeho several times and while inflation may be at 9%, at this place it\\'s about 35%. I\\'ve had better kalbijjim at other restaurants for less. The long wait, the attitude of the staff, and the mediocre food coupled with the outrageous prices makes this place a pass. \\xa0The quantity of meat also varies...you never know how much you\\'re going to get.We\\'ve eaten in gazillion Korean restaurants all over California and other states. I must have missed something because I really don\\'t get the high rating. We had the rib soup both the spicy and not spicy \\xa0and the braised rib. Really nothing special, but totally overpriced, not a lot of meat- potatoes and carrots yes a lot! The host is so distracted that our order was wrong, we ordered \\xa0kalbi tang, which did not arrived, we did not order extra meat and we were charged for extra meat( I\\'m not sure though if there was really extra meat in there cause there\\'s not! ) and I don\\'t know where the order of non spicy soup came from! The purple rice is not good - too dry and old. You don\\'t see anybody after they give your food, they are so busy that even if you try to get their attention it\\'s either they don\\'t hear you or just ignore you.We will not come back, not recommended!Not sure why tables were seated and orders were being taken by people in line first. \\xa0Then those seated at tables?? Confusing process'"
      ]
     },
     "execution_count": 9,
     "metadata": {},
     "output_type": "execute_result"
    }
   ],
   "source": [
    "groups = ['top_rated', 'low_rated', 'newest_rated', 'elite_rated']\n",
    "\n",
    "\n",
    "for g in groups:\n",
    "    tmp = ''\n",
    "    for x in revs[revs['review_type']==g]['review']:\n",
    "        tmp += x\n"
   ]
  },
  {
   "cell_type": "code",
   "execution_count": null,
   "id": "da5a8c6c",
   "metadata": {},
   "outputs": [],
   "source": []
  }
 ],
 "metadata": {
  "kernelspec": {
   "display_name": "Python 3 (ipykernel)",
   "language": "python",
   "name": "python3"
  },
  "language_info": {
   "codemirror_mode": {
    "name": "ipython",
    "version": 3
   },
   "file_extension": ".py",
   "mimetype": "text/x-python",
   "name": "python",
   "nbconvert_exporter": "python",
   "pygments_lexer": "ipython3",
   "version": "3.9.12"
  }
 },
 "nbformat": 4,
 "nbformat_minor": 5
}
