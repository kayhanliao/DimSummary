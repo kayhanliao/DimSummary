{
 "cells": [
  {
   "cell_type": "code",
   "execution_count": null,
   "metadata": {},
   "outputs": [],
   "source": [
    "import pandas as pd \n",
    "import requests \n",
    "import numpy as np\n",
    "import json \n",
    "import os \n",
    "\n",
    "from bs4 import BeautifulSoup\n",
    "from time import sleep\n",
    "from datetime import datetime"
   ]
  },
  {
   "cell_type": "code",
   "execution_count": 107,
   "metadata": {},
   "outputs": [],
   "source": [
    "url_base = 'https://api.yelp.com/v3/'\n",
    "\n",
    "url_review = 'businesses/{id}/reviews'\n",
    "url_business = 'businesses/search'"
   ]
  },
  {
   "cell_type": "code",
   "execution_count": 5,
   "metadata": {},
   "outputs": [],
   "source": [
    "apikey = 'Bearer CrgilvjOJW-U-DnMiyFz_xypRqtVtfL_yekfgb4Kg5xNRWe1A83s2llrJ7RxnXYa0iqT8GwTCHJZKvYMHL7CmV1zJPe0D1_jWrH8W0bMxTtR6Ufksbg5REDVrSDbY3Yx'"
   ]
  },
  {
   "cell_type": "code",
   "execution_count": 19,
   "metadata": {},
   "outputs": [
    {
     "data": {
      "text/plain": [
       "'https://api.yelp.com/v3/businesses/search'"
      ]
     },
     "execution_count": 19,
     "metadata": {},
     "output_type": "execute_result"
    }
   ],
   "source": [
    "url = os.path.join(url_base, url_business)\n",
    "url"
   ]
  },
  {
   "cell_type": "code",
   "execution_count": 6,
   "metadata": {},
   "outputs": [],
   "source": [
    "api_header = {'Authorization': apikey, 'accept': 'application/json'}\n"
   ]
  },
  {
   "cell_type": "code",
   "execution_count": null,
   "metadata": {},
   "outputs": [],
   "source": [
    "params = {\n",
    "    'location': 'san francisco',\n",
    "    'term': 'Soup',\n",
    "    'limit': 1,\n",
    "    'offset': 0\n",
    "}\n",
    "\n",
    "r = requests.get(url, headers=api_header, params=params)"
   ]
  },
  {
   "cell_type": "code",
   "execution_count": null,
   "metadata": {},
   "outputs": [],
   "source": [
    "def retrieve_reviews(url):\n",
    "    content = requests.get(url)\n",
    "    soup = BeautifulSoup(content.content, \"html.parser\")\n",
    "    relevant = soup.find_all('p', class_='comment__09f24__gu0rG css-qgunke')\n",
    "    reviews = []\n",
    "    \n",
    "    for rev in relevant:\n",
    "        review = rev.find('span').getText()\n",
    "        reviews.append(review)\n",
    "\n",
    "    return reviews\n",
    "\n",
    "\n"
   ]
  },
  {
   "cell_type": "code",
   "execution_count": 105,
   "metadata": {},
   "outputs": [],
   "source": [
    "def search_for_restaurant(term,location='San Francisco'):\n",
    "    params = {\n",
    "        'location': location,\n",
    "        'term':term,\n",
    "        'limit': 1,\n",
    "        'offset': 0\n",
    "    }\n",
    "    r = requests.get(url,headers=api_header,params=params)\n",
    "    result = json.loads(r.text)\n",
    "    scrape_url = result['businesses'][0]['url'].split('?')[0]\n",
    "\n",
    "    top_rated_url = os.path.join(scrape_url,'?sort_by=rating_desc')\n",
    "    low_rated_url = os.path.join(scrape_url,'?sort_by=rating_asc')\n",
    "    newest_rated_url = os.path.join(scrape_url,'?sort_by=date_desc')\n",
    "    elite_rated_url = os.path.join(scrape_url,'?sort_by=elites_desc')\n",
    "\n",
    "    top_rated_content = retrieve_reviews(top_rated_url)\n",
    "    low_rated_content = retrieve_reviews(low_rated_url)\n",
    "    new_rated_content = retrieve_reviews(newest_rated_url)\n",
    "    elite_rated_content = retrieve_reviews(elite_rated_url)\n",
    "\n",
    "    # review_df = pd.DataFrame(columns=['review_type','review'])\n",
    "\n",
    "    top_rated_df = pd.DataFrame({'review_type':['top_rated']*len(top_rated_content),\n",
    "                                  'review':top_rated_content})\n",
    "    low_rated_df = pd.DataFrame({'review_type':['low_rated']*len(low_rated_content),\n",
    "                                  'review':low_rated_content})\n",
    "    newest_rated_df = pd.DataFrame({'review_type':['newest_rated']*len(new_rated_content),\n",
    "                                  'review':new_rated_content})\n",
    "    elite_rated_df = pd.DataFrame({'review_type':['elite_rated']*len(elite_rated_content),\n",
    "                                  'review':elite_rated_content})\n",
    "    \n",
    "    rated_content = pd.concat([top_rated_df,low_rated_df,\n",
    "                               newest_rated_df,elite_rated_df]).reset_index(drop=True)\n",
    "\n",
    "    return rated_content\n"
   ]
  },
  {
   "cell_type": "code",
   "execution_count": 106,
   "metadata": {},
   "outputs": [
    {
     "ename": "JSONDecodeError",
     "evalue": "Expecting value: line 1 column 1 (char 0)",
     "output_type": "error",
     "traceback": [
      "\u001b[0;31m---------------------------------------------------------------------------\u001b[0m",
      "\u001b[0;31mJSONDecodeError\u001b[0m                           Traceback (most recent call last)",
      "Cell \u001b[0;32mIn[106], line 1\u001b[0m\n\u001b[0;32m----> 1\u001b[0m df \u001b[39m=\u001b[39m search_for_restaurant(\u001b[39m'\u001b[39;49m\u001b[39mDaeho\u001b[39;49m\u001b[39m'\u001b[39;49m)\n",
      "Cell \u001b[0;32mIn[105], line 9\u001b[0m, in \u001b[0;36msearch_for_restaurant\u001b[0;34m(term, location)\u001b[0m\n\u001b[1;32m      2\u001b[0m params \u001b[39m=\u001b[39m {\n\u001b[1;32m      3\u001b[0m     \u001b[39m'\u001b[39m\u001b[39mlocation\u001b[39m\u001b[39m'\u001b[39m: location,\n\u001b[1;32m      4\u001b[0m     \u001b[39m'\u001b[39m\u001b[39mterm\u001b[39m\u001b[39m'\u001b[39m:term,\n\u001b[1;32m      5\u001b[0m     \u001b[39m'\u001b[39m\u001b[39mlimit\u001b[39m\u001b[39m'\u001b[39m: \u001b[39m1\u001b[39m,\n\u001b[1;32m      6\u001b[0m     \u001b[39m'\u001b[39m\u001b[39moffset\u001b[39m\u001b[39m'\u001b[39m: \u001b[39m0\u001b[39m\n\u001b[1;32m      7\u001b[0m }\n\u001b[1;32m      8\u001b[0m r \u001b[39m=\u001b[39m requests\u001b[39m.\u001b[39mget(url,headers\u001b[39m=\u001b[39mapi_header,params\u001b[39m=\u001b[39mparams)\n\u001b[0;32m----> 9\u001b[0m result \u001b[39m=\u001b[39m json\u001b[39m.\u001b[39;49mloads(r\u001b[39m.\u001b[39;49mtext)\n\u001b[1;32m     10\u001b[0m scrape_url \u001b[39m=\u001b[39m result[\u001b[39m'\u001b[39m\u001b[39mbusinesses\u001b[39m\u001b[39m'\u001b[39m][\u001b[39m0\u001b[39m][\u001b[39m'\u001b[39m\u001b[39murl\u001b[39m\u001b[39m'\u001b[39m]\u001b[39m.\u001b[39msplit(\u001b[39m'\u001b[39m\u001b[39m?\u001b[39m\u001b[39m'\u001b[39m)[\u001b[39m0\u001b[39m]\n\u001b[1;32m     12\u001b[0m top_rated_url \u001b[39m=\u001b[39m os\u001b[39m.\u001b[39mpath\u001b[39m.\u001b[39mjoin(scrape_url,\u001b[39m'\u001b[39m\u001b[39m?sort_by=rating_desc\u001b[39m\u001b[39m'\u001b[39m)\n",
      "File \u001b[0;32m~/opt/anaconda3/envs/pendulum/lib/python3.9/json/__init__.py:346\u001b[0m, in \u001b[0;36mloads\u001b[0;34m(s, cls, object_hook, parse_float, parse_int, parse_constant, object_pairs_hook, **kw)\u001b[0m\n\u001b[1;32m    341\u001b[0m     s \u001b[39m=\u001b[39m s\u001b[39m.\u001b[39mdecode(detect_encoding(s), \u001b[39m'\u001b[39m\u001b[39msurrogatepass\u001b[39m\u001b[39m'\u001b[39m)\n\u001b[1;32m    343\u001b[0m \u001b[39mif\u001b[39;00m (\u001b[39mcls\u001b[39m \u001b[39mis\u001b[39;00m \u001b[39mNone\u001b[39;00m \u001b[39mand\u001b[39;00m object_hook \u001b[39mis\u001b[39;00m \u001b[39mNone\u001b[39;00m \u001b[39mand\u001b[39;00m\n\u001b[1;32m    344\u001b[0m         parse_int \u001b[39mis\u001b[39;00m \u001b[39mNone\u001b[39;00m \u001b[39mand\u001b[39;00m parse_float \u001b[39mis\u001b[39;00m \u001b[39mNone\u001b[39;00m \u001b[39mand\u001b[39;00m\n\u001b[1;32m    345\u001b[0m         parse_constant \u001b[39mis\u001b[39;00m \u001b[39mNone\u001b[39;00m \u001b[39mand\u001b[39;00m object_pairs_hook \u001b[39mis\u001b[39;00m \u001b[39mNone\u001b[39;00m \u001b[39mand\u001b[39;00m \u001b[39mnot\u001b[39;00m kw):\n\u001b[0;32m--> 346\u001b[0m     \u001b[39mreturn\u001b[39;00m _default_decoder\u001b[39m.\u001b[39;49mdecode(s)\n\u001b[1;32m    347\u001b[0m \u001b[39mif\u001b[39;00m \u001b[39mcls\u001b[39m \u001b[39mis\u001b[39;00m \u001b[39mNone\u001b[39;00m:\n\u001b[1;32m    348\u001b[0m     \u001b[39mcls\u001b[39m \u001b[39m=\u001b[39m JSONDecoder\n",
      "File \u001b[0;32m~/opt/anaconda3/envs/pendulum/lib/python3.9/json/decoder.py:337\u001b[0m, in \u001b[0;36mJSONDecoder.decode\u001b[0;34m(self, s, _w)\u001b[0m\n\u001b[1;32m    332\u001b[0m \u001b[39mdef\u001b[39;00m \u001b[39mdecode\u001b[39m(\u001b[39mself\u001b[39m, s, _w\u001b[39m=\u001b[39mWHITESPACE\u001b[39m.\u001b[39mmatch):\n\u001b[1;32m    333\u001b[0m \u001b[39m    \u001b[39m\u001b[39m\"\"\"Return the Python representation of ``s`` (a ``str`` instance\u001b[39;00m\n\u001b[1;32m    334\u001b[0m \u001b[39m    containing a JSON document).\u001b[39;00m\n\u001b[1;32m    335\u001b[0m \n\u001b[1;32m    336\u001b[0m \u001b[39m    \"\"\"\u001b[39;00m\n\u001b[0;32m--> 337\u001b[0m     obj, end \u001b[39m=\u001b[39m \u001b[39mself\u001b[39;49m\u001b[39m.\u001b[39;49mraw_decode(s, idx\u001b[39m=\u001b[39;49m_w(s, \u001b[39m0\u001b[39;49m)\u001b[39m.\u001b[39;49mend())\n\u001b[1;32m    338\u001b[0m     end \u001b[39m=\u001b[39m _w(s, end)\u001b[39m.\u001b[39mend()\n\u001b[1;32m    339\u001b[0m     \u001b[39mif\u001b[39;00m end \u001b[39m!=\u001b[39m \u001b[39mlen\u001b[39m(s):\n",
      "File \u001b[0;32m~/opt/anaconda3/envs/pendulum/lib/python3.9/json/decoder.py:355\u001b[0m, in \u001b[0;36mJSONDecoder.raw_decode\u001b[0;34m(self, s, idx)\u001b[0m\n\u001b[1;32m    353\u001b[0m     obj, end \u001b[39m=\u001b[39m \u001b[39mself\u001b[39m\u001b[39m.\u001b[39mscan_once(s, idx)\n\u001b[1;32m    354\u001b[0m \u001b[39mexcept\u001b[39;00m \u001b[39mStopIteration\u001b[39;00m \u001b[39mas\u001b[39;00m err:\n\u001b[0;32m--> 355\u001b[0m     \u001b[39mraise\u001b[39;00m JSONDecodeError(\u001b[39m\"\u001b[39m\u001b[39mExpecting value\u001b[39m\u001b[39m\"\u001b[39m, s, err\u001b[39m.\u001b[39mvalue) \u001b[39mfrom\u001b[39;00m \u001b[39mNone\u001b[39m\n\u001b[1;32m    356\u001b[0m \u001b[39mreturn\u001b[39;00m obj, end\n",
      "\u001b[0;31mJSONDecodeError\u001b[0m: Expecting value: line 1 column 1 (char 0)"
     ]
    }
   ],
   "source": [
    "from yelp_scraper import *\n",
    "\n"
   ]
  },
  {
   "cell_type": "code",
   "execution_count": null,
   "metadata": {},
   "outputs": [],
   "source": [
    "df"
   ]
  },
  {
   "cell_type": "code",
   "execution_count": null,
   "metadata": {},
   "outputs": [],
   "source": [
    "test_df = search_for_restaurant('Daeho')"
   ]
  },
  {
   "cell_type": "code",
   "execution_count": null,
   "metadata": {},
   "outputs": [],
   "source": [
    "params = {\n",
    "    'location': 'San Francisco',\n",
    "    'term': 'Daeho',\n",
    "    'limit': 1,\n",
    "    'offset': 0\n",
    "}\n",
    "\n",
    "r = requests.get(url, headers=api_header, params=params)"
   ]
  },
  {
   "cell_type": "code",
   "execution_count": null,
   "metadata": {},
   "outputs": [],
   "source": [
    "result = json.loads(r.text)\n",
    "scrape_url = result['businesses'][0]['url'].split('?')[0]"
   ]
  },
  {
   "cell_type": "code",
   "execution_count": null,
   "metadata": {},
   "outputs": [],
   "source": [
    "a = requests.get(scrape_url)"
   ]
  },
  {
   "cell_type": "code",
   "execution_count": null,
   "metadata": {},
   "outputs": [],
   "source": [
    "new_soup = BeautifulSoup(a.content, \"html.parser\")\n"
   ]
  },
  {
   "cell_type": "code",
   "execution_count": null,
   "metadata": {},
   "outputs": [],
   "source": [
    "relevant = new_soup.find_all('p', class_='comment__09f24__gu0rG css-qgunke')\n",
    "relevant\n"
   ]
  },
  {
   "cell_type": "code",
   "execution_count": null,
   "metadata": {},
   "outputs": [],
   "source": [
    "scrape_url = 'https://www.yelp.com/biz/daeho-kalbijjim-and-beef-soup-san-francisco-9?sort_by=elites_desc'\n",
    "a = requests.get(scrape_url)\n",
    "new_soup = BeautifulSoup(a.content, \"html.parser\")\n",
    "# relevant = new_soup.find_all('p', class_='comment__09f24__gu0rG css-qgunke')\n",
    "# relevantnew_soup"
   ]
  },
  {
   "cell_type": "code",
   "execution_count": null,
   "metadata": {},
   "outputs": [],
   "source": [
    "relevant = new_soup.find_all('p', class_='comment__09f24__gu0rG css-qgunke')\n",
    "relevant"
   ]
  },
  {
   "cell_type": "code",
   "execution_count": null,
   "metadata": {},
   "outputs": [],
   "source": [
    "text = relevant[0].find('span').getText()\n",
    "text\n"
   ]
  },
  {
   "cell_type": "code",
   "execution_count": null,
   "metadata": {},
   "outputs": [],
   "source": [
    "relevant = new_soup.find_all('p', class_='comment__09f24__gu0rG css-qgunke')\n",
    "relevant[1].find('span').getText()"
   ]
  },
  {
   "cell_type": "code",
   "execution_count": null,
   "metadata": {},
   "outputs": [],
   "source": [
    "elite_rated_url = 'https://www.yelp.com/biz/daeho-kalbijjim-and-beef-soup-san-francisco-9?sort_by=elites_desc'\n",
    "elite_rated_content = requests.get(elite_rated_url)\n",
    "new_soup = BeautifulSoup(elite_rated_content.content, \"html.parser\")\n",
    "relevant = new_soup.find_all('p', class_='comment__09f24__gu0rG css-qgunke')\n",
    "for rev in relevant:\n",
    "    review = rev.find('span').getText()\n",
    "    print(review)\n",
    "    print('-'*100)\n",
    "    "
   ]
  },
  {
   "cell_type": "code",
   "execution_count": null,
   "metadata": {},
   "outputs": [],
   "source": [
    "newest_rated_url = 'https://www.yelp.com/biz/daeho-kalbijjim-and-beef-soup-san-francisco-9?sort_by=date_desc'\n",
    "newest_rated_content = requests.get(newest_rated_url)\n",
    "new_soup = BeautifulSoup(newest_rated_content.content, \"html.parser\")\n",
    "relevant = new_soup.find_all('p', class_='comment__09f24__gu0rG css-qgunke')\n",
    "for rev in relevant:\n",
    "    review = rev.find('span').getText()\n",
    "    print(review)\n",
    "    print('-'*50)\n",
    "    "
   ]
  },
  {
   "cell_type": "code",
   "execution_count": null,
   "metadata": {},
   "outputs": [],
   "source": [
    "top_rated_url = 'https://www.yelp.com/biz/daeho-kalbijjim-and-beef-soup-san-francisco-9?sort_by=rating_desc'\n",
    "top_rated_content = requests.get(top_rated_url)\n",
    "new_soup = BeautifulSoup(top_rated_content.content, \"html.parser\")\n",
    "relevant = new_soup.find_all('p', class_='comment__09f24__gu0rG css-qgunke')\n",
    "for rev in relevant:\n",
    "    review = rev.find('span').getText()\n",
    "    print(review)\n",
    "    print('-'*100)\n",
    "    "
   ]
  },
  {
   "cell_type": "code",
   "execution_count": null,
   "metadata": {},
   "outputs": [],
   "source": [
    "low_rated_url = 'https://www.yelp.com/biz/daeho-kalbijjim-and-beef-soup-san-francisco-9?sort_by=rating_asc'\n",
    "low_rated_content = requests.get(low_rated_url)\n",
    "new_soup = BeautifulSoup(low_rated_content.content, \"html.parser\")\n",
    "relevant = new_soup.find_all('p', class_='comment__09f24__gu0rG css-qgunke')\n",
    "for rev in relevant:\n",
    "    review = rev.find('span').getText()\n",
    "    print(review)\n",
    "    print('-'*100)\n",
    "    "
   ]
  },
  {
   "cell_type": "code",
   "execution_count": null,
   "metadata": {},
   "outputs": [],
   "source": [
    "df"
   ]
  },
  {
   "cell_type": "code",
   "execution_count": null,
   "metadata": {},
   "outputs": [],
   "source": [
    "a = df[df['review_type'] == 'top_rated'].groupby(by=['review_type'])['review'].transform(lambda x: ','.join(x)).drop_duplicates().reset_index(drop=True)\n",
    "len(a[0])"
   ]
  },
  {
   "cell_type": "code",
   "execution_count": null,
   "metadata": {},
   "outputs": [],
   "source": [
    "tokenizer(a[0])"
   ]
  },
  {
   "cell_type": "code",
   "execution_count": null,
   "metadata": {},
   "outputs": [],
   "source": [
    "a = df[df['review_type'] == 'elite_rated'].groupby(by=['review_type'])['review'].transform(lambda x: ','.join(x)).drop_duplicates().reset_index(drop=True)\n",
    "len(a[0])"
   ]
  },
  {
   "cell_type": "code",
   "execution_count": null,
   "metadata": {},
   "outputs": [],
   "source": [
    "df.groupby(by=['review_type'])['review'].transform(lambda x: ','.join(x)).drop_duplicates().reset_index(drop=True)"
   ]
  },
  {
   "cell_type": "code",
   "execution_count": null,
   "metadata": {},
   "outputs": [],
   "source": [
    "params = {}\n",
    "term = 'restaurants'\n",
    "location = 'San Francisco'\n",
    "params['term'] = term\n",
    "params['location'] = location\n",
    "params['limit'] = 50\n",
    "params['offset'] = 0\n"
   ]
  },
  {
   "cell_type": "code",
   "execution_count": null,
   "metadata": {},
   "outputs": [],
   "source": [
    "response = requests.get(url,headers=api_header,timeout=25,params=params)\n"
   ]
  },
  {
   "cell_type": "code",
   "execution_count": null,
   "metadata": {},
   "outputs": [],
   "source": [
    "response.content"
   ]
  },
  {
   "cell_type": "code",
   "execution_count": null,
   "metadata": {},
   "outputs": [],
   "source": [
    "result = json.loads(response.text)\n"
   ]
  },
  {
   "cell_type": "code",
   "execution_count": 355,
   "metadata": {},
   "outputs": [
    {
     "ename": "KeyError",
     "evalue": "'businesses'",
     "output_type": "error",
     "traceback": [
      "\u001b[0;31m---------------------------------------------------------------------------\u001b[0m",
      "\u001b[0;31mKeyError\u001b[0m                                  Traceback (most recent call last)",
      "Cell \u001b[0;32mIn[355], line 15\u001b[0m\n\u001b[1;32m     12\u001b[0m response \u001b[39m=\u001b[39m requests\u001b[39m.\u001b[39mget(url,headers\u001b[39m=\u001b[39mapi_header,timeout\u001b[39m=\u001b[39m\u001b[39m25\u001b[39m,params\u001b[39m=\u001b[39mparams)\n\u001b[1;32m     13\u001b[0m result \u001b[39m=\u001b[39m json\u001b[39m.\u001b[39mloads(response\u001b[39m.\u001b[39mtext)\n\u001b[0;32m---> 15\u001b[0m df2 \u001b[39m=\u001b[39m pd\u001b[39m.\u001b[39mDataFrame(result[\u001b[39m'\u001b[39;49m\u001b[39mbusinesses\u001b[39;49m\u001b[39m'\u001b[39;49m])\n\u001b[1;32m     16\u001b[0m df \u001b[39m=\u001b[39m pd\u001b[39m.\u001b[39mconcat([df,df2])\u001b[39m.\u001b[39mreset_index(drop\u001b[39m=\u001b[39m\u001b[39mTrue\u001b[39;00m)\n\u001b[1;32m     17\u001b[0m df\u001b[39m.\u001b[39mto_csv(\u001b[39m'\u001b[39m\u001b[39mchunky_restaurant_metadata_san_jose.csv\u001b[39m\u001b[39m'\u001b[39m)\n",
      "\u001b[0;31mKeyError\u001b[0m: 'businesses'"
     ]
    }
   ],
   "source": [
    "params = {}\n",
    "term = 'restaurants'\n",
    "location = 'San Jose'\n",
    "params['term'] = term\n",
    "params['location'] = location\n",
    "params['limit'] = 50\n",
    "params['offset'] = 0\n",
    "\n",
    "df = pd.DataFrame()\n",
    "\n",
    "while True:\n",
    "    response = requests.get(url,headers=api_header,timeout=25,params=params)\n",
    "    result = json.loads(response.text)\n",
    "\n",
    "    df2 = pd.DataFrame(result['businesses'])\n",
    "    df = pd.concat([df,df2]).reset_index(drop=True)\n",
    "    df.to_csv('chunky_restaurant_metadata_san_jose.csv')\n",
    "    # if params['offset'] == 0:\n",
    "    #     params['offset'] += 1\n",
    "    params['offset'] += 50"
   ]
  },
  {
   "cell_type": "code",
   "execution_count": 359,
   "metadata": {},
   "outputs": [
    {
     "data": {
      "text/plain": [
       "954"
      ]
     },
     "execution_count": 359,
     "metadata": {},
     "output_type": "execute_result"
    }
   ],
   "source": [
    "len(df['name'].unique())"
   ]
  },
  {
   "cell_type": "code",
   "execution_count": 350,
   "metadata": {},
   "outputs": [
    {
     "data": {
      "text/plain": [
       "{'term': 'restaurants',\n",
       " 'location': 'San Francisco',\n",
       " 'limit': 50,\n",
       " 'offset': 1000}"
      ]
     },
     "execution_count": 350,
     "metadata": {},
     "output_type": "execute_result"
    }
   ],
   "source": [
    "params"
   ]
  },
  {
   "cell_type": "code",
   "execution_count": 354,
   "metadata": {},
   "outputs": [
    {
     "data": {
      "text/plain": [
       "1000"
      ]
     },
     "execution_count": 354,
     "metadata": {},
     "output_type": "execute_result"
    }
   ],
   "source": [
    "len(pd.read_csv('chunky_restaurant_metadata.csv')['id'].unique())"
   ]
  },
  {
   "cell_type": "code",
   "execution_count": 256,
   "metadata": {},
   "outputs": [
    {
     "data": {
      "text/plain": [
       "Beit Rima                       2\n",
       "Bodega                          2\n",
       "Mamahuhu                        2\n",
       "Dumpling Kitchen                2\n",
       "The Italian Homemade Company    2\n",
       "                               ..\n",
       "Nopalito                        1\n",
       "Dumpling Baby China Bistro      1\n",
       "San Tung                        1\n",
       "That's My Jam                   1\n",
       "Birch & Rye                     1\n",
       "Name: name, Length: 145, dtype: int64"
      ]
     },
     "execution_count": 256,
     "metadata": {},
     "output_type": "execute_result"
    }
   ],
   "source": [
    "df['name'].value_counts()"
   ]
  },
  {
   "cell_type": "code",
   "execution_count": 343,
   "metadata": {},
   "outputs": [],
   "source": [
    "params = {}\n",
    "term = 'restaurants'\n",
    "location = 'San Francisco'\n",
    "params['term'] = term\n",
    "params['location'] = location\n",
    "params['limit'] = 50\n",
    "params['offset'] = 50\n",
    "\n",
    "response = requests.get(url,headers=api_header,timeout=25,params=params)\n",
    "result = json.loads(response.text)\n",
    "\n",
    "df2 = pd.DataFrame(result['businesses'])\n",
    "# df2"
   ]
  },
  {
   "cell_type": "code",
   "execution_count": 344,
   "metadata": {},
   "outputs": [],
   "source": [
    "params = {}\n",
    "term = 'restaurants'\n",
    "location = 'San Francisco'\n",
    "params['term'] = term\n",
    "params['location'] = location\n",
    "params['limit'] = 50\n",
    "params['offset'] = 100\n",
    "\n",
    "\n",
    "response = requests.get(url,headers=api_header,timeout=25,params=params)\n",
    "result = json.loads(response.text)\n",
    "\n",
    "df3 = pd.DataFrame(result['businesses'])\n",
    "# df3"
   ]
  },
  {
   "cell_type": "code",
   "execution_count": 345,
   "metadata": {},
   "outputs": [
    {
     "data": {
      "text/plain": [
       "{'Bodega'}"
      ]
     },
     "execution_count": 345,
     "metadata": {},
     "output_type": "execute_result"
    }
   ],
   "source": [
    "set(df2['name']).intersection(set(df3['name']))"
   ]
  },
  {
   "cell_type": "code",
   "execution_count": 346,
   "metadata": {},
   "outputs": [
    {
     "data": {
      "text/plain": [
       "{'Bodega'}"
      ]
     },
     "execution_count": 346,
     "metadata": {},
     "output_type": "execute_result"
    }
   ],
   "source": [
    "set(df3['name']).intersection(set(df2['name']))"
   ]
  },
  {
   "cell_type": "code",
   "execution_count": 227,
   "metadata": {},
   "outputs": [
    {
     "data": {
      "text/html": [
       "<div>\n",
       "<style scoped>\n",
       "    .dataframe tbody tr th:only-of-type {\n",
       "        vertical-align: middle;\n",
       "    }\n",
       "\n",
       "    .dataframe tbody tr th {\n",
       "        vertical-align: top;\n",
       "    }\n",
       "\n",
       "    .dataframe thead th {\n",
       "        text-align: right;\n",
       "    }\n",
       "</style>\n",
       "<table border=\"1\" class=\"dataframe\">\n",
       "  <thead>\n",
       "    <tr style=\"text-align: right;\">\n",
       "      <th></th>\n",
       "      <th>id</th>\n",
       "      <th>alias</th>\n",
       "      <th>name</th>\n",
       "      <th>image_url</th>\n",
       "      <th>is_closed</th>\n",
       "      <th>url</th>\n",
       "      <th>review_count</th>\n",
       "      <th>categories</th>\n",
       "      <th>rating</th>\n",
       "      <th>coordinates</th>\n",
       "      <th>transactions</th>\n",
       "      <th>location</th>\n",
       "      <th>phone</th>\n",
       "      <th>display_phone</th>\n",
       "      <th>distance</th>\n",
       "      <th>price</th>\n",
       "    </tr>\n",
       "  </thead>\n",
       "  <tbody>\n",
       "    <tr>\n",
       "      <th>3</th>\n",
       "      <td>HHtpR0RslupSQ99GIIwW5A</td>\n",
       "      <td>marufuku-ramen-san-francisco-5</td>\n",
       "      <td>Marufuku Ramen</td>\n",
       "      <td>https://s3-media4.fl.yelpcdn.com/bphoto/ouK2Vm...</td>\n",
       "      <td>False</td>\n",
       "      <td>https://www.yelp.com/biz/marufuku-ramen-san-fr...</td>\n",
       "      <td>4515</td>\n",
       "      <td>[{'alias': 'ramen', 'title': 'Ramen'}]</td>\n",
       "      <td>4.5</td>\n",
       "      <td>{'latitude': 37.785014, 'longitude': -122.431842}</td>\n",
       "      <td>[pickup, delivery]</td>\n",
       "      <td>{'address1': '1581 Webster St', 'address2': 'S...</td>\n",
       "      <td>+14158729786</td>\n",
       "      <td>(415) 872-9786</td>\n",
       "      <td>2717.175933</td>\n",
       "      <td>$$</td>\n",
       "    </tr>\n",
       "    <tr>\n",
       "      <th>52</th>\n",
       "      <td>HHtpR0RslupSQ99GIIwW5A</td>\n",
       "      <td>marufuku-ramen-san-francisco-5</td>\n",
       "      <td>Marufuku Ramen</td>\n",
       "      <td>https://s3-media4.fl.yelpcdn.com/bphoto/ouK2Vm...</td>\n",
       "      <td>False</td>\n",
       "      <td>https://www.yelp.com/biz/marufuku-ramen-san-fr...</td>\n",
       "      <td>4515</td>\n",
       "      <td>[{'alias': 'ramen', 'title': 'Ramen'}]</td>\n",
       "      <td>4.5</td>\n",
       "      <td>{'latitude': 37.785014, 'longitude': -122.431842}</td>\n",
       "      <td>[delivery, pickup]</td>\n",
       "      <td>{'address1': '1581 Webster St', 'address2': 'S...</td>\n",
       "      <td>+14158729786</td>\n",
       "      <td>(415) 872-9786</td>\n",
       "      <td>2717.175933</td>\n",
       "      <td>$$</td>\n",
       "    </tr>\n",
       "    <tr>\n",
       "      <th>101</th>\n",
       "      <td>HHtpR0RslupSQ99GIIwW5A</td>\n",
       "      <td>marufuku-ramen-san-francisco-5</td>\n",
       "      <td>Marufuku Ramen</td>\n",
       "      <td>https://s3-media4.fl.yelpcdn.com/bphoto/ouK2Vm...</td>\n",
       "      <td>False</td>\n",
       "      <td>https://www.yelp.com/biz/marufuku-ramen-san-fr...</td>\n",
       "      <td>4515</td>\n",
       "      <td>[{'alias': 'ramen', 'title': 'Ramen'}]</td>\n",
       "      <td>4.5</td>\n",
       "      <td>{'latitude': 37.785014, 'longitude': -122.431842}</td>\n",
       "      <td>[delivery, pickup]</td>\n",
       "      <td>{'address1': '1581 Webster St', 'address2': 'S...</td>\n",
       "      <td>+14158729786</td>\n",
       "      <td>(415) 872-9786</td>\n",
       "      <td>2717.175933</td>\n",
       "      <td>$$</td>\n",
       "    </tr>\n",
       "  </tbody>\n",
       "</table>\n",
       "</div>"
      ],
      "text/plain": [
       "                         id                           alias            name  \\\n",
       "3    HHtpR0RslupSQ99GIIwW5A  marufuku-ramen-san-francisco-5  Marufuku Ramen   \n",
       "52   HHtpR0RslupSQ99GIIwW5A  marufuku-ramen-san-francisco-5  Marufuku Ramen   \n",
       "101  HHtpR0RslupSQ99GIIwW5A  marufuku-ramen-san-francisco-5  Marufuku Ramen   \n",
       "\n",
       "                                             image_url  is_closed  \\\n",
       "3    https://s3-media4.fl.yelpcdn.com/bphoto/ouK2Vm...      False   \n",
       "52   https://s3-media4.fl.yelpcdn.com/bphoto/ouK2Vm...      False   \n",
       "101  https://s3-media4.fl.yelpcdn.com/bphoto/ouK2Vm...      False   \n",
       "\n",
       "                                                   url  review_count  \\\n",
       "3    https://www.yelp.com/biz/marufuku-ramen-san-fr...          4515   \n",
       "52   https://www.yelp.com/biz/marufuku-ramen-san-fr...          4515   \n",
       "101  https://www.yelp.com/biz/marufuku-ramen-san-fr...          4515   \n",
       "\n",
       "                                 categories  rating  \\\n",
       "3    [{'alias': 'ramen', 'title': 'Ramen'}]     4.5   \n",
       "52   [{'alias': 'ramen', 'title': 'Ramen'}]     4.5   \n",
       "101  [{'alias': 'ramen', 'title': 'Ramen'}]     4.5   \n",
       "\n",
       "                                           coordinates        transactions  \\\n",
       "3    {'latitude': 37.785014, 'longitude': -122.431842}  [pickup, delivery]   \n",
       "52   {'latitude': 37.785014, 'longitude': -122.431842}  [delivery, pickup]   \n",
       "101  {'latitude': 37.785014, 'longitude': -122.431842}  [delivery, pickup]   \n",
       "\n",
       "                                              location         phone  \\\n",
       "3    {'address1': '1581 Webster St', 'address2': 'S...  +14158729786   \n",
       "52   {'address1': '1581 Webster St', 'address2': 'S...  +14158729786   \n",
       "101  {'address1': '1581 Webster St', 'address2': 'S...  +14158729786   \n",
       "\n",
       "      display_phone     distance price  \n",
       "3    (415) 872-9786  2717.175933    $$  \n",
       "52   (415) 872-9786  2717.175933    $$  \n",
       "101  (415) 872-9786  2717.175933    $$  "
      ]
     },
     "execution_count": 227,
     "metadata": {},
     "output_type": "execute_result"
    }
   ],
   "source": [
    "df.loc[[3,52,101]]"
   ]
  },
  {
   "cell_type": "code",
   "execution_count": 231,
   "metadata": {},
   "outputs": [
    {
     "data": {
      "text/plain": [
       "0           Kothai Republic\n",
       "1        The Public Izakaya\n",
       "2                      Lily\n",
       "3            Marufuku Ramen\n",
       "4                 Starbelly\n",
       "                ...        \n",
       "41399                   ABV\n",
       "41449      Marcello's Pizza\n",
       "41499         Curbside Cafe\n",
       "41549                 Piroo\n",
       "41599       John kitchen #1\n",
       "Name: name, Length: 857, dtype: object"
      ]
     },
     "execution_count": 231,
     "metadata": {},
     "output_type": "execute_result"
    }
   ],
   "source": [
    "df['name'].drop_duplicates()"
   ]
  },
  {
   "cell_type": "code",
   "execution_count": 232,
   "metadata": {},
   "outputs": [
    {
     "data": {
      "text/plain": [
       "{'term': 'restaurants',\n",
       " 'location': 'San Francisco',\n",
       " 'limit': 50,\n",
       " 'offset': 832}"
      ]
     },
     "execution_count": 232,
     "metadata": {},
     "output_type": "execute_result"
    }
   ],
   "source": [
    "params"
   ]
  },
  {
   "cell_type": "code",
   "execution_count": 246,
   "metadata": {},
   "outputs": [],
   "source": [
    "params['offset'] = "
   ]
  },
  {
   "cell_type": "code",
   "execution_count": 248,
   "metadata": {},
   "outputs": [],
   "source": [
    "response = requests.get(url,headers=api_header,timeout=25,params=params)\n",
    "result = json.loads(response.text)\n",
    "\n",
    "# df2 = pd.DataFrame(result['businesses'])"
   ]
  },
  {
   "cell_type": "code",
   "execution_count": 249,
   "metadata": {},
   "outputs": [
    {
     "data": {
      "text/plain": [
       "{'error': {'code': 'VALIDATION_ERROR',\n",
       "  'description': 'Too many results requested, limit+offset must be <= 1000.'}}"
      ]
     },
     "execution_count": 249,
     "metadata": {},
     "output_type": "execute_result"
    }
   ],
   "source": [
    "result"
   ]
  },
  {
   "cell_type": "code",
   "execution_count": 240,
   "metadata": {},
   "outputs": [
    {
     "ename": "TypeError",
     "evalue": "unhashable type: 'list'",
     "output_type": "error",
     "traceback": [
      "\u001b[0;31m---------------------------------------------------------------------------\u001b[0m",
      "\u001b[0;31mTypeError\u001b[0m                                 Traceback (most recent call last)",
      "Cell \u001b[0;32mIn[240], line 1\u001b[0m\n\u001b[0;32m----> 1\u001b[0m df\u001b[39m.\u001b[39;49mdrop_duplicates()\n",
      "File \u001b[0;32m~/opt/anaconda3/envs/pendulum/lib/python3.9/site-packages/pandas/util/_decorators.py:331\u001b[0m, in \u001b[0;36mdeprecate_nonkeyword_arguments.<locals>.decorate.<locals>.wrapper\u001b[0;34m(*args, **kwargs)\u001b[0m\n\u001b[1;32m    325\u001b[0m \u001b[39mif\u001b[39;00m \u001b[39mlen\u001b[39m(args) \u001b[39m>\u001b[39m num_allow_args:\n\u001b[1;32m    326\u001b[0m     warnings\u001b[39m.\u001b[39mwarn(\n\u001b[1;32m    327\u001b[0m         msg\u001b[39m.\u001b[39mformat(arguments\u001b[39m=\u001b[39m_format_argument_list(allow_args)),\n\u001b[1;32m    328\u001b[0m         \u001b[39mFutureWarning\u001b[39;00m,\n\u001b[1;32m    329\u001b[0m         stacklevel\u001b[39m=\u001b[39mfind_stack_level(),\n\u001b[1;32m    330\u001b[0m     )\n\u001b[0;32m--> 331\u001b[0m \u001b[39mreturn\u001b[39;00m func(\u001b[39m*\u001b[39;49margs, \u001b[39m*\u001b[39;49m\u001b[39m*\u001b[39;49mkwargs)\n",
      "File \u001b[0;32m~/opt/anaconda3/envs/pendulum/lib/python3.9/site-packages/pandas/core/frame.py:6672\u001b[0m, in \u001b[0;36mDataFrame.drop_duplicates\u001b[0;34m(self, subset, keep, inplace, ignore_index)\u001b[0m\n\u001b[1;32m   6670\u001b[0m inplace \u001b[39m=\u001b[39m validate_bool_kwarg(inplace, \u001b[39m\"\u001b[39m\u001b[39minplace\u001b[39m\u001b[39m\"\u001b[39m)\n\u001b[1;32m   6671\u001b[0m ignore_index \u001b[39m=\u001b[39m validate_bool_kwarg(ignore_index, \u001b[39m\"\u001b[39m\u001b[39mignore_index\u001b[39m\u001b[39m\"\u001b[39m)\n\u001b[0;32m-> 6672\u001b[0m duplicated \u001b[39m=\u001b[39m \u001b[39mself\u001b[39;49m\u001b[39m.\u001b[39;49mduplicated(subset, keep\u001b[39m=\u001b[39;49mkeep)\n\u001b[1;32m   6674\u001b[0m result \u001b[39m=\u001b[39m \u001b[39mself\u001b[39m[\u001b[39m-\u001b[39mduplicated]\n\u001b[1;32m   6675\u001b[0m \u001b[39mif\u001b[39;00m ignore_index:\n",
      "File \u001b[0;32m~/opt/anaconda3/envs/pendulum/lib/python3.9/site-packages/pandas/core/frame.py:6814\u001b[0m, in \u001b[0;36mDataFrame.duplicated\u001b[0;34m(self, subset, keep)\u001b[0m\n\u001b[1;32m   6812\u001b[0m \u001b[39melse\u001b[39;00m:\n\u001b[1;32m   6813\u001b[0m     vals \u001b[39m=\u001b[39m (col\u001b[39m.\u001b[39mvalues \u001b[39mfor\u001b[39;00m name, col \u001b[39min\u001b[39;00m \u001b[39mself\u001b[39m\u001b[39m.\u001b[39mitems() \u001b[39mif\u001b[39;00m name \u001b[39min\u001b[39;00m subset)\n\u001b[0;32m-> 6814\u001b[0m     labels, shape \u001b[39m=\u001b[39m \u001b[39mmap\u001b[39m(\u001b[39mlist\u001b[39m, \u001b[39mzip\u001b[39;49m(\u001b[39m*\u001b[39;49m\u001b[39mmap\u001b[39;49m(f, vals)))\n\u001b[1;32m   6816\u001b[0m     ids \u001b[39m=\u001b[39m get_group_index(\n\u001b[1;32m   6817\u001b[0m         labels,\n\u001b[1;32m   6818\u001b[0m         \u001b[39m# error: Argument 1 to \"tuple\" has incompatible type \"List[_T]\";\u001b[39;00m\n\u001b[0;32m   (...)\u001b[0m\n\u001b[1;32m   6822\u001b[0m         xnull\u001b[39m=\u001b[39m\u001b[39mFalse\u001b[39;00m,\n\u001b[1;32m   6823\u001b[0m     )\n\u001b[1;32m   6824\u001b[0m     result \u001b[39m=\u001b[39m \u001b[39mself\u001b[39m\u001b[39m.\u001b[39m_constructor_sliced(duplicated(ids, keep), index\u001b[39m=\u001b[39m\u001b[39mself\u001b[39m\u001b[39m.\u001b[39mindex)\n",
      "File \u001b[0;32m~/opt/anaconda3/envs/pendulum/lib/python3.9/site-packages/pandas/core/frame.py:6782\u001b[0m, in \u001b[0;36mDataFrame.duplicated.<locals>.f\u001b[0;34m(vals)\u001b[0m\n\u001b[1;32m   6781\u001b[0m \u001b[39mdef\u001b[39;00m \u001b[39mf\u001b[39m(vals) \u001b[39m-\u001b[39m\u001b[39m>\u001b[39m \u001b[39mtuple\u001b[39m[np\u001b[39m.\u001b[39mndarray, \u001b[39mint\u001b[39m]:\n\u001b[0;32m-> 6782\u001b[0m     labels, shape \u001b[39m=\u001b[39m algorithms\u001b[39m.\u001b[39;49mfactorize(vals, size_hint\u001b[39m=\u001b[39;49m\u001b[39mlen\u001b[39;49m(\u001b[39mself\u001b[39;49m))\n\u001b[1;32m   6783\u001b[0m     \u001b[39mreturn\u001b[39;00m labels\u001b[39m.\u001b[39mastype(\u001b[39m\"\u001b[39m\u001b[39mi8\u001b[39m\u001b[39m\"\u001b[39m, copy\u001b[39m=\u001b[39m\u001b[39mFalse\u001b[39;00m), \u001b[39mlen\u001b[39m(shape)\n",
      "File \u001b[0;32m~/opt/anaconda3/envs/pendulum/lib/python3.9/site-packages/pandas/core/algorithms.py:822\u001b[0m, in \u001b[0;36mfactorize\u001b[0;34m(values, sort, na_sentinel, use_na_sentinel, size_hint)\u001b[0m\n\u001b[1;32m    819\u001b[0m             \u001b[39m# Don't modify (potentially user-provided) array\u001b[39;00m\n\u001b[1;32m    820\u001b[0m             values \u001b[39m=\u001b[39m np\u001b[39m.\u001b[39mwhere(null_mask, na_value, values)\n\u001b[0;32m--> 822\u001b[0m     codes, uniques \u001b[39m=\u001b[39m factorize_array(\n\u001b[1;32m    823\u001b[0m         values,\n\u001b[1;32m    824\u001b[0m         na_sentinel\u001b[39m=\u001b[39;49mna_sentinel_arg,\n\u001b[1;32m    825\u001b[0m         size_hint\u001b[39m=\u001b[39;49msize_hint,\n\u001b[1;32m    826\u001b[0m     )\n\u001b[1;32m    828\u001b[0m \u001b[39mif\u001b[39;00m sort \u001b[39mand\u001b[39;00m \u001b[39mlen\u001b[39m(uniques) \u001b[39m>\u001b[39m \u001b[39m0\u001b[39m:\n\u001b[1;32m    829\u001b[0m     \u001b[39mif\u001b[39;00m na_sentinel \u001b[39mis\u001b[39;00m \u001b[39mNone\u001b[39;00m:\n\u001b[1;32m    830\u001b[0m         \u001b[39m# TODO: Can remove when na_sentinel=na_sentinel as in TODO above\u001b[39;00m\n",
      "File \u001b[0;32m~/opt/anaconda3/envs/pendulum/lib/python3.9/site-packages/pandas/core/algorithms.py:578\u001b[0m, in \u001b[0;36mfactorize_array\u001b[0;34m(values, na_sentinel, size_hint, na_value, mask)\u001b[0m\n\u001b[1;32m    575\u001b[0m hash_klass, values \u001b[39m=\u001b[39m _get_hashtable_algo(values)\n\u001b[1;32m    577\u001b[0m table \u001b[39m=\u001b[39m hash_klass(size_hint \u001b[39mor\u001b[39;00m \u001b[39mlen\u001b[39m(values))\n\u001b[0;32m--> 578\u001b[0m uniques, codes \u001b[39m=\u001b[39m table\u001b[39m.\u001b[39;49mfactorize(\n\u001b[1;32m    579\u001b[0m     values,\n\u001b[1;32m    580\u001b[0m     na_sentinel\u001b[39m=\u001b[39;49mna_sentinel,\n\u001b[1;32m    581\u001b[0m     na_value\u001b[39m=\u001b[39;49mna_value,\n\u001b[1;32m    582\u001b[0m     mask\u001b[39m=\u001b[39;49mmask,\n\u001b[1;32m    583\u001b[0m     ignore_na\u001b[39m=\u001b[39;49mignore_na,\n\u001b[1;32m    584\u001b[0m )\n\u001b[1;32m    586\u001b[0m \u001b[39m# re-cast e.g. i8->dt64/td64, uint8->bool\u001b[39;00m\n\u001b[1;32m    587\u001b[0m uniques \u001b[39m=\u001b[39m _reconstruct_data(uniques, original\u001b[39m.\u001b[39mdtype, original)\n",
      "File \u001b[0;32mpandas/_libs/hashtable_class_helper.pxi:5943\u001b[0m, in \u001b[0;36mpandas._libs.hashtable.PyObjectHashTable.factorize\u001b[0;34m()\u001b[0m\n",
      "File \u001b[0;32mpandas/_libs/hashtable_class_helper.pxi:5857\u001b[0m, in \u001b[0;36mpandas._libs.hashtable.PyObjectHashTable._unique\u001b[0;34m()\u001b[0m\n",
      "\u001b[0;31mTypeError\u001b[0m: unhashable type: 'list'"
     ]
    }
   ],
   "source": [
    "df.drop_duplicates()"
   ]
  },
  {
   "cell_type": "code",
   "execution_count": 361,
   "metadata": {},
   "outputs": [],
   "source": [
    "df = pd.read_csv('chunky_restaurant_metadata_san_francisco.csv')"
   ]
  },
  {
   "cell_type": "code",
   "execution_count": 364,
   "metadata": {},
   "outputs": [
    {
     "data": {
      "text/plain": [
       "'https://www.yelp.com/biz/kothai-republic-san-francisco?adjust_creative=bpQq5NcAeZPqAmDOGLjWgA&utm_campaign=yelp_api_v3&utm_medium=api_v3_business_search&utm_source=bpQq5NcAeZPqAmDOGLjWgA'"
      ]
     },
     "execution_count": 364,
     "metadata": {},
     "output_type": "execute_result"
    }
   ],
   "source": [
    "url = df['url'][0]"
   ]
  },
  {
   "cell_type": "code",
   "execution_count": 114,
   "metadata": {},
   "outputs": [],
   "source": [
    "import json\n",
    "import os\n",
    "from datetime import datetime\n",
    "from time import sleep\n",
    "\n",
    "import numpy as np\n",
    "import pandas as pd\n",
    "import requests\n",
    "from bs4 import BeautifulSoup\n",
    "\n",
    "\n",
    "def retrieve_reviews(url):\n",
    "    content = requests.get(url,timeout=20)\n",
    "    soup = BeautifulSoup(content.content, \"html.parser\")\n",
    "    relevant = soup.find_all('p', class_='comment__09f24__gu0rG css-qgunke')\n",
    "    reviews = []\n",
    "    \n",
    "    for rev in relevant:\n",
    "        review = rev.find('span').getText()\n",
    "        reviews.append(review)\n",
    "\n",
    "    return reviews\n",
    "\n",
    "\n",
    "class YelpScraper:\n",
    "    '''Custom Webscraper for Yelp API'''\n",
    "\n",
    "    def __init__(self,url,api_key):\n",
    "\n",
    "        self.url = url\n",
    "        self.api_key = api_key\n",
    "\n",
    "        self.params = {}\n",
    "        self.api_header = {'Authorization': self.api_key,\n",
    "                           'accept': 'application/json'}\n",
    "\n",
    "\n",
    "    def search_single_restaurant(self,term,location='San Francisco'):\n",
    "        \"\"\"Retreiving Reviews of Single Restaurant\"\"\"\n",
    "\n",
    "        self.params['location'] = location\n",
    "        self.params['term'] = term\n",
    "        self.params['limit'] = 1\n",
    "        self.params['offset'] = 0\n",
    "\n",
    "        response = requests.get(self.url,headers=self.api_header,timeout=25,\n",
    "                                params=self.params)\n",
    "        try:\n",
    "            result = json.loads(response.text)\n",
    "            scrape_url = result['businesses'][0]['url'].split('?')[0]\n",
    "        except:\n",
    "            print(response)\n",
    "            print(response.text)\n",
    "            return \n",
    "\n",
    "        top_rated_url = os.path.join(scrape_url,'?sort_by=rating_desc')\n",
    "        low_rated_url = os.path.join(scrape_url,'?sort_by=rating_asc')\n",
    "        newest_rated_url = os.path.join(scrape_url,'?sort_by=date_desc')\n",
    "        elite_rated_url = os.path.join(scrape_url,'?sort_by=elites_desc')\n",
    "\n",
    "        top_rated_content = retrieve_reviews(top_rated_url)\n",
    "        # low_rated_content = retrieve_reviews(low_rated_url)\n",
    "        # new_rated_content = retrieve_reviews(newest_rated_url)\n",
    "        # elite_rated_content = retrieve_reviews(elite_rated_url)\n",
    "\n",
    "\n",
    "        top_rated_df = pd.DataFrame({'review_type':['top_rated']*len(top_rated_content),\n",
    "                                        'review':top_rated_content})\n",
    "        # low_rated_df = pd.DataFrame({'review_type':['low_rated']*len(low_rated_content),\n",
    "        #                                 'review':low_rated_content})\n",
    "        # newest_rated_df = pd.DataFrame({'review_type':['newest_rated']*len(new_rated_content),\n",
    "        #                                 'review':new_rated_content})\n",
    "        # elite_rated_df = pd.DataFrame({'review_type':['elite_rated']*len(elite_rated_content),\n",
    "        #                                 'review':elite_rated_content})\n",
    "\n",
    "        rated_content = pd.concat([top_rated_df])\n",
    "        # ,low_rated_df,\n",
    "        #                             newest_rated_df,elite_rated_df]).reset_index(drop=True)\n",
    "\n",
    "        return rated_content\n",
    "    \n",
    "\n",
    "    def search_with_url(self,url):\n",
    "        \n",
    "\n",
    "        top_rated_url = os.path.join(scrape_url,'?sort_by=rating_desc')\n",
    "        low_rated_url = os.path.join(scrape_url,'?sort_by=rating_asc')\n",
    "        newest_rated_url = os.path.join(scrape_url,'?sort_by=date_desc')\n",
    "        elite_rated_url = os.path.join(scrape_url,'?sort_by=elites_desc')"
   ]
  },
  {
   "cell_type": "code",
   "execution_count": 115,
   "metadata": {},
   "outputs": [
    {
     "ename": "NameError",
     "evalue": "name 'ur_' is not defined",
     "output_type": "error",
     "traceback": [
      "\u001b[0;31m---------------------------------------------------------------------------\u001b[0m",
      "\u001b[0;31mNameError\u001b[0m                                 Traceback (most recent call last)",
      "Cell \u001b[0;32mIn[115], line 1\u001b[0m\n\u001b[0;32m----> 1\u001b[0m ur_\n",
      "\u001b[0;31mNameError\u001b[0m: name 'ur_' is not defined"
     ]
    }
   ],
   "source": [
    "ur_"
   ]
  },
  {
   "cell_type": "code",
   "execution_count": 116,
   "metadata": {},
   "outputs": [
    {
     "data": {
      "text/html": [
       "<div>\n",
       "<style scoped>\n",
       "    .dataframe tbody tr th:only-of-type {\n",
       "        vertical-align: middle;\n",
       "    }\n",
       "\n",
       "    .dataframe tbody tr th {\n",
       "        vertical-align: top;\n",
       "    }\n",
       "\n",
       "    .dataframe thead th {\n",
       "        text-align: right;\n",
       "    }\n",
       "</style>\n",
       "<table border=\"1\" class=\"dataframe\">\n",
       "  <thead>\n",
       "    <tr style=\"text-align: right;\">\n",
       "      <th></th>\n",
       "      <th>review_type</th>\n",
       "      <th>review</th>\n",
       "    </tr>\n",
       "  </thead>\n",
       "  <tbody>\n",
       "    <tr>\n",
       "      <th>0</th>\n",
       "      <td>top_rated</td>\n",
       "      <td>I came to Daeho after checking out the Cherry ...</td>\n",
       "    </tr>\n",
       "    <tr>\n",
       "      <th>1</th>\n",
       "      <td>top_rated</td>\n",
       "      <td>Good food. Nice service.A bit noisy but worth ...</td>\n",
       "    </tr>\n",
       "    <tr>\n",
       "      <th>2</th>\n",
       "      <td>top_rated</td>\n",
       "      <td>I recently visited Daeho Kalbijjim &amp; Beef Soup...</td>\n",
       "    </tr>\n",
       "    <tr>\n",
       "      <th>3</th>\n",
       "      <td>top_rated</td>\n",
       "      <td>So gooooood, spicy but tasty. A little expensi...</td>\n",
       "    </tr>\n",
       "    <tr>\n",
       "      <th>4</th>\n",
       "      <td>top_rated</td>\n",
       "      <td>Just as amazing as the name lives up to be. Sp...</td>\n",
       "    </tr>\n",
       "    <tr>\n",
       "      <th>5</th>\n",
       "      <td>top_rated</td>\n",
       "      <td>This place is always busy and there is a good ...</td>\n",
       "    </tr>\n",
       "    <tr>\n",
       "      <th>6</th>\n",
       "      <td>top_rated</td>\n",
       "      <td>Very good, flavorful fresh food but very expen...</td>\n",
       "    </tr>\n",
       "    <tr>\n",
       "      <th>7</th>\n",
       "      <td>top_rated</td>\n",
       "      <td>Braised short rib...mild was perfect. So glad ...</td>\n",
       "    </tr>\n",
       "    <tr>\n",
       "      <th>8</th>\n",
       "      <td>top_rated</td>\n",
       "      <td>One of my favorite Korean spots for traditiona...</td>\n",
       "    </tr>\n",
       "    <tr>\n",
       "      <th>9</th>\n",
       "      <td>top_rated</td>\n",
       "      <td>Long wait to get the seat - about 2 and half h...</td>\n",
       "    </tr>\n",
       "  </tbody>\n",
       "</table>\n",
       "</div>"
      ],
      "text/plain": [
       "  review_type                                             review\n",
       "0   top_rated  I came to Daeho after checking out the Cherry ...\n",
       "1   top_rated  Good food. Nice service.A bit noisy but worth ...\n",
       "2   top_rated  I recently visited Daeho Kalbijjim & Beef Soup...\n",
       "3   top_rated  So gooooood, spicy but tasty. A little expensi...\n",
       "4   top_rated  Just as amazing as the name lives up to be. Sp...\n",
       "5   top_rated  This place is always busy and there is a good ...\n",
       "6   top_rated  Very good, flavorful fresh food but very expen...\n",
       "7   top_rated  Braised short rib...mild was perfect. So glad ...\n",
       "8   top_rated  One of my favorite Korean spots for traditiona...\n",
       "9   top_rated  Long wait to get the seat - about 2 and half h..."
      ]
     },
     "execution_count": 116,
     "metadata": {},
     "output_type": "execute_result"
    }
   ],
   "source": [
    "url = os.path.join(url_base, url_business)\n",
    "ys = YelpScraper(url,apikey)\n",
    "\n",
    "ys.search_single_restaurant('Daeho')"
   ]
  },
  {
   "cell_type": "code",
   "execution_count": 109,
   "metadata": {},
   "outputs": [],
   "source": [
    "df = pd.read_csv('chunky_restaurant_metadata_san_francisco.csv')"
   ]
  },
  {
   "cell_type": "code",
   "execution_count": 111,
   "metadata": {},
   "outputs": [
    {
     "data": {
      "text/plain": [
       "'https://www.yelp.com/biz/kothai-republic-san-francisco?adjust_creative=bpQq5NcAeZPqAmDOGLjWgA&utm_campaign=yelp_api_v3&utm_medium=api_v3_business_search&utm_source=bpQq5NcAeZPqAmDOGLjWgA'"
      ]
     },
     "execution_count": 111,
     "metadata": {},
     "output_type": "execute_result"
    }
   ],
   "source": [
    "urls = list(df['url'])\n",
    "urls[0]"
   ]
  },
  {
   "cell_type": "code",
   "execution_count": 112,
   "metadata": {},
   "outputs": [
    {
     "data": {
      "text/plain": [
       "[]"
      ]
     },
     "execution_count": 112,
     "metadata": {},
     "output_type": "execute_result"
    }
   ],
   "source": [
    "retrieve_reviews(urls[0])"
   ]
  },
  {
   "cell_type": "code",
   "execution_count": 34,
   "metadata": {},
   "outputs": [
    {
     "name": "stdout",
     "output_type": "stream",
     "text": [
      "0 Kothai Republic https://www.yelp.com/biz/kothai-republic-san-francisco?adjust_creative=bpQq5NcAeZPqAmDOGLjWgA&utm_campaign=yelp_api_v3&utm_medium=api_v3_business_search&utm_source=bpQq5NcAeZPqAmDOGLjWgA\n"
     ]
    }
   ],
   "source": [
    "for i, row in df.iterrows():\n",
    "    print(i,row['name'],row['url'])\n",
    "    break"
   ]
  },
  {
   "cell_type": "code",
   "execution_count": 79,
   "metadata": {},
   "outputs": [],
   "source": [
    "df = pd.read_csv('chunky_restaurant_metadata_san_francisco.csv')"
   ]
  },
  {
   "cell_type": "code",
   "execution_count": 80,
   "metadata": {},
   "outputs": [],
   "source": [
    "df2 = pd.read_csv('san_francisco_yelp_reviews.csv')"
   ]
  },
  {
   "cell_type": "code",
   "execution_count": 94,
   "metadata": {},
   "outputs": [
    {
     "data": {
      "text/html": [
       "<div>\n",
       "<style scoped>\n",
       "    .dataframe tbody tr th:only-of-type {\n",
       "        vertical-align: middle;\n",
       "    }\n",
       "\n",
       "    .dataframe tbody tr th {\n",
       "        vertical-align: top;\n",
       "    }\n",
       "\n",
       "    .dataframe thead th {\n",
       "        text-align: right;\n",
       "    }\n",
       "</style>\n",
       "<table border=\"1\" class=\"dataframe\">\n",
       "  <thead>\n",
       "    <tr style=\"text-align: right;\">\n",
       "      <th></th>\n",
       "      <th>Unnamed: 0</th>\n",
       "      <th>id</th>\n",
       "      <th>alias</th>\n",
       "      <th>name</th>\n",
       "      <th>image_url</th>\n",
       "      <th>is_closed</th>\n",
       "      <th>url</th>\n",
       "      <th>review_count</th>\n",
       "      <th>categories</th>\n",
       "      <th>rating</th>\n",
       "      <th>coordinates</th>\n",
       "      <th>transactions</th>\n",
       "      <th>location</th>\n",
       "      <th>phone</th>\n",
       "      <th>display_phone</th>\n",
       "      <th>distance</th>\n",
       "      <th>price</th>\n",
       "    </tr>\n",
       "  </thead>\n",
       "  <tbody>\n",
       "    <tr>\n",
       "      <th>467</th>\n",
       "      <td>467</td>\n",
       "      <td>_Iupdt0IslH_jU8zkKcWLA</td>\n",
       "      <td>pica-pica-arepa-kitchen-san-francisco</td>\n",
       "      <td>Pica Pica Arepa Kitchen</td>\n",
       "      <td>https://s3-media1.fl.yelpcdn.com/bphoto/hAWS9I...</td>\n",
       "      <td>False</td>\n",
       "      <td>https://www.yelp.com/biz/pica-pica-arepa-kitch...</td>\n",
       "      <td>1655</td>\n",
       "      <td>[{'alias': 'gluten_free', 'title': 'Gluten-Fre...</td>\n",
       "      <td>4.0</td>\n",
       "      <td>{'latitude': 37.76646996177495, 'longitude': -...</td>\n",
       "      <td>['pickup', 'delivery']</td>\n",
       "      <td>{'address1': '401 Valencia St', 'address2': ''...</td>\n",
       "      <td>1.415401e+10</td>\n",
       "      <td>(415) 400-5453</td>\n",
       "      <td>1420.330189</td>\n",
       "      <td>$$</td>\n",
       "    </tr>\n",
       "    <tr>\n",
       "      <th>468</th>\n",
       "      <td>468</td>\n",
       "      <td>1toCkhuD0b57iFotMu3XEQ</td>\n",
       "      <td>la-ciccia-san-francisco</td>\n",
       "      <td>La Ciccia</td>\n",
       "      <td>https://s3-media1.fl.yelpcdn.com/bphoto/A8WWAf...</td>\n",
       "      <td>False</td>\n",
       "      <td>https://www.yelp.com/biz/la-ciccia-san-francis...</td>\n",
       "      <td>1211</td>\n",
       "      <td>[{'alias': 'seafood', 'title': 'Seafood'}, {'a...</td>\n",
       "      <td>4.5</td>\n",
       "      <td>{'latitude': 37.7420027017, 'longitude': -122....</td>\n",
       "      <td>['delivery']</td>\n",
       "      <td>{'address1': '291 30th St', 'address2': '', 'a...</td>\n",
       "      <td>1.415551e+10</td>\n",
       "      <td>(415) 550-8114</td>\n",
       "      <td>2271.666247</td>\n",
       "      <td>$$$</td>\n",
       "    </tr>\n",
       "    <tr>\n",
       "      <th>469</th>\n",
       "      <td>469</td>\n",
       "      <td>md19wETpeFhjh4MkFi029A</td>\n",
       "      <td>oma-san-francisco-station-san-francisco-2</td>\n",
       "      <td>Oma San Francisco Station</td>\n",
       "      <td>https://s3-media4.fl.yelpcdn.com/bphoto/HdV7X_...</td>\n",
       "      <td>False</td>\n",
       "      <td>https://www.yelp.com/biz/oma-san-francisco-sta...</td>\n",
       "      <td>281</td>\n",
       "      <td>[{'alias': 'sushi', 'title': 'Sushi Bars'}, {'...</td>\n",
       "      <td>4.5</td>\n",
       "      <td>{'latitude': 37.785103, 'longitude': -122.430974}</td>\n",
       "      <td>['pickup', 'delivery']</td>\n",
       "      <td>{'address1': '1737 Post St', 'address2': 'Ste ...</td>\n",
       "      <td>NaN</td>\n",
       "      <td>NaN</td>\n",
       "      <td>2733.969896</td>\n",
       "      <td>$$$$</td>\n",
       "    </tr>\n",
       "    <tr>\n",
       "      <th>470</th>\n",
       "      <td>470</td>\n",
       "      <td>qlmq6PkToss9tot2dsSBvw</td>\n",
       "      <td>mesopotamia-kitchen-san-francisco</td>\n",
       "      <td>Mesopotamia Kitchen</td>\n",
       "      <td>https://s3-media1.fl.yelpcdn.com/bphoto/uaRziK...</td>\n",
       "      <td>False</td>\n",
       "      <td>https://www.yelp.com/biz/mesopotamia-kitchen-s...</td>\n",
       "      <td>95</td>\n",
       "      <td>[{'alias': 'mediterranean', 'title': 'Mediterr...</td>\n",
       "      <td>4.0</td>\n",
       "      <td>{'latitude': 37.751369, 'longitude': -122.430058}</td>\n",
       "      <td>['pickup', 'delivery']</td>\n",
       "      <td>{'address1': '3915 24th St', 'address2': None,...</td>\n",
       "      <td>1.415924e+10</td>\n",
       "      <td>(415) 923-8545</td>\n",
       "      <td>1193.846474</td>\n",
       "      <td>NaN</td>\n",
       "    </tr>\n",
       "    <tr>\n",
       "      <th>471</th>\n",
       "      <td>471</td>\n",
       "      <td>C1KKLpAVfOH4PsTHHWsAqQ</td>\n",
       "      <td>ap-s-cafe-san-francisco</td>\n",
       "      <td>Ap’s Cafe</td>\n",
       "      <td>https://s3-media2.fl.yelpcdn.com/bphoto/r4RNaX...</td>\n",
       "      <td>False</td>\n",
       "      <td>https://www.yelp.com/biz/ap-s-cafe-san-francis...</td>\n",
       "      <td>37</td>\n",
       "      <td>[{'alias': 'cafes', 'title': 'Cafes'}, {'alias...</td>\n",
       "      <td>5.0</td>\n",
       "      <td>{'latitude': 37.7513241022825, 'longitude': -1...</td>\n",
       "      <td>[]</td>\n",
       "      <td>{'address1': '4108 24th St', 'address2': '', '...</td>\n",
       "      <td>1.415642e+10</td>\n",
       "      <td>(415) 642-1316</td>\n",
       "      <td>1074.295738</td>\n",
       "      <td>NaN</td>\n",
       "    </tr>\n",
       "    <tr>\n",
       "      <th>...</th>\n",
       "      <td>...</td>\n",
       "      <td>...</td>\n",
       "      <td>...</td>\n",
       "      <td>...</td>\n",
       "      <td>...</td>\n",
       "      <td>...</td>\n",
       "      <td>...</td>\n",
       "      <td>...</td>\n",
       "      <td>...</td>\n",
       "      <td>...</td>\n",
       "      <td>...</td>\n",
       "      <td>...</td>\n",
       "      <td>...</td>\n",
       "      <td>...</td>\n",
       "      <td>...</td>\n",
       "      <td>...</td>\n",
       "      <td>...</td>\n",
       "    </tr>\n",
       "    <tr>\n",
       "      <th>995</th>\n",
       "      <td>995</td>\n",
       "      <td>2FOv-XAZ2sMIlrE5xJc1Hw</td>\n",
       "      <td>eight-tables-by-george-chen-san-francisco</td>\n",
       "      <td>Eight Tables by George Chen</td>\n",
       "      <td>https://s3-media2.fl.yelpcdn.com/bphoto/7Pf3h2...</td>\n",
       "      <td>False</td>\n",
       "      <td>https://www.yelp.com/biz/eight-tables-by-georg...</td>\n",
       "      <td>189</td>\n",
       "      <td>[{'alias': 'chinese', 'title': 'Chinese'}]</td>\n",
       "      <td>4.5</td>\n",
       "      <td>{'latitude': 37.797961624676915, 'longitude': ...</td>\n",
       "      <td>[]</td>\n",
       "      <td>{'address1': '8 Kenneth Rexroth Pl', 'address2...</td>\n",
       "      <td>1.415789e+10</td>\n",
       "      <td>(415) 788-8788</td>\n",
       "      <td>4827.211397</td>\n",
       "      <td>$$$$</td>\n",
       "    </tr>\n",
       "    <tr>\n",
       "      <th>996</th>\n",
       "      <td>996</td>\n",
       "      <td>ZYwPNxGy4iUNCxUrBROODA</td>\n",
       "      <td>bakesale-betty-san-francisco</td>\n",
       "      <td>Bakesale Betty</td>\n",
       "      <td>https://s3-media3.fl.yelpcdn.com/bphoto/Jh696i...</td>\n",
       "      <td>False</td>\n",
       "      <td>https://www.yelp.com/biz/bakesale-betty-san-fr...</td>\n",
       "      <td>37</td>\n",
       "      <td>[{'alias': 'burgers', 'title': 'Burgers'}, {'a...</td>\n",
       "      <td>2.0</td>\n",
       "      <td>{'latitude': 37.770356, 'longitude': -122.387253}</td>\n",
       "      <td>[]</td>\n",
       "      <td>{'address1': '500 Terry A Francois Blvd', 'add...</td>\n",
       "      <td>NaN</td>\n",
       "      <td>NaN</td>\n",
       "      <td>4351.638227</td>\n",
       "      <td>NaN</td>\n",
       "    </tr>\n",
       "    <tr>\n",
       "      <th>997</th>\n",
       "      <td>997</td>\n",
       "      <td>_C9lRxAPnhSA59inBPx4TA</td>\n",
       "      <td>palm-city-wines-san-francisco</td>\n",
       "      <td>Palm City Wines</td>\n",
       "      <td>https://s3-media2.fl.yelpcdn.com/bphoto/mROJKE...</td>\n",
       "      <td>False</td>\n",
       "      <td>https://www.yelp.com/biz/palm-city-wines-san-f...</td>\n",
       "      <td>183</td>\n",
       "      <td>[{'alias': 'wine_bars', 'title': 'Wine Bars'},...</td>\n",
       "      <td>4.5</td>\n",
       "      <td>{'latitude': 37.762309, 'longitude': -122.501596}</td>\n",
       "      <td>[]</td>\n",
       "      <td>{'address1': '4055 Irving St', 'address2': Non...</td>\n",
       "      <td>NaN</td>\n",
       "      <td>NaN</td>\n",
       "      <td>5730.169191</td>\n",
       "      <td>$$</td>\n",
       "    </tr>\n",
       "    <tr>\n",
       "      <th>998</th>\n",
       "      <td>998</td>\n",
       "      <td>xlrbrMiIgSv0RBjI5g4mYw</td>\n",
       "      <td>chisai-sushi-club-san-francisco-2</td>\n",
       "      <td>Chisai Sushi Club</td>\n",
       "      <td>https://s3-media4.fl.yelpcdn.com/bphoto/DzBCyq...</td>\n",
       "      <td>False</td>\n",
       "      <td>https://www.yelp.com/biz/chisai-sushi-club-san...</td>\n",
       "      <td>134</td>\n",
       "      <td>[{'alias': 'sushi', 'title': 'Sushi Bars'}, {'...</td>\n",
       "      <td>4.5</td>\n",
       "      <td>{'latitude': 37.74263, 'longitude': -122.42155}</td>\n",
       "      <td>[]</td>\n",
       "      <td>{'address1': '3369 Mission St', 'address2': ''...</td>\n",
       "      <td>NaN</td>\n",
       "      <td>NaN</td>\n",
       "      <td>2414.008751</td>\n",
       "      <td>$$$$</td>\n",
       "    </tr>\n",
       "    <tr>\n",
       "      <th>999</th>\n",
       "      <td>999</td>\n",
       "      <td>ZNj4xwodItEfFofNYxMEhw</td>\n",
       "      <td>the-shota-san-francisco</td>\n",
       "      <td>The Shota</td>\n",
       "      <td>https://s3-media2.fl.yelpcdn.com/bphoto/gP2sC7...</td>\n",
       "      <td>False</td>\n",
       "      <td>https://www.yelp.com/biz/the-shota-san-francis...</td>\n",
       "      <td>264</td>\n",
       "      <td>[{'alias': 'japanese', 'title': 'Japanese'}, {...</td>\n",
       "      <td>5.0</td>\n",
       "      <td>{'latitude': 37.79142, 'longitude': -122.40103}</td>\n",
       "      <td>['delivery']</td>\n",
       "      <td>{'address1': '115 Sansome St', 'address2': Non...</td>\n",
       "      <td>1.628224e+10</td>\n",
       "      <td>(628) 224-2074</td>\n",
       "      <td>4604.509989</td>\n",
       "      <td>$$$$</td>\n",
       "    </tr>\n",
       "  </tbody>\n",
       "</table>\n",
       "<p>533 rows × 17 columns</p>\n",
       "</div>"
      ],
      "text/plain": [
       "     Unnamed: 0                      id  \\\n",
       "467         467  _Iupdt0IslH_jU8zkKcWLA   \n",
       "468         468  1toCkhuD0b57iFotMu3XEQ   \n",
       "469         469  md19wETpeFhjh4MkFi029A   \n",
       "470         470  qlmq6PkToss9tot2dsSBvw   \n",
       "471         471  C1KKLpAVfOH4PsTHHWsAqQ   \n",
       "..          ...                     ...   \n",
       "995         995  2FOv-XAZ2sMIlrE5xJc1Hw   \n",
       "996         996  ZYwPNxGy4iUNCxUrBROODA   \n",
       "997         997  _C9lRxAPnhSA59inBPx4TA   \n",
       "998         998  xlrbrMiIgSv0RBjI5g4mYw   \n",
       "999         999  ZNj4xwodItEfFofNYxMEhw   \n",
       "\n",
       "                                         alias                         name  \\\n",
       "467      pica-pica-arepa-kitchen-san-francisco      Pica Pica Arepa Kitchen   \n",
       "468                    la-ciccia-san-francisco                    La Ciccia   \n",
       "469  oma-san-francisco-station-san-francisco-2    Oma San Francisco Station   \n",
       "470          mesopotamia-kitchen-san-francisco          Mesopotamia Kitchen   \n",
       "471                    ap-s-cafe-san-francisco                    Ap’s Cafe   \n",
       "..                                         ...                          ...   \n",
       "995  eight-tables-by-george-chen-san-francisco  Eight Tables by George Chen   \n",
       "996               bakesale-betty-san-francisco               Bakesale Betty   \n",
       "997              palm-city-wines-san-francisco              Palm City Wines   \n",
       "998          chisai-sushi-club-san-francisco-2            Chisai Sushi Club   \n",
       "999                    the-shota-san-francisco                    The Shota   \n",
       "\n",
       "                                             image_url  is_closed  \\\n",
       "467  https://s3-media1.fl.yelpcdn.com/bphoto/hAWS9I...      False   \n",
       "468  https://s3-media1.fl.yelpcdn.com/bphoto/A8WWAf...      False   \n",
       "469  https://s3-media4.fl.yelpcdn.com/bphoto/HdV7X_...      False   \n",
       "470  https://s3-media1.fl.yelpcdn.com/bphoto/uaRziK...      False   \n",
       "471  https://s3-media2.fl.yelpcdn.com/bphoto/r4RNaX...      False   \n",
       "..                                                 ...        ...   \n",
       "995  https://s3-media2.fl.yelpcdn.com/bphoto/7Pf3h2...      False   \n",
       "996  https://s3-media3.fl.yelpcdn.com/bphoto/Jh696i...      False   \n",
       "997  https://s3-media2.fl.yelpcdn.com/bphoto/mROJKE...      False   \n",
       "998  https://s3-media4.fl.yelpcdn.com/bphoto/DzBCyq...      False   \n",
       "999  https://s3-media2.fl.yelpcdn.com/bphoto/gP2sC7...      False   \n",
       "\n",
       "                                                   url  review_count  \\\n",
       "467  https://www.yelp.com/biz/pica-pica-arepa-kitch...          1655   \n",
       "468  https://www.yelp.com/biz/la-ciccia-san-francis...          1211   \n",
       "469  https://www.yelp.com/biz/oma-san-francisco-sta...           281   \n",
       "470  https://www.yelp.com/biz/mesopotamia-kitchen-s...            95   \n",
       "471  https://www.yelp.com/biz/ap-s-cafe-san-francis...            37   \n",
       "..                                                 ...           ...   \n",
       "995  https://www.yelp.com/biz/eight-tables-by-georg...           189   \n",
       "996  https://www.yelp.com/biz/bakesale-betty-san-fr...            37   \n",
       "997  https://www.yelp.com/biz/palm-city-wines-san-f...           183   \n",
       "998  https://www.yelp.com/biz/chisai-sushi-club-san...           134   \n",
       "999  https://www.yelp.com/biz/the-shota-san-francis...           264   \n",
       "\n",
       "                                            categories  rating  \\\n",
       "467  [{'alias': 'gluten_free', 'title': 'Gluten-Fre...     4.0   \n",
       "468  [{'alias': 'seafood', 'title': 'Seafood'}, {'a...     4.5   \n",
       "469  [{'alias': 'sushi', 'title': 'Sushi Bars'}, {'...     4.5   \n",
       "470  [{'alias': 'mediterranean', 'title': 'Mediterr...     4.0   \n",
       "471  [{'alias': 'cafes', 'title': 'Cafes'}, {'alias...     5.0   \n",
       "..                                                 ...     ...   \n",
       "995         [{'alias': 'chinese', 'title': 'Chinese'}]     4.5   \n",
       "996  [{'alias': 'burgers', 'title': 'Burgers'}, {'a...     2.0   \n",
       "997  [{'alias': 'wine_bars', 'title': 'Wine Bars'},...     4.5   \n",
       "998  [{'alias': 'sushi', 'title': 'Sushi Bars'}, {'...     4.5   \n",
       "999  [{'alias': 'japanese', 'title': 'Japanese'}, {...     5.0   \n",
       "\n",
       "                                           coordinates  \\\n",
       "467  {'latitude': 37.76646996177495, 'longitude': -...   \n",
       "468  {'latitude': 37.7420027017, 'longitude': -122....   \n",
       "469  {'latitude': 37.785103, 'longitude': -122.430974}   \n",
       "470  {'latitude': 37.751369, 'longitude': -122.430058}   \n",
       "471  {'latitude': 37.7513241022825, 'longitude': -1...   \n",
       "..                                                 ...   \n",
       "995  {'latitude': 37.797961624676915, 'longitude': ...   \n",
       "996  {'latitude': 37.770356, 'longitude': -122.387253}   \n",
       "997  {'latitude': 37.762309, 'longitude': -122.501596}   \n",
       "998    {'latitude': 37.74263, 'longitude': -122.42155}   \n",
       "999    {'latitude': 37.79142, 'longitude': -122.40103}   \n",
       "\n",
       "               transactions  \\\n",
       "467  ['pickup', 'delivery']   \n",
       "468            ['delivery']   \n",
       "469  ['pickup', 'delivery']   \n",
       "470  ['pickup', 'delivery']   \n",
       "471                      []   \n",
       "..                      ...   \n",
       "995                      []   \n",
       "996                      []   \n",
       "997                      []   \n",
       "998                      []   \n",
       "999            ['delivery']   \n",
       "\n",
       "                                              location         phone  \\\n",
       "467  {'address1': '401 Valencia St', 'address2': ''...  1.415401e+10   \n",
       "468  {'address1': '291 30th St', 'address2': '', 'a...  1.415551e+10   \n",
       "469  {'address1': '1737 Post St', 'address2': 'Ste ...           NaN   \n",
       "470  {'address1': '3915 24th St', 'address2': None,...  1.415924e+10   \n",
       "471  {'address1': '4108 24th St', 'address2': '', '...  1.415642e+10   \n",
       "..                                                 ...           ...   \n",
       "995  {'address1': '8 Kenneth Rexroth Pl', 'address2...  1.415789e+10   \n",
       "996  {'address1': '500 Terry A Francois Blvd', 'add...           NaN   \n",
       "997  {'address1': '4055 Irving St', 'address2': Non...           NaN   \n",
       "998  {'address1': '3369 Mission St', 'address2': ''...           NaN   \n",
       "999  {'address1': '115 Sansome St', 'address2': Non...  1.628224e+10   \n",
       "\n",
       "      display_phone     distance price  \n",
       "467  (415) 400-5453  1420.330189    $$  \n",
       "468  (415) 550-8114  2271.666247   $$$  \n",
       "469             NaN  2733.969896  $$$$  \n",
       "470  (415) 923-8545  1193.846474   NaN  \n",
       "471  (415) 642-1316  1074.295738   NaN  \n",
       "..              ...          ...   ...  \n",
       "995  (415) 788-8788  4827.211397  $$$$  \n",
       "996             NaN  4351.638227   NaN  \n",
       "997             NaN  5730.169191    $$  \n",
       "998             NaN  2414.008751  $$$$  \n",
       "999  (628) 224-2074  4604.509989  $$$$  \n",
       "\n",
       "[533 rows x 17 columns]"
      ]
     },
     "execution_count": 94,
     "metadata": {},
     "output_type": "execute_result"
    }
   ],
   "source": []
  },
  {
   "cell_type": "code",
   "execution_count": 90,
   "metadata": {},
   "outputs": [
    {
     "data": {
      "text/html": [
       "<div>\n",
       "<style scoped>\n",
       "    .dataframe tbody tr th:only-of-type {\n",
       "        vertical-align: middle;\n",
       "    }\n",
       "\n",
       "    .dataframe tbody tr th {\n",
       "        vertical-align: top;\n",
       "    }\n",
       "\n",
       "    .dataframe thead th {\n",
       "        text-align: right;\n",
       "    }\n",
       "</style>\n",
       "<table border=\"1\" class=\"dataframe\">\n",
       "  <thead>\n",
       "    <tr style=\"text-align: right;\">\n",
       "      <th></th>\n",
       "      <th>Unnamed: 0</th>\n",
       "      <th>id</th>\n",
       "      <th>alias</th>\n",
       "      <th>name</th>\n",
       "      <th>image_url</th>\n",
       "      <th>is_closed</th>\n",
       "      <th>url</th>\n",
       "      <th>review_count</th>\n",
       "      <th>categories</th>\n",
       "      <th>rating</th>\n",
       "      <th>coordinates</th>\n",
       "      <th>transactions</th>\n",
       "      <th>location</th>\n",
       "      <th>phone</th>\n",
       "      <th>display_phone</th>\n",
       "      <th>distance</th>\n",
       "      <th>price</th>\n",
       "    </tr>\n",
       "  </thead>\n",
       "  <tbody>\n",
       "    <tr>\n",
       "      <th>468</th>\n",
       "      <td>468</td>\n",
       "      <td>1toCkhuD0b57iFotMu3XEQ</td>\n",
       "      <td>la-ciccia-san-francisco</td>\n",
       "      <td>La Ciccia</td>\n",
       "      <td>https://s3-media1.fl.yelpcdn.com/bphoto/A8WWAf...</td>\n",
       "      <td>False</td>\n",
       "      <td>https://www.yelp.com/biz/la-ciccia-san-francis...</td>\n",
       "      <td>1211</td>\n",
       "      <td>[{'alias': 'seafood', 'title': 'Seafood'}, {'a...</td>\n",
       "      <td>4.5</td>\n",
       "      <td>{'latitude': 37.7420027017, 'longitude': -122....</td>\n",
       "      <td>['delivery']</td>\n",
       "      <td>{'address1': '291 30th St', 'address2': '', 'a...</td>\n",
       "      <td>1.415551e+10</td>\n",
       "      <td>(415) 550-8114</td>\n",
       "      <td>2271.666247</td>\n",
       "      <td>$$$</td>\n",
       "    </tr>\n",
       "  </tbody>\n",
       "</table>\n",
       "</div>"
      ],
      "text/plain": [
       "     Unnamed: 0                      id                    alias       name  \\\n",
       "468         468  1toCkhuD0b57iFotMu3XEQ  la-ciccia-san-francisco  La Ciccia   \n",
       "\n",
       "                                             image_url  is_closed  \\\n",
       "468  https://s3-media1.fl.yelpcdn.com/bphoto/A8WWAf...      False   \n",
       "\n",
       "                                                   url  review_count  \\\n",
       "468  https://www.yelp.com/biz/la-ciccia-san-francis...          1211   \n",
       "\n",
       "                                            categories  rating  \\\n",
       "468  [{'alias': 'seafood', 'title': 'Seafood'}, {'a...     4.5   \n",
       "\n",
       "                                           coordinates  transactions  \\\n",
       "468  {'latitude': 37.7420027017, 'longitude': -122....  ['delivery']   \n",
       "\n",
       "                                              location         phone  \\\n",
       "468  {'address1': '291 30th St', 'address2': '', 'a...  1.415551e+10   \n",
       "\n",
       "      display_phone     distance price  \n",
       "468  (415) 550-8114  2271.666247   $$$  "
      ]
     },
     "execution_count": 90,
     "metadata": {},
     "output_type": "execute_result"
    }
   ],
   "source": [
    "# stopped at La Ciccia\n",
    "\n",
    "df[df['name'] == 'La Ciccia']"
   ]
  },
  {
   "cell_type": "code",
   "execution_count": 98,
   "metadata": {},
   "outputs": [
    {
     "data": {
      "text/plain": [
       "0"
      ]
     },
     "execution_count": 98,
     "metadata": {},
     "output_type": "execute_result"
    }
   ],
   "source": [
    "100 % 25"
   ]
  },
  {
   "cell_type": "code",
   "execution_count": 99,
   "metadata": {},
   "outputs": [
    {
     "name": "stdout",
     "output_type": "stream",
     "text": [
      "475 Jin Mi Korean Cuisine\n",
      "500 Roam Artisan Burgers\n",
      "525 Cotogna\n",
      "550 Okane\n",
      "575 Blackwood\n",
      "600 Outre\n",
      "625 Jackson Fillmore Trattoria\n",
      "650 The Patio\n",
      "675 Tartine Inner Sunset\n",
      "700 Oasis Grill\n",
      "725 Slice House Haight by Tony Gemignani\n",
      "750 La Cocina Municipal Marketplace\n",
      "775 Geary Kebab House\n",
      "800 WesBurger 'N' More\n",
      "825 The Terrace\n",
      "850 Cracked & Battered - Potrero Hill\n",
      "875 Hidden Spot EXL\n",
      "900 Tony's Cable Car Restaurant\n",
      "925 Thai House Express\n",
      "950 54 Mint - Ristorante Italiano\n",
      "975 Amarena\n"
     ]
    }
   ],
   "source": [
    "df = pd.read_csv('chunky_restaurant_metadata_san_francisco.csv')\n",
    "df = df.iloc[467:]\n",
    "rated_content_concat = pd.DataFrame()\n",
    "\n",
    "for i, row in df.iterrows():\n",
    "    if i % 25 == 0:\n",
    "        print(i, row['name'])\n",
    "        \n",
    "    url = row['url']\n",
    "    scrape_url = url.split('?')[0]\n",
    "\n",
    "    top_rated_url = os.path.join(scrape_url,'?sort_by=rating_desc')\n",
    "    low_rated_url = os.path.join(scrape_url,'?sort_by=rating_asc')\n",
    "    newest_rated_url = os.path.join(scrape_url,'?sort_by=date_desc')\n",
    "    elite_rated_url = os.path.join(scrape_url,'?sort_by=elites_desc')\n",
    "\n",
    "    top_rated_content = retrieve_reviews(top_rated_url)\n",
    "    sleep(2)\n",
    "    low_rated_content = retrieve_reviews(low_rated_url)\n",
    "    sleep(2)\n",
    "    new_rated_content = retrieve_reviews(newest_rated_url)\n",
    "    sleep(2)\n",
    "    elite_rated_content = retrieve_reviews(elite_rated_url)\n",
    "    sleep(2)\n",
    "\n",
    "\n",
    "    top_rated_df = pd.DataFrame({'review_type':['top_rated']*len(top_rated_content),\n",
    "                                    'review':top_rated_content})\n",
    "\n",
    "    low_rated_df = pd.DataFrame({'review_type':['low_rated']*len(low_rated_content),\n",
    "                                    'review':low_rated_content})\n",
    "    \n",
    "    newest_rated_df = pd.DataFrame({'review_type':['newest_rated']*len(new_rated_content),\n",
    "                                    'review':new_rated_content})\n",
    "    \n",
    "    elite_rated_df = pd.DataFrame({'review_type':['elite_rated']*len(elite_rated_content),\n",
    "                                    'review':elite_rated_content})\n",
    "    \n",
    "    \n",
    "    rated_content = pd.concat([top_rated_df,low_rated_df,\n",
    "                                newest_rated_df,elite_rated_df]).reset_index(drop=True)\n",
    "    if len(rated_content['review_type'].unique()) != 4:\n",
    "        with open('missed_reviews.txt', 'w') as f:\n",
    "            msg = f'MISSED RESTAURANT: {row[\"name\"]} \\n'\n",
    "            f.write(msg)\n",
    "    \n",
    "    \n",
    "    rated_content['name'] = [row['name']] * len(rated_content)\n",
    "    rated_content['id'] = [row['id']] * len(rated_content)\n",
    "    rated_content = rated_content[['id','name','review_type','review']]\n",
    "    \n",
    "    rated_content_concat = pd.concat([rated_content_concat,rated_content]).reset_index(drop=True)\n",
    "    \n",
    "    rated_content_concat.to_csv('san_francisco_yelp_reviews_2.csv',index=False)"
   ]
  },
  {
   "cell_type": "code",
   "execution_count": 103,
   "metadata": {},
   "outputs": [],
   "source": [
    "a = pd.read_csv('san_francisco_yelp_reviews.csv')\n",
    "b = pd.read_csv('san_francisco_yelp_reviews_2.csv')\n",
    "pd.concat([a,b]).reset_index(drop=False).to_csv('san_francisco_yelp_reviews_final.csv')"
   ]
  },
  {
   "cell_type": "code",
   "execution_count": 66,
   "metadata": {},
   "outputs": [],
   "source": [
    "test = pd.read_csv('san_francisco_yelp_reviews.csv')\n"
   ]
  },
  {
   "cell_type": "code",
   "execution_count": 69,
   "metadata": {},
   "outputs": [
    {
     "data": {
      "text/plain": [
       "458"
      ]
     },
     "execution_count": 69,
     "metadata": {},
     "output_type": "execute_result"
    }
   ],
   "source": [
    "len(test['name'].unique())"
   ]
  },
  {
   "cell_type": "code",
   "execution_count": 104,
   "metadata": {},
   "outputs": [
    {
     "data": {
      "text/plain": [
       "34171"
      ]
     },
     "execution_count": 104,
     "metadata": {},
     "output_type": "execute_result"
    }
   ],
   "source": []
  },
  {
   "cell_type": "code",
   "execution_count": 54,
   "metadata": {},
   "outputs": [
    {
     "data": {
      "text/plain": [
       "'https://www.yelp.com/biz/kothai-republic-san-francisco/?sort_by=rating_asc'"
      ]
     },
     "execution_count": 54,
     "metadata": {},
     "output_type": "execute_result"
    }
   ],
   "source": [
    "low_rated_url"
   ]
  },
  {
   "cell_type": "code",
   "execution_count": 52,
   "metadata": {},
   "outputs": [],
   "source": [
    "scrape_url = urls[0].split('?')[0]\n",
    "low_rated_url = os.path.join(scrape_url,'?sort_by=rating_asc')\n",
    "low_rated_content = retrieve_reviews(low_rated_url)\n"
   ]
  },
  {
   "cell_type": "code",
   "execution_count": 53,
   "metadata": {},
   "outputs": [
    {
     "data": {
      "text/plain": [
       "[\"- everything about kothai is aesthetic - they have a gorgeous, modern interior with wood tones, and their choice of tableware is minimalist, but sophisticated. my friends were impressed by the weight of the sharing plates haha - the menu isn't that extensive (only 1 page long), and they seem to change it periodically- service could've been a little better. we had a pretty large group so we made a reservation, but still had to wait a fair bit before being seated. they also took a while to take our order and get us the check. - portions are larger IRL than in the pictures which we were pleasantly surprised by!- they have a garlic chili crunch sauce and a green garlic chili sauce which was actually pretty spicy- spicy korean noodle (3/5): the plating was nice, but the flavors did not impress me unfortunately. this is a cold noodle dish (which the waitress double-checked i knew after i ordered) that comes with pork jowl. the pork was a little too salty and the spicy sauce that the noodles were coated in wasn't anything impressive. it wasn't that spicy, but you can definitely feel it on your lips by the time you finish your meal. - korean BBQ skirt (4/5): steak was at a perfect medium rare, and super juicy and flavorful. the kalbi marinade was just the right amount of sweetness, and paired well with the burnt onion puree/sauce which was earthy, full of umami, and had just the right hint of horseradish. a little on the pricey side though. - i tried my friend's beef noodle soup, and it just tasted like taiwanese beef noodle soup with more mild flavors. - kothai attempts a korean and thai fusion, however the fusion of the flavors from these two cuisines doesn't seem to complement one another too well. the flavors are just a little off, and leaves me craving the authentic version instead. - i had been wanting to try this place due to the hype, and though it is very aesthetically pleasing, the food unfortunately fell flat, and i most likely wouldn't come back again\",\n",
       " 'The food was overall not bad. It was decent, nothing special, but the portions were extremely tiny for an absurd price (the price of two appetizers and one entree was $50). Although it wasn\\'t bad, it was definitely not worth the price. I\\'ve had better Korean/Thai food at a way cheaper price. Some would say it\\'s quality over quantity, which is what I thought before my experience, but afterwards, I can confidently say that it is more about presentation than anything else.Regardless of the food, I had more of a problem with the service and my waiter in general. I don\\'t want to name any names or call anyone out due to their job safety, but my whole table was completely taken aback by a comment he had made at the end of our meal. My group had stopped by for a quick bite to eat before leaving the city and had literally just stopped for boba on the way there. We came into the restaurant with our boba drinks as well. After eating (two appetizers and one entree), our waiter came up to our table and asked us, word for word, \"Was there something wrong with the food? Did you not like it?\" I proceeded to tell him that everything was fine. He explained that he asked us because we \"had not eaten much\". However we were just not extremely hungry, or willing to pay that price for a satisfactory meal. Not to mention, there were very few things on the menu. The comment made by the waiter severely influenced my decision to write this review. It was definitely an irregular and quite disrespectful question to ask a customer, and I was shocked by the audacity he had to ask it.',\n",
       " \"Ordered the Tom yum and the beef noodle soup the other day! In terms of the flavor - I thought both were pretty decent. Tom yum had just a bit of a kick and classic soury soupiness. I wish the beef noodle soup would have had a deeper/richer flavor of the beef broth and a bit less sweetness which I guess can come down to personal preference as well.Loved the ambience/decor of the restaurant as Idt there are too many like this in the 9th ave area. I think it's a bit pricer (both were $22-23) than what I was expecting, but reasonable if you factor in the general ambience of the restaurant.\",\n",
       " \"Kothai Republic has so much potential and I can foresee that if they tweak their dishes just a bit, this place can exceed expectations. Came here on a Tuesday and there was no one in the restaurant but my boyfriend and I were enticed but the pictures so we decided to give it a try.Waitress was amiable, quick and efficient and made sure we were checked up on constantly. The food, on the other hand, was of high quality ingredients but I didn't really care much for the execution of the dishes. The pear and beet salad was a strange combo and the sweetness of the pears overwhelmed the overall crisp salad which I personally could not palate. The beef noodle soup was delicious but the broth was overly salty for me. The beef was tender and juicy and made up for the broth. The noodles were cooked to perfection and was able to withhold \\xa0the flavors the broth well.Overall, I do see this place taking off in the near future.\",\n",
       " \"Amazing service, very clean, lots of sunlight, and delicious food. The service is very attentive, all cutlery and plates were very clean, and the seats comfortable to sit on. The noodles and rice dishes are completely worth it. They were delicious and one plate/bowl could be shared with ~3 people, or you could eat it for one person and be completely full.However, the amount of food for some the appetizers is quite small for how expensive it is per plate. For example, the Thai Crudo and the Kimchi Rice Balls are quite expensive for only a few bites. I wish the Thai Crudo had more raw fish ): only a few bites more please!I also thought some of the appetizers and entree plates aren't quite balanced -- I personally felt some of the plates could use some acidity, be it lime, pickled vegetables, etc. Additionally, it would also be great if they had multiple desserts to try, but it's okay since the street the restaurant is on has multiple dessert places. All in all, as a Thai person who ate here, I enjoyed it and thought it was worth trying at least once.\",\n",
       " \"Came here last week to get some lunch for my friend's birthday and I am so glad that we picked this place! I had no idea what to expect initially given their shorter menu that deviated from common Thai and Korean dishes but boy was this place amazing. I ordered the Korean Spicy Noodle with Grilled Chicken and Peanut Sauce and the Tom Yum Noodle Soup. Both items were absolutely delicious! The chef did such a great job with flavor and the dishes were perfectly balanced with elements of spiciness, sweetness, and some acidity. Kothai is clearly very intentional with what they put on the menu and work hard to perfect those dishes. On top of the delicious food, a free Cheesecake topped with a tasty Apple Crumble was given to my friend for free to celebrate her birthday. The cheesecake was not overly sweet and had a nice crunch due to the apple crumble topping. The service was incredible as well with prompt and friendly servers. I will definitely be coming back here again! Do check this place out when you are craving some delicious food without a pretentious ambience.\",\n",
       " \"Ambiance: it's cozy - great for night out with friends. Maybe a little tight for romantic date night. Servers were all super friendly and gave great recommendations on the menu. Food:Kbbq Skirt Steak [4/5]: yummy, tender, juicy - with fantastic marinade. Burnt onion puree was a nice sweet touch. Hamachi collar [4/5]: probably my favorite part of any fish because the meat is so tender here. (My BF thought it was slightly fishy but he isn't a huge seafood fan - I thought it was perfectly fine) Skin was crispy as well and loved the kick of the chili oil. Ceviche [5/5]: this dish came first and WOW. I absolutely LOVED this. The red shrimp had a nice tangy bite, loved the kick of the garlic. Had great texture, was super fresh, light, and super tasty. 10/10 recommend!! Korean Spicy Noodle [4/5]: was yummy and what you'd expect from spicy cold noodles. The grilled pork jowl had tasty marinade on it (my BF said it tasted like tofu hahaha - not a bad thing just an interesting comment) but was enjoyable. It was kinda cold that day so probably shouldve gone with a soupy noodle. Apple Pie Cheesecake [4/5]: cheesecake in a mason jar - super cute and yummy. Tasted exactly like your traditional apple pie and of fall :)\",\n",
       " 'The restaurant decorated nicely. It has the perfect vibe for rainy day with the tall glass windows. The customer service was awesome! They constantly filled your water. I ordered the spicy Tom Yum. The bowl looked small, but there were so much food (lots of noodles). I really enjoyed the spiciness of this dish. It was not fake or crazy spicy. The shrimps were fresh and jumbo size. Would totally go here again!',\n",
       " 'Definitely lived up to the 5 star rating. The food was very good and it was in a great location. We enjoyed the sights and sounds while enjoying fine beef noodle soup.',\n",
       " 'Overall great experience! The food always was surprising, tasty and well executed. In my opinion, the restaurant offers an amazing price/value and would recommend if you want to enjoy a more \"upscale\" cuisine.The \"Kimchi Rice Ball\" were definitely my favorite! We also took the chicken toast which was full of different spices and mix of flavors. To enjoy it the best, make sure you divide the toppings, cucumber & red onion, equally as they definitely offer a nice final touch to the dish. Unfortunately, some of the appetizers were already sold out when we arrive, 7:30PM, which was a bit surprising and disappointing.The TomYum Noodle Soup has a good balance between the two cuisines. I really enjoy the bites of crispy pork belly! The dish can be spicy.The dessert was a Apple Crumble cheesecake - light and yummy! I personally prefer my apples with a bit less cinnamon and a bit more caramelized.On another note, some table might be cold as people get in and out of the restaurant. I would suggest (1) put the wait long sign on the window so people\\'s don\\'t have to get in which will result in less traffic and (2) maybe a curtain or fake wall around the door could help with the cold from outside and create a nice separation.']"
      ]
     },
     "execution_count": 53,
     "metadata": {},
     "output_type": "execute_result"
    }
   ],
   "source": [
    "low_rated_content"
   ]
  },
  {
   "cell_type": "code",
   "execution_count": 46,
   "metadata": {},
   "outputs": [
    {
     "data": {
      "text/plain": [
       "'https://www.yelp.com/biz/kothai-republic-san-francisco?adjust_creative=bpQq5NcAeZPqAmDOGLjWgA&utm_campaign=yelp_api_v3&utm_medium=api_v3_business_search&utm_source=bpQq5NcAeZPqAmDOGLjWgA'"
      ]
     },
     "execution_count": 46,
     "metadata": {},
     "output_type": "execute_result"
    }
   ],
   "source": []
  },
  {
   "cell_type": "code",
   "execution_count": 74,
   "metadata": {},
   "outputs": [
    {
     "data": {
      "text/plain": [
       "458"
      ]
     },
     "execution_count": 74,
     "metadata": {},
     "output_type": "execute_result"
    }
   ],
   "source": [
    "len(pd.read_csv('san_francisco_yelp_reviews.csv')['name'].unique())"
   ]
  },
  {
   "cell_type": "code",
   "execution_count": 73,
   "metadata": {},
   "outputs": [
    {
     "data": {
      "text/plain": [
       "972"
      ]
     },
     "execution_count": 73,
     "metadata": {},
     "output_type": "execute_result"
    }
   ],
   "source": [
    "len(pd.read_csv('chunky_restaurant_metadata_san_francisco.csv')['name'].unique())"
   ]
  },
  {
   "cell_type": "code",
   "execution_count": 75,
   "metadata": {},
   "outputs": [
    {
     "data": {
      "text/html": [
       "<div>\n",
       "<style scoped>\n",
       "    .dataframe tbody tr th:only-of-type {\n",
       "        vertical-align: middle;\n",
       "    }\n",
       "\n",
       "    .dataframe tbody tr th {\n",
       "        vertical-align: top;\n",
       "    }\n",
       "\n",
       "    .dataframe thead th {\n",
       "        text-align: right;\n",
       "    }\n",
       "</style>\n",
       "<table border=\"1\" class=\"dataframe\">\n",
       "  <thead>\n",
       "    <tr style=\"text-align: right;\">\n",
       "      <th></th>\n",
       "      <th>id</th>\n",
       "      <th>name</th>\n",
       "      <th>review_type</th>\n",
       "      <th>review</th>\n",
       "    </tr>\n",
       "  </thead>\n",
       "  <tbody>\n",
       "    <tr>\n",
       "      <th>0</th>\n",
       "      <td>s2R3RUJ09eBFvHVIUS4Shg</td>\n",
       "      <td>Kothai Republic</td>\n",
       "      <td>top_rated</td>\n",
       "      <td>Great experience at this new 3.5 month old Kor...</td>\n",
       "    </tr>\n",
       "    <tr>\n",
       "      <th>1</th>\n",
       "      <td>s2R3RUJ09eBFvHVIUS4Shg</td>\n",
       "      <td>Kothai Republic</td>\n",
       "      <td>top_rated</td>\n",
       "      <td>opopopopopopopopopopopopopopopopopopopopopopop...</td>\n",
       "    </tr>\n",
       "    <tr>\n",
       "      <th>2</th>\n",
       "      <td>s2R3RUJ09eBFvHVIUS4Shg</td>\n",
       "      <td>Kothai Republic</td>\n",
       "      <td>top_rated</td>\n",
       "      <td>Everything here is excellent. My favorites are...</td>\n",
       "    </tr>\n",
       "    <tr>\n",
       "      <th>3</th>\n",
       "      <td>s2R3RUJ09eBFvHVIUS4Shg</td>\n",
       "      <td>Kothai Republic</td>\n",
       "      <td>top_rated</td>\n",
       "      <td>This ambiance and decor was well appointed and...</td>\n",
       "    </tr>\n",
       "    <tr>\n",
       "      <th>4</th>\n",
       "      <td>s2R3RUJ09eBFvHVIUS4Shg</td>\n",
       "      <td>Kothai Republic</td>\n",
       "      <td>top_rated</td>\n",
       "      <td>We had reservations for seven at Kothai when i...</td>\n",
       "    </tr>\n",
       "    <tr>\n",
       "      <th>...</th>\n",
       "      <td>...</td>\n",
       "      <td>...</td>\n",
       "      <td>...</td>\n",
       "      <td>...</td>\n",
       "    </tr>\n",
       "    <tr>\n",
       "      <th>16306</th>\n",
       "      <td>1toCkhuD0b57iFotMu3XEQ</td>\n",
       "      <td>La Ciccia</td>\n",
       "      <td>elite_rated</td>\n",
       "      <td>Yum!Their pastas ARE more delicious at the res...</td>\n",
       "    </tr>\n",
       "    <tr>\n",
       "      <th>16307</th>\n",
       "      <td>1toCkhuD0b57iFotMu3XEQ</td>\n",
       "      <td>La Ciccia</td>\n",
       "      <td>elite_rated</td>\n",
       "      <td>This was our first time. Our friend recommende...</td>\n",
       "    </tr>\n",
       "    <tr>\n",
       "      <th>16308</th>\n",
       "      <td>1toCkhuD0b57iFotMu3XEQ</td>\n",
       "      <td>La Ciccia</td>\n",
       "      <td>elite_rated</td>\n",
       "      <td>Continues to be one of the best places in SF. ...</td>\n",
       "    </tr>\n",
       "    <tr>\n",
       "      <th>16309</th>\n",
       "      <td>1toCkhuD0b57iFotMu3XEQ</td>\n",
       "      <td>La Ciccia</td>\n",
       "      <td>elite_rated</td>\n",
       "      <td>Great local spot. Loved: Pasta with cured fish...</td>\n",
       "    </tr>\n",
       "    <tr>\n",
       "      <th>16310</th>\n",
       "      <td>1toCkhuD0b57iFotMu3XEQ</td>\n",
       "      <td>La Ciccia</td>\n",
       "      <td>elite_rated</td>\n",
       "      <td>Pasta is their craft here, and if you're looki...</td>\n",
       "    </tr>\n",
       "  </tbody>\n",
       "</table>\n",
       "<p>16311 rows × 4 columns</p>\n",
       "</div>"
      ],
      "text/plain": [
       "                           id             name  review_type  \\\n",
       "0      s2R3RUJ09eBFvHVIUS4Shg  Kothai Republic    top_rated   \n",
       "1      s2R3RUJ09eBFvHVIUS4Shg  Kothai Republic    top_rated   \n",
       "2      s2R3RUJ09eBFvHVIUS4Shg  Kothai Republic    top_rated   \n",
       "3      s2R3RUJ09eBFvHVIUS4Shg  Kothai Republic    top_rated   \n",
       "4      s2R3RUJ09eBFvHVIUS4Shg  Kothai Republic    top_rated   \n",
       "...                       ...              ...          ...   \n",
       "16306  1toCkhuD0b57iFotMu3XEQ        La Ciccia  elite_rated   \n",
       "16307  1toCkhuD0b57iFotMu3XEQ        La Ciccia  elite_rated   \n",
       "16308  1toCkhuD0b57iFotMu3XEQ        La Ciccia  elite_rated   \n",
       "16309  1toCkhuD0b57iFotMu3XEQ        La Ciccia  elite_rated   \n",
       "16310  1toCkhuD0b57iFotMu3XEQ        La Ciccia  elite_rated   \n",
       "\n",
       "                                                  review  \n",
       "0      Great experience at this new 3.5 month old Kor...  \n",
       "1      opopopopopopopopopopopopopopopopopopopopopopop...  \n",
       "2      Everything here is excellent. My favorites are...  \n",
       "3      This ambiance and decor was well appointed and...  \n",
       "4      We had reservations for seven at Kothai when i...  \n",
       "...                                                  ...  \n",
       "16306  Yum!Their pastas ARE more delicious at the res...  \n",
       "16307  This was our first time. Our friend recommende...  \n",
       "16308  Continues to be one of the best places in SF. ...  \n",
       "16309  Great local spot. Loved: Pasta with cured fish...  \n",
       "16310  Pasta is their craft here, and if you're looki...  \n",
       "\n",
       "[16311 rows x 4 columns]"
      ]
     },
     "execution_count": 75,
     "metadata": {},
     "output_type": "execute_result"
    }
   ],
   "source": [
    "pd.read_csv('san_francisco_yelp_reviews.csv')"
   ]
  },
  {
   "cell_type": "code",
   "execution_count": null,
   "metadata": {},
   "outputs": [],
   "source": []
  }
 ],
 "metadata": {
  "kernelspec": {
   "display_name": "pendulum",
   "language": "python",
   "name": "python3"
  },
  "language_info": {
   "codemirror_mode": {
    "name": "ipython",
    "version": 3
   },
   "file_extension": ".py",
   "mimetype": "text/x-python",
   "name": "python",
   "nbconvert_exporter": "python",
   "pygments_lexer": "ipython3",
   "version": "3.9.16"
  },
  "orig_nbformat": 4
 },
 "nbformat": 4,
 "nbformat_minor": 2
}
