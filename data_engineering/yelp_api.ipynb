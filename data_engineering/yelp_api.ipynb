{
 "cells": [
  {
   "cell_type": "code",
   "execution_count": 6,
   "metadata": {},
   "outputs": [],
   "source": [
    "import pandas as pd \n",
    "import requests \n",
    "import numpy as np\n",
    "import json \n",
    "import os \n",
    "\n",
    "from bs4 import BeautifulSoup\n",
    "from time import sleep\n",
    "from datetime import datetime"
   ]
  },
  {
   "cell_type": "code",
   "execution_count": 2,
   "metadata": {},
   "outputs": [],
   "source": [
    "url_base = 'https://api.yelp.com/v3/'\n",
    "\n",
    "url_review = 'businesses/{id}/reviews'\n",
    "url_business = 'businesses/search'"
   ]
  },
  {
   "cell_type": "code",
   "execution_count": 4,
   "metadata": {},
   "outputs": [],
   "source": [
    "apikey = 'Bearer CrgilvjOJW-U-DnMiyFz_xypRqtVtfL_yekfgb4Kg5xNRWe1A83s2llrJ7RxnXYa0iqT8GwTCHJZKvYMHL7CmV1zJPe0D1_jWrH8W0bMxTtR6Ufksbg5REDVrSDbY3Yx'"
   ]
  },
  {
   "cell_type": "code",
   "execution_count": 8,
   "metadata": {},
   "outputs": [
    {
     "data": {
      "text/plain": [
       "'https://api.yelp.com/v3/businesses/search'"
      ]
     },
     "execution_count": 8,
     "metadata": {},
     "output_type": "execute_result"
    }
   ],
   "source": [
    "url = os.path.join(url_base, url_business)\n",
    "url"
   ]
  },
  {
   "cell_type": "code",
   "execution_count": 9,
   "metadata": {},
   "outputs": [],
   "source": [
    "api_header = {'Authorization': apikey, 'accept': 'application/json'}\n"
   ]
  },
  {
   "cell_type": "code",
   "execution_count": 17,
   "metadata": {},
   "outputs": [],
   "source": [
    "params = {\n",
    "    'location': 'san francisco',\n",
    "    'term': 'Soup',\n",
    "    'limit': 1,\n",
    "    'offset': 0\n",
    "}\n",
    "\n",
    "r = requests.get(url, headers=api_header, params=params)"
   ]
  },
  {
   "cell_type": "code",
   "execution_count": 95,
   "metadata": {},
   "outputs": [],
   "source": [
    "def search_for_restaurant(term,location='San Francisco'):\n",
    "    params = {\n",
    "        'location': location,\n",
    "        'term':term,\n",
    "        'limit': 1,\n",
    "        'offset': 0\n",
    "    }\n",
    "    r = requests.get(url,headers=api_header,params=params)\n",
    "    result = json.loads(r.text)\n",
    "    scrape_url = result['businesses'][0]['url'].split('?')[0]\n",
    "\n",
    "    top_rated_url = os.path.join(scrape_url,'?sort_by=rating_desc')\n",
    "    low_rated_url = os.path.join(scrape_url,'?sort_by=rating_asc')\n",
    "    newest_rated_url = os.path.join(scrape_url,'?sort_by=date_desc')\n",
    "    elite_rated_url = os.path.join(scrape_url,'?sort_by=elites_desc')\n",
    "\n",
    "    top_rated_content = retrieve_reviews(top_rated_url)\n",
    "    # low_rated_content = requests.get(low_rated_url)\n",
    "    # new_rated_content = requests.get(newest_rated_url)\n",
    "    # elite_rated_content = requests.get(elite_rated_url)\n",
    "\n",
    "    return top_rated_content\n"
   ]
  },
  {
   "cell_type": "code",
   "execution_count": 98,
   "metadata": {},
   "outputs": [],
   "source": [
    "def retrieve_reviews(url):\n",
    "    content = requests.get(url)\n",
    "    soup = BeautifulSoup(content.content, \"html.parser\")\n",
    "    relevant = soup.find_all('p', class_='comment__09f24__gu0rG css-qgunke')\n",
    "    reviews = []\n",
    "    \n",
    "    for rev in relevant:\n",
    "        review = rev.find('span').getText()\n",
    "        reviews.append(review)\n",
    "        print(review)\n",
    "\n",
    "    return reviews\n",
    "\n",
    "\n"
   ]
  },
  {
   "cell_type": "code",
   "execution_count": 99,
   "metadata": {},
   "outputs": [
    {
     "data": {
      "text/plain": [
       "\"Long wait to get the seat - about 2 and half hours. However, the food is amazing!! You almost forgot about the wait after trying their braised beef stew - it so good and don't forget to add torched cheese on the top!!\""
      ]
     },
     "execution_count": 99,
     "metadata": {},
     "output_type": "execute_result"
    }
   ],
   "source": [
    "search_for_restaurant('Daeho')"
   ]
  },
  {
   "cell_type": "code",
   "execution_count": 30,
   "metadata": {},
   "outputs": [],
   "source": [
    "params = {\n",
    "    'location': 'San Francisco',\n",
    "    'term': 'Daeho',\n",
    "    'limit': 1,\n",
    "    'offset': 0\n",
    "}\n",
    "\n",
    "r = requests.get(url, headers=api_header, params=params)"
   ]
  },
  {
   "cell_type": "code",
   "execution_count": 46,
   "metadata": {},
   "outputs": [],
   "source": [
    "result = json.loads(r.text)\n",
    "scrape_url = result['businesses'][0]['url'].split('?')[0]"
   ]
  },
  {
   "cell_type": "code",
   "execution_count": 47,
   "metadata": {},
   "outputs": [],
   "source": [
    "a = requests.get(scrape_url)"
   ]
  },
  {
   "cell_type": "code",
   "execution_count": 48,
   "metadata": {},
   "outputs": [],
   "source": [
    "new_soup = BeautifulSoup(a.content, \"html.parser\")\n"
   ]
  },
  {
   "cell_type": "code",
   "execution_count": 50,
   "metadata": {},
   "outputs": [
    {
     "data": {
      "text/plain": [
       "[<p class=\"comment__09f24__gu0rG css-qgunke\"><span class=\"raw__09f24__T4Ezm\" lang=\"en\">Amazing food and service! Was my first time and felt very welcomed I would definitely recommend and this will be a spot I go to very often!</span></p>,\n",
       " <p class=\"comment__09f24__gu0rG css-qgunke\"><span class=\"raw__09f24__T4Ezm\" lang=\"en\">My friends and I were searching for reasons why this meal wasn't a 10/10. I don't think there is one- I wish I could eat the Braised beef stew every day for the rest of my life.</span></p>,\n",
       " <p class=\"comment__09f24__gu0rG css-qgunke\"><span class=\"raw__09f24__T4Ezm\" lang=\"en\">I came to Daeho after checking out the Cherry Blossom Festival in Japantown. I recommend using the Yelp waitlist so you can explore things in the area just in case it's full! <br/><br/>We ordered the Daeho Suyuk Royal Brisket, and it was huge! It was a brisket in a broth with mushrooms and (I think?) green onions on top. There was a lot of meat, and they gave sides like kimchi and seasame oil (if you ask) so you can add some more flavor.<br/><br/>If I'd come again I would try the bibimbap and kalbijimm, seeing it on other peoples tables looked really tasty!</span></p>,\n",
       " <p class=\"comment__09f24__gu0rG css-qgunke\"><span class=\"raw__09f24__T4Ezm\" lang=\"en\">I got food delivery from here last night, so I can't say anything about the service or ambiance, but the food was very mediocre. I got the spicy beef rib soup, and it came with a half-centimeter layer of oil on top. I had to spoon out all the oil before it became remotely edible. I'd never seen so much oil in a Korean soup before: it filled one of the banchan sections. The flavor was fine but a bit too spicy; at the end I couldn't finish the soup because the bottom was so concentrated with pepper flakes. <br/><br/>Maybe it's just not for me, but if you love super hot and super oily, the spicy beef rib soup would be a great fit for you. It's just not something I would personally ever want to eat again.</span></p>,\n",
       " <p class=\"comment__09f24__gu0rG css-qgunke\"><span class=\"raw__09f24__T4Ezm\" lang=\"en\">I recently visited Daeho Kalbijjim &amp; Beef Soup and was thoroughly impressed with the quality of their bone broth soup. Despite being picky about my bone broth soup, the flavor and depth of the broth surpassed my expectations, and the meat was cooked perfectly.<br/><br/>The Kalbijjim was also a standout dish - the meat was incredibly tender and the sauce was the perfect balance of sweet and savory. <br/><br/>The service was also excellent - the staff were friendly, attentive, and knowledgeable about the menu.</span></p>,\n",
       " <p class=\"comment__09f24__gu0rG css-qgunke\"><span class=\"raw__09f24__T4Ezm\" lang=\"en\">Braised short rib...mild was perfect. So glad we added the extra cheese on top. It was sufficient for 3 people with soju to share. If you're very hungry probably only enough for 2.<br/><br/>I really enjoyed the sauce. It reminded me of a tomato based sauce. I would come here again as long as the wait isn't more than 1/2 hour.</span></p>,\n",
       " <p class=\"comment__09f24__gu0rG css-qgunke\"><span class=\"raw__09f24__T4Ezm\" lang=\"en\">Just as amazing as the name lives up to be. Spicy, savory and full of flavor Daeho does not disappoint. Our party of 6 came on a Tuesday for dinner and was able to get seated within 10 mins. <br/><br/>We preordered the large kalbijjim and added glass noodles and of course cheese! Also adding a seafood bibimbap. The amount of food was definitely filled us up but if you're heavy meat eater maybe opt for more than one plate of kalbijjim. The 3-4 portion kalbijjim came with 3 bowls of rice to which you can chose from either purple or white rice. <br/><br/>The meat was fall off the bone tender and seasoned so well! All the fixings, potatoes, and onions over rice made for a delicious bite. The bibimbap also came with a bunch a vegetables to help balance the heavy meal which served as a nice break. Not to mention they serve a variety of kimchis along with the meal. <br/><br/>Overall a delicious and filling meal. We all left happy and needing to go on a walk after!</span></p>,\n",
       " <p class=\"comment__09f24__gu0rG css-qgunke\"><span class=\"raw__09f24__T4Ezm\" lang=\"en\">It's been 3-years since I last ate here, and damn, the food is just as good as I remember! We were only a group of 2 so we decided to go with the galbijjim level 1 medium with the rice cakes and cheese (which is a must in my opinion).<br/><br/>The meat is so tender and flavorful, plus all the sauce you put over the rice. It's comfort food at it's finest and perfect for a cold SF night. The serving size without the extra meat was probably good for 4 medium sized appetites, so we ended up with a good amount of leftovers.<br/><br/>The galbijjim was as good as I remembered it, but definitely a lot more expensive. However, I do believe you can't put a price on good food, and if you really want something and it lives up to the hype, then it's worth every dim. Plus, it's a dish that I'll never be able to make on my own. <br/><br/>I hadn't been here in a while and I forgot that you had to order before you sat down. So when you name gets called, have your order ready, and be prepared to wait an additional 20-30 minutes before you get to your table. The waitlist you have to do in-person, and can't be done via the app, which is a bummer. <br/><br/>The wait on a Saturday was quoted at nearly 2 hours, but we were able to get a table under that. There's so much to walk around and see in Japantown that to fill the time was no prob. Just. be close enough to check-in once you get the text that your table is ready.</span></p>,\n",
       " <p class=\"comment__09f24__gu0rG css-qgunke\"><span class=\"raw__09f24__T4Ezm\" lang=\"en\">If you're a fan of Korean food, Daeho is a must-visit spot in town! I recently tried their kalbi jjim and it was out of this world. The meat was incredibly tender and flavorful, and the sauce had just the right amount of sweetness and spice.<br/>Additionally, the portion size of the kalbi jjim at Daeho is huge and can easily feed a group of 3-4 people. So, it's a great option for sharing with friends or family.<br/><br/>The staff is friendly and attentive, and they made sure my dining experience was enjoyable from start to finish.<br/>Only complaint was that since we had a lot of leftovers, we had to pay $1 for the togo boxes which was a bit ridiculous but better than wasting food I guess! <br/>Overall, I highly recommend Daeho to anyone looking for authentic Korean cuisine in the area. The kalbi jjim alone is worth the trip!</span></p>,\n",
       " <p class=\"comment__09f24__gu0rG css-qgunke\"><span class=\"raw__09f24__T4Ezm\" lang=\"en\">Daeho is always a solid spot for a hungry group of friends! The max number of people that can seat together at a table is 8-9.<br/><br/>The kalbijjim and kalbitang are really good! For a group of 8 people, I'd recommend two kalbijjim with extra meat or only one of the two with extra meat. I also love the cheese, rice cakes and noodles as extra toppings.<br/><br/>The vegetable bibimbap is good but the portion was smaller than I expected. I think 2-3 people can share it.<br/><br/>Unfortunately the wait times can get really long around dinner hours 5pm-7pm. We arrived around 4:10pm on a Sunday and were the second to be seated. Get there early if you don't want to wait too long!</span></p>]"
      ]
     },
     "execution_count": 50,
     "metadata": {},
     "output_type": "execute_result"
    }
   ],
   "source": [
    "relevant = new_soup.find_all('p', class_='comment__09f24__gu0rG css-qgunke')\n",
    "relevant\n"
   ]
  },
  {
   "cell_type": "code",
   "execution_count": 73,
   "metadata": {},
   "outputs": [],
   "source": [
    "scrape_url = 'https://www.yelp.com/biz/daeho-kalbijjim-and-beef-soup-san-francisco-9?sort_by=elites_desc'\n",
    "a = requests.get(scrape_url)\n",
    "new_soup = BeautifulSoup(a.content, \"html.parser\")\n",
    "# relevant = new_soup.find_all('p', class_='comment__09f24__gu0rG css-qgunke')\n",
    "# relevantnew_soup"
   ]
  },
  {
   "cell_type": "code",
   "execution_count": 74,
   "metadata": {},
   "outputs": [
    {
     "data": {
      "text/plain": [
       "[<p class=\"comment__09f24__gu0rG css-qgunke\"><span class=\"raw__09f24__T4Ezm\" lang=\"en\">I got food delivery from here last night, so I can't say anything about the service or ambiance, but the food was very mediocre. I got the spicy beef rib soup, and it came with a half-centimeter layer of oil on top. I had to spoon out all the oil before it became remotely edible. I'd never seen so much oil in a Korean soup before: it filled one of the banchan sections. The flavor was fine but a bit too spicy; at the end I couldn't finish the soup because the bottom was so concentrated with pepper flakes. <br/><br/>Maybe it's just not for me, but if you love super hot and super oily, the spicy beef rib soup would be a great fit for you. It's just not something I would personally ever want to eat again.</span></p>,\n",
       " <p class=\"comment__09f24__gu0rG css-qgunke\"><span class=\"raw__09f24__T4Ezm\" lang=\"en\">Just as amazing as the name lives up to be. Spicy, savory and full of flavor Daeho does not disappoint. Our party of 6 came on a Tuesday for dinner and was able to get seated within 10 mins. <br/><br/>We preordered the large kalbijjim and added glass noodles and of course cheese! Also adding a seafood bibimbap. The amount of food was definitely filled us up but if you're heavy meat eater maybe opt for more than one plate of kalbijjim. The 3-4 portion kalbijjim came with 3 bowls of rice to which you can chose from either purple or white rice. <br/><br/>The meat was fall off the bone tender and seasoned so well! All the fixings, potatoes, and onions over rice made for a delicious bite. The bibimbap also came with a bunch a vegetables to help balance the heavy meal which served as a nice break. Not to mention they serve a variety of kimchis along with the meal. <br/><br/>Overall a delicious and filling meal. We all left happy and needing to go on a walk after!</span></p>,\n",
       " <p class=\"comment__09f24__gu0rG css-qgunke\"><span class=\"raw__09f24__T4Ezm\" lang=\"en\">Braised short rib...mild was perfect. So glad we added the extra cheese on top. It was sufficient for 3 people with soju to share. If you're very hungry probably only enough for 2.<br/><br/>I really enjoyed the sauce. It reminded me of a tomato based sauce. I would come here again as long as the wait isn't more than 1/2 hour.</span></p>,\n",
       " <p class=\"comment__09f24__gu0rG css-qgunke\"><span class=\"raw__09f24__T4Ezm\" lang=\"en\">One of my favorite Korean spots for traditional dishes! Portions are huge and ideal for family style dining. We love the Su-yuk Yang ji brisket bone broth with mushrooms/leek, make sure you season it yourself as it comes completely without any pepper/salt. This last visit we also tried the hot stone bibimbap, which everyone really enjoyed as well. The restaurant itself can be very busy, especially on the weekends. Make sure to utilize the Yelp waitlist!</span></p>,\n",
       " <p class=\"comment__09f24__gu0rG css-qgunke\"><span class=\"raw__09f24__T4Ezm\" lang=\"en\">The portions are SO BIG! Squid and beef rib include a very big squid and a ton of ribs! The ribs are tender and fell if the bone but still had a nice texture to it. The sauce is amazing and goes so well with the side dishes! The chive kimchi go extremely well with the squid! Everything is so good.</span></p>,\n",
       " <p class=\"comment__09f24__gu0rG css-qgunke\"><span class=\"raw__09f24__T4Ezm\" lang=\"en\">It's been 3-years since I last ate here, and damn, the food is just as good as I remember! We were only a group of 2 so we decided to go with the galbijjim level 1 medium with the rice cakes and cheese (which is a must in my opinion).<br/><br/>The meat is so tender and flavorful, plus all the sauce you put over the rice. It's comfort food at it's finest and perfect for a cold SF night. The serving size without the extra meat was probably good for 4 medium sized appetites, so we ended up with a good amount of leftovers.<br/><br/>The galbijjim was as good as I remembered it, but definitely a lot more expensive. However, I do believe you can't put a price on good food, and if you really want something and it lives up to the hype, then it's worth every dim. Plus, it's a dish that I'll never be able to make on my own. <br/><br/>I hadn't been here in a while and I forgot that you had to order before you sat down. So when you name gets called, have your order ready, and be prepared to wait an additional 20-30 minutes before you get to your table. The waitlist you have to do in-person, and can't be done via the app, which is a bummer. <br/><br/>The wait on a Saturday was quoted at nearly 2 hours, but we were able to get a table under that. There's so much to walk around and see in Japantown that to fill the time was no prob. Just. be close enough to check-in once you get the text that your table is ready.</span></p>,\n",
       " <p class=\"comment__09f24__gu0rG css-qgunke\"><span class=\"raw__09f24__T4Ezm\" lang=\"en\">I've been here a couple times, and it's always really good. I got the kalbijjim with tendon and rice cake. The tendon is super soft and rice cake is perfectly chewy. It comes with a large amount of beef, carrots, potato, onions and other veggies I probably forgot. The banchan is also really good, and I always take it all home. Since the portion is so big, I also eat this for days after and its still so yummy. <br/><br/>Service is also quite good, and attentive despite how busy they are. I came here with my friend once and they seated us right away, even though there were a lot of people waiting. If you have a smaller party and everyone is there, be sure to ask the host if theres room!</span></p>,\n",
       " <p class=\"comment__09f24__gu0rG css-qgunke\"><span class=\"raw__09f24__T4Ezm\" lang=\"en\">This place is a little overpriced but it never lets me down. The sauce is not too sweet and not too spicy. The cheese is perfectly melted. The rice cake and veggies are cooked just right. The ribs are tender and juicy. I always find myself coming back to this place every time I visit the bay. It definitely lives up to the reputation!</span></p>,\n",
       " <p class=\"comment__09f24__gu0rG css-qgunke\"><span class=\"raw__09f24__T4Ezm\" lang=\"en\">I visited this place last night with my 6 family members. We joined the waitlist on Yelp about ~30 minutes prior to our arrival, and were able to order immediately after checking in. The ordering process is interesting - you have to order with the host and get seated after waiting for a bit. The restaurant is super clean, and the decoration is simple and modern. <br/><br/>After waiting about 20 minutes after ordering, we were seated and the food arrived almost immediately! This was pretty nice. We ordered 2 kalbijjim with extra meat, cheese, and rice cakes, and my grandma ordered the combination seolleongtang (which was gluten free because she has celiac). The food was freaking amazing!!! The short rib had such great flavor and spice. The rice cakes were chewy and yummy and the cheese on top was the perfect finishing touch for the dish. The purple rice is also so good!!! My grandma is not a big eater, but she proceeded to eat the entire huge bowl of soup, so I guess it was excellent as well!<br/><br/>We ordered 1 mild and 1 medium spicy, and I didn't notice a significant difference in the spice levels. <br/><br/>I loooooved this place and will definitely be back! I definitely recommend joining the Yelp waitlist ahead of time, as it gets super busy!</span></p>,\n",
       " <p class=\"comment__09f24__gu0rG css-qgunke\"><span class=\"raw__09f24__T4Ezm\" lang=\"en\">Daeho is always a solid spot for a hungry group of friends! The max number of people that can seat together at a table is 8-9.<br/><br/>The kalbijjim and kalbitang are really good! For a group of 8 people, I'd recommend two kalbijjim with extra meat or only one of the two with extra meat. I also love the cheese, rice cakes and noodles as extra toppings.<br/><br/>The vegetable bibimbap is good but the portion was smaller than I expected. I think 2-3 people can share it.<br/><br/>Unfortunately the wait times can get really long around dinner hours 5pm-7pm. We arrived around 4:10pm on a Sunday and were the second to be seated. Get there early if you don't want to wait too long!</span></p>]"
      ]
     },
     "execution_count": 74,
     "metadata": {},
     "output_type": "execute_result"
    }
   ],
   "source": [
    "relevant = new_soup.find_all('p', class_='comment__09f24__gu0rG css-qgunke')\n",
    "relevant"
   ]
  },
  {
   "cell_type": "code",
   "execution_count": 81,
   "metadata": {},
   "outputs": [
    {
     "data": {
      "text/plain": [
       "\"I got food delivery from here last night, so I can't say anything about the service or ambiance, but the food was very mediocre. I got the spicy beef rib soup, and it came with a half-centimeter layer of oil on top. I had to spoon out all the oil before it became remotely edible. I'd never seen so much oil in a Korean soup before: it filled one of the banchan sections. The flavor was fine but a bit too spicy; at the end I couldn't finish the soup because the bottom was so concentrated with pepper flakes. Maybe it's just not for me, but if you love super hot and super oily, the spicy beef rib soup would be a great fit for you. It's just not something I would personally ever want to eat again.\""
      ]
     },
     "execution_count": 81,
     "metadata": {},
     "output_type": "execute_result"
    }
   ],
   "source": [
    "text = relevant[0].find('span').getText()\n",
    "text\n"
   ]
  },
  {
   "cell_type": "code",
   "execution_count": 82,
   "metadata": {},
   "outputs": [
    {
     "data": {
      "text/plain": [
       "\"Just as amazing as the name lives up to be. Spicy, savory and full of flavor Daeho does not disappoint. Our party of 6 came on a Tuesday for dinner and was able to get seated within 10 mins. We preordered the large kalbijjim and added glass noodles and of course cheese! Also adding a seafood bibimbap. The amount of food was definitely filled us up but if you're heavy meat eater maybe opt for more than one plate of kalbijjim. The 3-4 portion kalbijjim came with 3 bowls of rice to which you can chose from either purple or white rice. The meat was fall off the bone tender and seasoned so well! All the fixings, potatoes, and onions over rice made for a delicious bite. The bibimbap also came with a bunch a vegetables to help balance the heavy meal which served as a nice break. Not to mention they serve a variety of kimchis along with the meal. Overall a delicious and filling meal. We all left happy and needing to go on a walk after!\""
      ]
     },
     "execution_count": 82,
     "metadata": {},
     "output_type": "execute_result"
    }
   ],
   "source": [
    "relevant = new_soup.find_all('p', class_='comment__09f24__gu0rG css-qgunke')\n",
    "relevant[1].find('span').getText()"
   ]
  },
  {
   "cell_type": "code",
   "execution_count": 90,
   "metadata": {},
   "outputs": [
    {
     "name": "stdout",
     "output_type": "stream",
     "text": [
      "I got food delivery from here last night, so I can't say anything about the service or ambiance, but the food was very mediocre. I got the spicy beef rib soup, and it came with a half-centimeter layer of oil on top. I had to spoon out all the oil before it became remotely edible. I'd never seen so much oil in a Korean soup before: it filled one of the banchan sections. The flavor was fine but a bit too spicy; at the end I couldn't finish the soup because the bottom was so concentrated with pepper flakes. Maybe it's just not for me, but if you love super hot and super oily, the spicy beef rib soup would be a great fit for you. It's just not something I would personally ever want to eat again.\n",
      "--------------------------------------------------\n",
      "Just as amazing as the name lives up to be. Spicy, savory and full of flavor Daeho does not disappoint. Our party of 6 came on a Tuesday for dinner and was able to get seated within 10 mins. We preordered the large kalbijjim and added glass noodles and of course cheese! Also adding a seafood bibimbap. The amount of food was definitely filled us up but if you're heavy meat eater maybe opt for more than one plate of kalbijjim. The 3-4 portion kalbijjim came with 3 bowls of rice to which you can chose from either purple or white rice. The meat was fall off the bone tender and seasoned so well! All the fixings, potatoes, and onions over rice made for a delicious bite. The bibimbap also came with a bunch a vegetables to help balance the heavy meal which served as a nice break. Not to mention they serve a variety of kimchis along with the meal. Overall a delicious and filling meal. We all left happy and needing to go on a walk after!\n",
      "--------------------------------------------------\n",
      "Braised short rib...mild was perfect. So glad we added the extra cheese on top. It was sufficient for 3 people with soju to share. If you're very hungry probably only enough for 2.I really enjoyed the sauce. It reminded me of a tomato based sauce. I would come here again as long as the wait isn't more than 1/2 hour.\n",
      "--------------------------------------------------\n",
      "One of my favorite Korean spots for traditional dishes! Portions are huge and ideal for family style dining. We love the Su-yuk Yang ji brisket bone broth with mushrooms/leek, make sure you season it yourself as it comes completely without any pepper/salt. This last visit we also tried the hot stone bibimbap, which everyone really enjoyed as well. The restaurant itself can be very busy, especially on the weekends. Make sure to utilize the Yelp waitlist!\n",
      "--------------------------------------------------\n",
      "The portions are SO BIG! Squid and beef rib include a very big squid and a ton of ribs! The ribs are tender and fell if the bone but still had a nice texture to it. The sauce is amazing and goes so well with the side dishes! The chive kimchi go extremely well with the squid! Everything is so good.\n",
      "--------------------------------------------------\n",
      "It's been 3-years since I last ate here, and damn, the food is just as good as I remember! We were only a group of 2 so we decided to go with the galbijjim level 1 medium with the rice cakes and cheese (which is a must in my opinion).The meat is so tender and flavorful, plus all the sauce you put over the rice. It's comfort food at it's finest and perfect for a cold SF night. The serving size without the extra meat was probably good for 4 medium sized appetites, so we ended up with a good amount of leftovers.The galbijjim was as good as I remembered it, but definitely a lot more expensive. However, I do believe you can't put a price on good food, and if you really want something and it lives up to the hype, then it's worth every dim. Plus, it's a dish that I'll never be able to make on my own. I hadn't been here in a while and I forgot that you had to order before you sat down. So when you name gets called, have your order ready, and be prepared to wait an additional 20-30 minutes before you get to your table. The waitlist you have to do in-person, and can't be done via the app, which is a bummer. The wait on a Saturday was quoted at nearly 2 hours, but we were able to get a table under that. There's so much to walk around and see in Japantown that to fill the time was no prob. Just. be close enough to check-in once you get the text that your table is ready.\n",
      "--------------------------------------------------\n",
      "I've been here a couple times, and it's always really good. I got the kalbijjim with tendon and rice cake. The tendon is super soft and rice cake is perfectly chewy. It comes with a large amount of beef, carrots, potato, onions and other veggies I probably forgot. The banchan is also really good, and I always take it all home. Since the portion is so big, I also eat this for days after and its still so yummy. Service is also quite good, and attentive despite how busy they are. I came here with my friend once and they seated us right away, even though there were a lot of people waiting. If you have a smaller party and everyone is there, be sure to ask the host if theres room!\n",
      "--------------------------------------------------\n",
      "This place is a little overpriced but it never lets me down. The sauce is not too sweet and not too spicy. The cheese is perfectly melted. The rice cake and veggies are cooked just right. The ribs are tender and juicy. I always find myself coming back to this place every time I visit the bay. It definitely lives up to the reputation!\n",
      "--------------------------------------------------\n",
      "I visited this place last night with my 6 family members. We joined the waitlist on Yelp about ~30 minutes prior to our arrival, and were able to order immediately after checking in. The ordering process is interesting - you have to order with the host and get seated after waiting for a bit. The restaurant is super clean, and the decoration is simple and modern. After waiting about 20 minutes after ordering, we were seated and the food arrived almost immediately! This was pretty nice. We ordered 2 kalbijjim with extra meat, cheese, and rice cakes, and my grandma ordered the combination seolleongtang (which was gluten free because she has celiac). The food was freaking amazing!!! The short rib had such great flavor and spice. The rice cakes were chewy and yummy and the cheese on top was the perfect finishing touch for the dish. The purple rice is also so good!!! My grandma is not a big eater, but she proceeded to eat the entire huge bowl of soup, so I guess it was excellent as well!We ordered 1 mild and 1 medium spicy, and I didn't notice a significant difference in the spice levels. I loooooved this place and will definitely be back! I definitely recommend joining the Yelp waitlist ahead of time, as it gets super busy!\n",
      "--------------------------------------------------\n",
      "Daeho is always a solid spot for a hungry group of friends! The max number of people that can seat together at a table is 8-9.The kalbijjim and kalbitang are really good! For a group of 8 people, I'd recommend two kalbijjim with extra meat or only one of the two with extra meat. I also love the cheese, rice cakes and noodles as extra toppings.The vegetable bibimbap is good but the portion was smaller than I expected. I think 2-3 people can share it.Unfortunately the wait times can get really long around dinner hours 5pm-7pm. We arrived around 4:10pm on a Sunday and were the second to be seated. Get there early if you don't want to wait too long!\n",
      "--------------------------------------------------\n"
     ]
    }
   ],
   "source": [
    "elite_rated_url = 'https://www.yelp.com/biz/daeho-kalbijjim-and-beef-soup-san-francisco-9?sort_by=elites_desc'\n",
    "elite_rated_content = requests.get(elite_rated_url)\n",
    "new_soup = BeautifulSoup(elite_rated_content.content, \"html.parser\")\n",
    "relevant = new_soup.find_all('p', class_='comment__09f24__gu0rG css-qgunke')\n",
    "for rev in relevant:\n",
    "    review = rev.find('span').getText()\n",
    "    print(review)\n",
    "    print('-'*100)\n",
    "    "
   ]
  },
  {
   "cell_type": "code",
   "execution_count": 91,
   "metadata": {},
   "outputs": [
    {
     "name": "stdout",
     "output_type": "stream",
     "text": [
      "I really have no idea why at this location they don't use the lid for the rice on the side. I went to other locations in San Mateo and Milpitas so many times so I know for sure they always use the lids to cover the bowls of rice. It looks DISGUSTING when the waiter's fingers touched our rice since there were no lids to cover it. I noticed all other customers got the same thing without the lids either !!! Plus LESS meat here than other locations even I got extra meat. The bones they use in this location have less meat than other 2 locations.\n",
      "--------------------------------------------------\n",
      "I got food delivery from here last night, so I can't say anything about the service or ambiance, but the food was very mediocre. I got the spicy beef rib soup, and it came with a half-centimeter layer of oil on top. I had to spoon out all the oil before it became remotely edible. I'd never seen so much oil in a Korean soup before: it filled one of the banchan sections. The flavor was fine but a bit too spicy; at the end I couldn't finish the soup because the bottom was so concentrated with pepper flakes. Maybe it's just not for me, but if you love super hot and super oily, the spicy beef rib soup would be a great fit for you. It's just not something I would personally ever want to eat again.\n",
      "--------------------------------------------------\n",
      "I came to Daeho after checking out the Cherry Blossom Festival in Japantown. I recommend using the Yelp waitlist so you can explore things in the area just in case it's full! We ordered the Daeho Suyuk Royal Brisket, and it was huge! It was a brisket in a broth with mushrooms and (I think?) green onions on top. There was a lot of meat, and they gave sides like kimchi and seasame oil (if you ask) so you can add some more flavor.If I'd come again I would try the bibimbap and kalbijimm, seeing it on other peoples tables looked really tasty!\n",
      "--------------------------------------------------\n",
      "Good food. Nice service.A bit noisy but worth to near with it for that delicious food.\n",
      "--------------------------------------------------\n",
      "I recently visited Daeho Kalbijjim & Beef Soup and was thoroughly impressed with the quality of their bone broth soup. Despite being picky about my bone broth soup, the flavor and depth of the broth surpassed my expectations, and the meat was cooked perfectly.The Kalbijjim was also a standout dish - the meat was incredibly tender and the sauce was the perfect balance of sweet and savory. The service was also excellent - the staff were friendly, attentive, and knowledgeable about the menu.\n",
      "--------------------------------------------------\n",
      "So gooooood, spicy but tasty. A little expensive but worth it. Try the soup, the beef rib, all good.\n",
      "--------------------------------------------------\n",
      "Just as amazing as the name lives up to be. Spicy, savory and full of flavor Daeho does not disappoint. Our party of 6 came on a Tuesday for dinner and was able to get seated within 10 mins. We preordered the large kalbijjim and added glass noodles and of course cheese! Also adding a seafood bibimbap. The amount of food was definitely filled us up but if you're heavy meat eater maybe opt for more than one plate of kalbijjim. The 3-4 portion kalbijjim came with 3 bowls of rice to which you can chose from either purple or white rice. The meat was fall off the bone tender and seasoned so well! All the fixings, potatoes, and onions over rice made for a delicious bite. The bibimbap also came with a bunch a vegetables to help balance the heavy meal which served as a nice break. Not to mention they serve a variety of kimchis along with the meal. Overall a delicious and filling meal. We all left happy and needing to go on a walk after!\n",
      "--------------------------------------------------\n",
      "This place is always busy and there is a good reason why! The food is incredible; it's expensive but you can split one of the large kalbijjim's between 4 people easy and split the tab. I tried one with cheese and one without - I say the cheese is more for show (and cheese lovers) but not a huge difference in the taste of the meal.Tip on the wait; it's best to get there right when they open and hop in line to put your name on the waitlist. KEY thing to remember is that when they text you the first time to \"check in\" it's not really a check in, its because your table is almost ready and they have you order your food ahead of time (this is so it comes out within a few minutes of you getting seated). Be aware that they may make you wait a 2nd time until your actual table is ready (last time I waited an additional 30-40 mins but just walked across the street to have a drink). The process is a bit weird I know, but I get it, they're trying to accommodate everyone and have food out quickly to rotate tables. Overall, I've had nothing but a good experience here.\n",
      "--------------------------------------------------\n",
      "Avoid this establishment like the plague should you not have a cellphone.  Clearly and most obviously this place discriminates against those without a cellphone, relying as it does on its clientele to have such expensive toys.  This place has not one single solitary lone printed menu.  And there is no one - no one at all - to whom to point out this most obvious deficiency except the server, who clearly is not at all in position to address this shortcoming.   We ended up taking our dollars somewhere else where we were significantly better treated than as the misfits/outcasts as we were at this place.\n",
      "--------------------------------------------------\n",
      "Food was great! Especially the Sulungtang. The spicy galbijjim was great too! But just know for like $70 you get VERY LITTLE meat. Amount was Like what would get in one galbi tang. Maybe I'm comparing to LA but that's the norm here. Other than the price it was great! Oh, the young guy who looks like the manager sounds like he doesn't want to be there. Kinda sounds like he's mad all the time. I'm thinking he might be the son of the owner, how else would you explain hiring such manager. Al speculation of course.\n",
      "--------------------------------------------------\n"
     ]
    }
   ],
   "source": [
    "newest_rated_url = 'https://www.yelp.com/biz/daeho-kalbijjim-and-beef-soup-san-francisco-9?sort_by=date_desc'\n",
    "newest_rated_content = requests.get(newest_rated_url)\n",
    "new_soup = BeautifulSoup(newest_rated_content.content, \"html.parser\")\n",
    "relevant = new_soup.find_all('p', class_='comment__09f24__gu0rG css-qgunke')\n",
    "for rev in relevant:\n",
    "    review = rev.find('span').getText()\n",
    "    print(review)\n",
    "    print('-'*50)\n",
    "    "
   ]
  },
  {
   "cell_type": "code",
   "execution_count": 92,
   "metadata": {},
   "outputs": [
    {
     "name": "stdout",
     "output_type": "stream",
     "text": [
      "I came to Daeho after checking out the Cherry Blossom Festival in Japantown. I recommend using the Yelp waitlist so you can explore things in the area just in case it's full! We ordered the Daeho Suyuk Royal Brisket, and it was huge! It was a brisket in a broth with mushrooms and (I think?) green onions on top. There was a lot of meat, and they gave sides like kimchi and seasame oil (if you ask) so you can add some more flavor.If I'd come again I would try the bibimbap and kalbijimm, seeing it on other peoples tables looked really tasty!\n",
      "----------------------------------------------------------------------------------------------------\n",
      "Good food. Nice service.A bit noisy but worth to near with it for that delicious food.\n",
      "----------------------------------------------------------------------------------------------------\n",
      "I recently visited Daeho Kalbijjim & Beef Soup and was thoroughly impressed with the quality of their bone broth soup. Despite being picky about my bone broth soup, the flavor and depth of the broth surpassed my expectations, and the meat was cooked perfectly.The Kalbijjim was also a standout dish - the meat was incredibly tender and the sauce was the perfect balance of sweet and savory. The service was also excellent - the staff were friendly, attentive, and knowledgeable about the menu.\n",
      "----------------------------------------------------------------------------------------------------\n",
      "So gooooood, spicy but tasty. A little expensive but worth it. Try the soup, the beef rib, all good.\n",
      "----------------------------------------------------------------------------------------------------\n",
      "Just as amazing as the name lives up to be. Spicy, savory and full of flavor Daeho does not disappoint. Our party of 6 came on a Tuesday for dinner and was able to get seated within 10 mins. We preordered the large kalbijjim and added glass noodles and of course cheese! Also adding a seafood bibimbap. The amount of food was definitely filled us up but if you're heavy meat eater maybe opt for more than one plate of kalbijjim. The 3-4 portion kalbijjim came with 3 bowls of rice to which you can chose from either purple or white rice. The meat was fall off the bone tender and seasoned so well! All the fixings, potatoes, and onions over rice made for a delicious bite. The bibimbap also came with a bunch a vegetables to help balance the heavy meal which served as a nice break. Not to mention they serve a variety of kimchis along with the meal. Overall a delicious and filling meal. We all left happy and needing to go on a walk after!\n",
      "----------------------------------------------------------------------------------------------------\n",
      "This place is always busy and there is a good reason why! The food is incredible; it's expensive but you can split one of the large kalbijjim's between 4 people easy and split the tab. I tried one with cheese and one without - I say the cheese is more for show (and cheese lovers) but not a huge difference in the taste of the meal.Tip on the wait; it's best to get there right when they open and hop in line to put your name on the waitlist. KEY thing to remember is that when they text you the first time to \"check in\" it's not really a check in, its because your table is almost ready and they have you order your food ahead of time (this is so it comes out within a few minutes of you getting seated). Be aware that they may make you wait a 2nd time until your actual table is ready (last time I waited an additional 30-40 mins but just walked across the street to have a drink). The process is a bit weird I know, but I get it, they're trying to accommodate everyone and have food out quickly to rotate tables. Overall, I've had nothing but a good experience here.\n",
      "----------------------------------------------------------------------------------------------------\n",
      "Very good, flavorful fresh food but very expensive. Expect a big bill and to be still hungry after your meal. Nice decor, long wait times but worth it.\n",
      "----------------------------------------------------------------------------------------------------\n",
      "Braised short rib...mild was perfect. So glad we added the extra cheese on top. It was sufficient for 3 people with soju to share. If you're very hungry probably only enough for 2.I really enjoyed the sauce. It reminded me of a tomato based sauce. I would come here again as long as the wait isn't more than 1/2 hour.\n",
      "----------------------------------------------------------------------------------------------------\n",
      "One of my favorite Korean spots for traditional dishes! Portions are huge and ideal for family style dining. We love the Su-yuk Yang ji brisket bone broth with mushrooms/leek, make sure you season it yourself as it comes completely without any pepper/salt. This last visit we also tried the hot stone bibimbap, which everyone really enjoyed as well. The restaurant itself can be very busy, especially on the weekends. Make sure to utilize the Yelp waitlist!\n",
      "----------------------------------------------------------------------------------------------------\n",
      "Long wait to get the seat - about 2 and half hours. However, the food is amazing!! You almost forgot about the wait after trying their braised beef stew - it so good and don't forget to add torched cheese on the top!!\n",
      "----------------------------------------------------------------------------------------------------\n"
     ]
    }
   ],
   "source": [
    "top_rated_url = 'https://www.yelp.com/biz/daeho-kalbijjim-and-beef-soup-san-francisco-9?sort_by=rating_desc'\n",
    "top_rated_content = requests.get(top_rated_url)\n",
    "new_soup = BeautifulSoup(top_rated_content.content, \"html.parser\")\n",
    "relevant = new_soup.find_all('p', class_='comment__09f24__gu0rG css-qgunke')\n",
    "for rev in relevant:\n",
    "    review = rev.find('span').getText()\n",
    "    print(review)\n",
    "    print('-'*100)\n",
    "    "
   ]
  },
  {
   "cell_type": "code",
   "execution_count": 93,
   "metadata": {},
   "outputs": [
    {
     "name": "stdout",
     "output_type": "stream",
     "text": [
      "I really have no idea why at this location they don't use the lid for the rice on the side. I went to other locations in San Mateo and Milpitas so many times so I know for sure they always use the lids to cover the bowls of rice. It looks DISGUSTING when the waiter's fingers touched our rice since there were no lids to cover it. I noticed all other customers got the same thing without the lids either !!! Plus LESS meat here than other locations even I got extra meat. The bones they use in this location have less meat than other 2 locations.\n",
      "----------------------------------------------------------------------------------------------------\n",
      "Avoid this establishment like the plague should you not have a cellphone.  Clearly and most obviously this place discriminates against those without a cellphone, relying as it does on its clientele to have such expensive toys.  This place has not one single solitary lone printed menu.  And there is no one - no one at all - to whom to point out this most obvious deficiency except the server, who clearly is not at all in position to address this shortcoming.   We ended up taking our dollars somewhere else where we were significantly better treated than as the misfits/outcasts as we were at this place.\n",
      "----------------------------------------------------------------------------------------------------\n",
      "The reception man was quite rude. I wrongly put my phone number as name, and he rudely asked me to remove my name and add a new one as I have been waiting for 10 mins.\n",
      "----------------------------------------------------------------------------------------------------\n",
      "I was very disappointed with the quality of their take out order. I ordered kalbijjim and the meat was very hard, potatoes and rice cake are undercooked. I also received rice that went bad. Just wasted $90. I will not be going back to this location.\n",
      "----------------------------------------------------------------------------------------------------\n",
      "We reserved a table for 8. When the party arrived we were told the reservation was cancelled, however they never updates us about our reservation. We decided to wait for a table even though the host was very difficult with us. She was provoking us to leave. She said we had to pre order our food and when we ordered she said they ran out of most things, including white rice. We were fed up and found a place nearby to eat. When we let the host know we wanted to cancel all she said was \"What?!\" and walked away. One of the worst customer service experiences I've ever encountered!\n",
      "----------------------------------------------------------------------------------------------------\n",
      "Hello, I've just called to ask about seating and the worker who picked up was incredibly rude and told me to check wait time on Yelp. He hung up on me in the middle of me asking a follow-up question. I will never take my business to a restaurant who cannot even respectfully talk to a potential customer on a phone call. Unbelievably rude.\n",
      "----------------------------------------------------------------------------------------------------\n",
      "over price tourist trapfood is mediocre portions are poor service is terrible if you want authentic Korean food this is not the one\n",
      "----------------------------------------------------------------------------------------------------\n",
      "I've eaten at Daeho several times and while inflation may be at 9%, at this place it's about 35%. I've had better kalbijjim at other restaurants for less. The long wait, the attitude of the staff, and the mediocre food coupled with the outrageous prices makes this place a pass.  The quantity of meat also varies...you never know how much you're going to get.\n",
      "----------------------------------------------------------------------------------------------------\n",
      "We've eaten in gazillion Korean restaurants all over California and other states. I must have missed something because I really don't get the high rating. We had the rib soup both the spicy and not spicy  and the braised rib. Really nothing special, but totally overpriced, not a lot of meat- potatoes and carrots yes a lot! The host is so distracted that our order was wrong, we ordered  kalbi tang, which did not arrived, we did not order extra meat and we were charged for extra meat( I'm not sure though if there was really extra meat in there cause there's not! ) and I don't know where the order of non spicy soup came from! The purple rice is not good - too dry and old. You don't see anybody after they give your food, they are so busy that even if you try to get their attention it's either they don't hear you or just ignore you.We will not come back, not recommended!\n",
      "----------------------------------------------------------------------------------------------------\n",
      "Not sure why tables were seated and orders were being taken by people in line first.  Then those seated at tables?? Confusing process\n",
      "----------------------------------------------------------------------------------------------------\n"
     ]
    }
   ],
   "source": [
    "low_rated_url = 'https://www.yelp.com/biz/daeho-kalbijjim-and-beef-soup-san-francisco-9?sort_by=rating_asc'\n",
    "low_rated_content = requests.get(low_rated_url)\n",
    "new_soup = BeautifulSoup(low_rated_content.content, \"html.parser\")\n",
    "relevant = new_soup.find_all('p', class_='comment__09f24__gu0rG css-qgunke')\n",
    "for rev in relevant:\n",
    "    review = rev.find('span').getText()\n",
    "    print(review)\n",
    "    print('-'*100)\n",
    "    "
   ]
  },
  {
   "cell_type": "code",
   "execution_count": null,
   "metadata": {},
   "outputs": [],
   "source": []
  }
 ],
 "metadata": {
  "kernelspec": {
   "display_name": "pendulum",
   "language": "python",
   "name": "python3"
  },
  "language_info": {
   "codemirror_mode": {
    "name": "ipython",
    "version": 3
   },
   "file_extension": ".py",
   "mimetype": "text/x-python",
   "name": "python",
   "nbconvert_exporter": "python",
   "pygments_lexer": "ipython3",
   "version": "3.9.16"
  },
  "orig_nbformat": 4
 },
 "nbformat": 4,
 "nbformat_minor": 2
}
