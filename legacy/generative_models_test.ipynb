{
 "cells": [
  {
   "cell_type": "code",
   "execution_count": 117,
   "id": "a85ac137",
   "metadata": {},
   "outputs": [],
   "source": [
    "import torch"
   ]
  },
  {
   "cell_type": "code",
   "execution_count": 1,
   "id": "bc37312e",
   "metadata": {},
   "outputs": [
    {
     "name": "stderr",
     "output_type": "stream",
     "text": [
      "/Users/kayhan/opt/anaconda3/envs/pendulum/lib/python3.9/site-packages/tqdm/auto.py:22: TqdmWarning: IProgress not found. Please update jupyter and ipywidgets. See https://ipywidgets.readthedocs.io/en/stable/user_install.html\n",
      "  from .autonotebook import tqdm as notebook_tqdm\n",
      "2023-02-28 10:25:08.908883: I tensorflow/core/platform/cpu_feature_guard.cc:193] This TensorFlow binary is optimized with oneAPI Deep Neural Network Library (oneDNN) to use the following CPU instructions in performance-critical operations:  SSE4.1 SSE4.2\n",
      "To enable them in other operations, rebuild TensorFlow with the appropriate compiler flags.\n",
      "Some weights of OpenAIGPTLMHeadModel were not initialized from the model checkpoint at openai-gpt and are newly initialized: ['position_ids']\n",
      "You should probably TRAIN this model on a down-stream task to be able to use it for predictions and inference.\n",
      "/Users/kayhan/opt/anaconda3/envs/pendulum/lib/python3.9/site-packages/transformers/generation/utils.py:1186: UserWarning: You have modified the pretrained model configuration to control generation. This is a deprecated strategy to control generation and will be removed soon, in a future version. Please use a generation configuration file (see https://huggingface.co/docs/transformers/main_classes/text_generation)\n",
      "  warnings.warn(\n"
     ]
    },
    {
     "data": {
      "text/plain": [
       "[{'generated_text': \"Hello, I'm a language model,'he said, when i was finished.'ah well,'said the man,'that's what i am for,'said the girl.'yes, i'm sure.'\\n'what else do you know?'\\n'my name's rincewind,'said the man,'from here on out. i'm sure your ship will be well enough to be put in some more decent harbours that 'll take you back to the\"},\n",
       " {'generated_text': 'Hello, I\\'m a language model, \" she said. \\n she reached the bottom of the shaft and leaned a little further out. it was so smooth that she thought she would break it. she could feel the muscles in her neck standing out in amazement. there was a small hole in its side, where there was a panel of stone, and a small circle of light and a hole in the wall, maybe like an access panel. \\n \" what is this? \" she called, trying'},\n",
       " {'generated_text': 'Hello, I\\'m a language model, \" she laughed. \" we call that a\\'white girl.\\'or as we are called by the natives, i am called a white girl. \" she paused for a second, realizing that they hadn\\'t finished their conversation. \" but if you want to go around calling me that, you \\'ll get to call me that because i\\'m still in my late teens. in fact, you can call me missy or missy that for short. i am not'},\n",
       " {'generated_text': 'Hello, I\\'m a language model, \" said mr pin. \" an\\'the ones with the funny hats don\\'t. \" the rest of them laughed. \" and it\\'s just a bad thing, \" said mr tulip, who seemed to be enjoying this. \" the sort of people who wear funny hats can\\'t just be people. \" \\n \" are you one of them? \" said mr tulip, a bit bewildered. \\n \" i think it is, \" said mr pin, waving'},\n",
       " {'generated_text': 'Hello, I\\'m a language model, was\\'ere \\'bout to do some more dancin \\', \" he said, then his voice lowered to a conspirator\\'s mutter, \"\\'s\\'pose if it\\'appens, you might try holdin\\'me up. \" \\n \" you are absolutely the most incorrigible man, sir, \" said dickie, \" i find myself wishing i didn\\'t have to be married to someone like you and i\\'ve got the best of intentions. \" \\n \" you'}]"
      ]
     },
     "execution_count": 1,
     "metadata": {},
     "output_type": "execute_result"
    }
   ],
   "source": [
    "from transformers import pipeline, set_seed\n",
    "generator = pipeline('text-generation', model='openai-gpt')\n",
    "set_seed(42)\n",
    "generator(\"Hello, I'm a language model,\",\n",
    "          max_length=100, num_return_sequences=5)"
   ]
  },
  {
   "cell_type": "code",
   "execution_count": 420,
   "id": "3b07bc95",
   "metadata": {},
   "outputs": [],
   "source": [
    "import pandas as pd \n",
    "import numpy as np\n",
    "df = pd.read_csv('50_review_result.csv')\n",
    "texts = np.array(df['review'])\n",
    "df['review_length'] = df['review'].apply(len)"
   ]
  },
  {
   "cell_type": "code",
   "execution_count": 4,
   "id": "43292000",
   "metadata": {},
   "outputs": [],
   "source": [
    "# generated = generator(\"This restaurant was lovely,\", max_length=100, num_return_sequences=5)\n"
   ]
  },
  {
   "cell_type": "code",
   "execution_count": 5,
   "id": "c8c3e2f1",
   "metadata": {},
   "outputs": [],
   "source": [
    "df['grouped_review'] = df.groupby(by=['name'])['review'].transform(lambda x: ','.join(x))\n",
    "concatted = df[['name','grouped_review']].drop_duplicates()"
   ]
  },
  {
   "cell_type": "code",
   "execution_count": null,
   "id": "624dac4b",
   "metadata": {},
   "outputs": [],
   "source": []
  },
  {
   "cell_type": "code",
   "execution_count": 6,
   "id": "7dcd748e",
   "metadata": {},
   "outputs": [
    {
     "name": "stderr",
     "output_type": "stream",
     "text": [
      "IOPub data rate exceeded.\n",
      "The notebook server will temporarily stop sending output\n",
      "to the client in order to avoid crashing it.\n",
      "To change this limit, set the config variable\n",
      "`--NotebookApp.iopub_data_rate_limit`.\n",
      "\n",
      "Current values:\n",
      "NotebookApp.iopub_data_rate_limit=1000000.0 (bytes/sec)\n",
      "NotebookApp.rate_limit_window=3.0 (secs)\n",
      "\n"
     ]
    }
   ],
   "source": [
    "for i, row in concatted.iterrows():\n",
    "    print(row['grouped_review'])\n",
    "    if i == 3:\n",
    "        break"
   ]
  },
  {
   "cell_type": "code",
   "execution_count": 7,
   "id": "9b66f091",
   "metadata": {
    "scrolled": true
   },
   "outputs": [],
   "source": []
  },
  {
   "cell_type": "code",
   "execution_count": 115,
   "id": "1197c8b2",
   "metadata": {},
   "outputs": [
    {
     "data": {
      "text/plain": [
       "'Alnico'"
      ]
     },
     "execution_count": 115,
     "metadata": {},
     "output_type": "execute_result"
    }
   ],
   "source": [
    "df_ed['name'][0]"
   ]
  },
  {
   "cell_type": "code",
   "execution_count": 184,
   "id": "4111c162",
   "metadata": {
    "scrolled": false
   },
   "outputs": [
    {
     "name": "stdout",
     "output_type": "stream",
     "text": [
      "You know those brunch places with a whole line out the door on Saturdays that make you think \"I NEED to go there\", but after that, your only relationship with the restaurant is that when someone else brings it up you contribute by exclaiming \"oh I've been meaning to go since FOREVER\" to great feedback & lots of nods? Alnico SF was one of those places for me. A friend made a group brunch reservation and invited me one such Saturday and unknowingly turned my dreams into reality, shout-out to them. The ambiance is nice and light and lively with chatter. Service was really quick despite the volume of patrons. And the staff was friendly and accommodating. The sweet dishes - the ube hotcake and one of the waffle sides ( with sesame seed butter, I think?) were highlights, so definitely don't miss them! Not too sweet at all. I ordered the vegan kaldereta (which I thought was tofu & vegetables with a side of rice, but I now know is mostly a rice dish) and enjoyed it. The portion sizes are generous. Would recommend getting the Ube Hotcake to share (comfortable to share among 2-3 people) and then one entrée per person. You could probably get away with ordering n-1 entrees for n people, too.Came here for Saturday brunch and made a reservation for 11am. Ended up getting seated at 11:10 and the place started getting really packed by noon. Would definitely recommend either making a reservation beforehand or coming by 11am to get a seat. We ordered the ube hot cakes as it seemed to be the most signature dish, chicken porridge and chicken and waffles. The portion sizes were absolutely huge. All the dishes were really tasty and definitely a really unique blend of flavors (perfect mix of asian fusion). Ube hotcakes weren't too sweet and the ube flavor in the sauce was really good with the pancakes. The portion size was absolutely huge and could be shared with 2-3 people. Chicken porridge was really tasty and would definitely recommend. The chicken and waffles were alright. The Korean fried chicken addition made it interesting and created Asian fusion but the overall dish was just okay in flavor.Overall, I had a pretty nice experience here! Definitely plan to get here earlier or expect to wait an hour before being seated because it get's quite busy. Overall, Alnico is a good place if it's your first time trying Filipino food, as the flavors are more mild but a great introduction to the tastes. There were also indoor and outdoor seating options and a decent amount of street parking Ube Hotcakes: The ube flavor is not super strong but still there. A little bit on the dry side if you eat it without the sauce.Pork Belly: Really yummy! Especially with the vinegar on the side. The mac salad on the side is a bit on the heavier side and more mayo forward.Niloco Mo Ako: The flavor was good but could've been stronger and the short ribs were decent quality. However, the garlic rice and egg really complimented it.Ube Horchata: Really good and not too sweet! Also a more mild ube flavorUbe Viet Coffee: The Vietnamese coffee is really strong and the ube foam compliments it well. If you're not a big fan of strong coffee drinks, I'd recommend maybe getting it with more ube if possibleCalamansi Mint Refresher: Sour and refreshing! I personally and not a fan of sour drinks, but my friend who ordered it really enjoyed itIced Tea: Simple and sweetFilipino fusion SF brunch favorite in Mission! Would recommend grabbing reservations ahead of time, but def not impossible to walk in and grab a tableUbe hotcakes (5/5): MUST TRY! have been to Alnico a few times and this is my go to order!! the fluffy pancakes are surrounded in the most delicious and vibrant purple coconut ube sauce - super instagrammable! would recommend the mini size, as it's more than enough to feed 2 peoplePoached chicken porridge (5/5): i wasn't a big congee fan, but this was so flavorful and heartwarming. the porridge had the perfect consistency and umami flavors. it came with lots of tender chicken, crunchy garlic bits, black chili oil, and jammy eggChicken & waffles (3.5/5): was super excited for korean fried chicken and the black sesame butter ontop of the waffles, but was a lil underwhelmed. loved the soy garlicky sauce, but chicken wings itself was dry and the waffles were soggy. the black sesame butter was a nice twist tho!Pork belly (3.5/5): dipping the porkbelly pieces in spicy vinegar sauce was tasty, but pretty standard. the rest of the dish was bland and just okay - came with lots of rice, macaroni salad, and a gigantic strawberryOmelet (4/5): wish the omelet was less dry and more fluffy, but loved how they did not skimp out on the crab meat!! the gochujang mayo sauce drizzled ontop was so yummy, and literally was topped with a huge tornado of arugula lolUbe horchata (4/5): thought it tasted like a regular horchata with very little coconut ube flavor :( it's super pretty tho I'll definitely be back for the ube hotcakes and poached chicken!!Solid 4 star brunch spot in the Mission. Swung by on a Saturday with a reservation (only available for parties 4+) and was quickly seated after my whole party arrived. You view the menu via QR code and someone swung by to take our order 5 min after we sat down. We decided to do family style in order to try everything. We got:1)Poached Chicken: Unanimously our fave dish.  Lots of chicken, bone included. Very flavorful Jook. Wish there was less chicken and more Jook since the Jook was so tasty. But I guess since it's called the Poached Chicken, makes sense to have more chicken than porridge. 2) Ube Pancakes: our second fave dish. You definitely need the Ube cream to go with the pancake. Very fluffy, pretty, tasty pancakes. They are huge so definitely recommend splitting. 3) Pork Belly. The pork belly itself was tasty, but the rest of the dish was meh. Too much rice as well. Wish there was more pork belly. 4) Taho Parfait. Would skip this. Flavor was meh and the tofu wasn't silky enough. I also ordered the Ube horchata which was yum.We came here for brunch on a Sunday and it was filled with people. It definitely lived up to the hype and reviews! Just a reminder to those coming with a big group - they only seat you once everyone from your party has arrived.I love ube so we tried their ube foam coffee and ube hotcakes, and they were so good! I would say that the ube foam coffee just tasted like normal coffee after the ube foam was mixed in so I probably wouldn't get it again. We also got the chilaquiles and Tito boy, which were both so flavourful and worth the try!Definitely come here for brunch if you're in the area!This has been my go to place for brunch lately. This last time we went on a Friday morning and there was no wait. I ordered the Vietnamese coffee with ube foam. Doesn't taste like your standard Vietnamese coffee but it's still delicious. Creamy, lightly sweetened with a hint of ube. For food, we ordered Tito boy, chicken wings and waffles, and ube pancakes. Tito boy - their version of shrimp and grits. Shrimp is standard size, nothing to write home about but the sauce is out of this world. It's flavorful and delicious and the jalapeño add a hint of spice. Loved it! Chicken wings and waffles - slightly disappointed with the chicken this time. They were not chicken wings but boneless chicken pieces that were over fried and dry and hard. The sauce they use is good but the chicken was not. The waffle is your standard waffle but they have a sesame butter that I love. Ube pancakes - were perfect this time. The last two times I was there, the pancakes were a bit burnt on the bottom but this time, they were good. The pancakes are covered in this creamy ube sauce and sprinkled with some strawberries and blueberries.I was excited to finally visit Alnico in San Francisco and was blown away by their delicious ube dishes. As an ube enthusiast, I was thrilled to see that they had ube hotcakes on the menu and immediately placed an order. The hotcakes were vegetarian and came with a generous helping of ube coconut sauce and fresh berries. They were fluffy and flavorful, and the ube coconut sauce added the perfect touch of sweetness.I also ordered the ube horchata and was equally impressed. The horchata was creamy and had an ube flavor that complemented the hotcakes perfectly.I visited on a Sunday morning, and the restaurant was quite crowded, both inside and outside. There were several people who had to wait for a table. My friend and I were lucky to be seated relatively quickly, but it's worth noting that you may have to wait if you visit during peak hours.Overall, I had a wonderful experience at Alnico and would highly recommend it to anyone looking for delicious and unique ube dishes in San Francisco.I came back here and was disappointed in the service.They rushed us out as we were finishing the last sip of our mimosa.The food was consistent as it was last time I was here.This review is for the lackluster service. We waited 40 minutes, which we didn't mind. However, allow us the time to finish our drinks. Not worth the wait for the type of service here. I can definitely spend $120 for 2 at a brunch elsewhere and get better service.Think I had too high expectations for this place but I was wowed in other areas to make up for the things i found mediocre. Came here on New Year's Eve to celebrate a friend's bday. The rain and flooding delayed everybody so by the time everybody arrived, we were being rushed to order. But even when we did order, everything seemed like they were coming out late. Understandably it was a weekend. But you know how it is when someone is waiting for their food while everyone else already has theirs. I think the only thing that I truly liked was the ube pancakes. Definitely better than yogur story in HI, and that says a lot. The mix of berries with the ube sauce was absolutely perfect. I honestly could've ordered another one for myself, but I'm watching my figure for the new year. We got the shrimp and grits and short rib loco moco and it was just meh. Even the strawberry yakult alcoholic beverage was lacking flavor :(It's always a gamble when going to a fusion restaurant. It was great to try but won't be a reoccurring restaurant on our dining listYummmy! If you looking for that picture perfect Sunday brunch spot Alinco definitely delivers! The beautiful Uber purple makes any picture POP. Not to mention the pancakes are quite light and fluffy with a slight coconut flavor. Definitely a delicious bite and not overly sweet! We also tried the tofu sigsig which was also a hit. Served over a bed of rice this dish will definitely fill you up. Although I wished the tofu was crispy the marinade made for a well seasoned bite. Seeing the iced coffee with ube foam we knew we wanted to try it! The coffee was pretty smooth and the ube foam added a extra flare of flavor and color. Overall a delicious drink if you like sweeter coffees or lattes!Cute brunch spot! Similar to Sweet Maple, Alnico serves Asian-fusion inspired brunch items. Service here was great; we didn't have a reservation but were still able to be seated immediately. After we had sat down, our server noticed our table was wobbly, so he grabbed a door stopper to fix the wobbly leg, so kind of him! Food was decently enjoyable. My only complaint was that sitting outside, the food got cold quite quickly, so it would be nice if the kitchen could send out dishes at a higher temperature to offset that problem for outdoor diners. This is definitely a place you get a drink with your food. There's a lot of cute and fun options but the Vietnamese Iced coffee with Ube Foam was my easy favorite. It was not overly sweet, and had an interesting look with the purple foam top! The foam cream was super tasty as well. In terms of food, the Ube Hotcakes were a bit heavy, but a great portion size. Might be a good dish to split with a group since the flavor of the Ube cream can get a bit overwhelming much too fast. In moderation, it is enjoyable, and the hotcakes were super fluffy. The chicken karaage and waffles was so good! Great flavor to the chicken, and the dish was freshly well balanced with the garnish of cilantro and radish. The waffle itself was well paired with the black sesame butter, for a very salty and creamy finish. Overall, I'd definitely recommend this place to anyone who likes very instagrammable food!It's exciting seeing more elevated Filipino restaurants pop up :) The food was all beautifully presented and everything tasted pretty good. The poached chicken and the chicken & waffles (amazing black sesame butter on top) stood out the most to me. The loco moco is also a solid pick with very tender meat. For drinks, the horchata was great. The meat, eggs, and vegetables were perfectly cooked and the drinks were done well. Some constructive feedback for the food is I want to see some more flavor in all of the items. The poached chicken could use more ginger, more seasoning in the loco moco, and more garlic in the garlic rice. The fish was beautifully crisped but needed more flavor in the side sauce as well. I came here for brunch after making a reservation for 6 on a Friday. The restaurant was pretty busy so I'd make sure you have one. You can make adjustments to the party size by phone if you don't see the options you need on Yelp. The interior has a modern aesthetic. Service was decent though they're running slightly understaffed.Filipino breakfast inspired by American brunch.  This is a place that not only does the food look good it tastes good too. It exceeded my expectations.Ube  hotcakes: pretty, not too sweet, it's huge so meant to be shared, it was a bit light on the ube flavoring, I wish it had a more pronounced flavor.  The pancakes were fluffy and to me the ube sauce was the star of the show.Branzino with toyo-mansi sauce to dip it in and the side of tomatoes and onions is what made this meal delicious.Steak and eggs: Top pick in my book my favorite. Perfectly charred with so much flavor and the chimichurri was tasty Ube horchata: just the right amount of sweetness This is a perfect place for an introduction to Filipino food with it's delicious food!My friend made it a point to take me to Alnico during my visit to SF. It was a short walk from Noe Valley. After putting our name down they said they said they couldn't seat parties under 4 inside. There was plenty of room and they had my friend, fiancé, and I sitting outside in the pouring rain. We saw there was a party of two sitting inside and were confused as to why we couldn't wait longer for a table inside. The table umbrella only covered a small portion of our table and my fiancé was getting rained on. It was freezing and we were all miserable. Despite our experience with service, we enjoyed the rest of our time. The food made up for our chilly breakfast experience. We got the Ube pancakes which were delicious and I loved the coconut shavings and fruit. The star of the dish was the Ube coconut sauce. It helped make a regular pancake packed with flavor especially cause ube is a more subtle taste. We also got the Ni loco mo ako (loco moco) which was a funny name for the loco moco. The slow cooked beef was tender and was perfect! Absolutely delicious! I enjoyed the savory pairing of this dish to balance out our Ube pancakes. I'm Filipino and am skeptical about modern Filipino food places, but Alnico has this place down! Love how they honor Filipino culture and make it a upscale breakfast experience!Wow, this is a good breakfast. It has all right mix of savory and sweet.I feel in love with their chicken congee, it was savory, spicy, and warming. It was also presented well in a to-go container allowing me to eat this delicious dish and still avoid crowds. The chicken was tender, but bone-in so you need to work a little more to get to all the meat, but since it's soaked in the congee it's pretty tender.The ube pancakes were so good. I loved their fluffy texture and not so sweet taste (granted, they were willing to modify the dish to remove the powdered sugar). The ube sauce was packed separately allowing me to determine how much of the sauce I wanted to have soak into the pancake. Honestly the ube sauce was a standout on its own and I preferred to eat it separately. I know that probably was not the chef's plan, but it had an almost tofu or pudding like consistency which we loved. Definitely will continue to return to this eatery for to-go and explore some more of the options. Also, they were very prompt with their pickup times and friendly when we arrived.Ube galore!! A blend of Vietnamese/Korean with a splash of Filipino love. Alnico is a must visit for brunch with their beautiful presentation. We ordered the 2 popular dishes; Korean waffle and ube pancake. Both were incredible!! Korean wings actually reminded me a lot of Vietnamese nuoc man wings. I believe the butter was black sesame, I could of ate a bowl of this alone. Ube pancakes have a touch of coconut as well, iykyk ube and coconut are a match made in heaven. Also tried the ube iced coffee, it is strong!! For those that love Vietnamese iced coffee, this is for you. They do not take reservations for tables under 3 or 4. We got a table fairly quickly not having a reservation but we lucked out as the line became long as we were dining.Filipino fusion brunch in the Mission district. Went here as a party of 4 on a Sunday afternoon. I made a reservation for 1pm, and we were seated around 1:20pm since they were waiting for an open table.Street parking and a bit difficult to find parking. Customer service was okay, music is quite loud inside, and limited seating as well.All four of us ordered the Ube Horchata, it was good but a bit watery. My friend and I wanted to order the short braised ribs but they were sold out! So we ordered the ube hotcakes, chicken + waffles, and shrimp grits. The ube hotcakes were good, very coconut taste and not overly sweet. The shrimp grits were okay, a bit bland and needed more salt. Lastly my friend said her waffles were dry and overcooked. For the chicken it was party wings and they were crispy and well seasoned.Overall a pretty solid brunch place.I am honestly impressed with Alnico! I came here with two of my best friends, and we waited at most 10 minutes. For a party of 3, we ordered A LOT.Items:1) Chicken Wings-N-Waffles - Really enjoyed the wings! Very crispy and juicy with a honey soy glaze flavor.2) Ube hotcakes - Big portion! The ube was light which i loved!3) Poached chicken - This was my FAVE dish. The chicken comes with ginger-rice porridge, fish sauce, black chili oil, toasted garlic, an egg, and chicken chicharron! It was so good and reminded me of comfort food.4) Vegan tofu sisig - Not bad but I was hoping the tofu would be crispy but it was different.5) Niloco mo ako - Slow cooked sesame soy short ribs. The meat was was so yummy and tender!I also liked their Vietnamese coffee, although I thought it was was pretty strong haha. Definitely will be coming back to this place!I got the mini ube hotcakes and they were pretty good!! I liked that the pancakes themselves weren't too sweet; the ube syrup was definitely the best part! I loved the garnish of fresh fruit on top. Overall, I had a good experience here.We really tried to like this place especially since restaurants are struggling during Covid-19, but there was just too many things wrong with this place.The number one thing that is wrong with this place is the service.  Even though we were seated right away since there were empty tables, it took a long time for us to get our food or to get any service besides dropping off the drinks we ordered.  I admit we took a while to order because we were waiting for a waiter to take our order since the sign on the table said to order and pay with a server, but a waiter never came to us once we were seated, so we ended up ordering online.  Also, the people that sat down after us got their food before us.  It was especially obvious that one of the waiters gave our food to the table next to us since they brought the Niloco Mo Ako as well as the Ube French Toast that they didn't even order.  If my mom didn't hunt down a waiter to complain, we would have been waiting another hour for our food.The Niloco Mo Ako was okay.  It was cooked fine and had a decent sauce that didn't taste awful, but the dish lacked flavor.  If you ate the Meat by itself without any of sauce, it would taste really bland.The Ube French Toast was okay.  It was nice having the Ube Paste mixed in and baked into the bread itself, but the Ube French Toast was dry.  It needed some sort of sauce since it was still pretty dry even with the Ube.The Fried Chicken and Black Sesame Waffles was okay.  The Waffles were meh since the Black Sesame flavor was only in the Butter.  If they actually put it in the Batter, it would have given the Waffles more depth in flavor.  As for the Fried Chicken Wings, they had a crunchy Skin, but I have had better tasting wings before.Overall, this place was a total let down and not worth the time or money we spent going there especially when the food was nothing special and because there is little to no service there.  They might as well have robot waiters since the waiters only came to drop off the food and drinks.  They didn't even check to see if we wanted a refill.  So, definitely would never ever recommend this place or come back here.This place has been on my list for the longest time and I finally tried it.Came here on a weekday morning and it was nice and quiet. Only 4-5 tables around 10:30AM. There was only one waitress and it didn't seem like she enjoyed her job.Ordered the ube French toast and unfortunately, it looked better than it tasted. The ube flavor was there (not too sweet), but the toast was really dry. I prefer my French toast more buttery and moist. Some of the blueberries that came with it weren't fresh.The whole experience was disappointing. I definitely would not wait or go out of my way for this place.Overall 3.5/5. Ube hotcakes 5/5. In my honest opinion, the only things worth getting are the ube dishes/drinks. The mochi waffle was good too (not pictured) but everything else we ordered is good but overpriced - for example, (tho i might be biased cuz I'm Cantonese) I think you can get much better congee at any HK restaurant for half the price. And you can actually eat some congee and not just a big thing of chicken. That being said, I'll go back just for the ube hotcakes. I don't normally like sweet over savory but mannn. We also asked for extra ube sauce and it's $2.A girlfriend and I had brunch at Alnico over the weekend. Fortunately, we got lucky and didn't have to wait too long to be seated, approximately 15-20 minutes. After looking over their menu, we decided to share their famous Ube Hotcakes and Steak & Eggs. For drinks, we ordered the Vietnamese Coffee with Ube Foam.The food was yummy! The Ube Hotcakes looked IG worthy with the bright purple coloring and fruit toppings. But most importantly, it tasted good. The hotcakes were soft and chewy with a light ube flavor. The Steak & Eggs were delish and helped to balance out the sweetness from the hotcakes. Recommend ordering this combo if you are into sweet and savory. Lastly, the Vietnamese Coffee was tasty, however, it didn't taste too unique to me despite the ube foam.Staff was friendly, but I can't say they were attentive due to the full house. However, that wasn't an issue for us, as we were too busy eating and catching up. All in all, food was tasty. Definitely worth trying out if you're in the city, but prepare yourself for a wait and check their business hours as they are currently only opened Thursday-Sunday.My all time favorite brunch spot! I've been here so many times and have brought so many friends and family to try it. They're only open Thursday-Sunday 9am to 2pm. They have both indoor and outdoor dining. You can make reservations ahead but if you decide to walk in, I suggest coming right at opening so you beat the crowd. They serve Filipino breakfast and it's a wonderful place to try a lot of dishes and share with friends. Chicken Wings n Waffles - SO GOOD. After I had it the first time, I came back again the following weekend just for this dish. The chicken is crispy and glazed in sweet soy. The waffles are topped with black sesame butter which I wish they gave more of because it's so delicious. Poached Chicken aka Arroz Caldo - warm, inviting, hug in a bowl. If it's cold outside this is the dish that I want. It's porridge topped with chicken, chili oil, egg, cilantro, onions and chicharron. I've had pretty much everything on the menu and I can say that I loved every dish. Also, try out their drinks! They have a great mix of cocktails and unique drinks like Ube Horchata, Dirty Calamansi Shirley Temple and Vietnamese Coffee with Ube Foam.Was there for the weekend menu brunch. Food was good:Got the ube hotcakes- Excellent. The pancakes reminded me of mamon, delicious and buttery. The sauce reminded me of ginataan.Niloco mo ako-  Not my favorite. Thought the quality of the short ribs weren't could've been better and the sauce didn't really go together in my opinion. Fortunately the garlic rice and egg was good on its own.Drinks saved the day:Dirty mango mansi- Really good. The drink looked cool and the flavors were refreshing.Mimosa w/ guava- Good.Vietnamese coffee with ube foam- Coffee was really good, the foam didn't really taste like ube in my opinion, but the foam was still good. Would definitely want to try to the other things on the menu. Went here as a party of 16 and the service was great. Felt taken care of.This place is A-M-A-Z-I-N-G I would totally recommend this place! Totally worth every penny! It's an asian filipino ish fusion cuisine with a touch of instagram worthy pictures! There is reservation required for four people! Luckily my friend had the time to arrange all this!Niloco Mo Ako was chef's kiss! Sesame Soy Short Ribs was perfect! The meat was so soft and melts in your mouth! The sauce was so perfect I never tasted anything like it! Tito boy was so unique I was amazed how delicious it was. I usually eat grits with milk and condensed but dang I was surprised how it tasted! Thumbs up! Too bad they didn't have the congee I wanted to try it.Matcha Mochi Waffles and Ube hotcakes are the most prettiest darn thing to look at I just wanted to stare at it! Hotcakes and Waffles are so fluffy I just can not get enough of how good it was It can totally feed 3 people! So worth it! Drinks are of course my favorite first thing to look at is the alcohol/cocktails menu. Haha....I wanted to try each one of them but had to contain myself again. We were calamansi overload it just brought back memories back home! I will definitely come back and see you guys again :)Delicious Filipino fusion food! The black sesame butter with the waffles and the flavor of the chicken was so yummy. The ube in the hotcakes was strong and not too sweet, paired well with the Vietnamese iced coffee. Food was on the pricier side, not a brunch place I'd stop often.The service was just good. I understand waiters are really busy, our waiter came by once and we didn't immediately respond and she just walked away. When taking our order and giving us the check she seemed a little impatient with us. She did however check on us a few times which we appreciated!Great spot for foodies in the bay area!\n"
     ]
    }
   ],
   "source": [
    "print(df_ed['review'][0])"
   ]
  },
  {
   "cell_type": "code",
   "execution_count": 182,
   "id": "a6748eb2",
   "metadata": {},
   "outputs": [],
   "source": [
    "from transformers import AutoTokenizer, AutoModelWithLMHead, AdamW\n",
    "import torch"
   ]
  },
  {
   "cell_type": "code",
   "execution_count": 183,
   "id": "95fc124e",
   "metadata": {},
   "outputs": [
    {
     "name": "stderr",
     "output_type": "stream",
     "text": [
      "/Users/kayhan/opt/anaconda3/envs/pendulum/lib/python3.9/site-packages/transformers/models/auto/modeling_auto.py:1248: FutureWarning: The class `AutoModelWithLMHead` is deprecated and will be removed in a future version. Please use `AutoModelForCausalLM` for causal language models, `AutoModelForMaskedLM` for masked language models and `AutoModelForSeq2SeqLM` for encoder-decoder models.\n",
      "  warnings.warn(\n"
     ]
    }
   ],
   "source": [
    "model = AutoModelWithLMHead.from_pretrained('allenai/led-large-16384-arxiv')"
   ]
  },
  {
   "cell_type": "code",
   "execution_count": null,
   "id": "5de6fc7b",
   "metadata": {},
   "outputs": [],
   "source": [
    "model.config.t"
   ]
  },
  {
   "cell_type": "code",
   "execution_count": 166,
   "id": "0b2dd57c",
   "metadata": {},
   "outputs": [],
   "source": [
    "\n",
    "model = LEDForConditionalGeneration.from_pretrained(\"allenai/led-large-16384-arxiv\")\n",
    "tokenizer = AutoTokenizer.from_pretrained(\"allenai/led-large-16384-arxiv\")\n"
   ]
  },
  {
   "cell_type": "code",
   "execution_count": 175,
   "id": "27ba9671",
   "metadata": {},
   "outputs": [],
   "source": [
    "ARTICLE_TO_SUMMARIZE = df_ed['review'][1]\n",
    "inputs = tokenizer.encode(ARTICLE_TO_SUMMARIZE, return_tensors=\"pt\")\n",
    "\n",
    "# Global attention on the first token (cf. Beltagy et al. 2020)\n",
    "global_attention_mask = torch.zeros_like(inputs)\n",
    "global_attention_mask[:, 0] = 1"
   ]
  },
  {
   "cell_type": "code",
   "execution_count": 176,
   "id": "4dcc1b84",
   "metadata": {},
   "outputs": [
    {
     "data": {
      "text/plain": [
       "13723.5"
      ]
     },
     "execution_count": 176,
     "metadata": {},
     "output_type": "execute_result"
    }
   ],
   "source": [
    "len(df_ed['review'][0])\n",
    "27447/2\n",
    "# min_length=50,\n",
    "#                              max_length=100,\n",
    "#                             max_time=120"
   ]
  },
  {
   "cell_type": "code",
   "execution_count": null,
   "id": "22c775b1",
   "metadata": {},
   "outputs": [],
   "source": [
    "model."
   ]
  },
  {
   "cell_type": "code",
   "execution_count": 177,
   "id": "8b08811e",
   "metadata": {},
   "outputs": [],
   "source": [
    "summary_ids = model.generate(inputs, global_attention_mask=global_attention_mask,\n",
    "                             num_beams=5,\n",
    "                             num_return_sequences=3,\n",
    "                            min_length=50,\n",
    "                            max_length=100,\n",
    "                            max_time=300)"
   ]
  },
  {
   "cell_type": "code",
   "execution_count": 178,
   "id": "7abf67a3",
   "metadata": {},
   "outputs": [
    {
     "name": "stdout",
     "output_type": "stream",
     "text": [
      " we had brunch at Alnico in the Mission with a group of friends. \n",
      " we ordered the ube hotcakes, chicken porridge and chicken and waffles. \n",
      " the ube hotcakes were soft and chewy with a light ube flavor. \n",
      " the fried chicken and waffles were crispy and well seasoned with a honey soy glaze flavor. \n",
      " the waffles were topped with black sesame butter and the waffle itself was well paired with the black s\n"
     ]
    }
   ],
   "source": [
    "# df_ed['review'][0][:15000]\n",
    "print(tokenizer.decode(summary_ids[0], skip_special_tokens=True, clean_up_tokenization_spaces=True))"
   ]
  },
  {
   "cell_type": "code",
   "execution_count": 179,
   "id": "759886ec",
   "metadata": {},
   "outputs": [
    {
     "name": "stdout",
     "output_type": "stream",
     "text": [
      " we had brunch at Alnico in the Mission with a group of friends. \n",
      " we ordered the ube hotcakes, chicken porridge and chicken and waffles. \n",
      " the ube hotcakes were soft and chewy with a light ube flavor. \n",
      " the fried chicken and waffles were crispy and well seasoned with a honey soy glaze flavor. \n",
      " the waffles were topped with black sesame butter. \n",
      " the fried chicken was crispy and well seasoned with\n"
     ]
    }
   ],
   "source": [
    "print(tokenizer.decode(summary_ids[1], skip_special_tokens=True, clean_up_tokenization_spaces=True))"
   ]
  },
  {
   "cell_type": "code",
   "execution_count": 180,
   "id": "8d9ecd09",
   "metadata": {},
   "outputs": [
    {
     "name": "stdout",
     "output_type": "stream",
     "text": [
      " we had brunch at Alnico in the Mission with a group of friends. \n",
      " we ordered the ube hotcakes, chicken porridge and chicken and waffles. \n",
      " the ube hotcakes were soft and chewy with a light ube flavor. \n",
      " the fried chicken and waffles were crispy and well seasoned with a honey soy glaze flavor. \n",
      " the waffles were topped with black sesame butter and the waffle itself was well paired with black sesame\n"
     ]
    }
   ],
   "source": [
    "print(tokenizer.decode(summary_ids[2], skip_special_tokens=True, clean_up_tokenization_spaces=True))"
   ]
  },
  {
   "cell_type": "code",
   "execution_count": 96,
   "id": "a4e22498",
   "metadata": {},
   "outputs": [
    {
     "data": {
      "text/plain": [
       "124.00959183673469"
      ]
     },
     "execution_count": 96,
     "metadata": {},
     "output_type": "execute_result"
    }
   ],
   "source": [
    "concatted['grouped_review'].apply(lambda x : len(x)).mean()/500"
   ]
  },
  {
   "cell_type": "code",
   "execution_count": 202,
   "id": "2ee33ae6",
   "metadata": {},
   "outputs": [
    {
     "data": {
      "text/plain": [
       "686.7057492077863"
      ]
     },
     "execution_count": 202,
     "metadata": {},
     "output_type": "execute_result"
    }
   ],
   "source": [
    "df['review'].apply(lambda x : len(x)).mean()"
   ]
  },
  {
   "cell_type": "code",
   "execution_count": null,
   "id": "695be842",
   "metadata": {},
   "outputs": [],
   "source": [
    "686.7057492077863"
   ]
  },
  {
   "cell_type": "code",
   "execution_count": 254,
   "id": "c00894ef",
   "metadata": {},
   "outputs": [],
   "source": [
    "df['review_length'] = df['review'].apply(len)"
   ]
  },
  {
   "cell_type": "code",
   "execution_count": 264,
   "id": "b93a6e8d",
   "metadata": {},
   "outputs": [
    {
     "data": {
      "text/plain": [
       "14124"
      ]
     },
     "execution_count": 264,
     "metadata": {},
     "output_type": "execute_result"
    }
   ],
   "source": [
    "24364 - 10240 # (10,240 max char length)"
   ]
  },
  {
   "cell_type": "code",
   "execution_count": 268,
   "id": "72dcaf07",
   "metadata": {
    "scrolled": true
   },
   "outputs": [
    {
     "data": {
      "text/plain": [
       "0     3092\n",
       "1     1249\n",
       "2      234\n",
       "3      925\n",
       "4     1947\n",
       "5     1356\n",
       "6     1463\n",
       "7     1570\n",
       "8      861\n",
       "9      687\n",
       "10     284\n",
       "11    1045\n",
       "12    1262\n",
       "13     685\n",
       "14     417\n",
       "15     425\n",
       "16     360\n",
       "17     186\n",
       "18     409\n",
       "19     205\n",
       "20     562\n",
       "21     587\n",
       "22     371\n",
       "23     374\n",
       "24     801\n",
       "25      90\n",
       "26     191\n",
       "27     269\n",
       "28     151\n",
       "29     363\n",
       "30     219\n",
       "31     378\n",
       "32     331\n",
       "33     227\n",
       "34     350\n",
       "35     208\n",
       "36     230\n",
       "Name: review_length, dtype: int64"
      ]
     },
     "execution_count": 268,
     "metadata": {},
     "output_type": "execute_result"
    }
   ],
   "source": [
    "df[df['id'] == 's2R3RUJ09eBFvHVIUS4Shg']['review_length']"
   ]
  },
  {
   "cell_type": "code",
   "execution_count": null,
   "id": "c253c641",
   "metadata": {},
   "outputs": [],
   "source": []
  },
  {
   "cell_type": "code",
   "execution_count": null,
   "id": "276ecb35",
   "metadata": {},
   "outputs": [],
   "source": []
  },
  {
   "cell_type": "code",
   "execution_count": 373,
   "id": "878f8166",
   "metadata": {},
   "outputs": [
    {
     "data": {
      "text/plain": [
       "<pandas.core.groupby.generic.DataFrameGroupBy object at 0x24ffe0f40>"
      ]
     },
     "execution_count": 373,
     "metadata": {},
     "output_type": "execute_result"
    }
   ],
   "source": [
    "df.groupby(by=['name',df.index // ])['review']"
   ]
  },
  {
   "cell_type": "code",
   "execution_count": 324,
   "id": "d0621904",
   "metadata": {},
   "outputs": [
    {
     "data": {
      "text/plain": [
       "4341"
      ]
     },
     "execution_count": 324,
     "metadata": {},
     "output_type": "execute_result"
    }
   ],
   "source": [
    "1249+1249"
   ]
  },
  {
   "cell_type": "code",
   "execution_count": 374,
   "id": "567a028c",
   "metadata": {},
   "outputs": [
    {
     "data": {
      "text/html": [
       "<div>\n",
       "<style scoped>\n",
       "    .dataframe tbody tr th:only-of-type {\n",
       "        vertical-align: middle;\n",
       "    }\n",
       "\n",
       "    .dataframe tbody tr th {\n",
       "        vertical-align: top;\n",
       "    }\n",
       "\n",
       "    .dataframe thead th {\n",
       "        text-align: right;\n",
       "    }\n",
       "</style>\n",
       "<table border=\"1\" class=\"dataframe\">\n",
       "  <thead>\n",
       "    <tr style=\"text-align: right;\">\n",
       "      <th></th>\n",
       "      <th>Unnamed: 0</th>\n",
       "      <th>id</th>\n",
       "      <th>name</th>\n",
       "      <th>rating</th>\n",
       "      <th>review</th>\n",
       "      <th>total_review</th>\n",
       "      <th>review_length</th>\n",
       "    </tr>\n",
       "  </thead>\n",
       "  <tbody>\n",
       "    <tr>\n",
       "      <th>0</th>\n",
       "      <td>0</td>\n",
       "      <td>s2R3RUJ09eBFvHVIUS4Shg</td>\n",
       "      <td>Kothai Republic</td>\n",
       "      <td>5.0</td>\n",
       "      <td>KOREAN-THAI, KOTHAI! It has a nice ring to it....</td>\n",
       "      <td>37</td>\n",
       "      <td>3092</td>\n",
       "    </tr>\n",
       "    <tr>\n",
       "      <th>1</th>\n",
       "      <td>1</td>\n",
       "      <td>s2R3RUJ09eBFvHVIUS4Shg</td>\n",
       "      <td>Kothai Republic</td>\n",
       "      <td>5.0</td>\n",
       "      <td>I heard about this Thai/Korean fusion restaura...</td>\n",
       "      <td>37</td>\n",
       "      <td>1249</td>\n",
       "    </tr>\n",
       "    <tr>\n",
       "      <th>2</th>\n",
       "      <td>2</td>\n",
       "      <td>s2R3RUJ09eBFvHVIUS4Shg</td>\n",
       "      <td>Kothai Republic</td>\n",
       "      <td>5.0</td>\n",
       "      <td>Great dishes and execution. I loved the Tom Yu...</td>\n",
       "      <td>37</td>\n",
       "      <td>234</td>\n",
       "    </tr>\n",
       "    <tr>\n",
       "      <th>3</th>\n",
       "      <td>3</td>\n",
       "      <td>s2R3RUJ09eBFvHVIUS4Shg</td>\n",
       "      <td>Kothai Republic</td>\n",
       "      <td>5.0</td>\n",
       "      <td>Kothai Republic has so much potential and I ca...</td>\n",
       "      <td>37</td>\n",
       "      <td>925</td>\n",
       "    </tr>\n",
       "    <tr>\n",
       "      <th>4</th>\n",
       "      <td>4</td>\n",
       "      <td>s2R3RUJ09eBFvHVIUS4Shg</td>\n",
       "      <td>Kothai Republic</td>\n",
       "      <td>5.0</td>\n",
       "      <td>Food truck turned brick and mortar. Still defi...</td>\n",
       "      <td>37</td>\n",
       "      <td>1947</td>\n",
       "    </tr>\n",
       "    <tr>\n",
       "      <th>...</th>\n",
       "      <td>...</td>\n",
       "      <td>...</td>\n",
       "      <td>...</td>\n",
       "      <td>...</td>\n",
       "      <td>...</td>\n",
       "      <td>...</td>\n",
       "      <td>...</td>\n",
       "    </tr>\n",
       "    <tr>\n",
       "      <th>4413</th>\n",
       "      <td>4413</td>\n",
       "      <td>LsGkxQK217twdzZzVXsSRg</td>\n",
       "      <td>CreoLa</td>\n",
       "      <td>4.5</td>\n",
       "      <td>So excited for a new restaurant in the neighbo...</td>\n",
       "      <td>161</td>\n",
       "      <td>725</td>\n",
       "    </tr>\n",
       "    <tr>\n",
       "      <th>4414</th>\n",
       "      <td>4414</td>\n",
       "      <td>LsGkxQK217twdzZzVXsSRg</td>\n",
       "      <td>CreoLa</td>\n",
       "      <td>4.5</td>\n",
       "      <td>We had food from here twice - Once our friends...</td>\n",
       "      <td>161</td>\n",
       "      <td>563</td>\n",
       "    </tr>\n",
       "    <tr>\n",
       "      <th>4415</th>\n",
       "      <td>4415</td>\n",
       "      <td>LsGkxQK217twdzZzVXsSRg</td>\n",
       "      <td>CreoLa</td>\n",
       "      <td>4.5</td>\n",
       "      <td>I used to live in San Francisco and was deligh...</td>\n",
       "      <td>161</td>\n",
       "      <td>2295</td>\n",
       "    </tr>\n",
       "    <tr>\n",
       "      <th>4416</th>\n",
       "      <td>4416</td>\n",
       "      <td>LsGkxQK217twdzZzVXsSRg</td>\n",
       "      <td>CreoLa</td>\n",
       "      <td>4.5</td>\n",
       "      <td>Their fried chicken is full of flavor, and cri...</td>\n",
       "      <td>161</td>\n",
       "      <td>355</td>\n",
       "    </tr>\n",
       "    <tr>\n",
       "      <th>4417</th>\n",
       "      <td>4417</td>\n",
       "      <td>LsGkxQK217twdzZzVXsSRg</td>\n",
       "      <td>CreoLa</td>\n",
       "      <td>4.5</td>\n",
       "      <td>I love this place! I got Seafood Gumbo and I l...</td>\n",
       "      <td>161</td>\n",
       "      <td>188</td>\n",
       "    </tr>\n",
       "  </tbody>\n",
       "</table>\n",
       "<p>4418 rows × 7 columns</p>\n",
       "</div>"
      ],
      "text/plain": [
       "      Unnamed: 0                      id             name  rating  \\\n",
       "0              0  s2R3RUJ09eBFvHVIUS4Shg  Kothai Republic     5.0   \n",
       "1              1  s2R3RUJ09eBFvHVIUS4Shg  Kothai Republic     5.0   \n",
       "2              2  s2R3RUJ09eBFvHVIUS4Shg  Kothai Republic     5.0   \n",
       "3              3  s2R3RUJ09eBFvHVIUS4Shg  Kothai Republic     5.0   \n",
       "4              4  s2R3RUJ09eBFvHVIUS4Shg  Kothai Republic     5.0   \n",
       "...          ...                     ...              ...     ...   \n",
       "4413        4413  LsGkxQK217twdzZzVXsSRg           CreoLa     4.5   \n",
       "4414        4414  LsGkxQK217twdzZzVXsSRg           CreoLa     4.5   \n",
       "4415        4415  LsGkxQK217twdzZzVXsSRg           CreoLa     4.5   \n",
       "4416        4416  LsGkxQK217twdzZzVXsSRg           CreoLa     4.5   \n",
       "4417        4417  LsGkxQK217twdzZzVXsSRg           CreoLa     4.5   \n",
       "\n",
       "                                                 review  total_review  \\\n",
       "0     KOREAN-THAI, KOTHAI! It has a nice ring to it....            37   \n",
       "1     I heard about this Thai/Korean fusion restaura...            37   \n",
       "2     Great dishes and execution. I loved the Tom Yu...            37   \n",
       "3     Kothai Republic has so much potential and I ca...            37   \n",
       "4     Food truck turned brick and mortar. Still defi...            37   \n",
       "...                                                 ...           ...   \n",
       "4413  So excited for a new restaurant in the neighbo...           161   \n",
       "4414  We had food from here twice - Once our friends...           161   \n",
       "4415  I used to live in San Francisco and was deligh...           161   \n",
       "4416  Their fried chicken is full of flavor, and cri...           161   \n",
       "4417  I love this place! I got Seafood Gumbo and I l...           161   \n",
       "\n",
       "      review_length  \n",
       "0              3092  \n",
       "1              1249  \n",
       "2               234  \n",
       "3               925  \n",
       "4              1947  \n",
       "...             ...  \n",
       "4413            725  \n",
       "4414            563  \n",
       "4415           2295  \n",
       "4416            355  \n",
       "4417            188  \n",
       "\n",
       "[4418 rows x 7 columns]"
      ]
     },
     "execution_count": 374,
     "metadata": {},
     "output_type": "execute_result"
    }
   ],
   "source": []
  },
  {
   "cell_type": "code",
   "execution_count": null,
   "id": "b50b975b",
   "metadata": {},
   "outputs": [],
   "source": []
  },
  {
   "cell_type": "code",
   "execution_count": 337,
   "id": "692f1609",
   "metadata": {
    "scrolled": true
   },
   "outputs": [
    {
     "data": {
      "text/html": [
       "<div>\n",
       "<style scoped>\n",
       "    .dataframe tbody tr th:only-of-type {\n",
       "        vertical-align: middle;\n",
       "    }\n",
       "\n",
       "    .dataframe tbody tr th {\n",
       "        vertical-align: top;\n",
       "    }\n",
       "\n",
       "    .dataframe thead th {\n",
       "        text-align: right;\n",
       "    }\n",
       "</style>\n",
       "<table border=\"1\" class=\"dataframe\">\n",
       "  <thead>\n",
       "    <tr style=\"text-align: right;\">\n",
       "      <th></th>\n",
       "      <th>index</th>\n",
       "      <th>review</th>\n",
       "    </tr>\n",
       "  </thead>\n",
       "  <tbody>\n",
       "    <tr>\n",
       "      <th>0</th>\n",
       "      <td>0</td>\n",
       "      <td>KOREAN-THAI, KOTHAI! It has a nice ring to it....</td>\n",
       "    </tr>\n",
       "    <tr>\n",
       "      <th>1</th>\n",
       "      <td>1</td>\n",
       "      <td>KOREAN-THAI, KOTHAI! It has a nice ring to it....</td>\n",
       "    </tr>\n",
       "    <tr>\n",
       "      <th>2</th>\n",
       "      <td>2</td>\n",
       "      <td>KOREAN-THAI, KOTHAI! It has a nice ring to it....</td>\n",
       "    </tr>\n",
       "    <tr>\n",
       "      <th>3</th>\n",
       "      <td>3</td>\n",
       "      <td>KOREAN-THAI, KOTHAI! It has a nice ring to it....</td>\n",
       "    </tr>\n",
       "    <tr>\n",
       "      <th>4</th>\n",
       "      <td>4</td>\n",
       "      <td>KOREAN-THAI, KOTHAI! It has a nice ring to it....</td>\n",
       "    </tr>\n",
       "    <tr>\n",
       "      <th>...</th>\n",
       "      <td>...</td>\n",
       "      <td>...</td>\n",
       "    </tr>\n",
       "    <tr>\n",
       "      <th>4413</th>\n",
       "      <td>4413</td>\n",
       "      <td>The very definition of a hidden gem.I found th...</td>\n",
       "    </tr>\n",
       "    <tr>\n",
       "      <th>4414</th>\n",
       "      <td>4414</td>\n",
       "      <td>The very definition of a hidden gem.I found th...</td>\n",
       "    </tr>\n",
       "    <tr>\n",
       "      <th>4415</th>\n",
       "      <td>4415</td>\n",
       "      <td>The very definition of a hidden gem.I found th...</td>\n",
       "    </tr>\n",
       "    <tr>\n",
       "      <th>4416</th>\n",
       "      <td>4416</td>\n",
       "      <td>The very definition of a hidden gem.I found th...</td>\n",
       "    </tr>\n",
       "    <tr>\n",
       "      <th>4417</th>\n",
       "      <td>4417</td>\n",
       "      <td>The very definition of a hidden gem.I found th...</td>\n",
       "    </tr>\n",
       "  </tbody>\n",
       "</table>\n",
       "<p>4418 rows × 2 columns</p>\n",
       "</div>"
      ],
      "text/plain": [
       "      index                                             review\n",
       "0         0  KOREAN-THAI, KOTHAI! It has a nice ring to it....\n",
       "1         1  KOREAN-THAI, KOTHAI! It has a nice ring to it....\n",
       "2         2  KOREAN-THAI, KOTHAI! It has a nice ring to it....\n",
       "3         3  KOREAN-THAI, KOTHAI! It has a nice ring to it....\n",
       "4         4  KOREAN-THAI, KOTHAI! It has a nice ring to it....\n",
       "...     ...                                                ...\n",
       "4413   4413  The very definition of a hidden gem.I found th...\n",
       "4414   4414  The very definition of a hidden gem.I found th...\n",
       "4415   4415  The very definition of a hidden gem.I found th...\n",
       "4416   4416  The very definition of a hidden gem.I found th...\n",
       "4417   4417  The very definition of a hidden gem.I found th...\n",
       "\n",
       "[4418 rows x 2 columns]"
      ]
     },
     "execution_count": 337,
     "metadata": {},
     "output_type": "execute_result"
    }
   ],
   "source": [
    "df.groupby(by=['name'])['review'].transform(lambda x: ','.join(x)).reset_index()"
   ]
  },
  {
   "cell_type": "code",
   "execution_count": 291,
   "id": "ac7bf91f",
   "metadata": {},
   "outputs": [
    {
     "data": {
      "text/plain": [
       "<pandas.core.groupby.generic.SeriesGroupBy object at 0x24f459d90>"
      ]
     },
     "execution_count": 291,
     "metadata": {},
     "output_type": "execute_result"
    }
   ],
   "source": [
    "df.groupby(by=['name'])['review_length']"
   ]
  },
  {
   "cell_type": "code",
   "execution_count": 247,
   "id": "ac66c1d4",
   "metadata": {},
   "outputs": [],
   "source": [
    "df_ed['reviews_length'] = df['review'].apply(len)"
   ]
  },
  {
   "cell_type": "code",
   "execution_count": 249,
   "id": "df4d06f5",
   "metadata": {},
   "outputs": [
    {
     "data": {
      "text/plain": [
       "0       3092\n",
       "1       1249\n",
       "2        234\n",
       "3        925\n",
       "4       1947\n",
       "        ... \n",
       "4413     725\n",
       "4414     563\n",
       "4415    2295\n",
       "4416     355\n",
       "4417     188\n",
       "Name: review, Length: 4418, dtype: int64"
      ]
     },
     "execution_count": 249,
     "metadata": {},
     "output_type": "execute_result"
    }
   ],
   "source": [
    "df['review'].apply(len)"
   ]
  },
  {
   "cell_type": "code",
   "execution_count": 295,
   "id": "65f8603f",
   "metadata": {
    "scrolled": true
   },
   "outputs": [
    {
     "data": {
      "text/html": [
       "<div>\n",
       "<style scoped>\n",
       "    .dataframe tbody tr th:only-of-type {\n",
       "        vertical-align: middle;\n",
       "    }\n",
       "\n",
       "    .dataframe tbody tr th {\n",
       "        vertical-align: top;\n",
       "    }\n",
       "\n",
       "    .dataframe thead th {\n",
       "        text-align: right;\n",
       "    }\n",
       "</style>\n",
       "<table border=\"1\" class=\"dataframe\">\n",
       "  <thead>\n",
       "    <tr style=\"text-align: right;\">\n",
       "      <th></th>\n",
       "      <th>name</th>\n",
       "      <th>review_length</th>\n",
       "      <th>review</th>\n",
       "    </tr>\n",
       "  </thead>\n",
       "  <tbody>\n",
       "    <tr>\n",
       "      <th>0</th>\n",
       "      <td>Alnico</td>\n",
       "      <td>0</td>\n",
       "      <td>You know those brunch places with a whole line...</td>\n",
       "    </tr>\n",
       "    <tr>\n",
       "      <th>1</th>\n",
       "      <td>Arang</td>\n",
       "      <td>0</td>\n",
       "      <td>Heard about this place from a friend and order...</td>\n",
       "    </tr>\n",
       "    <tr>\n",
       "      <th>2</th>\n",
       "      <td>Automat</td>\n",
       "      <td>0</td>\n",
       "      <td>I came here on a Friday night around 8:30 PM w...</td>\n",
       "    </tr>\n",
       "    <tr>\n",
       "      <th>3</th>\n",
       "      <td>Beit Rima</td>\n",
       "      <td>0</td>\n",
       "      <td>Beit Rima e provided a cozy and welcoming vibe...</td>\n",
       "    </tr>\n",
       "    <tr>\n",
       "      <th>4</th>\n",
       "      <td>Beretta</td>\n",
       "      <td>0</td>\n",
       "      <td>Every time I come here I am never disappointed...</td>\n",
       "    </tr>\n",
       "    <tr>\n",
       "      <th>5</th>\n",
       "      <td>Bottega</td>\n",
       "      <td>0</td>\n",
       "      <td>Pretty good. We had to wait a while but overal...</td>\n",
       "    </tr>\n",
       "    <tr>\n",
       "      <th>6</th>\n",
       "      <td>Breadbelly</td>\n",
       "      <td>0</td>\n",
       "      <td>Came here for breakfast on a weekend at about ...</td>\n",
       "    </tr>\n",
       "    <tr>\n",
       "      <th>7</th>\n",
       "      <td>Cafe De Casa</td>\n",
       "      <td>0</td>\n",
       "      <td>Delicious chicken Coxinha and corn rissole.We ...</td>\n",
       "    </tr>\n",
       "    <tr>\n",
       "      <th>8</th>\n",
       "      <td>CreoLa</td>\n",
       "      <td>0</td>\n",
       "      <td>The very definition of a hidden gem.I found th...</td>\n",
       "    </tr>\n",
       "    <tr>\n",
       "      <th>9</th>\n",
       "      <td>Daeho Kalbijjim &amp; Beef Soup</td>\n",
       "      <td>0</td>\n",
       "      <td>Yommy yommy yommy is the first thing that come...</td>\n",
       "    </tr>\n",
       "    <tr>\n",
       "      <th>10</th>\n",
       "      <td>Dumpling Home</td>\n",
       "      <td>0</td>\n",
       "      <td>We were so pleased to get a last minute reserv...</td>\n",
       "    </tr>\n",
       "    <tr>\n",
       "      <th>11</th>\n",
       "      <td>Dumpling House</td>\n",
       "      <td>0</td>\n",
       "      <td>Best dumplings ever.  Everything we tried on t...</td>\n",
       "    </tr>\n",
       "    <tr>\n",
       "      <th>12</th>\n",
       "      <td>Dumpling Kitchen</td>\n",
       "      <td>0</td>\n",
       "      <td>Excited to have Dumpling Kitchen in the Castro...</td>\n",
       "    </tr>\n",
       "    <tr>\n",
       "      <th>13</th>\n",
       "      <td>Fable</td>\n",
       "      <td>0</td>\n",
       "      <td>We came here for dinner and ordered the clams,...</td>\n",
       "    </tr>\n",
       "    <tr>\n",
       "      <th>14</th>\n",
       "      <td>Farmhouse Kitchen Thai Cuisine</td>\n",
       "      <td>0</td>\n",
       "      <td>The soups are really yummy and decently priced...</td>\n",
       "    </tr>\n",
       "    <tr>\n",
       "      <th>15</th>\n",
       "      <td>Fog Harbor Fish House</td>\n",
       "      <td>0</td>\n",
       "      <td>All menus are taste perfect and look goodLuis ...</td>\n",
       "    </tr>\n",
       "    <tr>\n",
       "      <th>16</th>\n",
       "      <td>Gao Viet Kitchen &amp; Bar</td>\n",
       "      <td>0</td>\n",
       "      <td>What can I say? Gao is an experience. The food...</td>\n",
       "    </tr>\n",
       "    <tr>\n",
       "      <th>17</th>\n",
       "      <td>Horsefeather</td>\n",
       "      <td>0</td>\n",
       "      <td>Came here on a Monday evening with a couple fr...</td>\n",
       "    </tr>\n",
       "    <tr>\n",
       "      <th>18</th>\n",
       "      <td>Hu Tong Jian Bing</td>\n",
       "      <td>0</td>\n",
       "      <td>Hu Tong Jian Bing is a pop-up located inside o...</td>\n",
       "    </tr>\n",
       "    <tr>\n",
       "      <th>19</th>\n",
       "      <td>JIJIME</td>\n",
       "      <td>0</td>\n",
       "      <td>This is one of my favorite places in the Richm...</td>\n",
       "    </tr>\n",
       "    <tr>\n",
       "      <th>20</th>\n",
       "      <td>Jamie's Place</td>\n",
       "      <td>0</td>\n",
       "      <td>I really like this place - it's a great additi...</td>\n",
       "    </tr>\n",
       "    <tr>\n",
       "      <th>21</th>\n",
       "      <td>KAIYŌ Rooftop</td>\n",
       "      <td>0</td>\n",
       "      <td>My wife and I stopped by here before heading t...</td>\n",
       "    </tr>\n",
       "    <tr>\n",
       "      <th>22</th>\n",
       "      <td>Kothai Republic</td>\n",
       "      <td>0</td>\n",
       "      <td>KOREAN-THAI, KOTHAI! It has a nice ring to it....</td>\n",
       "    </tr>\n",
       "    <tr>\n",
       "      <th>23</th>\n",
       "      <td>Lily</td>\n",
       "      <td>0</td>\n",
       "      <td>I have been here a few times for dinner alread...</td>\n",
       "    </tr>\n",
       "    <tr>\n",
       "      <th>24</th>\n",
       "      <td>Limoncello</td>\n",
       "      <td>0</td>\n",
       "      <td>I came here with a group of friends for lunch!...</td>\n",
       "    </tr>\n",
       "    <tr>\n",
       "      <th>25</th>\n",
       "      <td>Lokma</td>\n",
       "      <td>0</td>\n",
       "      <td>What a great find! We had been trying to get r...</td>\n",
       "    </tr>\n",
       "    <tr>\n",
       "      <th>26</th>\n",
       "      <td>Marufuku Ramen</td>\n",
       "      <td>0</td>\n",
       "      <td>The noodle was very good I got the Tonkatsu Ra...</td>\n",
       "    </tr>\n",
       "    <tr>\n",
       "      <th>27</th>\n",
       "      <td>Noodle in a Haystack</td>\n",
       "      <td>0</td>\n",
       "      <td>Truly an amazing and unique meal! Clint and Yo...</td>\n",
       "    </tr>\n",
       "    <tr>\n",
       "      <th>28</th>\n",
       "      <td>Nopa</td>\n",
       "      <td>0</td>\n",
       "      <td>Squeeze onto the bar and enjoy the burger - it...</td>\n",
       "    </tr>\n",
       "    <tr>\n",
       "      <th>29</th>\n",
       "      <td>Otra</td>\n",
       "      <td>0</td>\n",
       "      <td>Stopped by just for a drink &amp; the cucumber coc...</td>\n",
       "    </tr>\n",
       "    <tr>\n",
       "      <th>30</th>\n",
       "      <td>Pearl</td>\n",
       "      <td>0</td>\n",
       "      <td>Came here with some friends and it lived up to...</td>\n",
       "    </tr>\n",
       "    <tr>\n",
       "      <th>31</th>\n",
       "      <td>Pinsa Rossa</td>\n",
       "      <td>0</td>\n",
       "      <td>Wow, I don't write reviews often, but Pinsa Ro...</td>\n",
       "    </tr>\n",
       "    <tr>\n",
       "      <th>32</th>\n",
       "      <td>Purple Rice</td>\n",
       "      <td>0</td>\n",
       "      <td>Their soondubu is so flavorful, I can't wait t...</td>\n",
       "    </tr>\n",
       "    <tr>\n",
       "      <th>33</th>\n",
       "      <td>Rise Over Run</td>\n",
       "      <td>0</td>\n",
       "      <td>Awesome new rooftop bar in a city that needs m...</td>\n",
       "    </tr>\n",
       "    <tr>\n",
       "      <th>34</th>\n",
       "      <td>Routier</td>\n",
       "      <td>0</td>\n",
       "      <td>they have soy oil in fryer, grapeseed oil in m...</td>\n",
       "    </tr>\n",
       "    <tr>\n",
       "      <th>35</th>\n",
       "      <td>San Tung</td>\n",
       "      <td>0</td>\n",
       "      <td>Yaaaassss!!! Finally got to try the famous tee...</td>\n",
       "    </tr>\n",
       "    <tr>\n",
       "      <th>36</th>\n",
       "      <td>Santeria</td>\n",
       "      <td>0</td>\n",
       "      <td>Came for a birthday happy hour. Our waiter (mu...</td>\n",
       "    </tr>\n",
       "    <tr>\n",
       "      <th>37</th>\n",
       "      <td>Savor</td>\n",
       "      <td>0</td>\n",
       "      <td>I ordered the Mushroom Shawarma, I was very im...</td>\n",
       "    </tr>\n",
       "    <tr>\n",
       "      <th>38</th>\n",
       "      <td>Sotto Mare</td>\n",
       "      <td>0</td>\n",
       "      <td>A Must try when in SF! The ambience of this pl...</td>\n",
       "    </tr>\n",
       "    <tr>\n",
       "      <th>39</th>\n",
       "      <td>Starbelly</td>\n",
       "      <td>0</td>\n",
       "      <td>Starbelly is a neighborhood gem that needs to ...</td>\n",
       "    </tr>\n",
       "    <tr>\n",
       "      <th>40</th>\n",
       "      <td>Sweet Maple</td>\n",
       "      <td>0</td>\n",
       "      <td>Went here for brunch, it was a long wait to be...</td>\n",
       "    </tr>\n",
       "    <tr>\n",
       "      <th>41</th>\n",
       "      <td>Tanglad</td>\n",
       "      <td>0</td>\n",
       "      <td>An extra star for the comfort and warmth broug...</td>\n",
       "    </tr>\n",
       "    <tr>\n",
       "      <th>42</th>\n",
       "      <td>That's My Jam</td>\n",
       "      <td>0</td>\n",
       "      <td>I was about to visit this place before 2022 en...</td>\n",
       "    </tr>\n",
       "    <tr>\n",
       "      <th>43</th>\n",
       "      <td>The Italian Homemade Company</td>\n",
       "      <td>0</td>\n",
       "      <td>Quick updateThese were good too:-Fettuccine w ...</td>\n",
       "    </tr>\n",
       "    <tr>\n",
       "      <th>44</th>\n",
       "      <td>The Laundromat</td>\n",
       "      <td>0</td>\n",
       "      <td>Wonderful square pizza, plenty of crispy peppe...</td>\n",
       "    </tr>\n",
       "    <tr>\n",
       "      <th>45</th>\n",
       "      <td>The Snug</td>\n",
       "      <td>0</td>\n",
       "      <td>The Snug is a cozy spot with a pleasant ambian...</td>\n",
       "    </tr>\n",
       "    <tr>\n",
       "      <th>46</th>\n",
       "      <td>The Tailor's Son</td>\n",
       "      <td>0</td>\n",
       "      <td>It's no surprise that The Tailor's Son is ofte...</td>\n",
       "    </tr>\n",
       "    <tr>\n",
       "      <th>47</th>\n",
       "      <td>Um Ma</td>\n",
       "      <td>0</td>\n",
       "      <td>3.5/5 A bit surprised by the outdoors brewery ...</td>\n",
       "    </tr>\n",
       "    <tr>\n",
       "      <th>48</th>\n",
       "      <td>Wooden Spoon</td>\n",
       "      <td>0</td>\n",
       "      <td>Amazing drinks, delicious food, cute decor, an...</td>\n",
       "    </tr>\n",
       "  </tbody>\n",
       "</table>\n",
       "</div>"
      ],
      "text/plain": [
       "                              name  review_length  \\\n",
       "0                           Alnico              0   \n",
       "1                            Arang              0   \n",
       "2                          Automat              0   \n",
       "3                        Beit Rima              0   \n",
       "4                          Beretta              0   \n",
       "5                          Bottega              0   \n",
       "6                       Breadbelly              0   \n",
       "7                     Cafe De Casa              0   \n",
       "8                           CreoLa              0   \n",
       "9      Daeho Kalbijjim & Beef Soup              0   \n",
       "10                   Dumpling Home              0   \n",
       "11                  Dumpling House              0   \n",
       "12                Dumpling Kitchen              0   \n",
       "13                           Fable              0   \n",
       "14  Farmhouse Kitchen Thai Cuisine              0   \n",
       "15           Fog Harbor Fish House              0   \n",
       "16          Gao Viet Kitchen & Bar              0   \n",
       "17                    Horsefeather              0   \n",
       "18               Hu Tong Jian Bing              0   \n",
       "19                          JIJIME              0   \n",
       "20                   Jamie's Place              0   \n",
       "21                   KAIYŌ Rooftop              0   \n",
       "22                 Kothai Republic              0   \n",
       "23                            Lily              0   \n",
       "24                      Limoncello              0   \n",
       "25                           Lokma              0   \n",
       "26                  Marufuku Ramen              0   \n",
       "27            Noodle in a Haystack              0   \n",
       "28                            Nopa              0   \n",
       "29                            Otra              0   \n",
       "30                           Pearl              0   \n",
       "31                     Pinsa Rossa              0   \n",
       "32                     Purple Rice              0   \n",
       "33                   Rise Over Run              0   \n",
       "34                         Routier              0   \n",
       "35                        San Tung              0   \n",
       "36                        Santeria              0   \n",
       "37                           Savor              0   \n",
       "38                      Sotto Mare              0   \n",
       "39                       Starbelly              0   \n",
       "40                     Sweet Maple              0   \n",
       "41                         Tanglad              0   \n",
       "42                   That's My Jam              0   \n",
       "43    The Italian Homemade Company              0   \n",
       "44                  The Laundromat              0   \n",
       "45                        The Snug              0   \n",
       "46                The Tailor's Son              0   \n",
       "47                           Um Ma              0   \n",
       "48                    Wooden Spoon              0   \n",
       "\n",
       "                                               review  \n",
       "0   You know those brunch places with a whole line...  \n",
       "1   Heard about this place from a friend and order...  \n",
       "2   I came here on a Friday night around 8:30 PM w...  \n",
       "3   Beit Rima e provided a cozy and welcoming vibe...  \n",
       "4   Every time I come here I am never disappointed...  \n",
       "5   Pretty good. We had to wait a while but overal...  \n",
       "6   Came here for breakfast on a weekend at about ...  \n",
       "7   Delicious chicken Coxinha and corn rissole.We ...  \n",
       "8   The very definition of a hidden gem.I found th...  \n",
       "9   Yommy yommy yommy is the first thing that come...  \n",
       "10  We were so pleased to get a last minute reserv...  \n",
       "11  Best dumplings ever.  Everything we tried on t...  \n",
       "12  Excited to have Dumpling Kitchen in the Castro...  \n",
       "13  We came here for dinner and ordered the clams,...  \n",
       "14  The soups are really yummy and decently priced...  \n",
       "15  All menus are taste perfect and look goodLuis ...  \n",
       "16  What can I say? Gao is an experience. The food...  \n",
       "17  Came here on a Monday evening with a couple fr...  \n",
       "18  Hu Tong Jian Bing is a pop-up located inside o...  \n",
       "19  This is one of my favorite places in the Richm...  \n",
       "20  I really like this place - it's a great additi...  \n",
       "21  My wife and I stopped by here before heading t...  \n",
       "22  KOREAN-THAI, KOTHAI! It has a nice ring to it....  \n",
       "23  I have been here a few times for dinner alread...  \n",
       "24  I came here with a group of friends for lunch!...  \n",
       "25  What a great find! We had been trying to get r...  \n",
       "26  The noodle was very good I got the Tonkatsu Ra...  \n",
       "27  Truly an amazing and unique meal! Clint and Yo...  \n",
       "28  Squeeze onto the bar and enjoy the burger - it...  \n",
       "29  Stopped by just for a drink & the cucumber coc...  \n",
       "30  Came here with some friends and it lived up to...  \n",
       "31  Wow, I don't write reviews often, but Pinsa Ro...  \n",
       "32  Their soondubu is so flavorful, I can't wait t...  \n",
       "33  Awesome new rooftop bar in a city that needs m...  \n",
       "34  they have soy oil in fryer, grapeseed oil in m...  \n",
       "35  Yaaaassss!!! Finally got to try the famous tee...  \n",
       "36  Came for a birthday happy hour. Our waiter (mu...  \n",
       "37  I ordered the Mushroom Shawarma, I was very im...  \n",
       "38  A Must try when in SF! The ambience of this pl...  \n",
       "39  Starbelly is a neighborhood gem that needs to ...  \n",
       "40  Went here for brunch, it was a long wait to be...  \n",
       "41  An extra star for the comfort and warmth broug...  \n",
       "42  I was about to visit this place before 2022 en...  \n",
       "43  Quick updateThese were good too:-Fettuccine w ...  \n",
       "44  Wonderful square pizza, plenty of crispy peppe...  \n",
       "45  The Snug is a cozy spot with a pleasant ambian...  \n",
       "46  It's no surprise that The Tailor's Son is ofte...  \n",
       "47  3.5/5 A bit surprised by the outdoors brewery ...  \n",
       "48  Amazing drinks, delicious food, cute decor, an...  "
      ]
     },
     "execution_count": 295,
     "metadata": {},
     "output_type": "execute_result"
    }
   ],
   "source": [
    "df_ed"
   ]
  },
  {
   "cell_type": "code",
   "execution_count": 10,
   "id": "02318ec4",
   "metadata": {},
   "outputs": [],
   "source": [
    "test2 = df[df['name'] == 'Marufuku Ramen']['review']"
   ]
  },
  {
   "cell_type": "code",
   "execution_count": 11,
   "id": "55338f32",
   "metadata": {},
   "outputs": [],
   "source": [
    "test2 = ','.join(test2)[:16384]"
   ]
  },
  {
   "cell_type": "code",
   "execution_count": 12,
   "id": "da1a75e3",
   "metadata": {},
   "outputs": [
    {
     "data": {
      "text/plain": [
       "'The noodle was very good I got the Tonkatsu Ramen Noodles and the staff was very respectful and nice and overall I recommended this place I would definitely come back here again,My favorite ramen place in town! I always get the ramen with chicken where they give you a whole cooked peace of chicken on the side. It comes on a frying pen and is amazing. Can not go wrong with this place in my opinion.,I 100% will go there again.The ramen was so good and the best part of the food came out in seconds.'"
      ]
     },
     "execution_count": 12,
     "metadata": {},
     "output_type": "execute_result"
    }
   ],
   "source": [
    "test2[:500]"
   ]
  },
  {
   "cell_type": "code",
   "execution_count": 13,
   "id": "e0d9f116",
   "metadata": {},
   "outputs": [],
   "source": [
    "tokenized = tokenizer.encode(test2,return_tensors=\"pt\")"
   ]
  },
  {
   "cell_type": "code",
   "execution_count": null,
   "id": "357bcb71",
   "metadata": {},
   "outputs": [],
   "source": []
  },
  {
   "cell_type": "code",
   "execution_count": 96,
   "id": "437f0da4",
   "metadata": {},
   "outputs": [],
   "source": [
    "import torch\n",
    "from transformers import AutoTokenizer, LEDForConditionalGeneration\n",
    "\n",
    "model = LEDForConditionalGeneration.from_pretrained(\"allenai/led-large-16384-arxiv\")\n",
    "tokenizer = AutoTokenizer.from_pretrained(\"allenai/led-large-16384-arxiv\")\n"
   ]
  },
  {
   "cell_type": "code",
   "execution_count": 97,
   "id": "8d832734",
   "metadata": {},
   "outputs": [],
   "source": [
    "\n",
    "ARTICLE_TO_SUMMARIZE = test2\n",
    "inputs = tokenizer.encode(ARTICLE_TO_SUMMARIZE, return_tensors=\"pt\")\n",
    "\n",
    "# Global attention on the first token (cf. Beltagy et al. 2020)\n",
    "global_attention_mask = torch.zeros_like(inputs)\n",
    "global_attention_mask[:, 0] = 1\n",
    "\n",
    "# Generate Summary\n"
   ]
  },
  {
   "cell_type": "code",
   "execution_count": 100,
   "id": "31d3d966",
   "metadata": {},
   "outputs": [
    {
     "name": "stderr",
     "output_type": "stream",
     "text": [
      "/Users/kayhan/opt/anaconda3/envs/pendulum/lib/python3.9/site-packages/transformers/generation/utils.py:1273: UserWarning: Neither `max_length` nor `max_new_tokens` has been set, `max_length` will default to 512 (`generation_config.max_length`). Controlling `max_length` via the config is deprecated and `max_length` will be removed from the config in v5 of Transformers -- we recommend using `max_new_tokens` to control the maximum length of the generation.\n",
      "  warnings.warn(\n"
     ]
    },
    {
     "name": "stdout",
     "output_type": "stream",
     "text": [
      " marufuku is one of my favorite ramen spots in the bay area. \n",
      " it is located in the japantown mall and has a long wait, but it is conveniently located in a shopping area so there is a ton to do while you wait. \n",
      " we ordered the hakata tonkotsu and the chicken paitan. \n",
      " both ramen were (5/5 ) exceptionally crafted with chewy/QQ perfectly cooked noodles. \n",
      " the broth was rich, complex and thick.    \n",
      " # 1_#1 _ # 1_#1 _ =    # 1 1.25 in.125 in.25 in    # 1_#1 _ =    # 1_#1 _ =    # 1_#1 _ =    # 1_#1 _ =    # 1_#1 _ =    # 1_#1 _ =    # 1_#1 _ =    # 1_#1 _ =    # 1_#1 _ =    # 1_#1 _ =    # 1_#1 _ =    #\n"
     ]
    }
   ],
   "source": [
    "summary_ids = model.generate(inputs, global_attention_mask=global_attention_mask, num_beams=5,num_return_sequences=3)\n",
    "print(tokenizer.decode(summary_ids[0], skip_special_tokens=True, clean_up_tokenization_spaces=True))"
   ]
  },
  {
   "cell_type": "code",
   "execution_count": 105,
   "id": "eee28015",
   "metadata": {},
   "outputs": [
    {
     "name": "stdout",
     "output_type": "stream",
     "text": [
      " marufuku is one of my favorite ramen spots in the bay area. \n",
      " it is located in the japantown mall and has a long wait, but it is conveniently located in a shopping area so there is a ton to do while you wait. \n",
      " we ordered the hakata tonkotsu and the chicken paitan. \n",
      " both ramen were (5/5 ) exceptionally crafted with chewy/QQ perfectly cooked noodles. \n",
      " the broth was rich, complex and thick.    \n",
      " # 1_#1 _ # 1_#1 _ =    # 1 1.25 in.125 in.25 in    # 1_#1 _ =    # 1_#1 _ =    # 1_#1 _ =    # 1_#1 _ =    # 1_#1 _ =    # 1_#1 _ =    # 1_#1 _ =    # 1_#1 _ =    # 1_#1 _ =    # 1_#1 _ =    # 1 1.25 in.25 in \n"
     ]
    }
   ],
   "source": [
    "print(tokenizer.decode(summary_ids[1], skip_special_tokens=True, clean_up_tokenization_spaces=True))"
   ]
  },
  {
   "cell_type": "code",
   "execution_count": 104,
   "id": "cf2cfecb",
   "metadata": {},
   "outputs": [
    {
     "name": "stdout",
     "output_type": "stream",
     "text": [
      " marufuku is one of my favorite ramen spots in the bay area. \n",
      " it is located in the japantown mall and has a long wait, but it is conveniently located in a shopping area so there is a ton to do while you wait. \n",
      " we ordered the hakata tonkotsu and the chicken paitan. \n",
      " both ramen were (5/5 ) exceptionally crafted with chewy/QQ perfectly cooked noodles. \n",
      " the broth was rich, complex and thick.    \n",
      " # 1_#1 _ # 1_#1 _ =    # 1 1.25 in.125 in.25 in    # 1_#1 _ =    # 1_#1 _ =    # 1_#1 _ =    # 1_#1 _ =    # 1_#1 _ =    # 1_#1 _ =    # 1_#1 _ =    # 1_#1 _ =    # 1_#1 _ =    # 1_#1 _ =    # 1 1.25 in.25 in.25\n"
     ]
    }
   ],
   "source": [
    "print(tokenizer.decode(summary_ids[2], skip_special_tokens=True, clean_up_tokenization_spaces=True))"
   ]
  },
  {
   "cell_type": "code",
   "execution_count": 99,
   "id": "0af61468",
   "metadata": {},
   "outputs": [],
   "source": [
    "# summary_ids = model.generate(inputs, global_attention_mask=global_attention_mask,\n",
    "#                              num_beams=5, min_length=50,\n",
    "#                              max_length=100,\n",
    "#                             max_time=120)\n",
    "# print(tokenizer.decode(summary_ids[0], skip_special_tokens=True, clean_up_tokenization_spaces=True))"
   ]
  },
  {
   "cell_type": "code",
   "execution_count": 59,
   "id": "f1e75a8f",
   "metadata": {},
   "outputs": [
    {
     "ename": "IndexError",
     "evalue": "too many indices for tensor of dimension 2",
     "output_type": "error",
     "traceback": [
      "\u001b[0;31m---------------------------------------------------------------------------\u001b[0m",
      "\u001b[0;31mIndexError\u001b[0m                                Traceback (most recent call last)",
      "Cell \u001b[0;32mIn[59], line 3\u001b[0m\n\u001b[1;32m      1\u001b[0m \u001b[38;5;28;01mimport\u001b[39;00m \u001b[38;5;21;01mtorch\u001b[39;00m \n\u001b[0;32m----> 3\u001b[0m input_ids \u001b[38;5;241m=\u001b[39m \u001b[43mtokenized\u001b[49m\u001b[43m[\u001b[49m\u001b[38;5;124;43m\"\u001b[39;49m\u001b[38;5;124;43minput_ids\u001b[39;49m\u001b[38;5;124;43m\"\u001b[39;49m\u001b[43m]\u001b[49m\n\u001b[1;32m      5\u001b[0m prediction \u001b[38;5;241m=\u001b[39m model\u001b[38;5;241m.\u001b[39mgenerate(input_ids)[\u001b[38;5;241m0\u001b[39m]\n\u001b[1;32m      6\u001b[0m \u001b[38;5;66;03m# print(tokenizer.decode(prediction, skip_special_tokens=True))\u001b[39;00m\n",
      "\u001b[0;31mIndexError\u001b[0m: too many indices for tensor of dimension 2"
     ]
    }
   ],
   "source": [
    "import torch \n",
    "\n",
    "input_ids = tokenized[\"input_ids\"]\n",
    "\n",
    "prediction = model.generate(input_ids)[0]\n",
    "# print(tokenizer.decode(prediction, skip_special_tokens=True))"
   ]
  },
  {
   "cell_type": "code",
   "execution_count": 109,
   "id": "765a731e",
   "metadata": {},
   "outputs": [
    {
     "name": "stderr",
     "output_type": "stream",
     "text": [
      "\n",
      "Downloading (…)\"pytorch_model.bin\";:   0%|           | 0.00/353M [00:00<?, ?B/s]\u001b[A\n",
      "Downloading (…)\"pytorch_model.bin\";:   3%|  | 10.5M/353M [00:01<00:37, 9.04MB/s]\u001b[A\n",
      "Downloading (…)\"pytorch_model.bin\";:   6%|  | 21.0M/353M [00:02<00:36, 9.19MB/s]\u001b[A\n",
      "Downloading (…)\"pytorch_model.bin\";:   9%|▏ | 31.5M/353M [00:03<00:37, 8.68MB/s]\u001b[A\n",
      "Downloading (…)\"pytorch_model.bin\";:  12%|▏ | 41.9M/353M [00:05<00:38, 8.06MB/s]\u001b[A\n",
      "Downloading (…)\"pytorch_model.bin\";:  15%|▎ | 52.4M/353M [00:06<00:37, 7.99MB/s]\u001b[A\n",
      "Downloading (…)\"pytorch_model.bin\";:  18%|▎ | 62.9M/353M [00:07<00:37, 7.65MB/s]\u001b[A\n",
      "Downloading (…)\"pytorch_model.bin\";:  21%|▍ | 73.4M/353M [00:09<00:36, 7.71MB/s]\u001b[A\n",
      "Downloading (…)\"pytorch_model.bin\";:  24%|▍ | 83.9M/353M [00:10<00:35, 7.64MB/s]\u001b[A\n",
      "Downloading (…)\"pytorch_model.bin\";:  27%|▌ | 94.4M/353M [00:11<00:34, 7.58MB/s]\u001b[A\n",
      "Downloading (…)\"pytorch_model.bin\";:  30%|▉  | 105M/353M [00:13<00:31, 7.89MB/s]\u001b[A\n",
      "Downloading (…)\"pytorch_model.bin\";:  33%|▉  | 115M/353M [00:14<00:28, 8.24MB/s]\u001b[A\n",
      "Downloading (…)\"pytorch_model.bin\";:  36%|█  | 126M/353M [00:15<00:26, 8.45MB/s]\u001b[A\n",
      "Downloading (…)\"pytorch_model.bin\";:  39%|█▏ | 136M/353M [00:16<00:25, 8.60MB/s]\u001b[A\n",
      "Downloading (…)\"pytorch_model.bin\";:  42%|█▏ | 147M/353M [00:17<00:24, 8.46MB/s]\u001b[A\n",
      "Downloading (…)\"pytorch_model.bin\";:  45%|█▎ | 157M/353M [00:19<00:24, 7.97MB/s]\u001b[A\n",
      "Downloading (…)\"pytorch_model.bin\";:  48%|█▍ | 168M/353M [00:21<00:27, 6.80MB/s]\u001b[A\n",
      "Downloading (…)\"pytorch_model.bin\";:  51%|█▌ | 178M/353M [00:23<00:26, 6.62MB/s]\u001b[A\n",
      "Downloading (…)\"pytorch_model.bin\";:  53%|█▌ | 189M/353M [00:24<00:24, 6.66MB/s]\u001b[A\n",
      "Downloading (…)\"pytorch_model.bin\";:  56%|█▋ | 199M/353M [00:26<00:23, 6.52MB/s]\u001b[A\n",
      "Downloading (…)\"pytorch_model.bin\";:  59%|█▊ | 210M/353M [00:28<00:22, 6.42MB/s]\u001b[A\n",
      "Downloading (…)\"pytorch_model.bin\";:  62%|█▊ | 220M/353M [00:29<00:19, 6.80MB/s]\u001b[A\n",
      "Downloading (…)\"pytorch_model.bin\";:  65%|█▉ | 231M/353M [00:30<00:17, 6.89MB/s]\u001b[A\n",
      "Downloading (…)\"pytorch_model.bin\";:  68%|██ | 241M/353M [00:33<00:18, 6.12MB/s]\u001b[A\n",
      "Downloading (…)\"pytorch_model.bin\";:  71%|██▏| 252M/353M [00:34<00:16, 6.30MB/s]\u001b[A\n",
      "Downloading (…)\"pytorch_model.bin\";:  74%|██▏| 262M/353M [00:36<00:14, 6.26MB/s]\u001b[A\n",
      "Downloading (…)\"pytorch_model.bin\";:  77%|██▎| 273M/353M [00:38<00:13, 6.10MB/s]\u001b[A\n",
      "Downloading (…)\"pytorch_model.bin\";:  80%|██▍| 283M/353M [00:39<00:10, 6.43MB/s]\u001b[A\n",
      "Downloading (…)\"pytorch_model.bin\";:  83%|██▍| 294M/353M [00:40<00:08, 6.78MB/s]\u001b[A\n",
      "Downloading (…)\"pytorch_model.bin\";:  86%|██▌| 304M/353M [00:42<00:07, 6.65MB/s]\u001b[A\n",
      "Downloading (…)\"pytorch_model.bin\";:  89%|██▋| 315M/353M [00:44<00:06, 6.20MB/s]\u001b[A\n",
      "Downloading (…)\"pytorch_model.bin\";:  92%|██▊| 325M/353M [00:46<00:04, 6.24MB/s]\u001b[A\n",
      "Downloading (…)\"pytorch_model.bin\";:  95%|██▊| 336M/353M [00:48<00:02, 6.06MB/s]\u001b[A\n",
      "Downloading (…)\"pytorch_model.bin\";:  98%|██▉| 346M/353M [00:49<00:01, 6.10MB/s]\u001b[A\n",
      "Downloading (…)\"pytorch_model.bin\";: 100%|███| 353M/353M [00:50<00:00, 6.93MB/s]\u001b[A\n",
      "\n",
      "Downloading (…)neration_config.json: 100%|█████| 124/124 [00:00<00:00, 9.07kB/s]\u001b[A\n",
      "\n",
      "Downloading (…)olve/main/vocab.json:   0%|          | 0.00/1.04M [00:00<?, ?B/s]\u001b[A\n",
      "Downloading (…)olve/main/vocab.json: 100%|█| 1.04M/1.04M [00:00<00:00, 1.10MB/s]\u001b[A\n",
      "\n",
      "Downloading (…)olve/main/merges.txt:   0%|           | 0.00/456k [00:00<?, ?B/s]\u001b[A\n",
      "Downloading (…)olve/main/merges.txt: 100%|████| 456k/456k [00:00<00:00, 875kB/s]\u001b[A\n",
      "\n",
      "Downloading (…)/main/tokenizer.json:   0%|          | 0.00/1.36M [00:00<?, ?B/s]\u001b[A\n",
      "Downloading (…)/main/tokenizer.json: 100%|█| 1.36M/1.36M [00:00<00:00, 1.37MB/s]\u001b[A\n"
     ]
    }
   ],
   "source": [
    "import torch\n",
    "from transformers import AutoTokenizer,LEDForConditionalGeneration,AutoModelForSeq2SeqLM,AutoModelForCausalLM\n",
    "checkpoint = 'distilgpt2'\n",
    "model = AutoModelForCausalLM.from_pretrained(checkpoint)\n",
    "tokenizer = AutoTokenizer.from_pretrained(checkpoint)\n",
    "\n"
   ]
  },
  {
   "cell_type": "markdown",
   "id": "73592c37",
   "metadata": {},
   "source": [
    "# BART MODEL SIMPSON KEK\n"
   ]
  },
  {
   "cell_type": "code",
   "execution_count": 17,
   "id": "0b9be995",
   "metadata": {},
   "outputs": [
    {
     "name": "stderr",
     "output_type": "stream",
     "text": [
      "\r",
      "Downloading (…)olve/main/vocab.json:   0%|           | 0.00/899k [00:00<?, ?B/s]"
     ]
    },
    {
     "name": "stdout",
     "output_type": "stream",
     "text": [
      "huggingface/tokenizers: The current process just got forked, after parallelism has already been used. Disabling parallelism to avoid deadlocks...\n",
      "To disable this warning, you can either:\n",
      "\t- Avoid using `tokenizers` before the fork if possible\n",
      "\t- Explicitly set the environment variable TOKENIZERS_PARALLELISM=(true | false)\n"
     ]
    },
    {
     "name": "stderr",
     "output_type": "stream",
     "text": [
      "Downloading (…)olve/main/vocab.json: 100%|████| 899k/899k [00:01<00:00, 743kB/s]\n",
      "Downloading (…)olve/main/merges.txt: 100%|████| 456k/456k [00:00<00:00, 799kB/s]\n",
      "Downloading (…)lve/main/config.json: 100%|██| 1.72k/1.72k [00:00<00:00, 194kB/s]\n",
      "Downloading (…)\"pytorch_model.bin\";: 100%|███| 558M/558M [01:22<00:00, 6.72MB/s]\n"
     ]
    }
   ],
   "source": [
    "from transformers import BartTokenizer, BartModel\n",
    "\n",
    "# tokenizer = BartTokenizer.from_pretrained('facebook/bart-base')\n",
    "# model = BartModel.from_pretrained('facebook/bart-base')\n"
   ]
  },
  {
   "cell_type": "code",
   "execution_count": 19,
   "id": "76b5f35e",
   "metadata": {},
   "outputs": [],
   "source": [
    "# tokenizer.decoder."
   ]
  },
  {
   "cell_type": "markdown",
   "id": "5406bfbf",
   "metadata": {},
   "source": [
    "Hello i am elon ma \n"
   ]
  },
  {
   "cell_type": "code",
   "execution_count": 52,
   "id": "8d94b4f0",
   "metadata": {},
   "outputs": [],
   "source": [
    "test2 = \"\"\"\n",
    "The noodle was very good I got the Tonkatsu Ramen Noodles and the staff was very respectful and nice and overall I recommended this place I would definitely come back here again,My favorite ramen place in town! I always get the ramen with chicken where they give you a whole cooked peace of chicken on the side. It comes on a frying pen and is amazing. Can not go wrong with this place in my opinion.,I 100% will go there again.The ramen was so good and the best part of the food came out in seconds.,Hands down the best ramen spot in all of Japantown mall. Trust me, I\\'ve tried all of them before. This was my third time here. Their menu has changed but in a good way. It\\'s more minimalist which lets me know they are specialized and focus of making these limited dishes more elevated. The food: Chicken Karage was 4.5/5Wish the outer skin was a bit crunchy and crisper. The insides were freshly packed with juicy flavor and soft moist texture with a tender flavor. \n",
    "\"\"\""
   ]
  },
  {
   "cell_type": "code",
   "execution_count": 56,
   "id": "d8133a0c",
   "metadata": {
    "scrolled": true
   },
   "outputs": [
    {
     "name": "stderr",
     "output_type": "stream",
     "text": [
      "\n",
      "Downloading (…)\"pytorch_model.bin\";:   0%|          | 0.00/1.63G [00:00<?, ?B/s]\u001b[A\n",
      "Downloading (…)\"pytorch_model.bin\";:   1%| | 10.5M/1.63G [00:01<02:54, 9.25MB/s]\u001b[A\n",
      "Downloading (…)\"pytorch_model.bin\";:   1%| | 21.0M/1.63G [00:02<03:28, 7.71MB/s]\u001b[A\n",
      "Downloading (…)\"pytorch_model.bin\";:   2%| | 31.5M/1.63G [00:04<03:28, 7.65MB/s]\u001b[A\n",
      "Downloading (…)\"pytorch_model.bin\";:   3%| | 41.9M/1.63G [00:05<03:20, 7.89MB/s]\u001b[A\n",
      "Downloading (…)\"pytorch_model.bin\";:   3%| | 52.4M/1.63G [00:06<03:13, 8.14MB/s]\u001b[A\n",
      "Downloading (…)\"pytorch_model.bin\";:   4%| | 62.9M/1.63G [00:07<03:16, 7.94MB/s]\u001b[A\n",
      "Downloading (…)\"pytorch_model.bin\";:   5%| | 73.4M/1.63G [00:09<03:21, 7.70MB/s]\u001b[A\n",
      "Downloading (…)\"pytorch_model.bin\";:   5%| | 83.9M/1.63G [00:11<03:55, 6.54MB/s]\u001b[A\n",
      "Downloading (…)\"pytorch_model.bin\";:   6%| | 94.4M/1.63G [00:12<03:44, 6.83MB/s]\u001b[A\n",
      "Downloading (…)\"pytorch_model.bin\";:   6%|▏ | 105M/1.63G [00:13<03:21, 7.53MB/s]\u001b[A\n",
      "Downloading (…)\"pytorch_model.bin\";:   7%|▏ | 115M/1.63G [00:15<03:43, 6.76MB/s]\u001b[A\n",
      "Downloading (…)\"pytorch_model.bin\";:   8%|▏ | 126M/1.63G [00:16<03:24, 7.34MB/s]\u001b[A\n",
      "Downloading (…)\"pytorch_model.bin\";:   8%|▏ | 136M/1.63G [00:18<03:08, 7.90MB/s]\u001b[A\n",
      "Downloading (…)\"pytorch_model.bin\";:   9%|▏ | 147M/1.63G [00:19<03:12, 7.66MB/s]\u001b[A\n",
      "Downloading (…)\"pytorch_model.bin\";:  10%|▏ | 157M/1.63G [00:20<03:06, 7.88MB/s]\u001b[A\n",
      "Downloading (…)\"pytorch_model.bin\";:  10%|▏ | 168M/1.63G [00:22<03:39, 6.64MB/s]\u001b[A\n",
      "Downloading (…)\"pytorch_model.bin\";:  11%|▏ | 178M/1.63G [00:25<04:00, 6.03MB/s]\u001b[A\n",
      "Downloading (…)\"pytorch_model.bin\";:  12%|▏ | 189M/1.63G [00:26<03:44, 6.39MB/s]\u001b[A\n",
      "Downloading (…)\"pytorch_model.bin\";:  12%|▏ | 199M/1.63G [00:28<03:38, 6.51MB/s]\u001b[A\n",
      "Downloading (…)\"pytorch_model.bin\";:  13%|▎ | 210M/1.63G [00:29<03:24, 6.93MB/s]\u001b[A\n",
      "Downloading (…)\"pytorch_model.bin\";:  14%|▎ | 220M/1.63G [00:30<03:07, 7.50MB/s]\u001b[A\n",
      "Downloading (…)\"pytorch_model.bin\";:  14%|▎ | 231M/1.63G [00:31<02:58, 7.81MB/s]\u001b[A\n",
      "Downloading (…)\"pytorch_model.bin\";:  15%|▎ | 241M/1.63G [00:33<03:02, 7.59MB/s]\u001b[A\n",
      "Downloading (…)\"pytorch_model.bin\";:  15%|▎ | 252M/1.63G [00:34<02:57, 7.74MB/s]\u001b[A\n",
      "Downloading (…)\"pytorch_model.bin\";:  16%|▎ | 262M/1.63G [00:35<03:02, 7.48MB/s]\u001b[A\n",
      "Downloading (…)\"pytorch_model.bin\";:  17%|▎ | 273M/1.63G [00:37<03:17, 6.85MB/s]\u001b[A\n",
      "Downloading (…)\"pytorch_model.bin\";:  17%|▎ | 283M/1.63G [00:39<03:24, 6.56MB/s]\u001b[A\n",
      "Downloading (…)\"pytorch_model.bin\";:  18%|▎ | 294M/1.63G [00:40<03:07, 7.09MB/s]\u001b[A\n",
      "Downloading (…)\"pytorch_model.bin\";:  19%|▎ | 304M/1.63G [00:42<03:01, 7.29MB/s]\u001b[A\n",
      "Downloading (…)\"pytorch_model.bin\";:  19%|▍ | 315M/1.63G [00:43<02:48, 7.77MB/s]\u001b[A\n",
      "Downloading (…)\"pytorch_model.bin\";:  20%|▍ | 325M/1.63G [00:44<02:46, 7.83MB/s]\u001b[A\n",
      "Downloading (…)\"pytorch_model.bin\";:  21%|▍ | 336M/1.63G [00:45<02:31, 8.54MB/s]\u001b[A\n",
      "Downloading (…)\"pytorch_model.bin\";:  21%|▍ | 346M/1.63G [00:46<02:33, 8.32MB/s]\u001b[A\n",
      "Downloading (…)\"pytorch_model.bin\";:  22%|▍ | 357M/1.63G [00:48<02:31, 8.38MB/s]\u001b[A\n",
      "Downloading (…)\"pytorch_model.bin\";:  23%|▍ | 367M/1.63G [00:49<02:27, 8.51MB/s]\u001b[A\n",
      "Downloading (…)\"pytorch_model.bin\";:  23%|▍ | 377M/1.63G [00:50<02:24, 8.62MB/s]\u001b[A\n",
      "Downloading (…)\"pytorch_model.bin\";:  24%|▍ | 388M/1.63G [00:51<02:22, 8.69MB/s]\u001b[A\n",
      "Downloading (…)\"pytorch_model.bin\";:  25%|▍ | 398M/1.63G [00:52<02:25, 8.45MB/s]\u001b[A\n",
      "Downloading (…)\"pytorch_model.bin\";:  25%|▌ | 409M/1.63G [00:54<02:33, 7.93MB/s]\u001b[A\n",
      "Downloading (…)\"pytorch_model.bin\";:  26%|▌ | 419M/1.63G [00:56<02:41, 7.47MB/s]\u001b[A\n",
      "Downloading (…)\"pytorch_model.bin\";:  26%|▌ | 430M/1.63G [00:57<02:56, 6.78MB/s]\u001b[A\n",
      "Downloading (…)\"pytorch_model.bin\";:  27%|▌ | 440M/1.63G [00:59<03:13, 6.13MB/s]\u001b[A\n",
      "Downloading (…)\"pytorch_model.bin\";:  28%|▌ | 451M/1.63G [01:03<04:17, 4.57MB/s]\u001b[A\n",
      "Downloading (…)\"pytorch_model.bin\";:  28%|▌ | 461M/1.63G [01:05<04:15, 4.55MB/s]\u001b[A\n",
      "Downloading (…)\"pytorch_model.bin\";:  29%|▌ | 472M/1.63G [01:08<04:28, 4.29MB/s]\u001b[A\n",
      "Downloading (…)\"pytorch_model.bin\";:  30%|▌ | 482M/1.63G [01:10<04:14, 4.50MB/s]\u001b[A\n",
      "Downloading (…)\"pytorch_model.bin\";:  30%|▌ | 493M/1.63G [01:12<03:44, 5.04MB/s]\u001b[A\n",
      "Downloading (…)\"pytorch_model.bin\";:  31%|▌ | 503M/1.63G [01:13<03:25, 5.46MB/s]\u001b[A\n",
      "Downloading (…)\"pytorch_model.bin\";:  32%|▋ | 514M/1.63G [01:15<03:17, 5.64MB/s]\u001b[A\n",
      "Downloading (…)\"pytorch_model.bin\";:  32%|▋ | 524M/1.63G [01:17<03:09, 5.81MB/s]\u001b[A\n",
      "Downloading (…)\"pytorch_model.bin\";:  33%|▋ | 535M/1.63G [01:19<03:09, 5.75MB/s]\u001b[A\n",
      "Downloading (…)\"pytorch_model.bin\";:  34%|▋ | 545M/1.63G [01:20<02:55, 6.15MB/s]\u001b[A\n",
      "Downloading (…)\"pytorch_model.bin\";:  34%|▋ | 556M/1.63G [01:21<02:40, 6.68MB/s]\u001b[A\n",
      "Downloading (…)\"pytorch_model.bin\";:  35%|▋ | 566M/1.63G [01:23<02:44, 6.44MB/s]\u001b[A\n",
      "Downloading (…)\"pytorch_model.bin\";:  35%|▋ | 577M/1.63G [01:26<03:27, 5.05MB/s]\u001b[A\n",
      "Downloading (…)\"pytorch_model.bin\";:  36%|▋ | 587M/1.63G [01:29<03:42, 4.66MB/s]\u001b[A\n",
      "Downloading (…)\"pytorch_model.bin\";:  37%|▋ | 598M/1.63G [01:31<03:33, 4.81MB/s]\u001b[A\n",
      "Downloading (…)\"pytorch_model.bin\";:  37%|▋ | 608M/1.63G [01:33<03:20, 5.07MB/s]\u001b[A\n",
      "Downloading (…)\"pytorch_model.bin\";:  38%|▊ | 619M/1.63G [01:35<03:18, 5.06MB/s]\u001b[A\n",
      "Downloading (…)\"pytorch_model.bin\";:  39%|▊ | 629M/1.63G [01:37<03:20, 4.97MB/s]\u001b[A\n",
      "Downloading (…)\"pytorch_model.bin\";:  39%|▊ | 640M/1.63G [01:39<03:16, 5.00MB/s]\u001b[A\n",
      "Downloading (…)\"pytorch_model.bin\";:  40%|▊ | 650M/1.63G [01:41<03:14, 5.00MB/s]\u001b[A\n",
      "Downloading (…)\"pytorch_model.bin\";:  41%|▊ | 661M/1.63G [01:43<03:01, 5.32MB/s]\u001b[A\n",
      "Downloading (…)\"pytorch_model.bin\";:  41%|▊ | 671M/1.63G [01:44<02:51, 5.56MB/s]\u001b[A\n",
      "Downloading (…)\"pytorch_model.bin\";:  42%|▊ | 682M/1.63G [01:46<02:39, 5.92MB/s]\u001b[A\n",
      "Downloading (…)\"pytorch_model.bin\";:  43%|▊ | 692M/1.63G [01:47<02:26, 6.37MB/s]\u001b[A\n",
      "Downloading (…)\"pytorch_model.bin\";:  43%|▊ | 703M/1.63G [01:49<02:29, 6.19MB/s]\u001b[A\n",
      "Downloading (…)\"pytorch_model.bin\";:  44%|▉ | 713M/1.63G [01:51<02:18, 6.56MB/s]\u001b[A\n",
      "Downloading (…)\"pytorch_model.bin\";:  45%|▉ | 724M/1.63G [01:52<02:19, 6.48MB/s]\u001b[A\n",
      "Downloading (…)\"pytorch_model.bin\";:  45%|▉ | 734M/1.63G [01:53<02:02, 7.26MB/s]\u001b[A\n",
      "Downloading (…)\"pytorch_model.bin\";:  46%|▉ | 744M/1.63G [01:54<01:53, 7.74MB/s]\u001b[A\n",
      "Downloading (…)\"pytorch_model.bin\";:  46%|▉ | 755M/1.63G [01:56<01:47, 8.12MB/s]\u001b[A\n",
      "Downloading (…)\"pytorch_model.bin\";:  47%|▉ | 765M/1.63G [01:57<01:39, 8.64MB/s]\u001b[A\n",
      "Downloading (…)\"pytorch_model.bin\";:  48%|▉ | 776M/1.63G [01:58<01:39, 8.53MB/s]\u001b[A\n",
      "Downloading (…)\"pytorch_model.bin\";:  48%|▉ | 786M/1.63G [02:00<01:51, 7.56MB/s]\u001b[A\n",
      "Downloading (…)\"pytorch_model.bin\";:  49%|▉ | 797M/1.63G [02:02<02:06, 6.52MB/s]\u001b[A\n",
      "Downloading (…)\"pytorch_model.bin\";:  50%|▉ | 807M/1.63G [02:03<02:01, 6.73MB/s]\u001b[A\n",
      "Downloading (…)\"pytorch_model.bin\";:  50%|█ | 818M/1.63G [02:04<01:50, 7.32MB/s]\u001b[A\n",
      "Downloading (…)\"pytorch_model.bin\";:  51%|█ | 828M/1.63G [02:05<01:43, 7.73MB/s]\u001b[A\n",
      "Downloading (…)\"pytorch_model.bin\";:  52%|█ | 839M/1.63G [02:06<01:32, 8.46MB/s]\u001b[A\n",
      "Downloading (…)\"pytorch_model.bin\";:  52%|█ | 849M/1.63G [02:08<01:30, 8.62MB/s]\u001b[A\n",
      "Downloading (…)\"pytorch_model.bin\";:  53%|█ | 860M/1.63G [02:09<01:29, 8.60MB/s]\u001b[A\n",
      "Downloading (…)\"pytorch_model.bin\";:  54%|█ | 870M/1.63G [02:10<01:24, 8.94MB/s]\u001b[A\n",
      "Downloading (…)\"pytorch_model.bin\";:  54%|█ | 881M/1.63G [02:11<01:20, 9.26MB/s]\u001b[A\n",
      "Downloading (…)\"pytorch_model.bin\";:  55%|█ | 891M/1.63G [02:12<01:28, 8.34MB/s]\u001b[A\n",
      "Downloading (…)\"pytorch_model.bin\";:  55%|█ | 902M/1.63G [02:14<01:28, 8.20MB/s]\u001b[A\n",
      "Downloading (…)\"pytorch_model.bin\";:  56%|█ | 912M/1.63G [02:16<01:51, 6.37MB/s]\u001b[A\n",
      "Downloading (…)\"pytorch_model.bin\";:  57%|█▏| 923M/1.63G [02:18<01:47, 6.51MB/s]\u001b[A\n",
      "Downloading (…)\"pytorch_model.bin\";:  57%|█▏| 933M/1.63G [02:19<01:35, 7.27MB/s]\u001b[A\n",
      "Downloading (…)\"pytorch_model.bin\";:  58%|█▏| 944M/1.63G [02:20<01:24, 8.07MB/s]\u001b[A\n",
      "Downloading (…)\"pytorch_model.bin\";:  59%|█▏| 954M/1.63G [02:21<01:21, 8.24MB/s]\u001b[A\n",
      "Downloading (…)\"pytorch_model.bin\";:  59%|█▏| 965M/1.63G [02:23<01:26, 7.67MB/s]\u001b[A\n",
      "Downloading (…)\"pytorch_model.bin\";:  60%|█▏| 975M/1.63G [02:24<01:25, 7.62MB/s]\u001b[A\n",
      "Downloading (…)\"pytorch_model.bin\";:  61%|█▏| 986M/1.63G [02:25<01:18, 8.14MB/s]\u001b[A\n",
      "Downloading (…)\"pytorch_model.bin\";:  61%|█▏| 996M/1.63G [02:26<01:16, 8.27MB/s]\u001b[A\n",
      "Downloading (…)\"pytorch_model.bin\";:  62%|▌| 1.01G/1.63G [02:28<01:16, 8.11MB/s]\u001b[A\n",
      "Downloading (…)\"pytorch_model.bin\";:  63%|▋| 1.02G/1.63G [02:29<01:13, 8.26MB/s]\u001b[A\n",
      "Downloading (…)\"pytorch_model.bin\";:  63%|▋| 1.03G/1.63G [02:30<01:09, 8.55MB/s]\u001b[A\n",
      "Downloading (…)\"pytorch_model.bin\";:  64%|▋| 1.04G/1.63G [02:31<01:10, 8.36MB/s]\u001b[A\n",
      "Downloading (…)\"pytorch_model.bin\";:  65%|▋| 1.05G/1.63G [02:32<01:05, 8.75MB/s]\u001b[A\n",
      "Downloading (…)\"pytorch_model.bin\";:  65%|▋| 1.06G/1.63G [02:34<01:03, 8.97MB/s]\u001b[A\n",
      "Downloading (…)\"pytorch_model.bin\";:  66%|▋| 1.07G/1.63G [02:35<01:00, 9.13MB/s]\u001b[A\n",
      "Downloading (…)\"pytorch_model.bin\";:  66%|▋| 1.08G/1.63G [02:36<00:58, 9.30MB/s]\u001b[A\n",
      "Downloading (…)\"pytorch_model.bin\";:  67%|▋| 1.09G/1.63G [02:37<00:57, 9.35MB/s]\u001b[A\n",
      "Downloading (…)\"pytorch_model.bin\";:  68%|▋| 1.10G/1.63G [02:39<01:17, 6.79MB/s]\u001b[A\n",
      "Downloading (…)\"pytorch_model.bin\";:  68%|▋| 1.11G/1.63G [02:41<01:15, 6.83MB/s]\u001b[A\n",
      "Downloading (…)\"pytorch_model.bin\";:  69%|▋| 1.12G/1.63G [02:42<01:13, 6.82MB/s]\u001b[A\n",
      "Downloading (…)\"pytorch_model.bin\";:  70%|▋| 1.13G/1.63G [02:44<01:07, 7.29MB/s]\u001b[A\n",
      "Downloading (…)\"pytorch_model.bin\";:  70%|▋| 1.14G/1.63G [02:45<01:08, 7.03MB/s]\u001b[A\n",
      "Downloading (…)\"pytorch_model.bin\";:  71%|▋| 1.15G/1.63G [02:47<01:04, 7.27MB/s]\u001b[A\n",
      "Downloading (…)\"pytorch_model.bin\";:  72%|▋| 1.16G/1.63G [02:48<00:59, 7.81MB/s]\u001b[A\n",
      "Downloading (…)\"pytorch_model.bin\";:  72%|▋| 1.17G/1.63G [02:49<00:54, 8.34MB/s]\u001b[A\n",
      "Downloading (…)\"pytorch_model.bin\";:  73%|▋| 1.18G/1.63G [02:50<00:51, 8.54MB/s]\u001b[A\n",
      "Downloading (…)\"pytorch_model.bin\";:  74%|▋| 1.20G/1.63G [02:51<00:48, 8.78MB/s]\u001b[A\n",
      "Downloading (…)\"pytorch_model.bin\";:  74%|▋| 1.21G/1.63G [02:52<00:46, 9.10MB/s]\u001b[A\n",
      "Downloading (…)\"pytorch_model.bin\";:  75%|▋| 1.22G/1.63G [02:53<00:47, 8.65MB/s]\u001b[A\n",
      "Downloading (…)\"pytorch_model.bin\";:  75%|▊| 1.23G/1.63G [02:55<00:46, 8.63MB/s]\u001b[A\n",
      "Downloading (…)\"pytorch_model.bin\";:  76%|▊| 1.24G/1.63G [02:56<00:48, 8.04MB/s]\u001b[A\n",
      "Downloading (…)\"pytorch_model.bin\";:  77%|▊| 1.25G/1.63G [02:58<00:48, 7.74MB/s]\u001b[A\n",
      "Downloading (…)\"pytorch_model.bin\";:  77%|▊| 1.26G/1.63G [02:59<00:47, 7.79MB/s]\u001b[A\n",
      "Downloading (…)\"pytorch_model.bin\";:  78%|▊| 1.27G/1.63G [03:01<00:50, 7.00MB/s]\u001b[A\n",
      "Downloading (…)\"pytorch_model.bin\";:  79%|▊| 1.28G/1.63G [03:02<00:48, 7.16MB/s]\u001b[A\n",
      "Downloading (…)\"pytorch_model.bin\";:  79%|▊| 1.29G/1.63G [03:04<00:45, 7.32MB/s]\u001b[A\n",
      "Downloading (…)\"pytorch_model.bin\";:  80%|▊| 1.30G/1.63G [03:05<00:41, 7.78MB/s]\u001b[A\n",
      "Downloading (…)\"pytorch_model.bin\";:  81%|▊| 1.31G/1.63G [03:06<00:37, 8.31MB/s]\u001b[A\n",
      "Downloading (…)\"pytorch_model.bin\";:  81%|▊| 1.32G/1.63G [03:07<00:36, 8.33MB/s]\u001b[A\n",
      "Downloading (…)\"pytorch_model.bin\";:  82%|▊| 1.33G/1.63G [03:08<00:35, 8.32MB/s]\u001b[A\n",
      "Downloading (…)\"pytorch_model.bin\";:  83%|▊| 1.34G/1.63G [03:09<00:32, 8.74MB/s]\u001b[A\n",
      "Downloading (…)\"pytorch_model.bin\";:  83%|▊| 1.35G/1.63G [03:10<00:30, 8.86MB/s]\u001b[A\n",
      "Downloading (…)\"pytorch_model.bin\";:  84%|▊| 1.36G/1.63G [03:12<00:30, 8.48MB/s]\u001b[A\n",
      "Downloading (…)\"pytorch_model.bin\";:  85%|▊| 1.37G/1.63G [03:14<00:34, 7.35MB/s]\u001b[A\n",
      "Downloading (…)\"pytorch_model.bin\";:  85%|▊| 1.38G/1.63G [03:16<00:35, 6.77MB/s]\u001b[A\n",
      "Downloading (…)\"pytorch_model.bin\";:  86%|▊| 1.39G/1.63G [03:17<00:33, 6.83MB/s]\u001b[A\n",
      "Downloading (…)\"pytorch_model.bin\";:  86%|▊| 1.41G/1.63G [03:18<00:30, 7.24MB/s]\u001b[A\n",
      "Downloading (…)\"pytorch_model.bin\";:  87%|▊| 1.42G/1.63G [03:20<00:28, 7.37MB/s]\u001b[A\n",
      "Downloading (…)\"pytorch_model.bin\";:  88%|▉| 1.43G/1.63G [03:21<00:29, 6.81MB/s]\u001b[A\n",
      "Downloading (…)\"pytorch_model.bin\";:  88%|▉| 1.44G/1.63G [03:23<00:25, 7.28MB/s]\u001b[A\n",
      "Downloading (…)\"pytorch_model.bin\";:  89%|▉| 1.45G/1.63G [03:24<00:23, 7.73MB/s]\u001b[A\n",
      "Downloading (…)\"pytorch_model.bin\";:  90%|▉| 1.46G/1.63G [03:25<00:21, 7.66MB/s]\u001b[A\n",
      "Downloading (…)\"pytorch_model.bin\";:  90%|▉| 1.47G/1.63G [03:27<00:21, 7.19MB/s]\u001b[A\n",
      "Downloading (…)\"pytorch_model.bin\";:  91%|▉| 1.48G/1.63G [03:28<00:20, 7.30MB/s]\u001b[A\n",
      "Downloading (…)\"pytorch_model.bin\";:  92%|▉| 1.49G/1.63G [03:30<00:17, 7.61MB/s]\u001b[A\n",
      "Downloading (…)\"pytorch_model.bin\";:  92%|▉| 1.50G/1.63G [03:31<00:16, 7.55MB/s]\u001b[A\n",
      "Downloading (…)\"pytorch_model.bin\";:  93%|▉| 1.51G/1.63G [03:32<00:14, 7.97MB/s]\u001b[A\n",
      "Downloading (…)\"pytorch_model.bin\";:  94%|▉| 1.52G/1.63G [03:33<00:11, 8.76MB/s]\u001b[A\n",
      "Downloading (…)\"pytorch_model.bin\";:  94%|▉| 1.53G/1.63G [03:34<00:10, 8.74MB/s]\u001b[A\n",
      "Downloading (…)\"pytorch_model.bin\";:  95%|▉| 1.54G/1.63G [03:35<00:08, 9.53MB/s]\u001b[A\n",
      "Downloading (…)\"pytorch_model.bin\";:  95%|▉| 1.55G/1.63G [03:36<00:07, 9.83MB/s]\u001b[A\n",
      "Downloading (…)\"pytorch_model.bin\";:  96%|▉| 1.56G/1.63G [03:37<00:06, 10.0MB/s]\u001b[A\n",
      "Downloading (…)\"pytorch_model.bin\";:  97%|▉| 1.57G/1.63G [03:38<00:04, 10.6MB/s]\u001b[A\n",
      "Downloading (…)\"pytorch_model.bin\";:  97%|▉| 1.58G/1.63G [03:39<00:03, 11.0MB/s]\u001b[A\n",
      "Downloading (…)\"pytorch_model.bin\";:  98%|▉| 1.59G/1.63G [03:40<00:02, 11.2MB/s]\u001b[A\n",
      "Downloading (…)\"pytorch_model.bin\";:  99%|▉| 1.60G/1.63G [03:41<00:01, 11.1MB/s]\u001b[A\n",
      "Downloading (…)\"pytorch_model.bin\";:  99%|▉| 1.61G/1.63G [03:42<00:00, 10.8MB/s]\u001b[A\n",
      "Downloading (…)\"pytorch_model.bin\";: 100%|█| 1.63G/1.63G [03:43<00:00, 7.28MB/s]\u001b[A\n",
      "\n",
      "Downloading (…)neration_config.json: 100%|█████| 363/363 [00:00<00:00, 19.4kB/s]\u001b[A\n",
      "\n",
      "Downloading (…)olve/main/vocab.json:   0%|           | 0.00/899k [00:00<?, ?B/s]\u001b[A\n",
      "Downloading (…)olve/main/vocab.json: 100%|███| 899k/899k [00:00<00:00, 1.12MB/s]\u001b[A\n",
      "\n",
      "Downloading (…)olve/main/merges.txt:   0%|           | 0.00/456k [00:00<?, ?B/s]\u001b[A\n",
      "Downloading (…)olve/main/merges.txt: 100%|████| 456k/456k [00:00<00:00, 714kB/s]\u001b[A\n",
      "\n",
      "Downloading (…)/main/tokenizer.json:   0%|          | 0.00/1.36M [00:00<?, ?B/s]\u001b[A\n",
      "Downloading (…)/main/tokenizer.json: 100%|█| 1.36M/1.36M [00:01<00:00, 1.26MB/s]\u001b[A\n",
      "Truncation was not explicitly activated but `max_length` is provided a specific value, please use `truncation=True` to explicitly truncate examples to max length. Defaulting to 'longest_first' truncation strategy. If you encode pairs of sequences (GLUE-style) with the tokenizer you can select this strategy more precisely by providing a specific strategy to `truncation`.\n"
     ]
    },
    {
     "data": {
      "text/plain": [
       "'The noodle was very good I got the Tonkatsu Ramen Noodles and the staff was very respectful and nice. I would definitely come back here again,My favorite ramen place in town! I always get the ramen with chicken where they give you a whole cooked peace of chicken on the side. It comes on a frying pen and is amazing. Can not go wrong with this place in my opinion.'"
      ]
     },
     "execution_count": 56,
     "metadata": {},
     "output_type": "execute_result"
    }
   ],
   "source": [
    "from transformers import AutoTokenizer, BartForConditionalGeneration\n",
    "\n",
    "model = BartForConditionalGeneration.from_pretrained(\"facebook/bart-large-cnn\")\n",
    "tokenizer = AutoTokenizer.from_pretrained(\"facebook/bart-large-cnn\")\n",
    "# model = BartForConditionalGeneration.from_pretrained(\"facebook/bart-base\")\n",
    "# tokenizer = AutoTokenizer.from_pretrained(\"facebook/bart-base\")\n",
    "\n",
    "inputs = tokenizer(test2, max_length=1024, return_tensors=\"pt\")\n",
    "\n",
    "# Generate Summary\n",
    "summary_ids = model.generate(inputs[\"input_ids\"], num_beams=2, min_length=0, max_length=100)\n",
    "tokenizer.batch_decode(summary_ids, skip_special_tokens=True, clean_up_tokenization_spaces=False)[0]"
   ]
  },
  {
   "cell_type": "code",
   "execution_count": 57,
   "id": "c772bc9f",
   "metadata": {},
   "outputs": [
    {
     "data": {
      "text/plain": [
       "'The noodle was very good I got the Tonkatsu Ramen Noodles and the staff was very respectful and nice. I would definitely come back here again,My favorite ramen place in town! I always get the ramen with chicken where they give you a whole cooked peace of chicken on the side. It comes on a frying pen and is amazing. Can not go wrong with this place in my opinion.'"
      ]
     },
     "execution_count": 57,
     "metadata": {},
     "output_type": "execute_result"
    }
   ],
   "source": [
    "summary_ids = model.generate(inputs[\"input_ids\"], num_beams=2, min_length=0, max_length=100)\n",
    "tokenizer.batch_decode(summary_ids, skip_special_tokens=True, clean_up_tokenization_spaces=False)[0]"
   ]
  },
  {
   "cell_type": "code",
   "execution_count": 58,
   "id": "09d67e86",
   "metadata": {},
   "outputs": [
    {
     "data": {
      "text/plain": [
       "\"\\nThe noodle was very good I got the Tonkatsu Ramen Noodles and the staff was very respectful and nice and overall I recommended this place I would definitely come back here again,My favorite ramen place in town! I always get the ramen with chicken where they give you a whole cooked peace of chicken on the side. It comes on a frying pen and is amazing. Can not go wrong with this place in my opinion.,I 100% will go there again.The ramen was so good and the best part of the food came out in seconds.,Hands down the best ramen spot in all of Japantown mall. Trust me, I've tried all of them before. This was my third time here. Their menu has changed but in a good way. It's more minimalist which lets me know they are specialized and focus of making these limited dishes more elevated. The food: Chicken Karage was 4.5/5Wish the outer skin was a bit crunchy and crisper. The insides were freshly packed with juicy flavor and soft moist texture with a tender flavor. \\n\""
      ]
     },
     "execution_count": 58,
     "metadata": {},
     "output_type": "execute_result"
    }
   ],
   "source": [
    "test2"
   ]
  },
  {
   "cell_type": "markdown",
   "id": "bda2c497",
   "metadata": {},
   "source": [
    "# we out here"
   ]
  },
  {
   "cell_type": "code",
   "execution_count": 62,
   "id": "191f99a8",
   "metadata": {},
   "outputs": [],
   "source": [
    "concatted = concatted.reset_index(drop=True)"
   ]
  },
  {
   "cell_type": "code",
   "execution_count": 70,
   "id": "ccda2acd",
   "metadata": {
    "scrolled": true
   },
   "outputs": [],
   "source": [
    "concatted.to_csv('grouped_reviews.csv',index=False)"
   ]
  },
  {
   "cell_type": "code",
   "execution_count": 185,
   "id": "14a3ad45",
   "metadata": {},
   "outputs": [
    {
     "data": {
      "text/plain": [
       "8500.0"
      ]
     },
     "execution_count": 185,
     "metadata": {},
     "output_type": "execute_result"
    }
   ],
   "source": [
    "(8000+9000)/2"
   ]
  },
  {
   "cell_type": "code",
   "execution_count": 188,
   "id": "c2f029e9",
   "metadata": {},
   "outputs": [
    {
     "data": {
      "text/plain": [
       "24400"
      ]
     },
     "execution_count": 188,
     "metadata": {},
     "output_type": "execute_result"
    }
   ],
   "source": [
    "len(concatted['grouped_review'].loc[0])"
   ]
  },
  {
   "cell_type": "code",
   "execution_count": 190,
   "id": "ebc4c628",
   "metadata": {},
   "outputs": [
    {
     "data": {
      "text/plain": [
       "15900"
      ]
     },
     "execution_count": 190,
     "metadata": {},
     "output_type": "execute_result"
    }
   ],
   "source": [
    "len(concatted['grouped_review'].loc[0]) - 8500"
   ]
  },
  {
   "cell_type": "code",
   "execution_count": 403,
   "id": "d7a600cc",
   "metadata": {},
   "outputs": [],
   "source": [
    "# df"
   ]
  },
  {
   "cell_type": "code",
   "execution_count": 404,
   "id": "143fbfa1",
   "metadata": {},
   "outputs": [],
   "source": [
    "df['review_length'] = df['review'].apply(len)"
   ]
  },
  {
   "cell_type": "code",
   "execution_count": 405,
   "id": "5e86414f",
   "metadata": {},
   "outputs": [
    {
     "data": {
      "text/html": [
       "<div>\n",
       "<style scoped>\n",
       "    .dataframe tbody tr th:only-of-type {\n",
       "        vertical-align: middle;\n",
       "    }\n",
       "\n",
       "    .dataframe tbody tr th {\n",
       "        vertical-align: top;\n",
       "    }\n",
       "\n",
       "    .dataframe thead th {\n",
       "        text-align: right;\n",
       "    }\n",
       "</style>\n",
       "<table border=\"1\" class=\"dataframe\">\n",
       "  <thead>\n",
       "    <tr style=\"text-align: right;\">\n",
       "      <th></th>\n",
       "      <th>Unnamed: 0</th>\n",
       "      <th>id</th>\n",
       "      <th>name</th>\n",
       "      <th>rating</th>\n",
       "      <th>review</th>\n",
       "      <th>total_review</th>\n",
       "      <th>review_length</th>\n",
       "    </tr>\n",
       "  </thead>\n",
       "  <tbody>\n",
       "    <tr>\n",
       "      <th>0</th>\n",
       "      <td>0</td>\n",
       "      <td>s2R3RUJ09eBFvHVIUS4Shg</td>\n",
       "      <td>Kothai Republic</td>\n",
       "      <td>5.0</td>\n",
       "      <td>KOREAN-THAI, KOTHAI! It has a nice ring to it....</td>\n",
       "      <td>37</td>\n",
       "      <td>3092</td>\n",
       "    </tr>\n",
       "    <tr>\n",
       "      <th>1</th>\n",
       "      <td>1</td>\n",
       "      <td>s2R3RUJ09eBFvHVIUS4Shg</td>\n",
       "      <td>Kothai Republic</td>\n",
       "      <td>5.0</td>\n",
       "      <td>I heard about this Thai/Korean fusion restaura...</td>\n",
       "      <td>37</td>\n",
       "      <td>1249</td>\n",
       "    </tr>\n",
       "    <tr>\n",
       "      <th>2</th>\n",
       "      <td>2</td>\n",
       "      <td>s2R3RUJ09eBFvHVIUS4Shg</td>\n",
       "      <td>Kothai Republic</td>\n",
       "      <td>5.0</td>\n",
       "      <td>Great dishes and execution. I loved the Tom Yu...</td>\n",
       "      <td>37</td>\n",
       "      <td>234</td>\n",
       "    </tr>\n",
       "    <tr>\n",
       "      <th>3</th>\n",
       "      <td>3</td>\n",
       "      <td>s2R3RUJ09eBFvHVIUS4Shg</td>\n",
       "      <td>Kothai Republic</td>\n",
       "      <td>5.0</td>\n",
       "      <td>Kothai Republic has so much potential and I ca...</td>\n",
       "      <td>37</td>\n",
       "      <td>925</td>\n",
       "    </tr>\n",
       "    <tr>\n",
       "      <th>4</th>\n",
       "      <td>4</td>\n",
       "      <td>s2R3RUJ09eBFvHVIUS4Shg</td>\n",
       "      <td>Kothai Republic</td>\n",
       "      <td>5.0</td>\n",
       "      <td>Food truck turned brick and mortar. Still defi...</td>\n",
       "      <td>37</td>\n",
       "      <td>1947</td>\n",
       "    </tr>\n",
       "    <tr>\n",
       "      <th>...</th>\n",
       "      <td>...</td>\n",
       "      <td>...</td>\n",
       "      <td>...</td>\n",
       "      <td>...</td>\n",
       "      <td>...</td>\n",
       "      <td>...</td>\n",
       "      <td>...</td>\n",
       "    </tr>\n",
       "    <tr>\n",
       "      <th>4413</th>\n",
       "      <td>4413</td>\n",
       "      <td>LsGkxQK217twdzZzVXsSRg</td>\n",
       "      <td>CreoLa</td>\n",
       "      <td>4.5</td>\n",
       "      <td>So excited for a new restaurant in the neighbo...</td>\n",
       "      <td>161</td>\n",
       "      <td>725</td>\n",
       "    </tr>\n",
       "    <tr>\n",
       "      <th>4414</th>\n",
       "      <td>4414</td>\n",
       "      <td>LsGkxQK217twdzZzVXsSRg</td>\n",
       "      <td>CreoLa</td>\n",
       "      <td>4.5</td>\n",
       "      <td>We had food from here twice - Once our friends...</td>\n",
       "      <td>161</td>\n",
       "      <td>563</td>\n",
       "    </tr>\n",
       "    <tr>\n",
       "      <th>4415</th>\n",
       "      <td>4415</td>\n",
       "      <td>LsGkxQK217twdzZzVXsSRg</td>\n",
       "      <td>CreoLa</td>\n",
       "      <td>4.5</td>\n",
       "      <td>I used to live in San Francisco and was deligh...</td>\n",
       "      <td>161</td>\n",
       "      <td>2295</td>\n",
       "    </tr>\n",
       "    <tr>\n",
       "      <th>4416</th>\n",
       "      <td>4416</td>\n",
       "      <td>LsGkxQK217twdzZzVXsSRg</td>\n",
       "      <td>CreoLa</td>\n",
       "      <td>4.5</td>\n",
       "      <td>Their fried chicken is full of flavor, and cri...</td>\n",
       "      <td>161</td>\n",
       "      <td>355</td>\n",
       "    </tr>\n",
       "    <tr>\n",
       "      <th>4417</th>\n",
       "      <td>4417</td>\n",
       "      <td>LsGkxQK217twdzZzVXsSRg</td>\n",
       "      <td>CreoLa</td>\n",
       "      <td>4.5</td>\n",
       "      <td>I love this place! I got Seafood Gumbo and I l...</td>\n",
       "      <td>161</td>\n",
       "      <td>188</td>\n",
       "    </tr>\n",
       "  </tbody>\n",
       "</table>\n",
       "<p>4418 rows × 7 columns</p>\n",
       "</div>"
      ],
      "text/plain": [
       "      Unnamed: 0                      id             name  rating  \\\n",
       "0              0  s2R3RUJ09eBFvHVIUS4Shg  Kothai Republic     5.0   \n",
       "1              1  s2R3RUJ09eBFvHVIUS4Shg  Kothai Republic     5.0   \n",
       "2              2  s2R3RUJ09eBFvHVIUS4Shg  Kothai Republic     5.0   \n",
       "3              3  s2R3RUJ09eBFvHVIUS4Shg  Kothai Republic     5.0   \n",
       "4              4  s2R3RUJ09eBFvHVIUS4Shg  Kothai Republic     5.0   \n",
       "...          ...                     ...              ...     ...   \n",
       "4413        4413  LsGkxQK217twdzZzVXsSRg           CreoLa     4.5   \n",
       "4414        4414  LsGkxQK217twdzZzVXsSRg           CreoLa     4.5   \n",
       "4415        4415  LsGkxQK217twdzZzVXsSRg           CreoLa     4.5   \n",
       "4416        4416  LsGkxQK217twdzZzVXsSRg           CreoLa     4.5   \n",
       "4417        4417  LsGkxQK217twdzZzVXsSRg           CreoLa     4.5   \n",
       "\n",
       "                                                 review  total_review  \\\n",
       "0     KOREAN-THAI, KOTHAI! It has a nice ring to it....            37   \n",
       "1     I heard about this Thai/Korean fusion restaura...            37   \n",
       "2     Great dishes and execution. I loved the Tom Yu...            37   \n",
       "3     Kothai Republic has so much potential and I ca...            37   \n",
       "4     Food truck turned brick and mortar. Still defi...            37   \n",
       "...                                                 ...           ...   \n",
       "4413  So excited for a new restaurant in the neighbo...           161   \n",
       "4414  We had food from here twice - Once our friends...           161   \n",
       "4415  I used to live in San Francisco and was deligh...           161   \n",
       "4416  Their fried chicken is full of flavor, and cri...           161   \n",
       "4417  I love this place! I got Seafood Gumbo and I l...           161   \n",
       "\n",
       "      review_length  \n",
       "0              3092  \n",
       "1              1249  \n",
       "2               234  \n",
       "3               925  \n",
       "4              1947  \n",
       "...             ...  \n",
       "4413            725  \n",
       "4414            563  \n",
       "4415           2295  \n",
       "4416            355  \n",
       "4417            188  \n",
       "\n",
       "[4418 rows x 7 columns]"
      ]
     },
     "execution_count": 405,
     "metadata": {},
     "output_type": "execute_result"
    }
   ],
   "source": [
    "df"
   ]
  },
  {
   "cell_type": "code",
   "execution_count": null,
   "id": "4339c040",
   "metadata": {},
   "outputs": [],
   "source": [
    "concating_time = []"
   ]
  },
  {
   "cell_type": "code",
   "execution_count": 415,
   "id": "ddbd054b",
   "metadata": {},
   "outputs": [
    {
     "name": "stderr",
     "output_type": "stream",
     "text": [
      "/var/folders/vy/y5363_9d6f54v8kgq1spp7n80000gn/T/ipykernel_17646/1057347317.py:4: FutureWarning: In a future version of pandas, a length 1 tuple will be returned when iterating over a groupby with a grouper equal to a list of length 1. Don't supply a list with a single grouper to avoid this warning.\n",
      "  for i, group in df[df['review_length'].cumsum() <= 10240].groupby(by=['name']):\n"
     ]
    },
    {
     "data": {
      "text/html": [
       "<div>\n",
       "<style scoped>\n",
       "    .dataframe tbody tr th:only-of-type {\n",
       "        vertical-align: middle;\n",
       "    }\n",
       "\n",
       "    .dataframe tbody tr th {\n",
       "        vertical-align: top;\n",
       "    }\n",
       "\n",
       "    .dataframe thead th {\n",
       "        text-align: right;\n",
       "    }\n",
       "</style>\n",
       "<table border=\"1\" class=\"dataframe\">\n",
       "  <thead>\n",
       "    <tr style=\"text-align: right;\">\n",
       "      <th></th>\n",
       "      <th>Unnamed: 0</th>\n",
       "      <th>id</th>\n",
       "      <th>name</th>\n",
       "      <th>rating</th>\n",
       "      <th>review</th>\n",
       "      <th>total_review</th>\n",
       "      <th>review_length</th>\n",
       "    </tr>\n",
       "  </thead>\n",
       "  <tbody>\n",
       "    <tr>\n",
       "      <th>0</th>\n",
       "      <td>0</td>\n",
       "      <td>s2R3RUJ09eBFvHVIUS4Shg</td>\n",
       "      <td>Kothai Republic</td>\n",
       "      <td>5.0</td>\n",
       "      <td>KOREAN-THAI, KOTHAI! It has a nice ring to it....</td>\n",
       "      <td>37</td>\n",
       "      <td>3092</td>\n",
       "    </tr>\n",
       "    <tr>\n",
       "      <th>1</th>\n",
       "      <td>1</td>\n",
       "      <td>s2R3RUJ09eBFvHVIUS4Shg</td>\n",
       "      <td>Kothai Republic</td>\n",
       "      <td>5.0</td>\n",
       "      <td>I heard about this Thai/Korean fusion restaura...</td>\n",
       "      <td>37</td>\n",
       "      <td>1249</td>\n",
       "    </tr>\n",
       "    <tr>\n",
       "      <th>2</th>\n",
       "      <td>2</td>\n",
       "      <td>s2R3RUJ09eBFvHVIUS4Shg</td>\n",
       "      <td>Kothai Republic</td>\n",
       "      <td>5.0</td>\n",
       "      <td>Great dishes and execution. I loved the Tom Yu...</td>\n",
       "      <td>37</td>\n",
       "      <td>234</td>\n",
       "    </tr>\n",
       "    <tr>\n",
       "      <th>3</th>\n",
       "      <td>3</td>\n",
       "      <td>s2R3RUJ09eBFvHVIUS4Shg</td>\n",
       "      <td>Kothai Republic</td>\n",
       "      <td>5.0</td>\n",
       "      <td>Kothai Republic has so much potential and I ca...</td>\n",
       "      <td>37</td>\n",
       "      <td>925</td>\n",
       "    </tr>\n",
       "    <tr>\n",
       "      <th>4</th>\n",
       "      <td>4</td>\n",
       "      <td>s2R3RUJ09eBFvHVIUS4Shg</td>\n",
       "      <td>Kothai Republic</td>\n",
       "      <td>5.0</td>\n",
       "      <td>Food truck turned brick and mortar. Still defi...</td>\n",
       "      <td>37</td>\n",
       "      <td>1947</td>\n",
       "    </tr>\n",
       "    <tr>\n",
       "      <th>5</th>\n",
       "      <td>5</td>\n",
       "      <td>s2R3RUJ09eBFvHVIUS4Shg</td>\n",
       "      <td>Kothai Republic</td>\n",
       "      <td>5.0</td>\n",
       "      <td>Amazing. Will 100% come back again!! The food ...</td>\n",
       "      <td>37</td>\n",
       "      <td>1356</td>\n",
       "    </tr>\n",
       "  </tbody>\n",
       "</table>\n",
       "</div>"
      ],
      "text/plain": [
       "   Unnamed: 0                      id             name  rating  \\\n",
       "0           0  s2R3RUJ09eBFvHVIUS4Shg  Kothai Republic     5.0   \n",
       "1           1  s2R3RUJ09eBFvHVIUS4Shg  Kothai Republic     5.0   \n",
       "2           2  s2R3RUJ09eBFvHVIUS4Shg  Kothai Republic     5.0   \n",
       "3           3  s2R3RUJ09eBFvHVIUS4Shg  Kothai Republic     5.0   \n",
       "4           4  s2R3RUJ09eBFvHVIUS4Shg  Kothai Republic     5.0   \n",
       "5           5  s2R3RUJ09eBFvHVIUS4Shg  Kothai Republic     5.0   \n",
       "\n",
       "                                              review  total_review  \\\n",
       "0  KOREAN-THAI, KOTHAI! It has a nice ring to it....            37   \n",
       "1  I heard about this Thai/Korean fusion restaura...            37   \n",
       "2  Great dishes and execution. I loved the Tom Yu...            37   \n",
       "3  Kothai Republic has so much potential and I ca...            37   \n",
       "4  Food truck turned brick and mortar. Still defi...            37   \n",
       "5  Amazing. Will 100% come back again!! The food ...            37   \n",
       "\n",
       "   review_length  \n",
       "0           3092  \n",
       "1           1249  \n",
       "2            234  \n",
       "3            925  \n",
       "4           1947  \n",
       "5           1356  "
      ]
     },
     "execution_count": 415,
     "metadata": {},
     "output_type": "execute_result"
    }
   ],
   "source": [
    "val = 0\n",
    "# for i in range\n",
    "\n",
    "for i, group in df[df['review_length'].cumsum() <= 10240].groupby(by=['name']):\n",
    "    group\n",
    "group"
   ]
  },
  {
   "cell_type": "code",
   "execution_count": 400,
   "id": "0bc7cee7",
   "metadata": {},
   "outputs": [
    {
     "data": {
      "text/html": [
       "<div>\n",
       "<style scoped>\n",
       "    .dataframe tbody tr th:only-of-type {\n",
       "        vertical-align: middle;\n",
       "    }\n",
       "\n",
       "    .dataframe tbody tr th {\n",
       "        vertical-align: top;\n",
       "    }\n",
       "\n",
       "    .dataframe thead th {\n",
       "        text-align: right;\n",
       "    }\n",
       "</style>\n",
       "<table border=\"1\" class=\"dataframe\">\n",
       "  <thead>\n",
       "    <tr style=\"text-align: right;\">\n",
       "      <th></th>\n",
       "      <th>Unnamed: 0</th>\n",
       "      <th>id</th>\n",
       "      <th>name</th>\n",
       "      <th>rating</th>\n",
       "      <th>review</th>\n",
       "      <th>total_review</th>\n",
       "      <th>review_length</th>\n",
       "    </tr>\n",
       "    <tr>\n",
       "      <th>review_length</th>\n",
       "      <th></th>\n",
       "      <th></th>\n",
       "      <th></th>\n",
       "      <th></th>\n",
       "      <th></th>\n",
       "      <th></th>\n",
       "      <th></th>\n",
       "    </tr>\n",
       "  </thead>\n",
       "  <tbody>\n",
       "    <tr>\n",
       "      <th>3092</th>\n",
       "      <td>0</td>\n",
       "      <td>s2R3RUJ09eBFvHVIUS4Shg</td>\n",
       "      <td>Kothai Republic</td>\n",
       "      <td>5.0</td>\n",
       "      <td>KOREAN-THAI, KOTHAI! It has a nice ring to it....</td>\n",
       "      <td>37</td>\n",
       "      <td>3092</td>\n",
       "    </tr>\n",
       "    <tr>\n",
       "      <th>4341</th>\n",
       "      <td>1</td>\n",
       "      <td>s2R3RUJ09eBFvHVIUS4Shg</td>\n",
       "      <td>Kothai Republic</td>\n",
       "      <td>5.0</td>\n",
       "      <td>I heard about this Thai/Korean fusion restaura...</td>\n",
       "      <td>37</td>\n",
       "      <td>1249</td>\n",
       "    </tr>\n",
       "    <tr>\n",
       "      <th>4575</th>\n",
       "      <td>2</td>\n",
       "      <td>s2R3RUJ09eBFvHVIUS4Shg</td>\n",
       "      <td>Kothai Republic</td>\n",
       "      <td>5.0</td>\n",
       "      <td>Great dishes and execution. I loved the Tom Yu...</td>\n",
       "      <td>37</td>\n",
       "      <td>234</td>\n",
       "    </tr>\n",
       "    <tr>\n",
       "      <th>5500</th>\n",
       "      <td>3</td>\n",
       "      <td>s2R3RUJ09eBFvHVIUS4Shg</td>\n",
       "      <td>Kothai Republic</td>\n",
       "      <td>5.0</td>\n",
       "      <td>Kothai Republic has so much potential and I ca...</td>\n",
       "      <td>37</td>\n",
       "      <td>925</td>\n",
       "    </tr>\n",
       "    <tr>\n",
       "      <th>7447</th>\n",
       "      <td>4</td>\n",
       "      <td>s2R3RUJ09eBFvHVIUS4Shg</td>\n",
       "      <td>Kothai Republic</td>\n",
       "      <td>5.0</td>\n",
       "      <td>Food truck turned brick and mortar. Still defi...</td>\n",
       "      <td>37</td>\n",
       "      <td>1947</td>\n",
       "    </tr>\n",
       "    <tr>\n",
       "      <th>...</th>\n",
       "      <td>...</td>\n",
       "      <td>...</td>\n",
       "      <td>...</td>\n",
       "      <td>...</td>\n",
       "      <td>...</td>\n",
       "      <td>...</td>\n",
       "      <td>...</td>\n",
       "    </tr>\n",
       "    <tr>\n",
       "      <th>3030465</th>\n",
       "      <td>4413</td>\n",
       "      <td>LsGkxQK217twdzZzVXsSRg</td>\n",
       "      <td>CreoLa</td>\n",
       "      <td>4.5</td>\n",
       "      <td>So excited for a new restaurant in the neighbo...</td>\n",
       "      <td>161</td>\n",
       "      <td>725</td>\n",
       "    </tr>\n",
       "    <tr>\n",
       "      <th>3031028</th>\n",
       "      <td>4414</td>\n",
       "      <td>LsGkxQK217twdzZzVXsSRg</td>\n",
       "      <td>CreoLa</td>\n",
       "      <td>4.5</td>\n",
       "      <td>We had food from here twice - Once our friends...</td>\n",
       "      <td>161</td>\n",
       "      <td>563</td>\n",
       "    </tr>\n",
       "    <tr>\n",
       "      <th>3033323</th>\n",
       "      <td>4415</td>\n",
       "      <td>LsGkxQK217twdzZzVXsSRg</td>\n",
       "      <td>CreoLa</td>\n",
       "      <td>4.5</td>\n",
       "      <td>I used to live in San Francisco and was deligh...</td>\n",
       "      <td>161</td>\n",
       "      <td>2295</td>\n",
       "    </tr>\n",
       "    <tr>\n",
       "      <th>3033678</th>\n",
       "      <td>4416</td>\n",
       "      <td>LsGkxQK217twdzZzVXsSRg</td>\n",
       "      <td>CreoLa</td>\n",
       "      <td>4.5</td>\n",
       "      <td>Their fried chicken is full of flavor, and cri...</td>\n",
       "      <td>161</td>\n",
       "      <td>355</td>\n",
       "    </tr>\n",
       "    <tr>\n",
       "      <th>3033866</th>\n",
       "      <td>4417</td>\n",
       "      <td>LsGkxQK217twdzZzVXsSRg</td>\n",
       "      <td>CreoLa</td>\n",
       "      <td>4.5</td>\n",
       "      <td>I love this place! I got Seafood Gumbo and I l...</td>\n",
       "      <td>161</td>\n",
       "      <td>188</td>\n",
       "    </tr>\n",
       "  </tbody>\n",
       "</table>\n",
       "<p>4418 rows × 7 columns</p>\n",
       "</div>"
      ],
      "text/plain": [
       "               Unnamed: 0                      id             name  rating  \\\n",
       "review_length                                                                \n",
       "3092                    0  s2R3RUJ09eBFvHVIUS4Shg  Kothai Republic     5.0   \n",
       "4341                    1  s2R3RUJ09eBFvHVIUS4Shg  Kothai Republic     5.0   \n",
       "4575                    2  s2R3RUJ09eBFvHVIUS4Shg  Kothai Republic     5.0   \n",
       "5500                    3  s2R3RUJ09eBFvHVIUS4Shg  Kothai Republic     5.0   \n",
       "7447                    4  s2R3RUJ09eBFvHVIUS4Shg  Kothai Republic     5.0   \n",
       "...                   ...                     ...              ...     ...   \n",
       "3030465              4413  LsGkxQK217twdzZzVXsSRg           CreoLa     4.5   \n",
       "3031028              4414  LsGkxQK217twdzZzVXsSRg           CreoLa     4.5   \n",
       "3033323              4415  LsGkxQK217twdzZzVXsSRg           CreoLa     4.5   \n",
       "3033678              4416  LsGkxQK217twdzZzVXsSRg           CreoLa     4.5   \n",
       "3033866              4417  LsGkxQK217twdzZzVXsSRg           CreoLa     4.5   \n",
       "\n",
       "                                                          review  \\\n",
       "review_length                                                      \n",
       "3092           KOREAN-THAI, KOTHAI! It has a nice ring to it....   \n",
       "4341           I heard about this Thai/Korean fusion restaura...   \n",
       "4575           Great dishes and execution. I loved the Tom Yu...   \n",
       "5500           Kothai Republic has so much potential and I ca...   \n",
       "7447           Food truck turned brick and mortar. Still defi...   \n",
       "...                                                          ...   \n",
       "3030465        So excited for a new restaurant in the neighbo...   \n",
       "3031028        We had food from here twice - Once our friends...   \n",
       "3033323        I used to live in San Francisco and was deligh...   \n",
       "3033678        Their fried chicken is full of flavor, and cri...   \n",
       "3033866        I love this place! I got Seafood Gumbo and I l...   \n",
       "\n",
       "               total_review  review_length  \n",
       "review_length                               \n",
       "3092                     37           3092  \n",
       "4341                     37           1249  \n",
       "4575                     37            234  \n",
       "5500                     37            925  \n",
       "7447                     37           1947  \n",
       "...                     ...            ...  \n",
       "3030465                 161            725  \n",
       "3031028                 161            563  \n",
       "3033323                 161           2295  \n",
       "3033678                 161            355  \n",
       "3033866                 161            188  \n",
       "\n",
       "[4418 rows x 7 columns]"
      ]
     },
     "execution_count": 400,
     "metadata": {},
     "output_type": "execute_result"
    }
   ],
   "source": [
    "df"
   ]
  },
  {
   "cell_type": "code",
   "execution_count": 294,
   "id": "dc428f7d",
   "metadata": {},
   "outputs": [
    {
     "data": {
      "text/plain": [
       "50"
      ]
     },
     "execution_count": 294,
     "metadata": {},
     "output_type": "execute_result"
    }
   ],
   "source": [
    "len(df['id'].value_counts())"
   ]
  },
  {
   "cell_type": "code",
   "execution_count": 466,
   "id": "89b8c446",
   "metadata": {},
   "outputs": [
    {
     "name": "stderr",
     "output_type": "stream",
     "text": [
      "/var/folders/vy/y5363_9d6f54v8kgq1spp7n80000gn/T/ipykernel_17646/2548629156.py:22: FutureWarning: Not prepending group keys to the result index of transform-like apply. In the future, the group keys will be included in the index, regardless of whether the applied function returns a like-indexed object.\n",
      "To preserve the previous behavior, use\n",
      "\n",
      "\t>>> .groupby(..., group_keys=False)\n",
      "\n",
      "To adopt the future behavior and silence this warning, use \n",
      "\n",
      "\t>>> .groupby(..., group_keys=True)\n",
      "  df_2 = df.groupby(\"name\").apply(fn)\n"
     ]
    }
   ],
   "source": [
    "def my_accumulate(maxval,starting):\n",
    "    val = starting\n",
    "    indice = 0\n",
    "    yield\n",
    "    while True:\n",
    "        if val < maxval:\n",
    "            val += yield val\n",
    "        else:\n",
    "            yield val\n",
    "            val = starting\n",
    "\n",
    "\n",
    "def fn(x):\n",
    "    a = my_accumulate(9000,x['review_length'].iloc[0])\n",
    "    next(a)\n",
    "    x[\"cumu\"] = [a.send(v) for v in x[\"review_length\"]]\n",
    "    return x\n",
    "\n",
    "\n",
    "\n",
    "\n",
    "df_2 = df.groupby(\"name\").apply(fn)\n"
   ]
  },
  {
   "cell_type": "code",
   "execution_count": 467,
   "id": "994aaa5f",
   "metadata": {
    "scrolled": true
   },
   "outputs": [],
   "source": [
    "counter = 0\n",
    "for i, row in df_2.iterrows():\n",
    "    if i > 0 and df_2.loc[i-1,'cumu'] > row['cumu']:\n",
    "        counter += 1\n",
    "    \n",
    "    df_2.loc[i,'counter'] = counter\n"
   ]
  },
  {
   "cell_type": "code",
   "execution_count": 471,
   "id": "25af23ea",
   "metadata": {},
   "outputs": [],
   "source": [
    "temp = df_2.groupby(by=['name','counter'])['review'].apply(lambda x: ','.join(x)).reset_index().to_csv('yes')"
   ]
  },
  {
   "cell_type": "code",
   "execution_count": 483,
   "id": "5eaf8561",
   "metadata": {},
   "outputs": [],
   "source": [
    " df_2.groupby(by=['name','counter'])['review'].apply(lambda x: ','.join(x)).reset_index().to_csv('data_to_label.csv',index=False)"
   ]
  },
  {
   "cell_type": "code",
   "execution_count": 481,
   "id": "1fad8c81",
   "metadata": {},
   "outputs": [],
   "source": [
    "a = \"Alnico SF in the Mission district is a busy Filipino fusion brunch spot worth trying, particularly for first-timers to Filipino food. Although it can be crowded, the friendly and accommodating staff make for quick service. Highlights include the ube hotcake and chicken porridge dishes. However, some items like the pork belly and chicken and waffles were underwhelming. Overall, Alnico SF is a good brunch option with decent indoor and outdoor seating and street parking, but be prepared to wait or make reservations in advance.\""
   ]
  },
  {
   "cell_type": "markdown",
   "id": "79ecd7a0",
   "metadata": {},
   "source": [
    "## Description \n",
    "\n",
    "Each review is concatenated by restaurant and partitioned by restaurant.  Since max input size of chatgpt is around 10240 chars,give or take, we're limiting the each concatenation to around that amount. \n",
    "\n",
    "## Steps\n",
    "\n",
    "1. copy text of a row that has not been labeled yet. \n",
    "2. type the following to chat \"use the following opinions of the restaurant reviews to create a 50 word summary\" and paste the copied review text\n",
    "3. copy paste the outputs into the same rows summary column in the csv file\n",
    "4. repeat 1-3\n",
    "\n",
    "if there's any issues, skip that row and move on, or msg me."
   ]
  },
  {
   "cell_type": "code",
   "execution_count": null,
   "id": "632bcf7b",
   "metadata": {},
   "outputs": [],
   "source": []
  }
 ],
 "metadata": {
  "kernelspec": {
   "display_name": "Python 3 (ipykernel)",
   "language": "python",
   "name": "python3"
  },
  "language_info": {
   "codemirror_mode": {
    "name": "ipython",
    "version": 3
   },
   "file_extension": ".py",
   "mimetype": "text/x-python",
   "name": "python",
   "nbconvert_exporter": "python",
   "pygments_lexer": "ipython3",
   "version": "3.9.16"
  }
 },
 "nbformat": 4,
 "nbformat_minor": 5
}
